{
 "cells": [
  {
   "cell_type": "markdown",
   "metadata": {},
   "source": [
    "# US Obesity Rate by Income in 2016\n",
    "- This notebook will explore obesity rates of 6 income groups. \n",
    "    - less than $15,000\n",
    "    \n",
    "    - $15,000 - $24,999\n",
    "    \n",
    "    - $25,000 - $34,999\n",
    "    \n",
    "    - $35,000 - $49,999\n",
    "    \n",
    "    - $50,000 - $74,999\n",
    "    \n",
    "    - $75,000 or greater\n",
    "- First, the notebook will calculate the national obesity rate \n",
    "- Second, the notebook will calculate the average national obesity rate per income group. \n",
    "- Third, the notebook will show a graph comparing the national obesity rates per income group\n",
    "- The purpose of this notebook is to show what income group had the highest and lowest obesity rate in 2016"
   ]
  },
  {
   "cell_type": "markdown",
   "metadata": {},
   "source": [
    "# Setup"
   ]
  },
  {
   "cell_type": "code",
   "execution_count": 1,
   "metadata": {},
   "outputs": [],
   "source": [
    "import pandas as pd\n",
    "import matplotlib.pyplot as plt\n",
    "import numpy.random as np\n",
    "import sys\n",
    "import matplotlib \n",
    "import seaborn as sns\n",
    "import numpy as np"
   ]
  },
  {
   "cell_type": "markdown",
   "metadata": {},
   "source": [
    "# Load & Inspect 2016 Obesity by Income Data Frame"
   ]
  },
  {
   "cell_type": "code",
   "execution_count": 2,
   "metadata": {},
   "outputs": [],
   "source": [
    "obesity_in_US_income_2016 = pd.read_csv('../data/Clean Data/obesity_in_US_income_2016.csv')"
   ]
  },
  {
   "cell_type": "code",
   "execution_count": 3,
   "metadata": {},
   "outputs": [
    {
     "data": {
      "text/html": [
       "<div>\n",
       "<style scoped>\n",
       "    .dataframe tbody tr th:only-of-type {\n",
       "        vertical-align: middle;\n",
       "    }\n",
       "\n",
       "    .dataframe tbody tr th {\n",
       "        vertical-align: top;\n",
       "    }\n",
       "\n",
       "    .dataframe thead th {\n",
       "        text-align: right;\n",
       "    }\n",
       "</style>\n",
       "<table border=\"1\" class=\"dataframe\">\n",
       "  <thead>\n",
       "    <tr style=\"text-align: right;\">\n",
       "      <th></th>\n",
       "      <th>Unnamed: 0</th>\n",
       "      <th>year</th>\n",
       "      <th>state</th>\n",
       "      <th>state_name</th>\n",
       "      <th>income_pc</th>\n",
       "      <th>Data_Value_Alt</th>\n",
       "      <th>Question</th>\n",
       "      <th>Sample_Size</th>\n",
       "      <th>Total</th>\n",
       "      <th>Income</th>\n",
       "      <th>GeoLocation</th>\n",
       "      <th>LocationID</th>\n",
       "      <th>StratificationCategory1</th>\n",
       "      <th>Stratification1</th>\n",
       "    </tr>\n",
       "  </thead>\n",
       "  <tbody>\n",
       "    <tr>\n",
       "      <th>0</th>\n",
       "      <td>0</td>\n",
       "      <td>2016</td>\n",
       "      <td>AZ</td>\n",
       "      <td>Arizona</td>\n",
       "      <td>34.7</td>\n",
       "      <td>34.7</td>\n",
       "      <td>Percent of adults aged 18 years and older who ...</td>\n",
       "      <td>842.0</td>\n",
       "      <td>NaN</td>\n",
       "      <td>Less than $15,000</td>\n",
       "      <td>(34.865970280000454, -111.76381127699972)</td>\n",
       "      <td>4</td>\n",
       "      <td>Income</td>\n",
       "      <td>Less than $15,000</td>\n",
       "    </tr>\n",
       "    <tr>\n",
       "      <th>1</th>\n",
       "      <td>1</td>\n",
       "      <td>2016</td>\n",
       "      <td>AZ</td>\n",
       "      <td>Arizona</td>\n",
       "      <td>30.9</td>\n",
       "      <td>30.9</td>\n",
       "      <td>Percent of adults aged 18 years and older who ...</td>\n",
       "      <td>1379.0</td>\n",
       "      <td>NaN</td>\n",
       "      <td>$15,000 - $24,999</td>\n",
       "      <td>(34.865970280000454, -111.76381127699972)</td>\n",
       "      <td>4</td>\n",
       "      <td>Income</td>\n",
       "      <td>$15,000 - $24,999</td>\n",
       "    </tr>\n",
       "    <tr>\n",
       "      <th>2</th>\n",
       "      <td>2</td>\n",
       "      <td>2016</td>\n",
       "      <td>AZ</td>\n",
       "      <td>Arizona</td>\n",
       "      <td>34.1</td>\n",
       "      <td>34.1</td>\n",
       "      <td>Percent of adults aged 18 years and older who ...</td>\n",
       "      <td>918.0</td>\n",
       "      <td>NaN</td>\n",
       "      <td>$25,000 - $34,999</td>\n",
       "      <td>(34.865970280000454, -111.76381127699972)</td>\n",
       "      <td>4</td>\n",
       "      <td>Income</td>\n",
       "      <td>$25,000 - $34,999</td>\n",
       "    </tr>\n",
       "    <tr>\n",
       "      <th>3</th>\n",
       "      <td>3</td>\n",
       "      <td>2016</td>\n",
       "      <td>AZ</td>\n",
       "      <td>Arizona</td>\n",
       "      <td>35.3</td>\n",
       "      <td>35.3</td>\n",
       "      <td>Percent of adults aged 18 years and older who ...</td>\n",
       "      <td>1355.0</td>\n",
       "      <td>NaN</td>\n",
       "      <td>$35,000 - $49,999</td>\n",
       "      <td>(34.865970280000454, -111.76381127699972)</td>\n",
       "      <td>4</td>\n",
       "      <td>Income</td>\n",
       "      <td>$35,000 - $49,999</td>\n",
       "    </tr>\n",
       "    <tr>\n",
       "      <th>4</th>\n",
       "      <td>4</td>\n",
       "      <td>2016</td>\n",
       "      <td>AZ</td>\n",
       "      <td>Arizona</td>\n",
       "      <td>36.5</td>\n",
       "      <td>36.5</td>\n",
       "      <td>Percent of adults aged 18 years and older who ...</td>\n",
       "      <td>1421.0</td>\n",
       "      <td>NaN</td>\n",
       "      <td>$50,000 - $74,999</td>\n",
       "      <td>(34.865970280000454, -111.76381127699972)</td>\n",
       "      <td>4</td>\n",
       "      <td>Income</td>\n",
       "      <td>$50,000 - $74,999</td>\n",
       "    </tr>\n",
       "    <tr>\n",
       "      <th>...</th>\n",
       "      <td>...</td>\n",
       "      <td>...</td>\n",
       "      <td>...</td>\n",
       "      <td>...</td>\n",
       "      <td>...</td>\n",
       "      <td>...</td>\n",
       "      <td>...</td>\n",
       "      <td>...</td>\n",
       "      <td>...</td>\n",
       "      <td>...</td>\n",
       "      <td>...</td>\n",
       "      <td>...</td>\n",
       "      <td>...</td>\n",
       "      <td>...</td>\n",
       "    </tr>\n",
       "    <tr>\n",
       "      <th>765</th>\n",
       "      <td>765</td>\n",
       "      <td>2016</td>\n",
       "      <td>VI</td>\n",
       "      <td>Virgin Islands</td>\n",
       "      <td>30.6</td>\n",
       "      <td>30.6</td>\n",
       "      <td>Percent of adults aged 18 years and older who ...</td>\n",
       "      <td>150.0</td>\n",
       "      <td>NaN</td>\n",
       "      <td>$25,000 - $34,999</td>\n",
       "      <td>(18.335765, -64.896335)</td>\n",
       "      <td>78</td>\n",
       "      <td>Income</td>\n",
       "      <td>$25,000 - $34,999</td>\n",
       "    </tr>\n",
       "    <tr>\n",
       "      <th>766</th>\n",
       "      <td>766</td>\n",
       "      <td>2016</td>\n",
       "      <td>VI</td>\n",
       "      <td>Virgin Islands</td>\n",
       "      <td>36.3</td>\n",
       "      <td>36.3</td>\n",
       "      <td>Percent of adults aged 18 years and older who ...</td>\n",
       "      <td>153.0</td>\n",
       "      <td>NaN</td>\n",
       "      <td>$35,000 - $49,999</td>\n",
       "      <td>(18.335765, -64.896335)</td>\n",
       "      <td>78</td>\n",
       "      <td>Income</td>\n",
       "      <td>$35,000 - $49,999</td>\n",
       "    </tr>\n",
       "    <tr>\n",
       "      <th>767</th>\n",
       "      <td>767</td>\n",
       "      <td>2016</td>\n",
       "      <td>VI</td>\n",
       "      <td>Virgin Islands</td>\n",
       "      <td>43.3</td>\n",
       "      <td>43.3</td>\n",
       "      <td>Percent of adults aged 18 years and older who ...</td>\n",
       "      <td>158.0</td>\n",
       "      <td>NaN</td>\n",
       "      <td>$50,000 - $74,999</td>\n",
       "      <td>(18.335765, -64.896335)</td>\n",
       "      <td>78</td>\n",
       "      <td>Income</td>\n",
       "      <td>$50,000 - $74,999</td>\n",
       "    </tr>\n",
       "    <tr>\n",
       "      <th>768</th>\n",
       "      <td>768</td>\n",
       "      <td>2016</td>\n",
       "      <td>VI</td>\n",
       "      <td>Virgin Islands</td>\n",
       "      <td>32.6</td>\n",
       "      <td>32.6</td>\n",
       "      <td>Percent of adults aged 18 years and older who ...</td>\n",
       "      <td>206.0</td>\n",
       "      <td>NaN</td>\n",
       "      <td>$75,000 or greater</td>\n",
       "      <td>(18.335765, -64.896335)</td>\n",
       "      <td>78</td>\n",
       "      <td>Income</td>\n",
       "      <td>$75,000 or greater</td>\n",
       "    </tr>\n",
       "    <tr>\n",
       "      <th>769</th>\n",
       "      <td>769</td>\n",
       "      <td>2016</td>\n",
       "      <td>VI</td>\n",
       "      <td>Virgin Islands</td>\n",
       "      <td>31.8</td>\n",
       "      <td>31.8</td>\n",
       "      <td>Percent of adults aged 18 years and older who ...</td>\n",
       "      <td>106.0</td>\n",
       "      <td>NaN</td>\n",
       "      <td>Data not reported</td>\n",
       "      <td>(18.335765, -64.896335)</td>\n",
       "      <td>78</td>\n",
       "      <td>Income</td>\n",
       "      <td>Data not reported</td>\n",
       "    </tr>\n",
       "  </tbody>\n",
       "</table>\n",
       "<p>770 rows × 14 columns</p>\n",
       "</div>"
      ],
      "text/plain": [
       "     Unnamed: 0  year state      state_name  income_pc  Data_Value_Alt  \\\n",
       "0             0  2016    AZ         Arizona       34.7            34.7   \n",
       "1             1  2016    AZ         Arizona       30.9            30.9   \n",
       "2             2  2016    AZ         Arizona       34.1            34.1   \n",
       "3             3  2016    AZ         Arizona       35.3            35.3   \n",
       "4             4  2016    AZ         Arizona       36.5            36.5   \n",
       "..          ...   ...   ...             ...        ...             ...   \n",
       "765         765  2016    VI  Virgin Islands       30.6            30.6   \n",
       "766         766  2016    VI  Virgin Islands       36.3            36.3   \n",
       "767         767  2016    VI  Virgin Islands       43.3            43.3   \n",
       "768         768  2016    VI  Virgin Islands       32.6            32.6   \n",
       "769         769  2016    VI  Virgin Islands       31.8            31.8   \n",
       "\n",
       "                                              Question  Sample_Size  Total  \\\n",
       "0    Percent of adults aged 18 years and older who ...        842.0    NaN   \n",
       "1    Percent of adults aged 18 years and older who ...       1379.0    NaN   \n",
       "2    Percent of adults aged 18 years and older who ...        918.0    NaN   \n",
       "3    Percent of adults aged 18 years and older who ...       1355.0    NaN   \n",
       "4    Percent of adults aged 18 years and older who ...       1421.0    NaN   \n",
       "..                                                 ...          ...    ...   \n",
       "765  Percent of adults aged 18 years and older who ...        150.0    NaN   \n",
       "766  Percent of adults aged 18 years and older who ...        153.0    NaN   \n",
       "767  Percent of adults aged 18 years and older who ...        158.0    NaN   \n",
       "768  Percent of adults aged 18 years and older who ...        206.0    NaN   \n",
       "769  Percent of adults aged 18 years and older who ...        106.0    NaN   \n",
       "\n",
       "                 Income                                GeoLocation  \\\n",
       "0     Less than $15,000  (34.865970280000454, -111.76381127699972)   \n",
       "1     $15,000 - $24,999  (34.865970280000454, -111.76381127699972)   \n",
       "2     $25,000 - $34,999  (34.865970280000454, -111.76381127699972)   \n",
       "3     $35,000 - $49,999  (34.865970280000454, -111.76381127699972)   \n",
       "4     $50,000 - $74,999  (34.865970280000454, -111.76381127699972)   \n",
       "..                  ...                                        ...   \n",
       "765   $25,000 - $34,999                    (18.335765, -64.896335)   \n",
       "766   $35,000 - $49,999                    (18.335765, -64.896335)   \n",
       "767   $50,000 - $74,999                    (18.335765, -64.896335)   \n",
       "768  $75,000 or greater                    (18.335765, -64.896335)   \n",
       "769   Data not reported                    (18.335765, -64.896335)   \n",
       "\n",
       "     LocationID StratificationCategory1     Stratification1  \n",
       "0             4                  Income   Less than $15,000  \n",
       "1             4                  Income   $15,000 - $24,999  \n",
       "2             4                  Income   $25,000 - $34,999  \n",
       "3             4                  Income   $35,000 - $49,999  \n",
       "4             4                  Income   $50,000 - $74,999  \n",
       "..          ...                     ...                 ...  \n",
       "765          78                  Income   $25,000 - $34,999  \n",
       "766          78                  Income   $35,000 - $49,999  \n",
       "767          78                  Income   $50,000 - $74,999  \n",
       "768          78                  Income  $75,000 or greater  \n",
       "769          78                  Income   Data not reported  \n",
       "\n",
       "[770 rows x 14 columns]"
      ]
     },
     "execution_count": 3,
     "metadata": {},
     "output_type": "execute_result"
    }
   ],
   "source": [
    "obesity_in_US_income_2016"
   ]
  },
  {
   "cell_type": "code",
   "execution_count": 4,
   "metadata": {},
   "outputs": [
    {
     "data": {
      "text/plain": [
       "array(['Less than $15,000', '$15,000 - $24,999', '$25,000 - $34,999',\n",
       "       '$35,000 - $49,999', '$50,000 - $74,999', '$75,000 or greater',\n",
       "       'Data not reported'], dtype=object)"
      ]
     },
     "execution_count": 4,
     "metadata": {},
     "output_type": "execute_result"
    }
   ],
   "source": [
    "obesity_in_US_income_2016['Income'].unique()"
   ]
  },
  {
   "cell_type": "code",
   "execution_count": 5,
   "metadata": {},
   "outputs": [
    {
     "data": {
      "text/plain": [
       "Less than $15,000     110\n",
       "$35,000 - $49,999     110\n",
       "$25,000 - $34,999     110\n",
       "$50,000 - $74,999     110\n",
       "$15,000 - $24,999     110\n",
       "$75,000 or greater    110\n",
       "Data not reported     110\n",
       "Name: Income, dtype: int64"
      ]
     },
     "execution_count": 5,
     "metadata": {},
     "output_type": "execute_result"
    }
   ],
   "source": [
    "obesity_in_US_income_2016['Income'].value_counts()"
   ]
  },
  {
   "cell_type": "code",
   "execution_count": 6,
   "metadata": {},
   "outputs": [
    {
     "data": {
      "text/plain": [
       "array(['Less than $15,000', '$15,000 - $24,999', '$25,000 - $34,999',\n",
       "       '$35,000 - $49,999', '$50,000 - $74,999', '$75,000 or greater'],\n",
       "      dtype=object)"
      ]
     },
     "execution_count": 6,
     "metadata": {},
     "output_type": "execute_result"
    }
   ],
   "source": [
    "# drop 'data not reported'\n",
    "obesity_in_US_income_2016=obesity_in_US_income_2016[~(obesity_in_US_income_2016['Income']=='Data not reported')]\n",
    "obesity_in_US_income_2016['Income'].unique()\n"
   ]
  },
  {
   "cell_type": "code",
   "execution_count": 7,
   "metadata": {},
   "outputs": [],
   "source": [
    "# save data frame\n",
    "obesity_in_US_income_2016 = obesity_in_US_income_2016.reset_index(drop = True)"
   ]
  },
  {
   "cell_type": "markdown",
   "metadata": {},
   "source": [
    "# Questions: \n",
    "#### Question 1: What was the national obesity rate in 2016?\n",
    "- Steps:\n",
    "    - make national its own data frame named \"income_obesity_in_US_national_2016_df\"\n",
    "    - Create a filter \"national_avg_2016\" to find the mean obesity rate nationally\n",
    "    - Use \"national_avg_2016\" filter to show the national obesity rate average on chart\n",
    "\n",
    "\n",
    "#### Question 2: What was the obesity rate for people with income of less than 15,000 in 2016?\n",
    "- Steps: \n",
    "    - create filter named \"income_less_than_15000_in_2016_national\"\n",
    "    - create filter named \"income_less_than_15000_in_2016_national_avg\" to calculate average obesity rate for         income of less than 15,000 in 2016\n",
    "    - Use \"income_less_than_15000_in_2016_national_avg\" filter to show the national obesity rate average for         income of less than 15000 on chart\n",
    "\n",
    "#### Question 3: What was the national obesity rate for income of 15,000 - 24,999 in 2016?\n",
    "- Steps: \n",
    "    - create filter named \"income_15000_24999_in_2016_national\"\n",
    "    - create filter named \"income_15000_24999_in_2016_national_avg\" to calculate average obesity rate for             income of 15,000 - 24,999 in 2016\n",
    "    - Use \"income_15000_24999_in_2016_national_avg\" filter to show the national obesity rate average for             income of 15,000 - 24,999 on chart\n",
    "\n",
    "#### Question 4: What was the national obesity rate for income of 25,000 - 34,999  in 2016?\n",
    "- Steps: \n",
    "    - create filter named \"income_25000_34999_in_2016_national\"\n",
    "    - create filter named \"income_25000_34999_in_2016_national_avg\" to calculate average obesity rate for             income of 25,000 - 34,999  in 2016\n",
    "    - Use \"income_25000_34999_in_2016_national_avg\" filter to show the national obesity rate average for             income of 25,000 - 34,999  on chart\n",
    "    \n",
    "#### Question 5: What was the national obesity rate for income of 35,000 - 49,999  in 2016?\n",
    "- Steps: \n",
    "    - create filter named \"income_35000_49999_in_2016_national\"\n",
    "    - create filter named \"income_35000_49999_in_2016_national_avg\" to calculate average obesity rate for             income of 35,000 - 49,999  in 2016\n",
    "    - Use \"income_35000_49999_in_2016_national_avg\" filter to show the national obesity rate average for             income of 35,000 - 49,999  on chart\n",
    "    \n",
    "#### Question 6: What is the obesity rate for income of 50,000 - 74,999 in 2016?\n",
    "- Steps: \n",
    "    - create filter named \"income_50000_74999_in_2016_national\"\n",
    "    - create filter named \"income_50000_74999_in_2016_national_avg\" to calculate average obesity rate for             income of 50,000 - 74,999  in 2016\n",
    "    - Use \"income_50000_74999_in_2016_national_avg\" filter to show the national obesity rate average for             income of 50,000 - 74,999  on chart\n",
    "\n",
    "#### Question 7: What is the obesity rate for income of 75,000 or greater in 2016?¶\n",
    "- Steps: \n",
    "    - create filter named \"income_75000_greater_in_2016_national\"\n",
    "    - create filter named \"income_75000_greater_in_2016_national_avg\" to calculate average obesity rate for             income of 75,000 or greater  in 2016\n",
    "    - Use \"income_75000_greater_in_2016_national_avg\" filter to show the national obesity rate average for             income of 75,000 or greater  on chart\n",
    "    \n",
    "#### Question 8: National Obesity Rates by Income in 2016\n",
    "- Steps: \n",
    "    - create filter named \"combined_df_income_2016\" to bring all the national obesity rates per age group             together \n",
    "    - plot a graph of the age groups obesity rates\n",
    "\n"
   ]
  },
  {
   "cell_type": "markdown",
   "metadata": {},
   "source": [
    "# Question 1: What was the national obesity rate in 2016?"
   ]
  },
  {
   "cell_type": "code",
   "execution_count": 8,
   "metadata": {},
   "outputs": [
    {
     "data": {
      "text/html": [
       "<div>\n",
       "<style scoped>\n",
       "    .dataframe tbody tr th:only-of-type {\n",
       "        vertical-align: middle;\n",
       "    }\n",
       "\n",
       "    .dataframe tbody tr th {\n",
       "        vertical-align: top;\n",
       "    }\n",
       "\n",
       "    .dataframe thead th {\n",
       "        text-align: right;\n",
       "    }\n",
       "</style>\n",
       "<table border=\"1\" class=\"dataframe\">\n",
       "  <thead>\n",
       "    <tr style=\"text-align: right;\">\n",
       "      <th></th>\n",
       "      <th>Unnamed: 0</th>\n",
       "      <th>year</th>\n",
       "      <th>state</th>\n",
       "      <th>state_name</th>\n",
       "      <th>income_pc</th>\n",
       "      <th>Data_Value_Alt</th>\n",
       "      <th>Question</th>\n",
       "      <th>Sample_Size</th>\n",
       "      <th>Total</th>\n",
       "      <th>Income</th>\n",
       "      <th>GeoLocation</th>\n",
       "      <th>LocationID</th>\n",
       "      <th>StratificationCategory1</th>\n",
       "      <th>Stratification1</th>\n",
       "    </tr>\n",
       "  </thead>\n",
       "  <tbody>\n",
       "    <tr>\n",
       "      <th>6</th>\n",
       "      <td>7</td>\n",
       "      <td>2016</td>\n",
       "      <td>US</td>\n",
       "      <td>National</td>\n",
       "      <td>30.3</td>\n",
       "      <td>30.3</td>\n",
       "      <td>Percent of adults aged 18 years and older who ...</td>\n",
       "      <td>36639.0</td>\n",
       "      <td>NaN</td>\n",
       "      <td>Less than $15,000</td>\n",
       "      <td>NaN</td>\n",
       "      <td>59</td>\n",
       "      <td>Income</td>\n",
       "      <td>Less than $15,000</td>\n",
       "    </tr>\n",
       "    <tr>\n",
       "      <th>7</th>\n",
       "      <td>8</td>\n",
       "      <td>2016</td>\n",
       "      <td>US</td>\n",
       "      <td>National</td>\n",
       "      <td>33.2</td>\n",
       "      <td>33.2</td>\n",
       "      <td>Percent of adults aged 18 years and older who ...</td>\n",
       "      <td>62605.0</td>\n",
       "      <td>NaN</td>\n",
       "      <td>$15,000 - $24,999</td>\n",
       "      <td>NaN</td>\n",
       "      <td>59</td>\n",
       "      <td>Income</td>\n",
       "      <td>$15,000 - $24,999</td>\n",
       "    </tr>\n",
       "    <tr>\n",
       "      <th>8</th>\n",
       "      <td>9</td>\n",
       "      <td>2016</td>\n",
       "      <td>US</td>\n",
       "      <td>National</td>\n",
       "      <td>35.5</td>\n",
       "      <td>35.5</td>\n",
       "      <td>Percent of adults aged 18 years and older who ...</td>\n",
       "      <td>40914.0</td>\n",
       "      <td>NaN</td>\n",
       "      <td>$25,000 - $34,999</td>\n",
       "      <td>NaN</td>\n",
       "      <td>59</td>\n",
       "      <td>Income</td>\n",
       "      <td>$25,000 - $34,999</td>\n",
       "    </tr>\n",
       "    <tr>\n",
       "      <th>9</th>\n",
       "      <td>10</td>\n",
       "      <td>2016</td>\n",
       "      <td>US</td>\n",
       "      <td>National</td>\n",
       "      <td>34.9</td>\n",
       "      <td>34.9</td>\n",
       "      <td>Percent of adults aged 18 years and older who ...</td>\n",
       "      <td>54639.0</td>\n",
       "      <td>NaN</td>\n",
       "      <td>$35,000 - $49,999</td>\n",
       "      <td>NaN</td>\n",
       "      <td>59</td>\n",
       "      <td>Income</td>\n",
       "      <td>$35,000 - $49,999</td>\n",
       "    </tr>\n",
       "    <tr>\n",
       "      <th>10</th>\n",
       "      <td>11</td>\n",
       "      <td>2016</td>\n",
       "      <td>US</td>\n",
       "      <td>National</td>\n",
       "      <td>37.1</td>\n",
       "      <td>37.1</td>\n",
       "      <td>Percent of adults aged 18 years and older who ...</td>\n",
       "      <td>61211.0</td>\n",
       "      <td>NaN</td>\n",
       "      <td>$50,000 - $74,999</td>\n",
       "      <td>NaN</td>\n",
       "      <td>59</td>\n",
       "      <td>Income</td>\n",
       "      <td>$50,000 - $74,999</td>\n",
       "    </tr>\n",
       "    <tr>\n",
       "      <th>11</th>\n",
       "      <td>12</td>\n",
       "      <td>2016</td>\n",
       "      <td>US</td>\n",
       "      <td>National</td>\n",
       "      <td>38.2</td>\n",
       "      <td>38.2</td>\n",
       "      <td>Percent of adults aged 18 years and older who ...</td>\n",
       "      <td>120901.0</td>\n",
       "      <td>NaN</td>\n",
       "      <td>$75,000 or greater</td>\n",
       "      <td>NaN</td>\n",
       "      <td>59</td>\n",
       "      <td>Income</td>\n",
       "      <td>$75,000 or greater</td>\n",
       "    </tr>\n",
       "    <tr>\n",
       "      <th>330</th>\n",
       "      <td>385</td>\n",
       "      <td>2016</td>\n",
       "      <td>US</td>\n",
       "      <td>National</td>\n",
       "      <td>35.4</td>\n",
       "      <td>35.4</td>\n",
       "      <td>Percent of adults aged 18 years and older who ...</td>\n",
       "      <td>36639.0</td>\n",
       "      <td>NaN</td>\n",
       "      <td>Less than $15,000</td>\n",
       "      <td>NaN</td>\n",
       "      <td>59</td>\n",
       "      <td>Income</td>\n",
       "      <td>Less than $15,000</td>\n",
       "    </tr>\n",
       "    <tr>\n",
       "      <th>331</th>\n",
       "      <td>386</td>\n",
       "      <td>2016</td>\n",
       "      <td>US</td>\n",
       "      <td>National</td>\n",
       "      <td>33.4</td>\n",
       "      <td>33.4</td>\n",
       "      <td>Percent of adults aged 18 years and older who ...</td>\n",
       "      <td>62605.0</td>\n",
       "      <td>NaN</td>\n",
       "      <td>$15,000 - $24,999</td>\n",
       "      <td>NaN</td>\n",
       "      <td>59</td>\n",
       "      <td>Income</td>\n",
       "      <td>$15,000 - $24,999</td>\n",
       "    </tr>\n",
       "    <tr>\n",
       "      <th>332</th>\n",
       "      <td>387</td>\n",
       "      <td>2016</td>\n",
       "      <td>US</td>\n",
       "      <td>National</td>\n",
       "      <td>31.9</td>\n",
       "      <td>31.9</td>\n",
       "      <td>Percent of adults aged 18 years and older who ...</td>\n",
       "      <td>40914.0</td>\n",
       "      <td>NaN</td>\n",
       "      <td>$25,000 - $34,999</td>\n",
       "      <td>NaN</td>\n",
       "      <td>59</td>\n",
       "      <td>Income</td>\n",
       "      <td>$25,000 - $34,999</td>\n",
       "    </tr>\n",
       "    <tr>\n",
       "      <th>333</th>\n",
       "      <td>388</td>\n",
       "      <td>2016</td>\n",
       "      <td>US</td>\n",
       "      <td>National</td>\n",
       "      <td>32.0</td>\n",
       "      <td>32.0</td>\n",
       "      <td>Percent of adults aged 18 years and older who ...</td>\n",
       "      <td>54639.0</td>\n",
       "      <td>NaN</td>\n",
       "      <td>$35,000 - $49,999</td>\n",
       "      <td>NaN</td>\n",
       "      <td>59</td>\n",
       "      <td>Income</td>\n",
       "      <td>$35,000 - $49,999</td>\n",
       "    </tr>\n",
       "    <tr>\n",
       "      <th>334</th>\n",
       "      <td>389</td>\n",
       "      <td>2016</td>\n",
       "      <td>US</td>\n",
       "      <td>National</td>\n",
       "      <td>31.1</td>\n",
       "      <td>31.1</td>\n",
       "      <td>Percent of adults aged 18 years and older who ...</td>\n",
       "      <td>61211.0</td>\n",
       "      <td>NaN</td>\n",
       "      <td>$50,000 - $74,999</td>\n",
       "      <td>NaN</td>\n",
       "      <td>59</td>\n",
       "      <td>Income</td>\n",
       "      <td>$50,000 - $74,999</td>\n",
       "    </tr>\n",
       "    <tr>\n",
       "      <th>335</th>\n",
       "      <td>390</td>\n",
       "      <td>2016</td>\n",
       "      <td>US</td>\n",
       "      <td>National</td>\n",
       "      <td>25.4</td>\n",
       "      <td>25.4</td>\n",
       "      <td>Percent of adults aged 18 years and older who ...</td>\n",
       "      <td>120901.0</td>\n",
       "      <td>NaN</td>\n",
       "      <td>$75,000 or greater</td>\n",
       "      <td>NaN</td>\n",
       "      <td>59</td>\n",
       "      <td>Income</td>\n",
       "      <td>$75,000 or greater</td>\n",
       "    </tr>\n",
       "  </tbody>\n",
       "</table>\n",
       "</div>"
      ],
      "text/plain": [
       "     Unnamed: 0  year state state_name  income_pc  Data_Value_Alt  \\\n",
       "6             7  2016    US   National       30.3            30.3   \n",
       "7             8  2016    US   National       33.2            33.2   \n",
       "8             9  2016    US   National       35.5            35.5   \n",
       "9            10  2016    US   National       34.9            34.9   \n",
       "10           11  2016    US   National       37.1            37.1   \n",
       "11           12  2016    US   National       38.2            38.2   \n",
       "330         385  2016    US   National       35.4            35.4   \n",
       "331         386  2016    US   National       33.4            33.4   \n",
       "332         387  2016    US   National       31.9            31.9   \n",
       "333         388  2016    US   National       32.0            32.0   \n",
       "334         389  2016    US   National       31.1            31.1   \n",
       "335         390  2016    US   National       25.4            25.4   \n",
       "\n",
       "                                              Question  Sample_Size  Total  \\\n",
       "6    Percent of adults aged 18 years and older who ...      36639.0    NaN   \n",
       "7    Percent of adults aged 18 years and older who ...      62605.0    NaN   \n",
       "8    Percent of adults aged 18 years and older who ...      40914.0    NaN   \n",
       "9    Percent of adults aged 18 years and older who ...      54639.0    NaN   \n",
       "10   Percent of adults aged 18 years and older who ...      61211.0    NaN   \n",
       "11   Percent of adults aged 18 years and older who ...     120901.0    NaN   \n",
       "330  Percent of adults aged 18 years and older who ...      36639.0    NaN   \n",
       "331  Percent of adults aged 18 years and older who ...      62605.0    NaN   \n",
       "332  Percent of adults aged 18 years and older who ...      40914.0    NaN   \n",
       "333  Percent of adults aged 18 years and older who ...      54639.0    NaN   \n",
       "334  Percent of adults aged 18 years and older who ...      61211.0    NaN   \n",
       "335  Percent of adults aged 18 years and older who ...     120901.0    NaN   \n",
       "\n",
       "                 Income GeoLocation  LocationID StratificationCategory1  \\\n",
       "6     Less than $15,000         NaN          59                  Income   \n",
       "7     $15,000 - $24,999         NaN          59                  Income   \n",
       "8     $25,000 - $34,999         NaN          59                  Income   \n",
       "9     $35,000 - $49,999         NaN          59                  Income   \n",
       "10    $50,000 - $74,999         NaN          59                  Income   \n",
       "11   $75,000 or greater         NaN          59                  Income   \n",
       "330   Less than $15,000         NaN          59                  Income   \n",
       "331   $15,000 - $24,999         NaN          59                  Income   \n",
       "332   $25,000 - $34,999         NaN          59                  Income   \n",
       "333   $35,000 - $49,999         NaN          59                  Income   \n",
       "334   $50,000 - $74,999         NaN          59                  Income   \n",
       "335  $75,000 or greater         NaN          59                  Income   \n",
       "\n",
       "        Stratification1  \n",
       "6     Less than $15,000  \n",
       "7     $15,000 - $24,999  \n",
       "8     $25,000 - $34,999  \n",
       "9     $35,000 - $49,999  \n",
       "10    $50,000 - $74,999  \n",
       "11   $75,000 or greater  \n",
       "330   Less than $15,000  \n",
       "331   $15,000 - $24,999  \n",
       "332   $25,000 - $34,999  \n",
       "333   $35,000 - $49,999  \n",
       "334   $50,000 - $74,999  \n",
       "335  $75,000 or greater  "
      ]
     },
     "execution_count": 8,
     "metadata": {},
     "output_type": "execute_result"
    }
   ],
   "source": [
    "#Income\n",
    "#make national its own data frame named \"income_obesity_in_US_national_2016_df\"\n",
    "income_obesity_in_US_national_2016_df=obesity_in_US_income_2016[(obesity_in_US_income_2016['state_name']=='National')]\n",
    "income_obesity_in_US_national_2016_df"
   ]
  },
  {
   "cell_type": "markdown",
   "metadata": {},
   "source": [
    "- \"income_obesity_in_US_national_2016_df\"\n",
    "    - this data frame represents the country as a whole by age (it eliminates the state by state averages) in 2016\n",
    "    - use it to calculate national obesity rate as 1) a whole, 2) for each age group "
   ]
  },
  {
   "cell_type": "code",
   "execution_count": 9,
   "metadata": {},
   "outputs": [
    {
     "data": {
      "text/plain": [
       "$15,000 - $24,999     2\n",
       "$75,000 or greater    2\n",
       "$25,000 - $34,999     2\n",
       "Less than $15,000     2\n",
       "$35,000 - $49,999     2\n",
       "$50,000 - $74,999     2\n",
       "Name: Income, dtype: int64"
      ]
     },
     "execution_count": 9,
     "metadata": {},
     "output_type": "execute_result"
    }
   ],
   "source": [
    "income_obesity_in_US_national_2016_df['Income'].value_counts()"
   ]
  },
  {
   "cell_type": "code",
   "execution_count": 10,
   "metadata": {},
   "outputs": [
    {
     "data": {
      "text/plain": [
       "33.199999999999996"
      ]
     },
     "execution_count": 10,
     "metadata": {},
     "output_type": "execute_result"
    }
   ],
   "source": [
    "# Create a filter \"national_avg_2016\" to find the mean obesity rate nationally\n",
    "national_avg_2016=income_obesity_in_US_national_2016_df['income_pc'].mean()\n",
    "national_avg_2016\n"
   ]
  },
  {
   "cell_type": "markdown",
   "metadata": {},
   "source": [
    "#### Note: This is unnecessary to include in story but it is good to know that it is the same average as national gender because it shows that this data is accurate throughout"
   ]
  },
  {
   "cell_type": "code",
   "execution_count": 11,
   "metadata": {},
   "outputs": [
    {
     "name": "stdout",
     "output_type": "stream",
     "text": [
      "The national obesity rate average in 2016\n",
      "=========================================\n",
      "state_name\n",
      "National    33.2\n",
      "Name: income_pc, dtype: float64\n"
     ]
    }
   ],
   "source": [
    "# Use \"national_avg_2016\" filter to show the national obesity rate average on chart\n",
    "national_avg_2016=income_obesity_in_US_national_2016_df.groupby('state_name')['income_pc'].mean()\n",
    "national_avg_2016\n",
    "title1='The national obesity rate average in 2016'\n",
    "print(\"{}\\n{}\".format(title1, '='*len(title1)))\n",
    "print(national_avg_2016.sort_values())\n",
    "\n",
    "\n",
    "\n"
   ]
  },
  {
   "cell_type": "markdown",
   "metadata": {},
   "source": [
    "### Answer: The national obesity rate average in 2016 was 33.2%"
   ]
  },
  {
   "cell_type": "code",
   "execution_count": 12,
   "metadata": {},
   "outputs": [
    {
     "data": {
      "text/plain": [
       "Text(0.5, 1.0, '2016')"
      ]
     },
     "execution_count": 12,
     "metadata": {},
     "output_type": "execute_result"
    },
    {
     "data": {
      "image/png": "[encoded data removed]",
      "text/plain": [
       "<Figure size 864x288 with 1 Axes>"
      ]
     },
     "metadata": {
      "needs_background": "light"
     },
     "output_type": "display_data"
    }
   ],
   "source": [
    "\n",
    "# 1. Set up the figure to plot two bar charts and specify size ratio (3:1)\n",
    "plt.figure(figsize=(12,4))\n",
    "\n",
    "# 2. the plt.subplot() \n",
    "plt.subplot(121)\n",
    "\n",
    "# use the region mean data to plot a bar chart and add labels\n",
    "national_avg_2016.plot(kind='bar')\n",
    "plt.xlabel('National')\n",
    "plt.ylabel('Obesity Rate')\n",
    "plt.title('2016')\n"
   ]
  },
  {
   "cell_type": "markdown",
   "metadata": {},
   "source": [
    "# Question 2: What was the national obesity rate for people with income of less than     $15,000 in 2016?"
   ]
  },
  {
   "cell_type": "code",
   "execution_count": 13,
   "metadata": {},
   "outputs": [
    {
     "data": {
      "text/html": [
       "<div>\n",
       "<style scoped>\n",
       "    .dataframe tbody tr th:only-of-type {\n",
       "        vertical-align: middle;\n",
       "    }\n",
       "\n",
       "    .dataframe tbody tr th {\n",
       "        vertical-align: top;\n",
       "    }\n",
       "\n",
       "    .dataframe thead th {\n",
       "        text-align: right;\n",
       "    }\n",
       "</style>\n",
       "<table border=\"1\" class=\"dataframe\">\n",
       "  <thead>\n",
       "    <tr style=\"text-align: right;\">\n",
       "      <th></th>\n",
       "      <th>Unnamed: 0</th>\n",
       "      <th>year</th>\n",
       "      <th>state</th>\n",
       "      <th>state_name</th>\n",
       "      <th>income_pc</th>\n",
       "      <th>Data_Value_Alt</th>\n",
       "      <th>Question</th>\n",
       "      <th>Sample_Size</th>\n",
       "      <th>Total</th>\n",
       "      <th>Income</th>\n",
       "      <th>GeoLocation</th>\n",
       "      <th>LocationID</th>\n",
       "      <th>StratificationCategory1</th>\n",
       "      <th>Stratification1</th>\n",
       "    </tr>\n",
       "  </thead>\n",
       "  <tbody>\n",
       "    <tr>\n",
       "      <th>6</th>\n",
       "      <td>7</td>\n",
       "      <td>2016</td>\n",
       "      <td>US</td>\n",
       "      <td>National</td>\n",
       "      <td>30.3</td>\n",
       "      <td>30.3</td>\n",
       "      <td>Percent of adults aged 18 years and older who ...</td>\n",
       "      <td>36639.0</td>\n",
       "      <td>NaN</td>\n",
       "      <td>Less than $15,000</td>\n",
       "      <td>NaN</td>\n",
       "      <td>59</td>\n",
       "      <td>Income</td>\n",
       "      <td>Less than $15,000</td>\n",
       "    </tr>\n",
       "    <tr>\n",
       "      <th>330</th>\n",
       "      <td>385</td>\n",
       "      <td>2016</td>\n",
       "      <td>US</td>\n",
       "      <td>National</td>\n",
       "      <td>35.4</td>\n",
       "      <td>35.4</td>\n",
       "      <td>Percent of adults aged 18 years and older who ...</td>\n",
       "      <td>36639.0</td>\n",
       "      <td>NaN</td>\n",
       "      <td>Less than $15,000</td>\n",
       "      <td>NaN</td>\n",
       "      <td>59</td>\n",
       "      <td>Income</td>\n",
       "      <td>Less than $15,000</td>\n",
       "    </tr>\n",
       "  </tbody>\n",
       "</table>\n",
       "</div>"
      ],
      "text/plain": [
       "     Unnamed: 0  year state state_name  income_pc  Data_Value_Alt  \\\n",
       "6             7  2016    US   National       30.3            30.3   \n",
       "330         385  2016    US   National       35.4            35.4   \n",
       "\n",
       "                                              Question  Sample_Size  Total  \\\n",
       "6    Percent of adults aged 18 years and older who ...      36639.0    NaN   \n",
       "330  Percent of adults aged 18 years and older who ...      36639.0    NaN   \n",
       "\n",
       "                Income GeoLocation  LocationID StratificationCategory1  \\\n",
       "6    Less than $15,000         NaN          59                  Income   \n",
       "330  Less than $15,000         NaN          59                  Income   \n",
       "\n",
       "       Stratification1  \n",
       "6    Less than $15,000  \n",
       "330  Less than $15,000  "
      ]
     },
     "execution_count": 13,
     "metadata": {},
     "output_type": "execute_result"
    }
   ],
   "source": [
    "# create filter named \"income_less_than_15000_in_2016_national\"\n",
    "income_less_than_15000_in_2016_national=income_obesity_in_US_national_2016_df[(income_obesity_in_US_national_2016_df['Income']=='Less than $15,000')]\n",
    "income_less_than_15000_in_2016_national\n"
   ]
  },
  {
   "cell_type": "code",
   "execution_count": 14,
   "metadata": {},
   "outputs": [
    {
     "data": {
      "text/plain": [
       "32.85"
      ]
     },
     "execution_count": 14,
     "metadata": {},
     "output_type": "execute_result"
    }
   ],
   "source": [
    "# create filter named \"income_less_than_15000_in_2016_national_avg\" to calculate average obesity rate for income of less than $15,000 in 2016\n",
    "income_less_than_15000_in_2016_national_avg=income_less_than_15000_in_2016_national['income_pc'].mean()\n",
    "income_less_than_15000_in_2016_national_avg\n"
   ]
  },
  {
   "cell_type": "code",
   "execution_count": 15,
   "metadata": {},
   "outputs": [
    {
     "name": "stdout",
     "output_type": "stream",
     "text": [
      "The national obesity rate average for income of less than $15,000 in 2016\n",
      "=========================================================================\n",
      "Income\n",
      "Less than $15,000    32.85\n",
      "Name: income_pc, dtype: float64\n"
     ]
    }
   ],
   "source": [
    "# Use \"income_less_than_15000_in_2016_national_avg\" filter to show the national obesity rate average for income of less than $15000 on chart\n",
    "income_less_than_15000_in_2016_national_avg=income_less_than_15000_in_2016_national.groupby('Income')['income_pc'].mean()\n",
    "income_less_than_15000_in_2016_national_avg\n",
    "title1='The national obesity rate average for income of less than $15,000 in 2016'\n",
    "print(\"{}\\n{}\".format(title1, '='*len(title1)))\n",
    "print(income_less_than_15000_in_2016_national_avg.sort_values())\n",
    "\n"
   ]
  },
  {
   "cell_type": "markdown",
   "metadata": {},
   "source": [
    "### Answer: On a national scale, 32.9% of adults with income of less than $15000 were obese in 2016. "
   ]
  },
  {
   "cell_type": "markdown",
   "metadata": {},
   "source": [
    "# Question 3: What was the national obesity rate for income of $15,000 - $24,999 in 2016?"
   ]
  },
  {
   "cell_type": "code",
   "execution_count": 16,
   "metadata": {},
   "outputs": [
    {
     "data": {
      "text/html": [
       "<div>\n",
       "<style scoped>\n",
       "    .dataframe tbody tr th:only-of-type {\n",
       "        vertical-align: middle;\n",
       "    }\n",
       "\n",
       "    .dataframe tbody tr th {\n",
       "        vertical-align: top;\n",
       "    }\n",
       "\n",
       "    .dataframe thead th {\n",
       "        text-align: right;\n",
       "    }\n",
       "</style>\n",
       "<table border=\"1\" class=\"dataframe\">\n",
       "  <thead>\n",
       "    <tr style=\"text-align: right;\">\n",
       "      <th></th>\n",
       "      <th>Unnamed: 0</th>\n",
       "      <th>year</th>\n",
       "      <th>state</th>\n",
       "      <th>state_name</th>\n",
       "      <th>income_pc</th>\n",
       "      <th>Data_Value_Alt</th>\n",
       "      <th>Question</th>\n",
       "      <th>Sample_Size</th>\n",
       "      <th>Total</th>\n",
       "      <th>Income</th>\n",
       "      <th>GeoLocation</th>\n",
       "      <th>LocationID</th>\n",
       "      <th>StratificationCategory1</th>\n",
       "      <th>Stratification1</th>\n",
       "    </tr>\n",
       "  </thead>\n",
       "  <tbody>\n",
       "    <tr>\n",
       "      <th>7</th>\n",
       "      <td>8</td>\n",
       "      <td>2016</td>\n",
       "      <td>US</td>\n",
       "      <td>National</td>\n",
       "      <td>33.2</td>\n",
       "      <td>33.2</td>\n",
       "      <td>Percent of adults aged 18 years and older who ...</td>\n",
       "      <td>62605.0</td>\n",
       "      <td>NaN</td>\n",
       "      <td>$15,000 - $24,999</td>\n",
       "      <td>NaN</td>\n",
       "      <td>59</td>\n",
       "      <td>Income</td>\n",
       "      <td>$15,000 - $24,999</td>\n",
       "    </tr>\n",
       "    <tr>\n",
       "      <th>331</th>\n",
       "      <td>386</td>\n",
       "      <td>2016</td>\n",
       "      <td>US</td>\n",
       "      <td>National</td>\n",
       "      <td>33.4</td>\n",
       "      <td>33.4</td>\n",
       "      <td>Percent of adults aged 18 years and older who ...</td>\n",
       "      <td>62605.0</td>\n",
       "      <td>NaN</td>\n",
       "      <td>$15,000 - $24,999</td>\n",
       "      <td>NaN</td>\n",
       "      <td>59</td>\n",
       "      <td>Income</td>\n",
       "      <td>$15,000 - $24,999</td>\n",
       "    </tr>\n",
       "  </tbody>\n",
       "</table>\n",
       "</div>"
      ],
      "text/plain": [
       "     Unnamed: 0  year state state_name  income_pc  Data_Value_Alt  \\\n",
       "7             8  2016    US   National       33.2            33.2   \n",
       "331         386  2016    US   National       33.4            33.4   \n",
       "\n",
       "                                              Question  Sample_Size  Total  \\\n",
       "7    Percent of adults aged 18 years and older who ...      62605.0    NaN   \n",
       "331  Percent of adults aged 18 years and older who ...      62605.0    NaN   \n",
       "\n",
       "                Income GeoLocation  LocationID StratificationCategory1  \\\n",
       "7    $15,000 - $24,999         NaN          59                  Income   \n",
       "331  $15,000 - $24,999         NaN          59                  Income   \n",
       "\n",
       "       Stratification1  \n",
       "7    $15,000 - $24,999  \n",
       "331  $15,000 - $24,999  "
      ]
     },
     "execution_count": 16,
     "metadata": {},
     "output_type": "execute_result"
    }
   ],
   "source": [
    "# create filter named \"income_15000_24999_in_2016_national\"\n",
    "income_15000_24999_in_2016_national=income_obesity_in_US_national_2016_df[(income_obesity_in_US_national_2016_df['Income']=='$15,000 - $24,999')]\n",
    "income_15000_24999_in_2016_national\n"
   ]
  },
  {
   "cell_type": "code",
   "execution_count": 17,
   "metadata": {},
   "outputs": [
    {
     "data": {
      "text/plain": [
       "33.3"
      ]
     },
     "execution_count": 17,
     "metadata": {},
     "output_type": "execute_result"
    }
   ],
   "source": [
    "# create filter named \"income_15000_24999_in_2016_national_avg\" to calculate average obesity rate for income of 15,000 to 24,999 in 2016\n",
    "\n",
    "income_15000_24999_in_2016_national_avg=income_15000_24999_in_2016_national['income_pc'].mean()\n",
    "income_15000_24999_in_2016_national_avg\n"
   ]
  },
  {
   "cell_type": "code",
   "execution_count": 18,
   "metadata": {},
   "outputs": [
    {
     "name": "stdout",
     "output_type": "stream",
     "text": [
      "The national obesity rate average for income of $15,000 to $24,999 in 2016\n",
      "==========================================================================\n",
      "Income\n",
      "$15,000 - $24,999    33.3\n",
      "Name: income_pc, dtype: float64\n"
     ]
    }
   ],
   "source": [
    "# Use \"income_15000_24999_in_2016_national_avg\" filter to show the national obesity rate average for income of 15,000−24,999  on chart\n",
    "income_15000_24999_in_2016_national_avg=income_15000_24999_in_2016_national.groupby('Income')['income_pc'].mean()\n",
    "income_15000_24999_in_2016_national_avg\n",
    "title1='The national obesity rate average for income of $15,000 to $24,999 in 2016'\n",
    "print(\"{}\\n{}\".format(title1, '='*len(title1)))\n",
    "print(income_15000_24999_in_2016_national_avg.sort_values())\n",
    "\n"
   ]
  },
  {
   "cell_type": "markdown",
   "metadata": {},
   "source": [
    "### Answer:  On a national scale, 33.3% of adults with an income between $15,000 to $24,999 were obese in 2016."
   ]
  },
  {
   "cell_type": "markdown",
   "metadata": {},
   "source": [
    "# Question 4: What was the national obesity rate for income of $25,000 - $34,999  in 2016?"
   ]
  },
  {
   "cell_type": "code",
   "execution_count": 19,
   "metadata": {},
   "outputs": [
    {
     "data": {
      "text/html": [
       "<div>\n",
       "<style scoped>\n",
       "    .dataframe tbody tr th:only-of-type {\n",
       "        vertical-align: middle;\n",
       "    }\n",
       "\n",
       "    .dataframe tbody tr th {\n",
       "        vertical-align: top;\n",
       "    }\n",
       "\n",
       "    .dataframe thead th {\n",
       "        text-align: right;\n",
       "    }\n",
       "</style>\n",
       "<table border=\"1\" class=\"dataframe\">\n",
       "  <thead>\n",
       "    <tr style=\"text-align: right;\">\n",
       "      <th></th>\n",
       "      <th>Unnamed: 0</th>\n",
       "      <th>year</th>\n",
       "      <th>state</th>\n",
       "      <th>state_name</th>\n",
       "      <th>income_pc</th>\n",
       "      <th>Data_Value_Alt</th>\n",
       "      <th>Question</th>\n",
       "      <th>Sample_Size</th>\n",
       "      <th>Total</th>\n",
       "      <th>Income</th>\n",
       "      <th>GeoLocation</th>\n",
       "      <th>LocationID</th>\n",
       "      <th>StratificationCategory1</th>\n",
       "      <th>Stratification1</th>\n",
       "    </tr>\n",
       "  </thead>\n",
       "  <tbody>\n",
       "    <tr>\n",
       "      <th>8</th>\n",
       "      <td>9</td>\n",
       "      <td>2016</td>\n",
       "      <td>US</td>\n",
       "      <td>National</td>\n",
       "      <td>35.5</td>\n",
       "      <td>35.5</td>\n",
       "      <td>Percent of adults aged 18 years and older who ...</td>\n",
       "      <td>40914.0</td>\n",
       "      <td>NaN</td>\n",
       "      <td>$25,000 - $34,999</td>\n",
       "      <td>NaN</td>\n",
       "      <td>59</td>\n",
       "      <td>Income</td>\n",
       "      <td>$25,000 - $34,999</td>\n",
       "    </tr>\n",
       "    <tr>\n",
       "      <th>332</th>\n",
       "      <td>387</td>\n",
       "      <td>2016</td>\n",
       "      <td>US</td>\n",
       "      <td>National</td>\n",
       "      <td>31.9</td>\n",
       "      <td>31.9</td>\n",
       "      <td>Percent of adults aged 18 years and older who ...</td>\n",
       "      <td>40914.0</td>\n",
       "      <td>NaN</td>\n",
       "      <td>$25,000 - $34,999</td>\n",
       "      <td>NaN</td>\n",
       "      <td>59</td>\n",
       "      <td>Income</td>\n",
       "      <td>$25,000 - $34,999</td>\n",
       "    </tr>\n",
       "  </tbody>\n",
       "</table>\n",
       "</div>"
      ],
      "text/plain": [
       "     Unnamed: 0  year state state_name  income_pc  Data_Value_Alt  \\\n",
       "8             9  2016    US   National       35.5            35.5   \n",
       "332         387  2016    US   National       31.9            31.9   \n",
       "\n",
       "                                              Question  Sample_Size  Total  \\\n",
       "8    Percent of adults aged 18 years and older who ...      40914.0    NaN   \n",
       "332  Percent of adults aged 18 years and older who ...      40914.0    NaN   \n",
       "\n",
       "                Income GeoLocation  LocationID StratificationCategory1  \\\n",
       "8    $25,000 - $34,999         NaN          59                  Income   \n",
       "332  $25,000 - $34,999         NaN          59                  Income   \n",
       "\n",
       "       Stratification1  \n",
       "8    $25,000 - $34,999  \n",
       "332  $25,000 - $34,999  "
      ]
     },
     "execution_count": 19,
     "metadata": {},
     "output_type": "execute_result"
    }
   ],
   "source": [
    "# create filter named \"income_25000_34999_in_2016_national\"\n",
    "income_25000_34999_in_2016_national=income_obesity_in_US_national_2016_df[(income_obesity_in_US_national_2016_df['Income']=='$25,000 - $34,999')]\n",
    "income_25000_34999_in_2016_national\n"
   ]
  },
  {
   "cell_type": "code",
   "execution_count": 20,
   "metadata": {},
   "outputs": [
    {
     "data": {
      "text/plain": [
       "33.7"
      ]
     },
     "execution_count": 20,
     "metadata": {},
     "output_type": "execute_result"
    }
   ],
   "source": [
    "# create filter named \"income_25000_34999_in_2016_national_avg\" to calculate average obesity rate for income of 25,000 to 34,999 in 2016\n",
    "\n",
    "income_25000_34999_in_2016_national_avg=income_25000_34999_in_2016_national['income_pc'].mean()\n",
    "income_25000_34999_in_2016_national_avg"
   ]
  },
  {
   "cell_type": "code",
   "execution_count": 21,
   "metadata": {},
   "outputs": [
    {
     "name": "stdout",
     "output_type": "stream",
     "text": [
      "The national obesity rate average for income of $25,000 to $34,999 in 2016\n",
      "==========================================================================\n",
      "Income\n",
      "$25,000 - $34,999    33.7\n",
      "Name: income_pc, dtype: float64\n"
     ]
    }
   ],
   "source": [
    "# Use \"income_25000_34999_in_2016_national_avg\" filter to show the national obesity rate average for income $25,000 to $34,999 on chart\n",
    "income_25000_34999_in_2016_national_avg=income_25000_34999_in_2016_national.groupby('Income')['income_pc'].mean()\n",
    "income_25000_34999_in_2016_national_avg\n",
    "title1='The national obesity rate average for income of $25,000 to $34,999 in 2016'\n",
    "print(\"{}\\n{}\".format(title1, '='*len(title1)))\n",
    "print(income_25000_34999_in_2016_national_avg.sort_values())\n"
   ]
  },
  {
   "cell_type": "markdown",
   "metadata": {},
   "source": [
    "### Answer:  On a national scale, 33.7% of adults with an income of $25,000 to $34,999 were obese in 2016. "
   ]
  },
  {
   "cell_type": "markdown",
   "metadata": {},
   "source": [
    "# Question 5: What was the national obesity rate for income of $35,000 - $49,999  in 2016?"
   ]
  },
  {
   "cell_type": "code",
   "execution_count": 22,
   "metadata": {},
   "outputs": [
    {
     "data": {
      "text/html": [
       "<div>\n",
       "<style scoped>\n",
       "    .dataframe tbody tr th:only-of-type {\n",
       "        vertical-align: middle;\n",
       "    }\n",
       "\n",
       "    .dataframe tbody tr th {\n",
       "        vertical-align: top;\n",
       "    }\n",
       "\n",
       "    .dataframe thead th {\n",
       "        text-align: right;\n",
       "    }\n",
       "</style>\n",
       "<table border=\"1\" class=\"dataframe\">\n",
       "  <thead>\n",
       "    <tr style=\"text-align: right;\">\n",
       "      <th></th>\n",
       "      <th>Unnamed: 0</th>\n",
       "      <th>year</th>\n",
       "      <th>state</th>\n",
       "      <th>state_name</th>\n",
       "      <th>income_pc</th>\n",
       "      <th>Data_Value_Alt</th>\n",
       "      <th>Question</th>\n",
       "      <th>Sample_Size</th>\n",
       "      <th>Total</th>\n",
       "      <th>Income</th>\n",
       "      <th>GeoLocation</th>\n",
       "      <th>LocationID</th>\n",
       "      <th>StratificationCategory1</th>\n",
       "      <th>Stratification1</th>\n",
       "    </tr>\n",
       "  </thead>\n",
       "  <tbody>\n",
       "    <tr>\n",
       "      <th>9</th>\n",
       "      <td>10</td>\n",
       "      <td>2016</td>\n",
       "      <td>US</td>\n",
       "      <td>National</td>\n",
       "      <td>34.9</td>\n",
       "      <td>34.9</td>\n",
       "      <td>Percent of adults aged 18 years and older who ...</td>\n",
       "      <td>54639.0</td>\n",
       "      <td>NaN</td>\n",
       "      <td>$35,000 - $49,999</td>\n",
       "      <td>NaN</td>\n",
       "      <td>59</td>\n",
       "      <td>Income</td>\n",
       "      <td>$35,000 - $49,999</td>\n",
       "    </tr>\n",
       "    <tr>\n",
       "      <th>333</th>\n",
       "      <td>388</td>\n",
       "      <td>2016</td>\n",
       "      <td>US</td>\n",
       "      <td>National</td>\n",
       "      <td>32.0</td>\n",
       "      <td>32.0</td>\n",
       "      <td>Percent of adults aged 18 years and older who ...</td>\n",
       "      <td>54639.0</td>\n",
       "      <td>NaN</td>\n",
       "      <td>$35,000 - $49,999</td>\n",
       "      <td>NaN</td>\n",
       "      <td>59</td>\n",
       "      <td>Income</td>\n",
       "      <td>$35,000 - $49,999</td>\n",
       "    </tr>\n",
       "  </tbody>\n",
       "</table>\n",
       "</div>"
      ],
      "text/plain": [
       "     Unnamed: 0  year state state_name  income_pc  Data_Value_Alt  \\\n",
       "9            10  2016    US   National       34.9            34.9   \n",
       "333         388  2016    US   National       32.0            32.0   \n",
       "\n",
       "                                              Question  Sample_Size  Total  \\\n",
       "9    Percent of adults aged 18 years and older who ...      54639.0    NaN   \n",
       "333  Percent of adults aged 18 years and older who ...      54639.0    NaN   \n",
       "\n",
       "                Income GeoLocation  LocationID StratificationCategory1  \\\n",
       "9    $35,000 - $49,999         NaN          59                  Income   \n",
       "333  $35,000 - $49,999         NaN          59                  Income   \n",
       "\n",
       "       Stratification1  \n",
       "9    $35,000 - $49,999  \n",
       "333  $35,000 - $49,999  "
      ]
     },
     "execution_count": 22,
     "metadata": {},
     "output_type": "execute_result"
    }
   ],
   "source": [
    "# create filter named \"income_35000_49999_in_2016_national\"\n",
    "income_35000_49999_in_2016_national=income_obesity_in_US_national_2016_df[(income_obesity_in_US_national_2016_df['Income']=='$35,000 - $49,999')]\n",
    "income_35000_49999_in_2016_national\n",
    "\n"
   ]
  },
  {
   "cell_type": "code",
   "execution_count": 23,
   "metadata": {},
   "outputs": [
    {
     "data": {
      "text/plain": [
       "33.45"
      ]
     },
     "execution_count": 23,
     "metadata": {},
     "output_type": "execute_result"
    }
   ],
   "source": [
    "# create filter named \"income_35000_49999_in_2016_national_avg\" to calculate average obesity rate for income of 35,000 to 49,999 in 2016\n",
    "\n",
    "income_35000_49999_in_2016_national_avg=income_35000_49999_in_2016_national['income_pc'].mean()\n",
    "income_35000_49999_in_2016_national_avg"
   ]
  },
  {
   "cell_type": "code",
   "execution_count": 24,
   "metadata": {},
   "outputs": [
    {
     "name": "stdout",
     "output_type": "stream",
     "text": [
      "The national obesity rate average for income of $35,000 to $49,999 in 2016\n",
      "==========================================================================\n",
      "Income\n",
      "$35,000 - $49,999    33.45\n",
      "Name: income_pc, dtype: float64\n"
     ]
    }
   ],
   "source": [
    "# Use \"income_35000_49999_in_2016_national_avg\" filter to show the national ages 55-64 obesity rate average on chart\n",
    "income_35000_49999_in_2016_national_avg=income_35000_49999_in_2016_national.groupby('Income')['income_pc'].mean()\n",
    "income_35000_49999_in_2016_national_avg\n",
    "title1='The national obesity rate average for income of $35,000 to $49,999 in 2016'\n",
    "print(\"{}\\n{}\".format(title1, '='*len(title1)))\n",
    "print(income_35000_49999_in_2016_national_avg.sort_values())\n"
   ]
  },
  {
   "cell_type": "markdown",
   "metadata": {},
   "source": [
    "### Answer:  On a national scale, 33.5% of adults with income of $35,000 to $49,999 were obese in 2016. "
   ]
  },
  {
   "cell_type": "markdown",
   "metadata": {},
   "source": [
    "# Question 6: What is the obesity rate for income of $50,000 - $74,999  in 2016?"
   ]
  },
  {
   "cell_type": "code",
   "execution_count": 25,
   "metadata": {},
   "outputs": [
    {
     "data": {
      "text/html": [
       "<div>\n",
       "<style scoped>\n",
       "    .dataframe tbody tr th:only-of-type {\n",
       "        vertical-align: middle;\n",
       "    }\n",
       "\n",
       "    .dataframe tbody tr th {\n",
       "        vertical-align: top;\n",
       "    }\n",
       "\n",
       "    .dataframe thead th {\n",
       "        text-align: right;\n",
       "    }\n",
       "</style>\n",
       "<table border=\"1\" class=\"dataframe\">\n",
       "  <thead>\n",
       "    <tr style=\"text-align: right;\">\n",
       "      <th></th>\n",
       "      <th>Unnamed: 0</th>\n",
       "      <th>year</th>\n",
       "      <th>state</th>\n",
       "      <th>state_name</th>\n",
       "      <th>income_pc</th>\n",
       "      <th>Data_Value_Alt</th>\n",
       "      <th>Question</th>\n",
       "      <th>Sample_Size</th>\n",
       "      <th>Total</th>\n",
       "      <th>Income</th>\n",
       "      <th>GeoLocation</th>\n",
       "      <th>LocationID</th>\n",
       "      <th>StratificationCategory1</th>\n",
       "      <th>Stratification1</th>\n",
       "    </tr>\n",
       "  </thead>\n",
       "  <tbody>\n",
       "    <tr>\n",
       "      <th>10</th>\n",
       "      <td>11</td>\n",
       "      <td>2016</td>\n",
       "      <td>US</td>\n",
       "      <td>National</td>\n",
       "      <td>37.1</td>\n",
       "      <td>37.1</td>\n",
       "      <td>Percent of adults aged 18 years and older who ...</td>\n",
       "      <td>61211.0</td>\n",
       "      <td>NaN</td>\n",
       "      <td>$50,000 - $74,999</td>\n",
       "      <td>NaN</td>\n",
       "      <td>59</td>\n",
       "      <td>Income</td>\n",
       "      <td>$50,000 - $74,999</td>\n",
       "    </tr>\n",
       "    <tr>\n",
       "      <th>334</th>\n",
       "      <td>389</td>\n",
       "      <td>2016</td>\n",
       "      <td>US</td>\n",
       "      <td>National</td>\n",
       "      <td>31.1</td>\n",
       "      <td>31.1</td>\n",
       "      <td>Percent of adults aged 18 years and older who ...</td>\n",
       "      <td>61211.0</td>\n",
       "      <td>NaN</td>\n",
       "      <td>$50,000 - $74,999</td>\n",
       "      <td>NaN</td>\n",
       "      <td>59</td>\n",
       "      <td>Income</td>\n",
       "      <td>$50,000 - $74,999</td>\n",
       "    </tr>\n",
       "  </tbody>\n",
       "</table>\n",
       "</div>"
      ],
      "text/plain": [
       "     Unnamed: 0  year state state_name  income_pc  Data_Value_Alt  \\\n",
       "10           11  2016    US   National       37.1            37.1   \n",
       "334         389  2016    US   National       31.1            31.1   \n",
       "\n",
       "                                              Question  Sample_Size  Total  \\\n",
       "10   Percent of adults aged 18 years and older who ...      61211.0    NaN   \n",
       "334  Percent of adults aged 18 years and older who ...      61211.0    NaN   \n",
       "\n",
       "                Income GeoLocation  LocationID StratificationCategory1  \\\n",
       "10   $50,000 - $74,999         NaN          59                  Income   \n",
       "334  $50,000 - $74,999         NaN          59                  Income   \n",
       "\n",
       "       Stratification1  \n",
       "10   $50,000 - $74,999  \n",
       "334  $50,000 - $74,999  "
      ]
     },
     "execution_count": 25,
     "metadata": {},
     "output_type": "execute_result"
    }
   ],
   "source": [
    "# create filter named \"income_50000_74999_in_2016_national\"\n",
    "income_50000_74999_in_2016_national=income_obesity_in_US_national_2016_df[(income_obesity_in_US_national_2016_df['Income']=='$50,000 - $74,999')]\n",
    "income_50000_74999_in_2016_national\n"
   ]
  },
  {
   "cell_type": "code",
   "execution_count": 26,
   "metadata": {},
   "outputs": [
    {
     "data": {
      "text/plain": [
       "34.1"
      ]
     },
     "execution_count": 26,
     "metadata": {},
     "output_type": "execute_result"
    }
   ],
   "source": [
    "# create filter named \"income_50000_74999_in_2016_national_avg\" to calculate average obesity rate for income of 50,000 to 74,999 in 2016\n",
    "\n",
    "income_50000_74999_in_2016_national_avg=income_50000_74999_in_2016_national['income_pc'].mean()\n",
    "income_50000_74999_in_2016_national_avg"
   ]
  },
  {
   "cell_type": "code",
   "execution_count": 27,
   "metadata": {},
   "outputs": [
    {
     "name": "stdout",
     "output_type": "stream",
     "text": [
      "The national obesity rate average for income of $50,000 - $74,999 in 2016\n",
      "=========================================================================\n",
      "Income\n",
      "$50,000 - $74,999    34.1\n",
      "Name: income_pc, dtype: float64\n"
     ]
    }
   ],
   "source": [
    "# Use \"income_50000_74999_in_2016_national_avg\" filter to show the national obesity rate average of people with income of $50,000 - $74,999 on chart\n",
    "income_50000_74999_in_2016_national_avg=income_50000_74999_in_2016_national.groupby('Income')['income_pc'].mean()\n",
    "income_50000_74999_in_2016_national_avg\n",
    "title1='The national obesity rate average for income of $50,000 - $74,999 in 2016'\n",
    "print(\"{}\\n{}\".format(title1, '='*len(title1)))\n",
    "print(income_50000_74999_in_2016_national_avg.sort_values())\n"
   ]
  },
  {
   "cell_type": "markdown",
   "metadata": {},
   "source": [
    "### Answer:  On a national scale, 34.1% of adults with an income of $50,000 - $74,999 were obese in 2016. "
   ]
  },
  {
   "cell_type": "markdown",
   "metadata": {},
   "source": [
    "# Question 7: What is the obesity rate for income of $75,000 or greater in 2016?"
   ]
  },
  {
   "cell_type": "code",
   "execution_count": 28,
   "metadata": {},
   "outputs": [
    {
     "data": {
      "text/html": [
       "<div>\n",
       "<style scoped>\n",
       "    .dataframe tbody tr th:only-of-type {\n",
       "        vertical-align: middle;\n",
       "    }\n",
       "\n",
       "    .dataframe tbody tr th {\n",
       "        vertical-align: top;\n",
       "    }\n",
       "\n",
       "    .dataframe thead th {\n",
       "        text-align: right;\n",
       "    }\n",
       "</style>\n",
       "<table border=\"1\" class=\"dataframe\">\n",
       "  <thead>\n",
       "    <tr style=\"text-align: right;\">\n",
       "      <th></th>\n",
       "      <th>Unnamed: 0</th>\n",
       "      <th>year</th>\n",
       "      <th>state</th>\n",
       "      <th>state_name</th>\n",
       "      <th>income_pc</th>\n",
       "      <th>Data_Value_Alt</th>\n",
       "      <th>Question</th>\n",
       "      <th>Sample_Size</th>\n",
       "      <th>Total</th>\n",
       "      <th>Income</th>\n",
       "      <th>GeoLocation</th>\n",
       "      <th>LocationID</th>\n",
       "      <th>StratificationCategory1</th>\n",
       "      <th>Stratification1</th>\n",
       "    </tr>\n",
       "  </thead>\n",
       "  <tbody>\n",
       "    <tr>\n",
       "      <th>11</th>\n",
       "      <td>12</td>\n",
       "      <td>2016</td>\n",
       "      <td>US</td>\n",
       "      <td>National</td>\n",
       "      <td>38.2</td>\n",
       "      <td>38.2</td>\n",
       "      <td>Percent of adults aged 18 years and older who ...</td>\n",
       "      <td>120901.0</td>\n",
       "      <td>NaN</td>\n",
       "      <td>$75,000 or greater</td>\n",
       "      <td>NaN</td>\n",
       "      <td>59</td>\n",
       "      <td>Income</td>\n",
       "      <td>$75,000 or greater</td>\n",
       "    </tr>\n",
       "    <tr>\n",
       "      <th>335</th>\n",
       "      <td>390</td>\n",
       "      <td>2016</td>\n",
       "      <td>US</td>\n",
       "      <td>National</td>\n",
       "      <td>25.4</td>\n",
       "      <td>25.4</td>\n",
       "      <td>Percent of adults aged 18 years and older who ...</td>\n",
       "      <td>120901.0</td>\n",
       "      <td>NaN</td>\n",
       "      <td>$75,000 or greater</td>\n",
       "      <td>NaN</td>\n",
       "      <td>59</td>\n",
       "      <td>Income</td>\n",
       "      <td>$75,000 or greater</td>\n",
       "    </tr>\n",
       "  </tbody>\n",
       "</table>\n",
       "</div>"
      ],
      "text/plain": [
       "     Unnamed: 0  year state state_name  income_pc  Data_Value_Alt  \\\n",
       "11           12  2016    US   National       38.2            38.2   \n",
       "335         390  2016    US   National       25.4            25.4   \n",
       "\n",
       "                                              Question  Sample_Size  Total  \\\n",
       "11   Percent of adults aged 18 years and older who ...     120901.0    NaN   \n",
       "335  Percent of adults aged 18 years and older who ...     120901.0    NaN   \n",
       "\n",
       "                 Income GeoLocation  LocationID StratificationCategory1  \\\n",
       "11   $75,000 or greater         NaN          59                  Income   \n",
       "335  $75,000 or greater         NaN          59                  Income   \n",
       "\n",
       "        Stratification1  \n",
       "11   $75,000 or greater  \n",
       "335  $75,000 or greater  "
      ]
     },
     "execution_count": 28,
     "metadata": {},
     "output_type": "execute_result"
    }
   ],
   "source": [
    "# create filter named \"income_75000_greater_in_2016_national\"\n",
    "income_75000_greater_in_2016_national=income_obesity_in_US_national_2016_df[(income_obesity_in_US_national_2016_df['Income']=='$75,000 or greater')]\n",
    "income_75000_greater_in_2016_national\n"
   ]
  },
  {
   "cell_type": "code",
   "execution_count": 29,
   "metadata": {},
   "outputs": [
    {
     "data": {
      "text/plain": [
       "31.8"
      ]
     },
     "execution_count": 29,
     "metadata": {},
     "output_type": "execute_result"
    }
   ],
   "source": [
    "# create filter named \"income_75000_greater_in_2016_national_avg\" to calculate average obesity rate for income of 75,000 or greater in 2016\n",
    "income_75000_greater_in_2016_national_avg=income_75000_greater_in_2016_national['income_pc'].mean()\n",
    "income_75000_greater_in_2016_national_avg"
   ]
  },
  {
   "cell_type": "code",
   "execution_count": 30,
   "metadata": {},
   "outputs": [
    {
     "name": "stdout",
     "output_type": "stream",
     "text": [
      "The national obesity rate average for income of $75,000 or greater in 2016\n",
      "==========================================================================\n",
      "Income\n",
      "$75,000 or greater    31.8\n",
      "Name: income_pc, dtype: float64\n"
     ]
    }
   ],
   "source": [
    "# Use \"income_75000_greater_in_2016_national_avg\" filter to show the national obesity rate average of people with income of $75,000 or greater on chart\n",
    "income_75000_greater_in_2016_national_avg=income_75000_greater_in_2016_national.groupby('Income')['income_pc'].mean()\n",
    "income_75000_greater_in_2016_national_avg\n",
    "title1='The national obesity rate average for income of $75,000 or greater in 2016'\n",
    "print(\"{}\\n{}\".format(title1, '='*len(title1)))\n",
    "print(income_75000_greater_in_2016_national_avg.sort_values())\n"
   ]
  },
  {
   "cell_type": "markdown",
   "metadata": {},
   "source": [
    "### Answer:  On a national scale, 31.8% of adults with an income of $75,000 or greater were obese in 2016."
   ]
  },
  {
   "cell_type": "markdown",
   "metadata": {},
   "source": [
    "# Question 8: National Obesity Rates by Income in 2016"
   ]
  },
  {
   "cell_type": "code",
   "execution_count": 31,
   "metadata": {},
   "outputs": [],
   "source": [
    "list_of_dfs = [income_less_than_15000_in_2016_national_avg,\n",
    "               income_15000_24999_in_2016_national_avg,\n",
    "               income_25000_34999_in_2016_national_avg,\n",
    "               income_35000_49999_in_2016_national_avg,\n",
    "               income_50000_74999_in_2016_national_avg,\n",
    "               income_75000_greater_in_2016_national_avg]\n",
    "\n",
    "combined_df_income_2016 = pd.concat(list_of_dfs)"
   ]
  },
  {
   "cell_type": "code",
   "execution_count": 32,
   "metadata": {},
   "outputs": [
    {
     "data": {
      "text/plain": [
       "Text(0.5, 1.0, 'Obesity Rate by Income in 2016')"
      ]
     },
     "execution_count": 32,
     "metadata": {},
     "output_type": "execute_result"
    },
    {
     "data": {
      "image/png": "[encoded data removed]",
      "text/plain": [
       "<Figure size 432x288 with 1 Axes>"
      ]
     },
     "metadata": {
      "needs_background": "light"
     },
     "output_type": "display_data"
    }
   ],
   "source": [
    "combined_df_income_2016.plot(kind='bar', color='violet')\n",
    "plt.title('Obesity Rate by Income in 2016')"
   ]
  },
  {
   "cell_type": "markdown",
   "metadata": {},
   "source": [
    "In 2016, people with an income of 50,000 to 74,999 were the most obese"
   ]
  },
  {
   "cell_type": "markdown",
   "metadata": {},
   "source": [
    "# Conclusion\n",
    "- The national obesity rate average in 2016 was 33.2%\n",
    "- On a national scale, 32.9% of adults with income of less than 15,000 were obese in 2016\n",
    "- On a national scale, 33.3% of adults with an income between 15,000 to 24,999 in 2016\n",
    "- On a national scale, 33.7% of adults with an income of 25,000 to 34,999 in 2016\n",
    "- On a national scale, 33.5% of adults with income of  35,000 to 49,999 in 2016\n",
    "- On a national scale, 34.1% of adults with an income of  50,000 − 74,999 in 2016\n",
    "- On a national scale, 31.8% of adults with an income of 75,000 or greater were obese in 2016\n"
   ]
  }
 ],
 "metadata": {
  "kernelspec": {
   "display_name": "Python 3",
   "language": "python",
   "name": "python3"
  },
  "language_info": {
   "codemirror_mode": {
    "name": "ipython",
    "version": 3
   },
   "file_extension": ".py",
   "mimetype": "text/x-python",
   "name": "python",
   "nbconvert_exporter": "python",
   "pygments_lexer": "ipython3",
   "version": "3.7.3"
  }
 },
 "nbformat": 4,
 "nbformat_minor": 2
}
