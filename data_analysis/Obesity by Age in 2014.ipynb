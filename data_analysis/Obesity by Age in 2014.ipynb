{
 "cells": [
  {
   "cell_type": "markdown",
   "metadata": {},
   "source": [
    "# US Obesity Rate by Age in 2014\n",
    "- This notebook will explore obesity rates of 5 age groups. \n",
    "    - 18 - 24\n",
    "    - 35 - 44\n",
    "    - 45 - 54\n",
    "    - 55 - 64\n",
    "    - 65 or older \n",
    "- First, the notebook will calculate the national obesity rate \n",
    "- Second, the notebook will calculate the average national obesity rate per age group. \n",
    "- Third, the notebook will show a graph comparing the national obesity rates per age group\n",
    "- The purpose of this notebook is to show what age group had the highest obesity rate in 2014"
   ]
  },
  {
   "cell_type": "markdown",
   "metadata": {},
   "source": [
    "# Setup"
   ]
  },
  {
   "cell_type": "code",
   "execution_count": 1,
   "metadata": {},
   "outputs": [],
   "source": [
    "import pandas as pd\n",
    "import matplotlib.pyplot as plt\n",
    "import numpy.random as np\n",
    "import sys\n",
    "import matplotlib \n",
    "import seaborn as sns\n",
    "import numpy as np"
   ]
  },
  {
   "cell_type": "markdown",
   "metadata": {},
   "source": [
    "# Load & Inspect 2014 Obesity by Age Data Frame"
   ]
  },
  {
   "cell_type": "code",
   "execution_count": 2,
   "metadata": {},
   "outputs": [],
   "source": [
    "obesity_in_US_age_2014 = pd.read_csv('../data/Clean Data/obesity_in_US_age_2014.csv')"
   ]
  },
  {
   "cell_type": "code",
   "execution_count": 3,
   "metadata": {},
   "outputs": [
    {
     "data": {
      "text/html": [
       "<div>\n",
       "<style scoped>\n",
       "    .dataframe tbody tr th:only-of-type {\n",
       "        vertical-align: middle;\n",
       "    }\n",
       "\n",
       "    .dataframe tbody tr th {\n",
       "        vertical-align: top;\n",
       "    }\n",
       "\n",
       "    .dataframe thead th {\n",
       "        text-align: right;\n",
       "    }\n",
       "</style>\n",
       "<table border=\"1\" class=\"dataframe\">\n",
       "  <thead>\n",
       "    <tr style=\"text-align: right;\">\n",
       "      <th></th>\n",
       "      <th>Unnamed: 0</th>\n",
       "      <th>year</th>\n",
       "      <th>state</th>\n",
       "      <th>state_name</th>\n",
       "      <th>age_pc</th>\n",
       "      <th>Data_Value_Alt</th>\n",
       "      <th>Question</th>\n",
       "      <th>Sample_Size</th>\n",
       "      <th>Total</th>\n",
       "      <th>Age</th>\n",
       "      <th>GeoLocation</th>\n",
       "      <th>LocationID</th>\n",
       "      <th>StratificationCategory1</th>\n",
       "      <th>Stratification1</th>\n",
       "    </tr>\n",
       "  </thead>\n",
       "  <tbody>\n",
       "    <tr>\n",
       "      <th>0</th>\n",
       "      <td>0</td>\n",
       "      <td>2014</td>\n",
       "      <td>AL</td>\n",
       "      <td>Alabama</td>\n",
       "      <td>35.1</td>\n",
       "      <td>35.1</td>\n",
       "      <td>Percent of adults aged 18 years and older who ...</td>\n",
       "      <td>1886.0</td>\n",
       "      <td>NaN</td>\n",
       "      <td>55 - 64</td>\n",
       "      <td>(32.84057112200048, -86.63186076199969)</td>\n",
       "      <td>1</td>\n",
       "      <td>Age (years)</td>\n",
       "      <td>55 - 64</td>\n",
       "    </tr>\n",
       "    <tr>\n",
       "      <th>1</th>\n",
       "      <td>1</td>\n",
       "      <td>2014</td>\n",
       "      <td>AL</td>\n",
       "      <td>Alabama</td>\n",
       "      <td>20.4</td>\n",
       "      <td>20.4</td>\n",
       "      <td>Percent of adults aged 18 years and older who ...</td>\n",
       "      <td>409.0</td>\n",
       "      <td>NaN</td>\n",
       "      <td>18 - 24</td>\n",
       "      <td>(32.84057112200048, -86.63186076199969)</td>\n",
       "      <td>1</td>\n",
       "      <td>Age (years)</td>\n",
       "      <td>18 - 24</td>\n",
       "    </tr>\n",
       "    <tr>\n",
       "      <th>2</th>\n",
       "      <td>2</td>\n",
       "      <td>2014</td>\n",
       "      <td>AL</td>\n",
       "      <td>Alabama</td>\n",
       "      <td>40.9</td>\n",
       "      <td>40.9</td>\n",
       "      <td>Percent of adults aged 18 years and older who ...</td>\n",
       "      <td>839.0</td>\n",
       "      <td>NaN</td>\n",
       "      <td>35 - 44</td>\n",
       "      <td>(32.84057112200048, -86.63186076199969)</td>\n",
       "      <td>1</td>\n",
       "      <td>Age (years)</td>\n",
       "      <td>35 - 44</td>\n",
       "    </tr>\n",
       "    <tr>\n",
       "      <th>3</th>\n",
       "      <td>3</td>\n",
       "      <td>2014</td>\n",
       "      <td>AL</td>\n",
       "      <td>Alabama</td>\n",
       "      <td>39.9</td>\n",
       "      <td>39.9</td>\n",
       "      <td>Percent of adults aged 18 years and older who ...</td>\n",
       "      <td>1364.0</td>\n",
       "      <td>NaN</td>\n",
       "      <td>45 - 54</td>\n",
       "      <td>(32.84057112200048, -86.63186076199969)</td>\n",
       "      <td>1</td>\n",
       "      <td>Age (years)</td>\n",
       "      <td>45 - 54</td>\n",
       "    </tr>\n",
       "    <tr>\n",
       "      <th>4</th>\n",
       "      <td>4</td>\n",
       "      <td>2014</td>\n",
       "      <td>AL</td>\n",
       "      <td>Alabama</td>\n",
       "      <td>37.4</td>\n",
       "      <td>37.4</td>\n",
       "      <td>Percent of adults aged 18 years and older who ...</td>\n",
       "      <td>1886.0</td>\n",
       "      <td>NaN</td>\n",
       "      <td>55 - 64</td>\n",
       "      <td>(32.84057112200048, -86.63186076199969)</td>\n",
       "      <td>1</td>\n",
       "      <td>Age (years)</td>\n",
       "      <td>55 - 64</td>\n",
       "    </tr>\n",
       "    <tr>\n",
       "      <th>...</th>\n",
       "      <td>...</td>\n",
       "      <td>...</td>\n",
       "      <td>...</td>\n",
       "      <td>...</td>\n",
       "      <td>...</td>\n",
       "      <td>...</td>\n",
       "      <td>...</td>\n",
       "      <td>...</td>\n",
       "      <td>...</td>\n",
       "      <td>...</td>\n",
       "      <td>...</td>\n",
       "      <td>...</td>\n",
       "      <td>...</td>\n",
       "      <td>...</td>\n",
       "    </tr>\n",
       "    <tr>\n",
       "      <th>535</th>\n",
       "      <td>535</td>\n",
       "      <td>2014</td>\n",
       "      <td>WY</td>\n",
       "      <td>Wyoming</td>\n",
       "      <td>20.3</td>\n",
       "      <td>20.3</td>\n",
       "      <td>Percent of adults aged 18 years and older who ...</td>\n",
       "      <td>131.0</td>\n",
       "      <td>NaN</td>\n",
       "      <td>18 - 24</td>\n",
       "      <td>(43.23554134300048, -108.10983035299967)</td>\n",
       "      <td>56</td>\n",
       "      <td>Age (years)</td>\n",
       "      <td>18 - 24</td>\n",
       "    </tr>\n",
       "    <tr>\n",
       "      <th>536</th>\n",
       "      <td>536</td>\n",
       "      <td>2014</td>\n",
       "      <td>WY</td>\n",
       "      <td>Wyoming</td>\n",
       "      <td>39.0</td>\n",
       "      <td>39.0</td>\n",
       "      <td>Percent of adults aged 18 years and older who ...</td>\n",
       "      <td>546.0</td>\n",
       "      <td>NaN</td>\n",
       "      <td>35 - 44</td>\n",
       "      <td>(43.23554134300048, -108.10983035299967)</td>\n",
       "      <td>56</td>\n",
       "      <td>Age (years)</td>\n",
       "      <td>35 - 44</td>\n",
       "    </tr>\n",
       "    <tr>\n",
       "      <th>537</th>\n",
       "      <td>537</td>\n",
       "      <td>2014</td>\n",
       "      <td>WY</td>\n",
       "      <td>Wyoming</td>\n",
       "      <td>37.1</td>\n",
       "      <td>37.1</td>\n",
       "      <td>Percent of adults aged 18 years and older who ...</td>\n",
       "      <td>773.0</td>\n",
       "      <td>NaN</td>\n",
       "      <td>45 - 54</td>\n",
       "      <td>(43.23554134300048, -108.10983035299967)</td>\n",
       "      <td>56</td>\n",
       "      <td>Age (years)</td>\n",
       "      <td>45 - 54</td>\n",
       "    </tr>\n",
       "    <tr>\n",
       "      <th>538</th>\n",
       "      <td>538</td>\n",
       "      <td>2014</td>\n",
       "      <td>WY</td>\n",
       "      <td>Wyoming</td>\n",
       "      <td>36.8</td>\n",
       "      <td>36.8</td>\n",
       "      <td>Percent of adults aged 18 years and older who ...</td>\n",
       "      <td>1549.0</td>\n",
       "      <td>NaN</td>\n",
       "      <td>55 - 64</td>\n",
       "      <td>(43.23554134300048, -108.10983035299967)</td>\n",
       "      <td>56</td>\n",
       "      <td>Age (years)</td>\n",
       "      <td>55 - 64</td>\n",
       "    </tr>\n",
       "    <tr>\n",
       "      <th>539</th>\n",
       "      <td>539</td>\n",
       "      <td>2014</td>\n",
       "      <td>WY</td>\n",
       "      <td>Wyoming</td>\n",
       "      <td>39.9</td>\n",
       "      <td>39.9</td>\n",
       "      <td>Percent of adults aged 18 years and older who ...</td>\n",
       "      <td>2621.0</td>\n",
       "      <td>NaN</td>\n",
       "      <td>65 or older</td>\n",
       "      <td>(43.23554134300048, -108.10983035299967)</td>\n",
       "      <td>56</td>\n",
       "      <td>Age (years)</td>\n",
       "      <td>65 or older</td>\n",
       "    </tr>\n",
       "  </tbody>\n",
       "</table>\n",
       "<p>540 rows × 14 columns</p>\n",
       "</div>"
      ],
      "text/plain": [
       "     Unnamed: 0  year state state_name  age_pc  Data_Value_Alt  \\\n",
       "0             0  2014    AL    Alabama    35.1            35.1   \n",
       "1             1  2014    AL    Alabama    20.4            20.4   \n",
       "2             2  2014    AL    Alabama    40.9            40.9   \n",
       "3             3  2014    AL    Alabama    39.9            39.9   \n",
       "4             4  2014    AL    Alabama    37.4            37.4   \n",
       "..          ...   ...   ...        ...     ...             ...   \n",
       "535         535  2014    WY    Wyoming    20.3            20.3   \n",
       "536         536  2014    WY    Wyoming    39.0            39.0   \n",
       "537         537  2014    WY    Wyoming    37.1            37.1   \n",
       "538         538  2014    WY    Wyoming    36.8            36.8   \n",
       "539         539  2014    WY    Wyoming    39.9            39.9   \n",
       "\n",
       "                                              Question  Sample_Size  Total  \\\n",
       "0    Percent of adults aged 18 years and older who ...       1886.0    NaN   \n",
       "1    Percent of adults aged 18 years and older who ...        409.0    NaN   \n",
       "2    Percent of adults aged 18 years and older who ...        839.0    NaN   \n",
       "3    Percent of adults aged 18 years and older who ...       1364.0    NaN   \n",
       "4    Percent of adults aged 18 years and older who ...       1886.0    NaN   \n",
       "..                                                 ...          ...    ...   \n",
       "535  Percent of adults aged 18 years and older who ...        131.0    NaN   \n",
       "536  Percent of adults aged 18 years and older who ...        546.0    NaN   \n",
       "537  Percent of adults aged 18 years and older who ...        773.0    NaN   \n",
       "538  Percent of adults aged 18 years and older who ...       1549.0    NaN   \n",
       "539  Percent of adults aged 18 years and older who ...       2621.0    NaN   \n",
       "\n",
       "             Age                               GeoLocation  LocationID  \\\n",
       "0        55 - 64   (32.84057112200048, -86.63186076199969)           1   \n",
       "1        18 - 24   (32.84057112200048, -86.63186076199969)           1   \n",
       "2        35 - 44   (32.84057112200048, -86.63186076199969)           1   \n",
       "3        45 - 54   (32.84057112200048, -86.63186076199969)           1   \n",
       "4        55 - 64   (32.84057112200048, -86.63186076199969)           1   \n",
       "..           ...                                       ...         ...   \n",
       "535      18 - 24  (43.23554134300048, -108.10983035299967)          56   \n",
       "536      35 - 44  (43.23554134300048, -108.10983035299967)          56   \n",
       "537      45 - 54  (43.23554134300048, -108.10983035299967)          56   \n",
       "538      55 - 64  (43.23554134300048, -108.10983035299967)          56   \n",
       "539  65 or older  (43.23554134300048, -108.10983035299967)          56   \n",
       "\n",
       "    StratificationCategory1 Stratification1  \n",
       "0               Age (years)         55 - 64  \n",
       "1               Age (years)         18 - 24  \n",
       "2               Age (years)         35 - 44  \n",
       "3               Age (years)         45 - 54  \n",
       "4               Age (years)         55 - 64  \n",
       "..                      ...             ...  \n",
       "535             Age (years)         18 - 24  \n",
       "536             Age (years)         35 - 44  \n",
       "537             Age (years)         45 - 54  \n",
       "538             Age (years)         55 - 64  \n",
       "539             Age (years)     65 or older  \n",
       "\n",
       "[540 rows x 14 columns]"
      ]
     },
     "execution_count": 3,
     "metadata": {},
     "output_type": "execute_result"
    }
   ],
   "source": [
    "obesity_in_US_age_2014"
   ]
  },
  {
   "cell_type": "code",
   "execution_count": 4,
   "metadata": {},
   "outputs": [
    {
     "data": {
      "text/plain": [
       "array(['55 - 64', '18 - 24', '35 - 44', '45 - 54', '65 or older'],\n",
       "      dtype=object)"
      ]
     },
     "execution_count": 4,
     "metadata": {},
     "output_type": "execute_result"
    }
   ],
   "source": [
    "obesity_in_US_age_2014['Age'].unique()"
   ]
  },
  {
   "cell_type": "code",
   "execution_count": 5,
   "metadata": {},
   "outputs": [
    {
     "data": {
      "text/plain": [
       "45 - 54        108\n",
       "35 - 44        108\n",
       "55 - 64        108\n",
       "65 or older    108\n",
       "18 - 24        108\n",
       "Name: Age, dtype: int64"
      ]
     },
     "execution_count": 5,
     "metadata": {},
     "output_type": "execute_result"
    }
   ],
   "source": [
    "obesity_in_US_age_2014['Age'].value_counts()"
   ]
  },
  {
   "cell_type": "markdown",
   "metadata": {},
   "source": [
    "# Questions:\n",
    "\n",
    "#### Question 1: What was the national obesity rate in 2014?\n",
    "- Steps: \n",
    "    - create filter named \"age_obesity_in_US_national_2014_df\" to eliminate every row except 'National)\n",
    "    - Create a filter \"national_avg_2014\" to find the mean obesity rate nationally\n",
    "    - use \"national_avg_2014\" filter to show the national obesity rate average on chart\n",
    "    \n",
    "#### Question 2: What was the national obesity rate for ages 18-24 in 2014?\n",
    "- Steps: \n",
    "    - create filter named \"ages_18_24_in_2014_national\" on the \"age_obesity_in_US_national_2014_df\" to               eliminate all ages except for 18-24 \n",
    "    - create a filter \"ages_18_24_in_2014_national_avg\" to calculate the average national obesity rate for ages       18-24 in 2014\n",
    "    \n",
    "#### Question 3: What was the national obesity rate for ages 35 - 44  in 2014?\n",
    "- Steps:  \n",
    "    - create filter named \"ages_35_44_in_2014_national\" on the \"age_obesity_in_US_national_2014_df\" to               eliminate all ages except for 35-44 \n",
    "    - create a filter \"ages_35_44_in_2014_national_avg\" to calculate the average national obesity rate for ages       35-44 in 2014\n",
    "    \n",
    "#### Question 4: What was the national obesity rate for ages 45 - 54  in 2014?\n",
    "- Steps: \n",
    "    - create filter named \"ages_45_54_in_2014_national\" on the \"age_obesity_in_US_national_2014_df\" to               eliminate all ages except for 45-54 \n",
    "    - create a filter \"ages_45_54_in_2014_national_avg\" to calculate the average national obesity rate for ages       45-54 in 2014\n",
    "\n",
    "#### Question 5: What was the national obesity rate for ages 55-64 in 2014?\n",
    "- Steps:  \n",
    "   - create filter named \"ages_55_64_in_2014_national\" on the \"age_obesity_in_US_national_2014_df\" to                eliminate all ages except for 55-64\n",
    "   - create a filter \"ages_55_64_in_2014_national_avg\" to calculate the average national obesity rate for            ages 55-64 in 2014\n",
    "    \n",
    "#### Question 6: What was the national obesity rate for ages 65 or older in 2014?\n",
    "- Steps:  \n",
    "   - create filter named \"ages_65_older_in_2014_national\" on the \"age_obesity_in_US_national_2014_df\" to             eliminate all ages except for 65 or older\n",
    "    - create a filter \"ages_65_older_in_2014_national_avg\" to calculate the average national obesity rate for         ages 65 or older in 2014\n",
    "    \n",
    "#### Question 7: National Obesity Rates by Age in 2014\n",
    "- Steps: \n",
    "    - create filter named \"combined_df_age_2014\" to bring all the national obesity rates per age group together \n",
    "    - plot a graph of the age groups obesity rates"
   ]
  },
  {
   "cell_type": "markdown",
   "metadata": {},
   "source": [
    "# Question 1: What was the national obesity rate in 2014?"
   ]
  },
  {
   "cell_type": "code",
   "execution_count": 6,
   "metadata": {},
   "outputs": [],
   "source": [
    "#Age\n",
    "#make national its own dataframe named \"age_obesity_in_US_national_2014_df\"\n",
    "age_obesity_in_US_national_2014_df=obesity_in_US_age_2014[(obesity_in_US_age_2014['state_name']=='National')]\n",
    "age_obesity_in_US_national_2014_df\n",
    "age_obesity_in_US_national_2014_df = age_obesity_in_US_national_2014_df.reset_index(drop = True)"
   ]
  },
  {
   "cell_type": "markdown",
   "metadata": {},
   "source": [
    "- \"age_obesity_in_US_national_2014_df\"\n",
    "    - this data frame represents the country as a whole by age (it eliminates the state by state averages) in 2014\n",
    "    - use it to calculate national obesity rate as 1) a total, 2) for each age group "
   ]
  },
  {
   "cell_type": "code",
   "execution_count": 7,
   "metadata": {},
   "outputs": [
    {
     "data": {
      "text/plain": [
       "65 or older    2\n",
       "55 - 64        2\n",
       "35 - 44        2\n",
       "45 - 54        2\n",
       "18 - 24        2\n",
       "Name: Age, dtype: int64"
      ]
     },
     "execution_count": 7,
     "metadata": {},
     "output_type": "execute_result"
    }
   ],
   "source": [
    "age_obesity_in_US_national_2014_df['Age'].value_counts()"
   ]
  },
  {
   "cell_type": "code",
   "execution_count": 8,
   "metadata": {},
   "outputs": [
    {
     "data": {
      "text/plain": [
       "31.860000000000003"
      ]
     },
     "execution_count": 8,
     "metadata": {},
     "output_type": "execute_result"
    }
   ],
   "source": [
    "# Create a filter \"national_avg_2014\" to find the mean obesity rate nationally\n",
    "national_avg_2014=age_obesity_in_US_national_2014_df['age_pc'].mean()\n",
    "national_avg_2014\n"
   ]
  },
  {
   "cell_type": "markdown",
   "metadata": {},
   "source": [
    "#### Note: This is unnecessary to include in story but it is good to know that it is the same average as national gender because it shows that this data is accurate throughout"
   ]
  },
  {
   "cell_type": "code",
   "execution_count": 9,
   "metadata": {},
   "outputs": [
    {
     "name": "stdout",
     "output_type": "stream",
     "text": [
      "The national obesity rate average in 2014\n",
      "=========================================\n",
      "state_name\n",
      "National    31.86\n",
      "Name: age_pc, dtype: float64\n"
     ]
    }
   ],
   "source": [
    "# Use \"national_avg_2014\" filter to show the national obesity rate average on chart\n",
    "national_avg_2014=age_obesity_in_US_national_2014_df.groupby('state_name')['age_pc'].mean()\n",
    "national_avg_2014\n",
    "title1='The national obesity rate average in 2014'\n",
    "print(\"{}\\n{}\".format(title1, '='*len(title1)))\n",
    "print(national_avg_2014.sort_values())\n",
    "\n",
    "\n",
    "\n"
   ]
  },
  {
   "cell_type": "markdown",
   "metadata": {},
   "source": [
    "### Answer: The national obesity rate average in 2014 was 31.86%"
   ]
  },
  {
   "cell_type": "code",
   "execution_count": 10,
   "metadata": {},
   "outputs": [
    {
     "data": {
      "text/plain": [
       "Text(0.5, 1.0, '2014')"
      ]
     },
     "execution_count": 10,
     "metadata": {},
     "output_type": "execute_result"
    },
    {
     "data": {
      "image/png": "[encoded data removed]",
      "text/plain": [
       "<Figure size 864x288 with 1 Axes>"
      ]
     },
     "metadata": {
      "needs_background": "light"
     },
     "output_type": "display_data"
    }
   ],
   "source": [
    "\n",
    "# 1. Set up the figure to plot two bar charts and specify size ratio (3:1)\n",
    "plt.figure(figsize=(12,4))\n",
    "\n",
    "# 2. the plt.subplot() function divides the main figure into rows and columns\n",
    "#    121 = 1 row 2 columns and the first slot\n",
    "plt.subplot(121)\n",
    "\n",
    "# use the region mean data to plot a bar chart and add labels\n",
    "national_avg_2014.plot(kind='bar')\n",
    "plt.xlabel('National')\n",
    "plt.ylabel('Obesity Rate')\n",
    "plt.title('2014')\n"
   ]
  },
  {
   "cell_type": "markdown",
   "metadata": {},
   "source": [
    "# Question 2: What was the national obesity rate for ages 18-24 in 2014?"
   ]
  },
  {
   "cell_type": "code",
   "execution_count": 11,
   "metadata": {},
   "outputs": [
    {
     "data": {
      "text/html": [
       "<div>\n",
       "<style scoped>\n",
       "    .dataframe tbody tr th:only-of-type {\n",
       "        vertical-align: middle;\n",
       "    }\n",
       "\n",
       "    .dataframe tbody tr th {\n",
       "        vertical-align: top;\n",
       "    }\n",
       "\n",
       "    .dataframe thead th {\n",
       "        text-align: right;\n",
       "    }\n",
       "</style>\n",
       "<table border=\"1\" class=\"dataframe\">\n",
       "  <thead>\n",
       "    <tr style=\"text-align: right;\">\n",
       "      <th></th>\n",
       "      <th>Unnamed: 0</th>\n",
       "      <th>year</th>\n",
       "      <th>state</th>\n",
       "      <th>state_name</th>\n",
       "      <th>age_pc</th>\n",
       "      <th>Data_Value_Alt</th>\n",
       "      <th>Question</th>\n",
       "      <th>Sample_Size</th>\n",
       "      <th>Total</th>\n",
       "      <th>Age</th>\n",
       "      <th>GeoLocation</th>\n",
       "      <th>LocationID</th>\n",
       "      <th>StratificationCategory1</th>\n",
       "      <th>Stratification1</th>\n",
       "    </tr>\n",
       "  </thead>\n",
       "  <tbody>\n",
       "    <tr>\n",
       "      <th>0</th>\n",
       "      <td>280</td>\n",
       "      <td>2014</td>\n",
       "      <td>US</td>\n",
       "      <td>National</td>\n",
       "      <td>15.9</td>\n",
       "      <td>15.9</td>\n",
       "      <td>Percent of adults aged 18 years and older who ...</td>\n",
       "      <td>21699.0</td>\n",
       "      <td>NaN</td>\n",
       "      <td>18 - 24</td>\n",
       "      <td>NaN</td>\n",
       "      <td>59</td>\n",
       "      <td>Age (years)</td>\n",
       "      <td>18 - 24</td>\n",
       "    </tr>\n",
       "    <tr>\n",
       "      <th>5</th>\n",
       "      <td>285</td>\n",
       "      <td>2014</td>\n",
       "      <td>US</td>\n",
       "      <td>National</td>\n",
       "      <td>25.1</td>\n",
       "      <td>25.1</td>\n",
       "      <td>Percent of adults aged 18 years and older who ...</td>\n",
       "      <td>21699.0</td>\n",
       "      <td>NaN</td>\n",
       "      <td>18 - 24</td>\n",
       "      <td>NaN</td>\n",
       "      <td>59</td>\n",
       "      <td>Age (years)</td>\n",
       "      <td>18 - 24</td>\n",
       "    </tr>\n",
       "  </tbody>\n",
       "</table>\n",
       "</div>"
      ],
      "text/plain": [
       "   Unnamed: 0  year state state_name  age_pc  Data_Value_Alt  \\\n",
       "0         280  2014    US   National    15.9            15.9   \n",
       "5         285  2014    US   National    25.1            25.1   \n",
       "\n",
       "                                            Question  Sample_Size  Total  \\\n",
       "0  Percent of adults aged 18 years and older who ...      21699.0    NaN   \n",
       "5  Percent of adults aged 18 years and older who ...      21699.0    NaN   \n",
       "\n",
       "       Age GeoLocation  LocationID StratificationCategory1 Stratification1  \n",
       "0  18 - 24         NaN          59             Age (years)         18 - 24  \n",
       "5  18 - 24         NaN          59             Age (years)         18 - 24  "
      ]
     },
     "execution_count": 11,
     "metadata": {},
     "output_type": "execute_result"
    }
   ],
   "source": [
    "# create filter named \"ages_18_24_in_2014_national\"\n",
    "ages_18_24_in_2014_national=age_obesity_in_US_national_2014_df[(age_obesity_in_US_national_2014_df['Age']=='18 - 24')]\n",
    "ages_18_24_in_2014_national\n"
   ]
  },
  {
   "cell_type": "code",
   "execution_count": 12,
   "metadata": {},
   "outputs": [
    {
     "data": {
      "text/plain": [
       "20.5"
      ]
     },
     "execution_count": 12,
     "metadata": {},
     "output_type": "execute_result"
    }
   ],
   "source": [
    "# create a filter \"ages_18_24_in_2014_national_avg\" to calculate the average national obesity rate for ages 18-24 in 2014\n",
    "ages_18_24_in_2014_national_avg=ages_18_24_in_2014_national['age_pc'].mean()\n",
    "ages_18_24_in_2014_national_avg\n"
   ]
  },
  {
   "cell_type": "code",
   "execution_count": 13,
   "metadata": {},
   "outputs": [
    {
     "name": "stdout",
     "output_type": "stream",
     "text": [
      "The national obesity rate average for ages 18-24 in 2014\n",
      "========================================================\n",
      "Age\n",
      "18 - 24    20.5\n",
      "Name: age_pc, dtype: float64\n"
     ]
    }
   ],
   "source": [
    "# Use \"ages_18_24_in_2014_national_avg\" filter to show the national ages 18-24 obesity rate average on chart\n",
    "ages_18_24_in_2014_national_avg=ages_18_24_in_2014_national.groupby('Age')['age_pc'].mean()\n",
    "ages_18_24_in_2014_national_avg\n",
    "title1='The national obesity rate average for ages 18-24 in 2014'\n",
    "print(\"{}\\n{}\".format(title1, '='*len(title1)))\n",
    "print(ages_18_24_in_2014_national_avg.sort_values())\n",
    "\n"
   ]
  },
  {
   "cell_type": "markdown",
   "metadata": {},
   "source": [
    "### Answer: On a national scale, 20.5% of adults ages 18-24 were obese in 2014. "
   ]
  },
  {
   "cell_type": "markdown",
   "metadata": {},
   "source": [
    "# Question 3: What was the national obesity rate for ages 35 - 44  in 2014?"
   ]
  },
  {
   "cell_type": "code",
   "execution_count": 14,
   "metadata": {},
   "outputs": [
    {
     "data": {
      "text/html": [
       "<div>\n",
       "<style scoped>\n",
       "    .dataframe tbody tr th:only-of-type {\n",
       "        vertical-align: middle;\n",
       "    }\n",
       "\n",
       "    .dataframe tbody tr th {\n",
       "        vertical-align: top;\n",
       "    }\n",
       "\n",
       "    .dataframe thead th {\n",
       "        text-align: right;\n",
       "    }\n",
       "</style>\n",
       "<table border=\"1\" class=\"dataframe\">\n",
       "  <thead>\n",
       "    <tr style=\"text-align: right;\">\n",
       "      <th></th>\n",
       "      <th>Unnamed: 0</th>\n",
       "      <th>year</th>\n",
       "      <th>state</th>\n",
       "      <th>state_name</th>\n",
       "      <th>age_pc</th>\n",
       "      <th>Data_Value_Alt</th>\n",
       "      <th>Question</th>\n",
       "      <th>Sample_Size</th>\n",
       "      <th>Total</th>\n",
       "      <th>Age</th>\n",
       "      <th>GeoLocation</th>\n",
       "      <th>LocationID</th>\n",
       "      <th>StratificationCategory1</th>\n",
       "      <th>Stratification1</th>\n",
       "    </tr>\n",
       "  </thead>\n",
       "  <tbody>\n",
       "    <tr>\n",
       "      <th>1</th>\n",
       "      <td>281</td>\n",
       "      <td>2014</td>\n",
       "      <td>US</td>\n",
       "      <td>National</td>\n",
       "      <td>32.1</td>\n",
       "      <td>32.1</td>\n",
       "      <td>Percent of adults aged 18 years and older who ...</td>\n",
       "      <td>49240.0</td>\n",
       "      <td>NaN</td>\n",
       "      <td>35 - 44</td>\n",
       "      <td>NaN</td>\n",
       "      <td>59</td>\n",
       "      <td>Age (years)</td>\n",
       "      <td>35 - 44</td>\n",
       "    </tr>\n",
       "    <tr>\n",
       "      <th>6</th>\n",
       "      <td>286</td>\n",
       "      <td>2014</td>\n",
       "      <td>US</td>\n",
       "      <td>National</td>\n",
       "      <td>36.2</td>\n",
       "      <td>36.2</td>\n",
       "      <td>Percent of adults aged 18 years and older who ...</td>\n",
       "      <td>49240.0</td>\n",
       "      <td>NaN</td>\n",
       "      <td>35 - 44</td>\n",
       "      <td>NaN</td>\n",
       "      <td>59</td>\n",
       "      <td>Age (years)</td>\n",
       "      <td>35 - 44</td>\n",
       "    </tr>\n",
       "  </tbody>\n",
       "</table>\n",
       "</div>"
      ],
      "text/plain": [
       "   Unnamed: 0  year state state_name  age_pc  Data_Value_Alt  \\\n",
       "1         281  2014    US   National    32.1            32.1   \n",
       "6         286  2014    US   National    36.2            36.2   \n",
       "\n",
       "                                            Question  Sample_Size  Total  \\\n",
       "1  Percent of adults aged 18 years and older who ...      49240.0    NaN   \n",
       "6  Percent of adults aged 18 years and older who ...      49240.0    NaN   \n",
       "\n",
       "       Age GeoLocation  LocationID StratificationCategory1 Stratification1  \n",
       "1  35 - 44         NaN          59             Age (years)         35 - 44  \n",
       "6  35 - 44         NaN          59             Age (years)         35 - 44  "
      ]
     },
     "execution_count": 14,
     "metadata": {},
     "output_type": "execute_result"
    }
   ],
   "source": [
    "# create filter named \"ages_35_44_in_2014_national\"\n",
    "ages_35_44_in_2014_national=age_obesity_in_US_national_2014_df[(age_obesity_in_US_national_2014_df['Age']=='35 - 44')]\n",
    "ages_35_44_in_2014_national\n"
   ]
  },
  {
   "cell_type": "code",
   "execution_count": 15,
   "metadata": {},
   "outputs": [
    {
     "data": {
      "text/plain": [
       "34.150000000000006"
      ]
     },
     "execution_count": 15,
     "metadata": {},
     "output_type": "execute_result"
    }
   ],
   "source": [
    "# average obesity rate for ages 35-44 in 2014\n",
    "ages_35_44_in_2014_national_avg=ages_35_44_in_2014_national['age_pc'].mean()\n",
    "ages_35_44_in_2014_national_avg\n"
   ]
  },
  {
   "cell_type": "code",
   "execution_count": 16,
   "metadata": {},
   "outputs": [
    {
     "name": "stdout",
     "output_type": "stream",
     "text": [
      "The national obesity rate average for ages 35-44 in 2014\n",
      "========================================================\n",
      "Age\n",
      "35 - 44    34.15\n",
      "Name: age_pc, dtype: float64\n"
     ]
    }
   ],
   "source": [
    "# Use \"ages_35_44_in_2014_national_avg\" filter to show the national ages 35-44 obesity rate average on chart\n",
    "ages_35_44_in_2014_national_avg=ages_35_44_in_2014_national.groupby('Age')['age_pc'].mean()\n",
    "ages_35_44_in_2014_national_avg\n",
    "title1='The national obesity rate average for ages 35-44 in 2014'\n",
    "print(\"{}\\n{}\".format(title1, '='*len(title1)))\n",
    "print(ages_35_44_in_2014_national_avg.sort_values())\n",
    "\n"
   ]
  },
  {
   "cell_type": "markdown",
   "metadata": {},
   "source": [
    "### Answer:  On a national scale, 34.15% of adults ages 35-44 were obese in 2014. "
   ]
  },
  {
   "cell_type": "markdown",
   "metadata": {},
   "source": [
    "# Question 4: What was the national obesity rate for ages 45 - 54  in 2014?"
   ]
  },
  {
   "cell_type": "code",
   "execution_count": 17,
   "metadata": {},
   "outputs": [
    {
     "data": {
      "text/html": [
       "<div>\n",
       "<style scoped>\n",
       "    .dataframe tbody tr th:only-of-type {\n",
       "        vertical-align: middle;\n",
       "    }\n",
       "\n",
       "    .dataframe tbody tr th {\n",
       "        vertical-align: top;\n",
       "    }\n",
       "\n",
       "    .dataframe thead th {\n",
       "        text-align: right;\n",
       "    }\n",
       "</style>\n",
       "<table border=\"1\" class=\"dataframe\">\n",
       "  <thead>\n",
       "    <tr style=\"text-align: right;\">\n",
       "      <th></th>\n",
       "      <th>Unnamed: 0</th>\n",
       "      <th>year</th>\n",
       "      <th>state</th>\n",
       "      <th>state_name</th>\n",
       "      <th>age_pc</th>\n",
       "      <th>Data_Value_Alt</th>\n",
       "      <th>Question</th>\n",
       "      <th>Sample_Size</th>\n",
       "      <th>Total</th>\n",
       "      <th>Age</th>\n",
       "      <th>GeoLocation</th>\n",
       "      <th>LocationID</th>\n",
       "      <th>StratificationCategory1</th>\n",
       "      <th>Stratification1</th>\n",
       "    </tr>\n",
       "  </thead>\n",
       "  <tbody>\n",
       "    <tr>\n",
       "      <th>2</th>\n",
       "      <td>282</td>\n",
       "      <td>2014</td>\n",
       "      <td>US</td>\n",
       "      <td>National</td>\n",
       "      <td>33.7</td>\n",
       "      <td>33.7</td>\n",
       "      <td>Percent of adults aged 18 years and older who ...</td>\n",
       "      <td>70884.0</td>\n",
       "      <td>NaN</td>\n",
       "      <td>45 - 54</td>\n",
       "      <td>NaN</td>\n",
       "      <td>59</td>\n",
       "      <td>Age (years)</td>\n",
       "      <td>45 - 54</td>\n",
       "    </tr>\n",
       "    <tr>\n",
       "      <th>7</th>\n",
       "      <td>287</td>\n",
       "      <td>2014</td>\n",
       "      <td>US</td>\n",
       "      <td>National</td>\n",
       "      <td>37.3</td>\n",
       "      <td>37.3</td>\n",
       "      <td>Percent of adults aged 18 years and older who ...</td>\n",
       "      <td>70884.0</td>\n",
       "      <td>NaN</td>\n",
       "      <td>45 - 54</td>\n",
       "      <td>NaN</td>\n",
       "      <td>59</td>\n",
       "      <td>Age (years)</td>\n",
       "      <td>45 - 54</td>\n",
       "    </tr>\n",
       "  </tbody>\n",
       "</table>\n",
       "</div>"
      ],
      "text/plain": [
       "   Unnamed: 0  year state state_name  age_pc  Data_Value_Alt  \\\n",
       "2         282  2014    US   National    33.7            33.7   \n",
       "7         287  2014    US   National    37.3            37.3   \n",
       "\n",
       "                                            Question  Sample_Size  Total  \\\n",
       "2  Percent of adults aged 18 years and older who ...      70884.0    NaN   \n",
       "7  Percent of adults aged 18 years and older who ...      70884.0    NaN   \n",
       "\n",
       "       Age GeoLocation  LocationID StratificationCategory1 Stratification1  \n",
       "2  45 - 54         NaN          59             Age (years)         45 - 54  \n",
       "7  45 - 54         NaN          59             Age (years)         45 - 54  "
      ]
     },
     "execution_count": 17,
     "metadata": {},
     "output_type": "execute_result"
    }
   ],
   "source": [
    "# create filter named \"ages_45_54_in_2014_national\"\n",
    "ages_45_54_in_2014_national=age_obesity_in_US_national_2014_df[(age_obesity_in_US_national_2014_df['Age']=='45 - 54')]\n",
    "ages_45_54_in_2014_national\n"
   ]
  },
  {
   "cell_type": "code",
   "execution_count": 18,
   "metadata": {},
   "outputs": [
    {
     "data": {
      "text/plain": [
       "35.5"
      ]
     },
     "execution_count": 18,
     "metadata": {},
     "output_type": "execute_result"
    }
   ],
   "source": [
    "# average obesity rate for ages 45-54 in 2014\n",
    "ages_45_54_in_2014_national_avg=ages_45_54_in_2014_national['age_pc'].mean()\n",
    "ages_45_54_in_2014_national_avg"
   ]
  },
  {
   "cell_type": "code",
   "execution_count": 19,
   "metadata": {},
   "outputs": [
    {
     "name": "stdout",
     "output_type": "stream",
     "text": [
      "The national obesity rate average for ages 45-54 in 2014\n",
      "========================================================\n",
      "Age\n",
      "45 - 54    35.5\n",
      "Name: age_pc, dtype: float64\n"
     ]
    }
   ],
   "source": [
    "# Use \"ages_45_54_in_2014_national_avg\" filter to show the national ages 45-54 obesity rate average on chart\n",
    "ages_45_54_in_2014_national_avg=ages_45_54_in_2014_national.groupby('Age')['age_pc'].mean()\n",
    "ages_45_54_in_2014_national_avg\n",
    "title1='The national obesity rate average for ages 45-54 in 2014'\n",
    "print(\"{}\\n{}\".format(title1, '='*len(title1)))\n",
    "print(ages_45_54_in_2014_national_avg.sort_values())"
   ]
  },
  {
   "cell_type": "markdown",
   "metadata": {},
   "source": [
    "### Answer:  On a national scale, 35.5% of adults ages 45-54 were obese in 2014. "
   ]
  },
  {
   "cell_type": "markdown",
   "metadata": {},
   "source": [
    "# Question 5: What was the national obesity rate for ages 55-64 in 2014?"
   ]
  },
  {
   "cell_type": "code",
   "execution_count": 20,
   "metadata": {},
   "outputs": [
    {
     "data": {
      "text/html": [
       "<div>\n",
       "<style scoped>\n",
       "    .dataframe tbody tr th:only-of-type {\n",
       "        vertical-align: middle;\n",
       "    }\n",
       "\n",
       "    .dataframe tbody tr th {\n",
       "        vertical-align: top;\n",
       "    }\n",
       "\n",
       "    .dataframe thead th {\n",
       "        text-align: right;\n",
       "    }\n",
       "</style>\n",
       "<table border=\"1\" class=\"dataframe\">\n",
       "  <thead>\n",
       "    <tr style=\"text-align: right;\">\n",
       "      <th></th>\n",
       "      <th>Unnamed: 0</th>\n",
       "      <th>year</th>\n",
       "      <th>state</th>\n",
       "      <th>state_name</th>\n",
       "      <th>age_pc</th>\n",
       "      <th>Data_Value_Alt</th>\n",
       "      <th>Question</th>\n",
       "      <th>Sample_Size</th>\n",
       "      <th>Total</th>\n",
       "      <th>Age</th>\n",
       "      <th>GeoLocation</th>\n",
       "      <th>LocationID</th>\n",
       "      <th>StratificationCategory1</th>\n",
       "      <th>Stratification1</th>\n",
       "    </tr>\n",
       "  </thead>\n",
       "  <tbody>\n",
       "    <tr>\n",
       "      <th>3</th>\n",
       "      <td>283</td>\n",
       "      <td>2014</td>\n",
       "      <td>US</td>\n",
       "      <td>National</td>\n",
       "      <td>34.2</td>\n",
       "      <td>34.2</td>\n",
       "      <td>Percent of adults aged 18 years and older who ...</td>\n",
       "      <td>96564.0</td>\n",
       "      <td>NaN</td>\n",
       "      <td>55 - 64</td>\n",
       "      <td>NaN</td>\n",
       "      <td>59</td>\n",
       "      <td>Age (years)</td>\n",
       "      <td>55 - 64</td>\n",
       "    </tr>\n",
       "    <tr>\n",
       "      <th>8</th>\n",
       "      <td>288</td>\n",
       "      <td>2014</td>\n",
       "      <td>US</td>\n",
       "      <td>National</td>\n",
       "      <td>37.6</td>\n",
       "      <td>37.6</td>\n",
       "      <td>Percent of adults aged 18 years and older who ...</td>\n",
       "      <td>96564.0</td>\n",
       "      <td>NaN</td>\n",
       "      <td>55 - 64</td>\n",
       "      <td>NaN</td>\n",
       "      <td>59</td>\n",
       "      <td>Age (years)</td>\n",
       "      <td>55 - 64</td>\n",
       "    </tr>\n",
       "  </tbody>\n",
       "</table>\n",
       "</div>"
      ],
      "text/plain": [
       "   Unnamed: 0  year state state_name  age_pc  Data_Value_Alt  \\\n",
       "3         283  2014    US   National    34.2            34.2   \n",
       "8         288  2014    US   National    37.6            37.6   \n",
       "\n",
       "                                            Question  Sample_Size  Total  \\\n",
       "3  Percent of adults aged 18 years and older who ...      96564.0    NaN   \n",
       "8  Percent of adults aged 18 years and older who ...      96564.0    NaN   \n",
       "\n",
       "       Age GeoLocation  LocationID StratificationCategory1 Stratification1  \n",
       "3  55 - 64         NaN          59             Age (years)         55 - 64  \n",
       "8  55 - 64         NaN          59             Age (years)         55 - 64  "
      ]
     },
     "execution_count": 20,
     "metadata": {},
     "output_type": "execute_result"
    }
   ],
   "source": [
    "# create filter named \"ages_55_64_in_2014_national\"\n",
    "ages_55_64_in_2014_national=age_obesity_in_US_national_2014_df[(age_obesity_in_US_national_2014_df['Age']=='55 - 64')]\n",
    "ages_55_64_in_2014_national\n",
    "\n"
   ]
  },
  {
   "cell_type": "code",
   "execution_count": 21,
   "metadata": {},
   "outputs": [
    {
     "data": {
      "text/plain": [
       "35.900000000000006"
      ]
     },
     "execution_count": 21,
     "metadata": {},
     "output_type": "execute_result"
    }
   ],
   "source": [
    "# average obesity rate for ages 55-64 in 2014\n",
    "ages_55_64_in_2014_national_avg=ages_55_64_in_2014_national['age_pc'].mean()\n",
    "ages_55_64_in_2014_national_avg"
   ]
  },
  {
   "cell_type": "code",
   "execution_count": 22,
   "metadata": {},
   "outputs": [
    {
     "name": "stdout",
     "output_type": "stream",
     "text": [
      "The national obesity rate average for ages 55-64 in 2014\n",
      "========================================================\n",
      "Age\n",
      "55 - 64    35.9\n",
      "Name: age_pc, dtype: float64\n"
     ]
    }
   ],
   "source": [
    "# Use \"ages_55_64_in_2014_national_avg\" filter to show the national ages 55-64 obesity rate average on chart\n",
    "ages_55_64_in_2014_national_avg=ages_55_64_in_2014_national.groupby('Age')['age_pc'].mean()\n",
    "ages_55_64_in_2014_national_avg\n",
    "title1='The national obesity rate average for ages 55-64 in 2014'\n",
    "print(\"{}\\n{}\".format(title1, '='*len(title1)))\n",
    "print(ages_55_64_in_2014_national_avg.sort_values())"
   ]
  },
  {
   "cell_type": "markdown",
   "metadata": {},
   "source": [
    "### Answer:  On a national scale, 35.9% of adults ages 55-64 were obese in 2014. "
   ]
  },
  {
   "cell_type": "markdown",
   "metadata": {},
   "source": [
    "# Question 6: What was the national obesity rate for ages 65 or older in 2014?"
   ]
  },
  {
   "cell_type": "code",
   "execution_count": 23,
   "metadata": {},
   "outputs": [
    {
     "data": {
      "text/html": [
       "<div>\n",
       "<style scoped>\n",
       "    .dataframe tbody tr th:only-of-type {\n",
       "        vertical-align: middle;\n",
       "    }\n",
       "\n",
       "    .dataframe tbody tr th {\n",
       "        vertical-align: top;\n",
       "    }\n",
       "\n",
       "    .dataframe thead th {\n",
       "        text-align: right;\n",
       "    }\n",
       "</style>\n",
       "<table border=\"1\" class=\"dataframe\">\n",
       "  <thead>\n",
       "    <tr style=\"text-align: right;\">\n",
       "      <th></th>\n",
       "      <th>Unnamed: 0</th>\n",
       "      <th>year</th>\n",
       "      <th>state</th>\n",
       "      <th>state_name</th>\n",
       "      <th>age_pc</th>\n",
       "      <th>Data_Value_Alt</th>\n",
       "      <th>Question</th>\n",
       "      <th>Sample_Size</th>\n",
       "      <th>Total</th>\n",
       "      <th>Age</th>\n",
       "      <th>GeoLocation</th>\n",
       "      <th>LocationID</th>\n",
       "      <th>StratificationCategory1</th>\n",
       "      <th>Stratification1</th>\n",
       "    </tr>\n",
       "  </thead>\n",
       "  <tbody>\n",
       "    <tr>\n",
       "      <th>4</th>\n",
       "      <td>284</td>\n",
       "      <td>2014</td>\n",
       "      <td>US</td>\n",
       "      <td>National</td>\n",
       "      <td>27.5</td>\n",
       "      <td>27.5</td>\n",
       "      <td>Percent of adults aged 18 years and older who ...</td>\n",
       "      <td>148971.0</td>\n",
       "      <td>NaN</td>\n",
       "      <td>65 or older</td>\n",
       "      <td>NaN</td>\n",
       "      <td>59</td>\n",
       "      <td>Age (years)</td>\n",
       "      <td>65 or older</td>\n",
       "    </tr>\n",
       "    <tr>\n",
       "      <th>9</th>\n",
       "      <td>289</td>\n",
       "      <td>2014</td>\n",
       "      <td>US</td>\n",
       "      <td>National</td>\n",
       "      <td>39.0</td>\n",
       "      <td>39.0</td>\n",
       "      <td>Percent of adults aged 18 years and older who ...</td>\n",
       "      <td>148971.0</td>\n",
       "      <td>NaN</td>\n",
       "      <td>65 or older</td>\n",
       "      <td>NaN</td>\n",
       "      <td>59</td>\n",
       "      <td>Age (years)</td>\n",
       "      <td>65 or older</td>\n",
       "    </tr>\n",
       "  </tbody>\n",
       "</table>\n",
       "</div>"
      ],
      "text/plain": [
       "   Unnamed: 0  year state state_name  age_pc  Data_Value_Alt  \\\n",
       "4         284  2014    US   National    27.5            27.5   \n",
       "9         289  2014    US   National    39.0            39.0   \n",
       "\n",
       "                                            Question  Sample_Size  Total  \\\n",
       "4  Percent of adults aged 18 years and older who ...     148971.0    NaN   \n",
       "9  Percent of adults aged 18 years and older who ...     148971.0    NaN   \n",
       "\n",
       "           Age GeoLocation  LocationID StratificationCategory1 Stratification1  \n",
       "4  65 or older         NaN          59             Age (years)     65 or older  \n",
       "9  65 or older         NaN          59             Age (years)     65 or older  "
      ]
     },
     "execution_count": 23,
     "metadata": {},
     "output_type": "execute_result"
    }
   ],
   "source": [
    "# create filter named \"ages_65_older_in_2014_national\"\n",
    "ages_65_older_in_2014_national=age_obesity_in_US_national_2014_df[(age_obesity_in_US_national_2014_df['Age']=='65 or older')]\n",
    "ages_65_older_in_2014_national\n"
   ]
  },
  {
   "cell_type": "code",
   "execution_count": 24,
   "metadata": {},
   "outputs": [
    {
     "data": {
      "text/plain": [
       "33.25"
      ]
     },
     "execution_count": 24,
     "metadata": {},
     "output_type": "execute_result"
    }
   ],
   "source": [
    "# average obesity rate for ages 65 or older in 2014\n",
    "ages_65_older_in_2014_national_avg=ages_65_older_in_2014_national['age_pc'].mean()\n",
    "ages_65_older_in_2014_national_avg"
   ]
  },
  {
   "cell_type": "code",
   "execution_count": 25,
   "metadata": {},
   "outputs": [
    {
     "name": "stdout",
     "output_type": "stream",
     "text": [
      "The national obesity rate average for ages 65 or older in 2014\n",
      "==============================================================\n",
      "Age\n",
      "65 or older    33.25\n",
      "Name: age_pc, dtype: float64\n"
     ]
    }
   ],
   "source": [
    "# Use \"ages_65_older_in_2014_national_avg\" filter to show the national ages 65 or older obesity rate average on chart\n",
    "ages_65_older_in_2014_national_avg=ages_65_older_in_2014_national.groupby('Age')['age_pc'].mean()\n",
    "ages_65_older_in_2014_national_avg\n",
    "title1='The national obesity rate average for ages 65 or older in 2014'\n",
    "print(\"{}\\n{}\".format(title1, '='*len(title1)))\n",
    "print(ages_65_older_in_2014_national_avg.sort_values())\n"
   ]
  },
  {
   "cell_type": "markdown",
   "metadata": {},
   "source": [
    "### Answer:  On a national scale, 33.25% of adults ages 65 or older were obese in 2014. "
   ]
  },
  {
   "cell_type": "markdown",
   "metadata": {},
   "source": [
    "# Question 7: National Obesity Rates by Age in 2014"
   ]
  },
  {
   "cell_type": "code",
   "execution_count": 26,
   "metadata": {},
   "outputs": [],
   "source": [
    "# create filter named \"list_of_dfs\" to bring all of the age group data frames for 2014 together  \n",
    "# create filter named \"combined_df_age_2014\" to bring all the national obesity rates per age group together\n",
    "\n",
    "list_of_dfs = [ages_18_24_in_2014_national_avg,\n",
    "               ages_35_44_in_2014_national_avg,\n",
    "               ages_45_54_in_2014_national_avg,\n",
    "               ages_55_64_in_2014_national_avg,\n",
    "               ages_65_older_in_2014_national_avg]\n",
    "\n",
    "combined_df_age_2014 = pd.concat(list_of_dfs)"
   ]
  },
  {
   "cell_type": "code",
   "execution_count": 27,
   "metadata": {},
   "outputs": [
    {
     "data": {
      "text/plain": [
       "<AxesSubplot:xlabel='Age'>"
      ]
     },
     "execution_count": 27,
     "metadata": {},
     "output_type": "execute_result"
    },
    {
     "data": {
      "image/png": "[encoded data removed]",
      "text/plain": [
       "<Figure size 432x288 with 1 Axes>"
      ]
     },
     "metadata": {
      "needs_background": "light"
     },
     "output_type": "display_data"
    }
   ],
   "source": [
    "# plot a graph of the age groups obesity rates\n",
    "combined_df_age_2014.plot(kind='bar', color='violet')"
   ]
  },
  {
   "cell_type": "markdown",
   "metadata": {},
   "source": [
    "In 2014, 55-64 year olds were the most obese"
   ]
  },
  {
   "cell_type": "markdown",
   "metadata": {},
   "source": [
    "# Conclusion\n",
    "\n",
    "- The national obesity rate average in 2014 was 31.86%\n",
    "- On a national scale, 20.5% of adults ages 18-24 were obese in 2014\n",
    "- On a national scale, 34.15% of adults ages 35-44 were obese in 2014.\n",
    "- On a national scale, 35.5% of adults ages 45-54 were obese in 2014\n",
    "- On a national scale, 35.9% of adults ages 55-64 were obese in 2014\n",
    "- On a national scale, 33.25% of adults ages 65 or older were obese in 2014.\n"
   ]
  }
 ],
 "metadata": {
  "kernelspec": {
   "display_name": "Python 3",
   "language": "python",
   "name": "python3"
  },
  "language_info": {
   "codemirror_mode": {
    "name": "ipython",
    "version": 3
   },
   "file_extension": ".py",
   "mimetype": "text/x-python",
   "name": "python",
   "nbconvert_exporter": "python",
   "pygments_lexer": "ipython3",
   "version": "3.7.3"
  }
 },
 "nbformat": 4,
 "nbformat_minor": 2
}
