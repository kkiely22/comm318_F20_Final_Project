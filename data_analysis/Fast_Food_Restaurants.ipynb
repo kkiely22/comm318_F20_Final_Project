{
 "cells": [
  {
   "cell_type": "markdown",
   "metadata": {},
   "source": [
    "# Fast Food Restaurants\n",
    "- This data shows the types of fast food places and their locations across America. With this data, we can see where fast food restaurants are more populated per 10,000 residents\n",
    "- This notebook is looking at total fast food restaurant:S\n",
    "   - states with the most fast food restaurants\n",
    "   - states with the least fast food restaurants\n",
    "   - most popular fast food restaurants "
   ]
  },
  {
   "cell_type": "markdown",
   "metadata": {},
   "source": [
    "# Setup"
   ]
  },
  {
   "cell_type": "code",
   "execution_count": 1,
   "metadata": {},
   "outputs": [],
   "source": [
    "import pandas as pd\n",
    "import matplotlib.pyplot as plt\n",
    "import numpy.random as np\n",
    "import sys\n",
    "import matplotlib \n",
    "import seaborn as sns\n",
    "import numpy as np"
   ]
  },
  {
   "cell_type": "markdown",
   "metadata": {},
   "source": [
    "# Import Data"
   ]
  },
  {
   "cell_type": "code",
   "execution_count": 2,
   "metadata": {},
   "outputs": [],
   "source": [
    "fast_food = pd.read_csv('../data/Clean Data/restaurants_bystate2.csv')"
   ]
  },
  {
   "cell_type": "code",
   "execution_count": 3,
   "metadata": {},
   "outputs": [
    {
     "data": {
      "text/plain": [
       "(398,)"
      ]
     },
     "execution_count": 3,
     "metadata": {},
     "output_type": "execute_result"
    }
   ],
   "source": [
    "fast_food['Restaurant'].unique().shape"
   ]
  },
  {
   "cell_type": "markdown",
   "metadata": {},
   "source": [
    "This data represents 398 different fast food restaurants"
   ]
  },
  {
   "cell_type": "markdown",
   "metadata": {},
   "source": [
    "# Questions\n",
    "#### Question 1: What are the top 20 restaurants across the United States?\n",
    "Steps:\n",
    "   - create filter fastfood_dist WITH RESTAURANT COUNT\n",
    "   - create filter named \"restaurant_mean\"to sort the restaurants \n",
    "   - create filter named \"top5_restaurants\" and use \"restaurant_mean\" to choose the top states  \n",
    "   - create filter named \"bottom5_restaurants\" and use \"restaurant_mean\" to choose the bottom states \n",
    "\n",
    "#### Question 2: What states have the most total fast food restaurants?\n",
    "Steps: \n",
    "   - create filter named \"stateplt\" and use \"top10_states\" to plot the top 10 states\n",
    "\n",
    "#### Question 3: What states have the least total fast food restaurants?\n",
    "Steps:\n",
    "   - create filter named \"stateplt\" and use \"bottom10_states\" to plot the top 10 states\n",
    "\n",
    "#### Question 4: What state has the most total McDonald's?\n",
    "Steps: \n",
    "   - create \"mcd_filter\" to count McDonald's restaruants \n",
    "   - use \"mcd_filter\" to find the state with the most McDonald's restaurants"
   ]
  },
  {
   "cell_type": "markdown",
   "metadata": {},
   "source": [
    "# Q1. What are the top 20 restaurants across the United States?\n",
    "- Steps:\n",
    "    1. create filter fastfood_dist\n",
    "    2. count restaurants\n",
    "    3. plot"
   ]
  },
  {
   "cell_type": "code",
   "execution_count": 4,
   "metadata": {},
   "outputs": [
    {
     "data": {
      "text/plain": [
       "Text(0, 0.5, 'Number of restaurants')"
      ]
     },
     "execution_count": 4,
     "metadata": {},
     "output_type": "execute_result"
    },
    {
     "data": {
      "image/png": "[encoded data removed]",
      "text/plain": [
       "<Figure size 432x288 with 1 Axes>"
      ]
     },
     "metadata": {
      "needs_background": "light"
     },
     "output_type": "display_data"
    }
   ],
   "source": [
    "# create filter fastfood_dist WITH RESTAURANT COUNT\n",
    "fastfood_dist = fast_food['Restaurant'].value_counts()[:20]\n",
    "fastfood_dist.plot(kind='bar')\n",
    "plt.title(\"The Distribution of top 20 restaurants across 50 states\")\n",
    "plt.xlabel(\"Restaurant\")\n",
    "plt.ylabel(\"Number of restaurants\")"
   ]
  },
  {
   "cell_type": "code",
   "execution_count": 5,
   "metadata": {},
   "outputs": [
    {
     "name": "stdout",
     "output_type": "stream",
     "text": [
      "The top and bottom fast food restaurants.\n",
      "\n",
      "The top 5 restaurants are McDonald's, Burger King, Taco Bell, Wendy's, Arby's\n",
      "The bottom 5 restaurants are Nathan's Famous, Nick's Burgers, Nick's Gyros, Nielsen's Frozen Custard, 31st Avenue Gyro\n"
     ]
    },
    {
     "data": {
      "text/html": [
       "<div>\n",
       "<style scoped>\n",
       "    .dataframe tbody tr th:only-of-type {\n",
       "        vertical-align: middle;\n",
       "    }\n",
       "\n",
       "    .dataframe tbody tr th {\n",
       "        vertical-align: top;\n",
       "    }\n",
       "\n",
       "    .dataframe thead th {\n",
       "        text-align: right;\n",
       "    }\n",
       "</style>\n",
       "<table border=\"1\" class=\"dataframe\">\n",
       "  <thead>\n",
       "    <tr style=\"text-align: right;\">\n",
       "      <th></th>\n",
       "      <th>0</th>\n",
       "    </tr>\n",
       "    <tr>\n",
       "      <th>Restaurant</th>\n",
       "      <th></th>\n",
       "    </tr>\n",
       "  </thead>\n",
       "  <tbody>\n",
       "    <tr>\n",
       "      <th>McDonald's</th>\n",
       "      <td>2060</td>\n",
       "    </tr>\n",
       "    <tr>\n",
       "      <th>Burger King</th>\n",
       "      <td>1129</td>\n",
       "    </tr>\n",
       "    <tr>\n",
       "      <th>Taco Bell</th>\n",
       "      <td>849</td>\n",
       "    </tr>\n",
       "    <tr>\n",
       "      <th>Wendy's</th>\n",
       "      <td>714</td>\n",
       "    </tr>\n",
       "    <tr>\n",
       "      <th>Arby's</th>\n",
       "      <td>510</td>\n",
       "    </tr>\n",
       "    <tr>\n",
       "      <th>...</th>\n",
       "      <td>...</td>\n",
       "    </tr>\n",
       "    <tr>\n",
       "      <th>Samurai Sam's</th>\n",
       "      <td>1</td>\n",
       "    </tr>\n",
       "    <tr>\n",
       "      <th>Rich's Mighty Fine Burgers Grub</th>\n",
       "      <td>1</td>\n",
       "    </tr>\n",
       "    <tr>\n",
       "      <th>Richie's Restaurant</th>\n",
       "      <td>1</td>\n",
       "    </tr>\n",
       "    <tr>\n",
       "      <th>Rocky's</th>\n",
       "      <td>1</td>\n",
       "    </tr>\n",
       "    <tr>\n",
       "      <th>Chickenow</th>\n",
       "      <td>1</td>\n",
       "    </tr>\n",
       "  </tbody>\n",
       "</table>\n",
       "<p>397 rows × 1 columns</p>\n",
       "</div>"
      ],
      "text/plain": [
       "                                    0\n",
       "Restaurant                           \n",
       "McDonald's                       2060\n",
       "Burger King                      1129\n",
       "Taco Bell                         849\n",
       "Wendy's                           714\n",
       "Arby's                            510\n",
       "...                               ...\n",
       "Samurai Sam's                       1\n",
       "Rich's Mighty Fine Burgers Grub     1\n",
       "Richie's Restaurant                 1\n",
       "Rocky's                             1\n",
       "Chickenow                           1\n",
       "\n",
       "[397 rows x 1 columns]"
      ]
     },
     "execution_count": 5,
     "metadata": {},
     "output_type": "execute_result"
    }
   ],
   "source": [
    "# create filter named \"restaurant_mean\"to sort the restaurants \n",
    "# create filter named \"top5_restaurants\" and use \"restaurant_mean\" to choose the top states  \n",
    "# create filter named \"bottom5_restaurants\" and use \"restaurant_mean\" to choose the bottom states   \n",
    "restaurant_mean = fast_food.groupby('Restaurant').size().sort_values(ascending=False)\n",
    "top5_restaurants = restaurant_mean.head(5)\n",
    "bottom5_restaurants = restaurant_mean.tail(5)\n",
    "\n",
    "print(\"The top and bottom fast food restaurants.\\n\")\n",
    "print(f\"The top 5 restaurants are { ', '.join(top5_restaurants.index)}\")\n",
    "print(f\"The bottom 5 restaurants are { ', '.join(bottom5_restaurants.index)}\")\n",
    "restaurant_mean.sort_values(ascending=False).to_frame()"
   ]
  },
  {
   "cell_type": "markdown",
   "metadata": {},
   "source": [
    "##### Answer: McDonald's, Burger King, Taco Bell, Wendy's, and Arby's are the most popular fast food restaurants. Nathan's Famous, Nick's Burgers, Nick's Gyros, Nielsen's Frozen Custard, 31st Avenue Gyro are the least popular fast food restaurants."
   ]
  },
  {
   "cell_type": "markdown",
   "metadata": {},
   "source": [
    "# Fast Food Restaurants Across the States"
   ]
  },
  {
   "cell_type": "code",
   "execution_count": 6,
   "metadata": {},
   "outputs": [
    {
     "name": "stdout",
     "output_type": "stream",
     "text": [
      "The top and bottom states of fast food restaurants.\n",
      "\n",
      "The top 5 states are CA, TX, OH, FL, IN, IL, NC, GA, MO, KY\n",
      "The bottom 5 states are ME, VT, WY, HI, NH, DE, MT, RI, DC, AK\n"
     ]
    },
    {
     "data": {
      "text/html": [
       "<div>\n",
       "<style scoped>\n",
       "    .dataframe tbody tr th:only-of-type {\n",
       "        vertical-align: middle;\n",
       "    }\n",
       "\n",
       "    .dataframe tbody tr th {\n",
       "        vertical-align: top;\n",
       "    }\n",
       "\n",
       "    .dataframe thead th {\n",
       "        text-align: right;\n",
       "    }\n",
       "</style>\n",
       "<table border=\"1\" class=\"dataframe\">\n",
       "  <thead>\n",
       "    <tr style=\"text-align: right;\">\n",
       "      <th></th>\n",
       "      <th>0</th>\n",
       "    </tr>\n",
       "    <tr>\n",
       "      <th>State</th>\n",
       "      <th></th>\n",
       "    </tr>\n",
       "  </thead>\n",
       "  <tbody>\n",
       "    <tr>\n",
       "      <th>CA</th>\n",
       "      <td>676</td>\n",
       "    </tr>\n",
       "    <tr>\n",
       "      <th>TX</th>\n",
       "      <td>634</td>\n",
       "    </tr>\n",
       "    <tr>\n",
       "      <th>OH</th>\n",
       "      <td>543</td>\n",
       "    </tr>\n",
       "    <tr>\n",
       "      <th>FL</th>\n",
       "      <td>471</td>\n",
       "    </tr>\n",
       "    <tr>\n",
       "      <th>IN</th>\n",
       "      <td>379</td>\n",
       "    </tr>\n",
       "    <tr>\n",
       "      <th>IL</th>\n",
       "      <td>363</td>\n",
       "    </tr>\n",
       "    <tr>\n",
       "      <th>NC</th>\n",
       "      <td>358</td>\n",
       "    </tr>\n",
       "    <tr>\n",
       "      <th>GA</th>\n",
       "      <td>347</td>\n",
       "    </tr>\n",
       "    <tr>\n",
       "      <th>MO</th>\n",
       "      <td>334</td>\n",
       "    </tr>\n",
       "    <tr>\n",
       "      <th>KY</th>\n",
       "      <td>332</td>\n",
       "    </tr>\n",
       "    <tr>\n",
       "      <th>VA</th>\n",
       "      <td>327</td>\n",
       "    </tr>\n",
       "    <tr>\n",
       "      <th>PA</th>\n",
       "      <td>283</td>\n",
       "    </tr>\n",
       "    <tr>\n",
       "      <th>NY</th>\n",
       "      <td>269</td>\n",
       "    </tr>\n",
       "    <tr>\n",
       "      <th>MI</th>\n",
       "      <td>251</td>\n",
       "    </tr>\n",
       "    <tr>\n",
       "      <th>TN</th>\n",
       "      <td>245</td>\n",
       "    </tr>\n",
       "    <tr>\n",
       "      <th>SC</th>\n",
       "      <td>238</td>\n",
       "    </tr>\n",
       "    <tr>\n",
       "      <th>AL</th>\n",
       "      <td>236</td>\n",
       "    </tr>\n",
       "    <tr>\n",
       "      <th>WA</th>\n",
       "      <td>209</td>\n",
       "    </tr>\n",
       "    <tr>\n",
       "      <th>OK</th>\n",
       "      <td>208</td>\n",
       "    </tr>\n",
       "    <tr>\n",
       "      <th>AZ</th>\n",
       "      <td>208</td>\n",
       "    </tr>\n",
       "    <tr>\n",
       "      <th>WI</th>\n",
       "      <td>186</td>\n",
       "    </tr>\n",
       "    <tr>\n",
       "      <th>IA</th>\n",
       "      <td>166</td>\n",
       "    </tr>\n",
       "    <tr>\n",
       "      <th>UT</th>\n",
       "      <td>159</td>\n",
       "    </tr>\n",
       "    <tr>\n",
       "      <th>MD</th>\n",
       "      <td>159</td>\n",
       "    </tr>\n",
       "    <tr>\n",
       "      <th>CO</th>\n",
       "      <td>158</td>\n",
       "    </tr>\n",
       "    <tr>\n",
       "      <th>AR</th>\n",
       "      <td>151</td>\n",
       "    </tr>\n",
       "    <tr>\n",
       "      <th>NJ</th>\n",
       "      <td>151</td>\n",
       "    </tr>\n",
       "    <tr>\n",
       "      <th>NM</th>\n",
       "      <td>149</td>\n",
       "    </tr>\n",
       "    <tr>\n",
       "      <th>MN</th>\n",
       "      <td>148</td>\n",
       "    </tr>\n",
       "    <tr>\n",
       "      <th>NV</th>\n",
       "      <td>135</td>\n",
       "    </tr>\n",
       "    <tr>\n",
       "      <th>MA</th>\n",
       "      <td>131</td>\n",
       "    </tr>\n",
       "    <tr>\n",
       "      <th>OR</th>\n",
       "      <td>114</td>\n",
       "    </tr>\n",
       "    <tr>\n",
       "      <th>SD</th>\n",
       "      <td>105</td>\n",
       "    </tr>\n",
       "    <tr>\n",
       "      <th>KS</th>\n",
       "      <td>103</td>\n",
       "    </tr>\n",
       "    <tr>\n",
       "      <th>ID</th>\n",
       "      <td>99</td>\n",
       "    </tr>\n",
       "    <tr>\n",
       "      <th>CT</th>\n",
       "      <td>96</td>\n",
       "    </tr>\n",
       "    <tr>\n",
       "      <th>WV</th>\n",
       "      <td>93</td>\n",
       "    </tr>\n",
       "    <tr>\n",
       "      <th>NE</th>\n",
       "      <td>92</td>\n",
       "    </tr>\n",
       "    <tr>\n",
       "      <th>MS</th>\n",
       "      <td>82</td>\n",
       "    </tr>\n",
       "    <tr>\n",
       "      <th>ND</th>\n",
       "      <td>50</td>\n",
       "    </tr>\n",
       "    <tr>\n",
       "      <th>ME</th>\n",
       "      <td>44</td>\n",
       "    </tr>\n",
       "    <tr>\n",
       "      <th>VT</th>\n",
       "      <td>43</td>\n",
       "    </tr>\n",
       "    <tr>\n",
       "      <th>WY</th>\n",
       "      <td>41</td>\n",
       "    </tr>\n",
       "    <tr>\n",
       "      <th>HI</th>\n",
       "      <td>40</td>\n",
       "    </tr>\n",
       "    <tr>\n",
       "      <th>NH</th>\n",
       "      <td>36</td>\n",
       "    </tr>\n",
       "    <tr>\n",
       "      <th>DE</th>\n",
       "      <td>32</td>\n",
       "    </tr>\n",
       "    <tr>\n",
       "      <th>MT</th>\n",
       "      <td>25</td>\n",
       "    </tr>\n",
       "    <tr>\n",
       "      <th>RI</th>\n",
       "      <td>24</td>\n",
       "    </tr>\n",
       "    <tr>\n",
       "      <th>DC</th>\n",
       "      <td>21</td>\n",
       "    </tr>\n",
       "    <tr>\n",
       "      <th>AK</th>\n",
       "      <td>14</td>\n",
       "    </tr>\n",
       "  </tbody>\n",
       "</table>\n",
       "</div>"
      ],
      "text/plain": [
       "         0\n",
       "State     \n",
       "CA     676\n",
       "TX     634\n",
       "OH     543\n",
       "FL     471\n",
       "IN     379\n",
       "IL     363\n",
       "NC     358\n",
       "GA     347\n",
       "MO     334\n",
       "KY     332\n",
       "VA     327\n",
       "PA     283\n",
       "NY     269\n",
       "MI     251\n",
       "TN     245\n",
       "SC     238\n",
       "AL     236\n",
       "WA     209\n",
       "OK     208\n",
       "AZ     208\n",
       "WI     186\n",
       "IA     166\n",
       "UT     159\n",
       "MD     159\n",
       "CO     158\n",
       "AR     151\n",
       "NJ     151\n",
       "NM     149\n",
       "MN     148\n",
       "NV     135\n",
       "MA     131\n",
       "OR     114\n",
       "SD     105\n",
       "KS     103\n",
       "ID      99\n",
       "CT      96\n",
       "WV      93\n",
       "NE      92\n",
       "MS      82\n",
       "ND      50\n",
       "ME      44\n",
       "VT      43\n",
       "WY      41\n",
       "HI      40\n",
       "NH      36\n",
       "DE      32\n",
       "MT      25\n",
       "RI      24\n",
       "DC      21\n",
       "AK      14"
      ]
     },
     "execution_count": 6,
     "metadata": {},
     "output_type": "execute_result"
    }
   ],
   "source": [
    "# create filter named \"state_mean\"to sort the states and how many restaurants they have \n",
    "# create filter named \"top10_states\" and use \"state_mean\" to choose the top states  \n",
    "# create filter named \"bottom10_states\" and use \"state_mean\" to choose the bottom states \n",
    "\n",
    "state_mean = fast_food.groupby('State').size().sort_values(ascending=False)\n",
    "top10_states = state_mean.head(10)\n",
    "bottom10_states = state_mean.tail(10)\n",
    "\n",
    "print(\"The top and bottom states of fast food restaurants.\\n\")\n",
    "print(f\"The top 5 states are { ', '.join(top10_states.index)}\")\n",
    "print(f\"The bottom 5 states are { ', '.join(bottom10_states.index)}\")\n",
    "state_mean.sort_values(ascending=False).to_frame()"
   ]
  },
  {
   "cell_type": "markdown",
   "metadata": {},
   "source": [
    "# Q2. What states have the most total fast food restaurants?"
   ]
  },
  {
   "cell_type": "code",
   "execution_count": 7,
   "metadata": {},
   "outputs": [
    {
     "data": {
      "text/plain": [
       "Text(0, 0.5, 'count')"
      ]
     },
     "execution_count": 7,
     "metadata": {},
     "output_type": "execute_result"
    },
    {
     "data": {
      "image/png": "[encoded data removed]",
      "text/plain": [
       "<Figure size 432x288 with 1 Axes>"
      ]
     },
     "metadata": {
      "needs_background": "light"
     },
     "output_type": "display_data"
    }
   ],
   "source": [
    "# create filter named \"stateplt\" and use \"top10_states\" to plot the top 10 states\n",
    "\n",
    "stateplt=top10_states.plot.bar(title='Top 10 States')\n",
    "stateplt.set_xlabel('State',size=15)\n",
    "stateplt.set_ylabel('count',size=15)"
   ]
  },
  {
   "cell_type": "markdown",
   "metadata": {},
   "source": [
    "#### Answer: California, Texas, Ohio, Florida, Indiana have the most total fast food restaurants"
   ]
  },
  {
   "cell_type": "markdown",
   "metadata": {},
   "source": [
    "# Q3. What states have the least total fast food restaurants?"
   ]
  },
  {
   "cell_type": "code",
   "execution_count": 8,
   "metadata": {},
   "outputs": [
    {
     "data": {
      "text/plain": [
       "Text(0, 0.5, 'count')"
      ]
     },
     "execution_count": 8,
     "metadata": {},
     "output_type": "execute_result"
    },
    {
     "data": {
      "image/png": "[encoded data removed]",
      "text/plain": [
       "<Figure size 432x288 with 1 Axes>"
      ]
     },
     "metadata": {
      "needs_background": "light"
     },
     "output_type": "display_data"
    }
   ],
   "source": [
    "# create filter named \"stateplt\" and use \"top10_states\" to plot the top 10 states\n",
    "stateplt=bottom10_states.plot.bar(title='Bottom 5 States')\n",
    "stateplt.set_xlabel('State',size=15)\n",
    "stateplt.set_ylabel('count',size=15)"
   ]
  },
  {
   "cell_type": "markdown",
   "metadata": {},
   "source": [
    "#### Answer: Arkansas, Rhode Island, Montana, Delaware, and New Hampshire have the least total fast food restaurants"
   ]
  },
  {
   "cell_type": "markdown",
   "metadata": {},
   "source": [
    "# Q. 4 What state has the most McDonald's?"
   ]
  },
  {
   "cell_type": "code",
   "execution_count": 9,
   "metadata": {},
   "outputs": [
    {
     "data": {
      "text/plain": [
       "McDonald's                               2060\n",
       "Burger King                              1129\n",
       "Taco Bell                                 849\n",
       "Wendy's                                   714\n",
       "Arby's                                    510\n",
       "KFC                                       454\n",
       "Subway                                    406\n",
       "SONIC Drive-In                            356\n",
       "Domino's Pizza                            355\n",
       "Hardee's                                  213\n",
       "Jack In The Box                           201\n",
       "Jimmy John's                              164\n",
       "Chick-Fil-A                               144\n",
       "Pizza Hut                                 127\n",
       "Bojangles' Famous Chicken 'n Biscuits     126\n",
       "Carl's Jr                                 101\n",
       "Five Guys                                  95\n",
       "Dairy Queen                                91\n",
       "Whataburger                                85\n",
       "Taco John's                                77\n",
       "Name: Restaurant, dtype: int64"
      ]
     },
     "execution_count": 9,
     "metadata": {},
     "output_type": "execute_result"
    }
   ],
   "source": [
    "# show the top 20 restaurants\n",
    "fast_food['Restaurant'].value_counts()[:20]"
   ]
  },
  {
   "cell_type": "code",
   "execution_count": 10,
   "metadata": {},
   "outputs": [
    {
     "data": {
      "text/html": [
       "<div>\n",
       "<style scoped>\n",
       "    .dataframe tbody tr th:only-of-type {\n",
       "        vertical-align: middle;\n",
       "    }\n",
       "\n",
       "    .dataframe tbody tr th {\n",
       "        vertical-align: top;\n",
       "    }\n",
       "\n",
       "    .dataframe thead th {\n",
       "        text-align: right;\n",
       "    }\n",
       "</style>\n",
       "<table border=\"1\" class=\"dataframe\">\n",
       "  <thead>\n",
       "    <tr style=\"text-align: right;\">\n",
       "      <th></th>\n",
       "      <th>Unnamed: 0</th>\n",
       "      <th>City</th>\n",
       "      <th>State</th>\n",
       "      <th>Restaurant</th>\n",
       "    </tr>\n",
       "  </thead>\n",
       "  <tbody>\n",
       "    <tr>\n",
       "      <th>0</th>\n",
       "      <td>0</td>\n",
       "      <td>Massena</td>\n",
       "      <td>NY</td>\n",
       "      <td>McDonald's</td>\n",
       "    </tr>\n",
       "    <tr>\n",
       "      <th>3</th>\n",
       "      <td>3</td>\n",
       "      <td>Massena</td>\n",
       "      <td>NY</td>\n",
       "      <td>McDonald's</td>\n",
       "    </tr>\n",
       "    <tr>\n",
       "      <th>7</th>\n",
       "      <td>7</td>\n",
       "      <td>Saluda</td>\n",
       "      <td>SC</td>\n",
       "      <td>McDonald's</td>\n",
       "    </tr>\n",
       "    <tr>\n",
       "      <th>12</th>\n",
       "      <td>12</td>\n",
       "      <td>Oklahoma City</td>\n",
       "      <td>OK</td>\n",
       "      <td>McDonald's</td>\n",
       "    </tr>\n",
       "    <tr>\n",
       "      <th>15</th>\n",
       "      <td>15</td>\n",
       "      <td>Louisville</td>\n",
       "      <td>KY</td>\n",
       "      <td>McDonald's</td>\n",
       "    </tr>\n",
       "    <tr>\n",
       "      <th>...</th>\n",
       "      <td>...</td>\n",
       "      <td>...</td>\n",
       "      <td>...</td>\n",
       "      <td>...</td>\n",
       "    </tr>\n",
       "    <tr>\n",
       "      <th>9736</th>\n",
       "      <td>9978</td>\n",
       "      <td>Chatham</td>\n",
       "      <td>VA</td>\n",
       "      <td>McDonald's</td>\n",
       "    </tr>\n",
       "    <tr>\n",
       "      <th>9737</th>\n",
       "      <td>9979</td>\n",
       "      <td>Hilton Head Island</td>\n",
       "      <td>SC</td>\n",
       "      <td>McDonald's</td>\n",
       "    </tr>\n",
       "    <tr>\n",
       "      <th>9743</th>\n",
       "      <td>9985</td>\n",
       "      <td>Fort Collins</td>\n",
       "      <td>CO</td>\n",
       "      <td>McDonald's</td>\n",
       "    </tr>\n",
       "    <tr>\n",
       "      <th>9747</th>\n",
       "      <td>9989</td>\n",
       "      <td>Miles City</td>\n",
       "      <td>MT</td>\n",
       "      <td>McDonald's</td>\n",
       "    </tr>\n",
       "    <tr>\n",
       "      <th>9754</th>\n",
       "      <td>9996</td>\n",
       "      <td>Cary</td>\n",
       "      <td>IL</td>\n",
       "      <td>McDonald's</td>\n",
       "    </tr>\n",
       "  </tbody>\n",
       "</table>\n",
       "<p>2060 rows × 4 columns</p>\n",
       "</div>"
      ],
      "text/plain": [
       "      Unnamed: 0                City State  Restaurant\n",
       "0              0             Massena    NY  McDonald's\n",
       "3              3             Massena    NY  McDonald's\n",
       "7              7              Saluda    SC  McDonald's\n",
       "12            12       Oklahoma City    OK  McDonald's\n",
       "15            15          Louisville    KY  McDonald's\n",
       "...          ...                 ...   ...         ...\n",
       "9736        9978             Chatham    VA  McDonald's\n",
       "9737        9979  Hilton Head Island    SC  McDonald's\n",
       "9743        9985        Fort Collins    CO  McDonald's\n",
       "9747        9989          Miles City    MT  McDonald's\n",
       "9754        9996                Cary    IL  McDonald's\n",
       "\n",
       "[2060 rows x 4 columns]"
      ]
     },
     "execution_count": 10,
     "metadata": {},
     "output_type": "execute_result"
    }
   ],
   "source": [
    "# sort the data set to show only McDonald's \n",
    "fast_food[fast_food['Restaurant']==\"McDonald's\"]"
   ]
  },
  {
   "cell_type": "code",
   "execution_count": 11,
   "metadata": {},
   "outputs": [
    {
     "data": {
      "text/plain": [
       "(2060, 4)"
      ]
     },
     "execution_count": 11,
     "metadata": {},
     "output_type": "execute_result"
    }
   ],
   "source": [
    "# create \"mcd_filter\" to count McDonald's restaruants \n",
    "mcd_filter = fast_food['Restaurant']==\"McDonald's\"\n",
    "mcd_df = fast_food[mcd_filter]\n",
    "mcd_df.shape"
   ]
  },
  {
   "cell_type": "code",
   "execution_count": 12,
   "metadata": {},
   "outputs": [
    {
     "data": {
      "text/plain": [
       "State\n",
       "TX    166\n",
       "CA    134\n",
       "OH    119\n",
       "FL     95\n",
       "IN     85\n",
       "IL     84\n",
       "NC     79\n",
       "MO     78\n",
       "KY     77\n",
       "PA     73\n",
       "VA     72\n",
       "NY     72\n",
       "GA     64\n",
       "OK     53\n",
       "MI     49\n",
       "SC     47\n",
       "WI     47\n",
       "WA     44\n",
       "AL     42\n",
       "TN     42\n",
       "CT     38\n",
       "NJ     38\n",
       "IA     37\n",
       "AZ     34\n",
       "MD     34\n",
       "MN     29\n",
       "MA     28\n",
       "AR     28\n",
       "UT     27\n",
       "CO     25\n",
       "OR     24\n",
       "NM     23\n",
       "WV     19\n",
       "SD     18\n",
       "VT     17\n",
       "NV     17\n",
       "ID     14\n",
       "NE     13\n",
       "ME     12\n",
       "KS     11\n",
       "MS     10\n",
       "NH      9\n",
       "ND      7\n",
       "DE      6\n",
       "WY      5\n",
       "DC      4\n",
       "MT      3\n",
       "RI      3\n",
       "AK      3\n",
       "HI      2\n",
       "dtype: int64"
      ]
     },
     "execution_count": 12,
     "metadata": {},
     "output_type": "execute_result"
    }
   ],
   "source": [
    "# use \"mcd_filter\" to find the state with the most McDonald's restaurants\n",
    "mcd_df.groupby('State').size().sort_values(ascending=False)"
   ]
  },
  {
   "cell_type": "markdown",
   "metadata": {},
   "source": [
    "#### Answer: Texas has the most McDonald's restaurants and California has the second most McDonald's restaurants, Ohio has the third most, Florida has the fourth most, and Indiana has the fifth most. This is interesting to look at because all of these states are in the top 5 of total fast food restaurants"
   ]
  },
  {
   "cell_type": "markdown",
   "metadata": {},
   "source": [
    "# Conclusion\n",
    "- This data is representative of the number of fast food restaurants per state but it doesn't show the amount of restaurants relative to the state size. I will show the density of fast food restaurants per state in the Restaurant Map notebook\n",
    "- McDonald's, Burger King, Taco Bell, Wendy's, and Arby's are the most popular fast food restaurants. Nathan's Famous, Nick's Burgers, Nick's Gyros, Nielsen's Frozen Custard, 31st Avenue Gyro are the least popular fast food restaurants.\n",
    "- California, Texas, Ohio, Florida, Indiana have the most total fast food restaurants\n",
    "- Arkansas, Rhode Island, Montana, Delaware, and New Hampshire have the least total fast food restaurants\n",
    "-  Texas has the most McDonald's restaurants and California has the second most McDonald's restaurants, Ohio has the third most, Florida has the fourth most, and Indiana has the fifth most. This is interesting to look at because all of these states are in the top 5 of total fast food restaurants"
   ]
  }
 ],
 "metadata": {
  "kernelspec": {
   "display_name": "Python 3",
   "language": "python",
   "name": "python3"
  },
  "language_info": {
   "codemirror_mode": {
    "name": "ipython",
    "version": 3
   },
   "file_extension": ".py",
   "mimetype": "text/x-python",
   "name": "python",
   "nbconvert_exporter": "python",
   "pygments_lexer": "ipython3",
   "version": "3.7.3"
  }
 },
 "nbformat": 4,
 "nbformat_minor": 2
}
