{
 "cells": [
  {
   "cell_type": "markdown",
   "metadata": {},
   "source": [
    "# US Obesity Rate by Age in 2016\n",
    "- This notebook will explore obesity rates of 5 age groups.\n",
    "    - 18 - 24\n",
    "    - 35 - 44\n",
    "    - 45 - 54\n",
    "    - 55 - 64\n",
    "    - 65 or older \n",
    "- First, the notebook will calculate the national obesity rate \n",
    "- Second, the notebook will calculate the average national obesity rate per age group. \n",
    "- Third, the notebook will show a graph comparing the national obesity rates per age group\n",
    "- The purpose of this notebook is to show what age group had the highest obesity rate in 2016"
   ]
  },
  {
   "cell_type": "markdown",
   "metadata": {},
   "source": [
    "# Setup"
   ]
  },
  {
   "cell_type": "code",
   "execution_count": 1,
   "metadata": {},
   "outputs": [],
   "source": [
    "import pandas as pd\n",
    "import matplotlib.pyplot as plt\n",
    "import numpy.random as np\n",
    "import sys\n",
    "import matplotlib \n",
    "import seaborn as sns\n",
    "import numpy as np"
   ]
  },
  {
   "cell_type": "markdown",
   "metadata": {},
   "source": [
    "# Load & Inspect 2016 Obesity by Age Data Frame"
   ]
  },
  {
   "cell_type": "code",
   "execution_count": 2,
   "metadata": {},
   "outputs": [],
   "source": [
    "obesity_in_US_age_2016 = pd.read_csv('../data/Clean Data/obesity_in_US_age_2016.csv')"
   ]
  },
  {
   "cell_type": "code",
   "execution_count": 3,
   "metadata": {},
   "outputs": [
    {
     "data": {
      "text/html": [
       "<div>\n",
       "<style scoped>\n",
       "    .dataframe tbody tr th:only-of-type {\n",
       "        vertical-align: middle;\n",
       "    }\n",
       "\n",
       "    .dataframe tbody tr th {\n",
       "        vertical-align: top;\n",
       "    }\n",
       "\n",
       "    .dataframe thead th {\n",
       "        text-align: right;\n",
       "    }\n",
       "</style>\n",
       "<table border=\"1\" class=\"dataframe\">\n",
       "  <thead>\n",
       "    <tr style=\"text-align: right;\">\n",
       "      <th></th>\n",
       "      <th>Unnamed: 0</th>\n",
       "      <th>year</th>\n",
       "      <th>state</th>\n",
       "      <th>state_name</th>\n",
       "      <th>age_pc</th>\n",
       "      <th>Data_Value_Alt</th>\n",
       "      <th>Question</th>\n",
       "      <th>Sample_Size</th>\n",
       "      <th>Total</th>\n",
       "      <th>Age</th>\n",
       "      <th>GeoLocation</th>\n",
       "      <th>LocationID</th>\n",
       "      <th>StratificationCategory1</th>\n",
       "      <th>Stratification1</th>\n",
       "    </tr>\n",
       "  </thead>\n",
       "  <tbody>\n",
       "    <tr>\n",
       "      <th>0</th>\n",
       "      <td>0</td>\n",
       "      <td>2016</td>\n",
       "      <td>US</td>\n",
       "      <td>National</td>\n",
       "      <td>25.5</td>\n",
       "      <td>25.5</td>\n",
       "      <td>Percent of adults aged 18 years and older who ...</td>\n",
       "      <td>23734.0</td>\n",
       "      <td>NaN</td>\n",
       "      <td>18 - 24</td>\n",
       "      <td>NaN</td>\n",
       "      <td>59</td>\n",
       "      <td>Age (years)</td>\n",
       "      <td>18 - 24</td>\n",
       "    </tr>\n",
       "    <tr>\n",
       "      <th>1</th>\n",
       "      <td>1</td>\n",
       "      <td>2016</td>\n",
       "      <td>US</td>\n",
       "      <td>National</td>\n",
       "      <td>35.7</td>\n",
       "      <td>35.7</td>\n",
       "      <td>Percent of adults aged 18 years and older who ...</td>\n",
       "      <td>48951.0</td>\n",
       "      <td>NaN</td>\n",
       "      <td>35 - 44</td>\n",
       "      <td>NaN</td>\n",
       "      <td>59</td>\n",
       "      <td>Age (years)</td>\n",
       "      <td>35 - 44</td>\n",
       "    </tr>\n",
       "    <tr>\n",
       "      <th>2</th>\n",
       "      <td>2</td>\n",
       "      <td>2016</td>\n",
       "      <td>AZ</td>\n",
       "      <td>Arizona</td>\n",
       "      <td>37.6</td>\n",
       "      <td>37.6</td>\n",
       "      <td>Percent of adults aged 18 years and older who ...</td>\n",
       "      <td>1281.0</td>\n",
       "      <td>NaN</td>\n",
       "      <td>45 - 54</td>\n",
       "      <td>(34.865970280000454, -111.76381127699972)</td>\n",
       "      <td>4</td>\n",
       "      <td>Age (years)</td>\n",
       "      <td>45 - 54</td>\n",
       "    </tr>\n",
       "    <tr>\n",
       "      <th>3</th>\n",
       "      <td>3</td>\n",
       "      <td>2016</td>\n",
       "      <td>AZ</td>\n",
       "      <td>Arizona</td>\n",
       "      <td>39.1</td>\n",
       "      <td>39.1</td>\n",
       "      <td>Percent of adults aged 18 years and older who ...</td>\n",
       "      <td>2127.0</td>\n",
       "      <td>NaN</td>\n",
       "      <td>55 - 64</td>\n",
       "      <td>(34.865970280000454, -111.76381127699972)</td>\n",
       "      <td>4</td>\n",
       "      <td>Age (years)</td>\n",
       "      <td>55 - 64</td>\n",
       "    </tr>\n",
       "    <tr>\n",
       "      <th>4</th>\n",
       "      <td>4</td>\n",
       "      <td>2016</td>\n",
       "      <td>AZ</td>\n",
       "      <td>Arizona</td>\n",
       "      <td>38.6</td>\n",
       "      <td>38.6</td>\n",
       "      <td>Percent of adults aged 18 years and older who ...</td>\n",
       "      <td>4790.0</td>\n",
       "      <td>NaN</td>\n",
       "      <td>65 or older</td>\n",
       "      <td>(34.865970280000454, -111.76381127699972)</td>\n",
       "      <td>4</td>\n",
       "      <td>Age (years)</td>\n",
       "      <td>65 or older</td>\n",
       "    </tr>\n",
       "    <tr>\n",
       "      <th>...</th>\n",
       "      <td>...</td>\n",
       "      <td>...</td>\n",
       "      <td>...</td>\n",
       "      <td>...</td>\n",
       "      <td>...</td>\n",
       "      <td>...</td>\n",
       "      <td>...</td>\n",
       "      <td>...</td>\n",
       "      <td>...</td>\n",
       "      <td>...</td>\n",
       "      <td>...</td>\n",
       "      <td>...</td>\n",
       "      <td>...</td>\n",
       "      <td>...</td>\n",
       "    </tr>\n",
       "    <tr>\n",
       "      <th>545</th>\n",
       "      <td>545</td>\n",
       "      <td>2016</td>\n",
       "      <td>VI</td>\n",
       "      <td>Virgin Islands</td>\n",
       "      <td>15.5</td>\n",
       "      <td>15.5</td>\n",
       "      <td>Percent of adults aged 18 years and older who ...</td>\n",
       "      <td>50.0</td>\n",
       "      <td>NaN</td>\n",
       "      <td>18 - 24</td>\n",
       "      <td>(18.335765, -64.896335)</td>\n",
       "      <td>78</td>\n",
       "      <td>Age (years)</td>\n",
       "      <td>18 - 24</td>\n",
       "    </tr>\n",
       "    <tr>\n",
       "      <th>546</th>\n",
       "      <td>546</td>\n",
       "      <td>2016</td>\n",
       "      <td>VI</td>\n",
       "      <td>Virgin Islands</td>\n",
       "      <td>39.8</td>\n",
       "      <td>39.8</td>\n",
       "      <td>Percent of adults aged 18 years and older who ...</td>\n",
       "      <td>91.0</td>\n",
       "      <td>NaN</td>\n",
       "      <td>35 - 44</td>\n",
       "      <td>(18.335765, -64.896335)</td>\n",
       "      <td>78</td>\n",
       "      <td>Age (years)</td>\n",
       "      <td>35 - 44</td>\n",
       "    </tr>\n",
       "    <tr>\n",
       "      <th>547</th>\n",
       "      <td>547</td>\n",
       "      <td>2016</td>\n",
       "      <td>VI</td>\n",
       "      <td>Virgin Islands</td>\n",
       "      <td>41.4</td>\n",
       "      <td>41.4</td>\n",
       "      <td>Percent of adults aged 18 years and older who ...</td>\n",
       "      <td>217.0</td>\n",
       "      <td>NaN</td>\n",
       "      <td>45 - 54</td>\n",
       "      <td>(18.335765, -64.896335)</td>\n",
       "      <td>78</td>\n",
       "      <td>Age (years)</td>\n",
       "      <td>45 - 54</td>\n",
       "    </tr>\n",
       "    <tr>\n",
       "      <th>548</th>\n",
       "      <td>548</td>\n",
       "      <td>2016</td>\n",
       "      <td>VI</td>\n",
       "      <td>Virgin Islands</td>\n",
       "      <td>33.2</td>\n",
       "      <td>33.2</td>\n",
       "      <td>Percent of adults aged 18 years and older who ...</td>\n",
       "      <td>306.0</td>\n",
       "      <td>NaN</td>\n",
       "      <td>55 - 64</td>\n",
       "      <td>(18.335765, -64.896335)</td>\n",
       "      <td>78</td>\n",
       "      <td>Age (years)</td>\n",
       "      <td>55 - 64</td>\n",
       "    </tr>\n",
       "    <tr>\n",
       "      <th>549</th>\n",
       "      <td>549</td>\n",
       "      <td>2016</td>\n",
       "      <td>VI</td>\n",
       "      <td>Virgin Islands</td>\n",
       "      <td>19.3</td>\n",
       "      <td>19.3</td>\n",
       "      <td>Percent of adults aged 18 years and older who ...</td>\n",
       "      <td>436.0</td>\n",
       "      <td>NaN</td>\n",
       "      <td>65 or older</td>\n",
       "      <td>(18.335765, -64.896335)</td>\n",
       "      <td>78</td>\n",
       "      <td>Age (years)</td>\n",
       "      <td>65 or older</td>\n",
       "    </tr>\n",
       "  </tbody>\n",
       "</table>\n",
       "<p>550 rows × 14 columns</p>\n",
       "</div>"
      ],
      "text/plain": [
       "     Unnamed: 0  year state      state_name  age_pc  Data_Value_Alt  \\\n",
       "0             0  2016    US        National    25.5            25.5   \n",
       "1             1  2016    US        National    35.7            35.7   \n",
       "2             2  2016    AZ         Arizona    37.6            37.6   \n",
       "3             3  2016    AZ         Arizona    39.1            39.1   \n",
       "4             4  2016    AZ         Arizona    38.6            38.6   \n",
       "..          ...   ...   ...             ...     ...             ...   \n",
       "545         545  2016    VI  Virgin Islands    15.5            15.5   \n",
       "546         546  2016    VI  Virgin Islands    39.8            39.8   \n",
       "547         547  2016    VI  Virgin Islands    41.4            41.4   \n",
       "548         548  2016    VI  Virgin Islands    33.2            33.2   \n",
       "549         549  2016    VI  Virgin Islands    19.3            19.3   \n",
       "\n",
       "                                              Question  Sample_Size  Total  \\\n",
       "0    Percent of adults aged 18 years and older who ...      23734.0    NaN   \n",
       "1    Percent of adults aged 18 years and older who ...      48951.0    NaN   \n",
       "2    Percent of adults aged 18 years and older who ...       1281.0    NaN   \n",
       "3    Percent of adults aged 18 years and older who ...       2127.0    NaN   \n",
       "4    Percent of adults aged 18 years and older who ...       4790.0    NaN   \n",
       "..                                                 ...          ...    ...   \n",
       "545  Percent of adults aged 18 years and older who ...         50.0    NaN   \n",
       "546  Percent of adults aged 18 years and older who ...         91.0    NaN   \n",
       "547  Percent of adults aged 18 years and older who ...        217.0    NaN   \n",
       "548  Percent of adults aged 18 years and older who ...        306.0    NaN   \n",
       "549  Percent of adults aged 18 years and older who ...        436.0    NaN   \n",
       "\n",
       "             Age                                GeoLocation  LocationID  \\\n",
       "0        18 - 24                                        NaN          59   \n",
       "1        35 - 44                                        NaN          59   \n",
       "2        45 - 54  (34.865970280000454, -111.76381127699972)           4   \n",
       "3        55 - 64  (34.865970280000454, -111.76381127699972)           4   \n",
       "4    65 or older  (34.865970280000454, -111.76381127699972)           4   \n",
       "..           ...                                        ...         ...   \n",
       "545      18 - 24                    (18.335765, -64.896335)          78   \n",
       "546      35 - 44                    (18.335765, -64.896335)          78   \n",
       "547      45 - 54                    (18.335765, -64.896335)          78   \n",
       "548      55 - 64                    (18.335765, -64.896335)          78   \n",
       "549  65 or older                    (18.335765, -64.896335)          78   \n",
       "\n",
       "    StratificationCategory1 Stratification1  \n",
       "0               Age (years)         18 - 24  \n",
       "1               Age (years)         35 - 44  \n",
       "2               Age (years)         45 - 54  \n",
       "3               Age (years)         55 - 64  \n",
       "4               Age (years)     65 or older  \n",
       "..                      ...             ...  \n",
       "545             Age (years)         18 - 24  \n",
       "546             Age (years)         35 - 44  \n",
       "547             Age (years)         45 - 54  \n",
       "548             Age (years)         55 - 64  \n",
       "549             Age (years)     65 or older  \n",
       "\n",
       "[550 rows x 14 columns]"
      ]
     },
     "execution_count": 3,
     "metadata": {},
     "output_type": "execute_result"
    }
   ],
   "source": [
    "obesity_in_US_age_2016"
   ]
  },
  {
   "cell_type": "code",
   "execution_count": 4,
   "metadata": {},
   "outputs": [
    {
     "data": {
      "text/plain": [
       "array(['18 - 24', '35 - 44', '45 - 54', '55 - 64', '65 or older'],\n",
       "      dtype=object)"
      ]
     },
     "execution_count": 4,
     "metadata": {},
     "output_type": "execute_result"
    }
   ],
   "source": [
    "obesity_in_US_age_2016['Age'].unique()"
   ]
  },
  {
   "cell_type": "code",
   "execution_count": 5,
   "metadata": {},
   "outputs": [
    {
     "data": {
      "text/plain": [
       "45 - 54        110\n",
       "65 or older    110\n",
       "55 - 64        110\n",
       "18 - 24        110\n",
       "35 - 44        110\n",
       "Name: Age, dtype: int64"
      ]
     },
     "execution_count": 5,
     "metadata": {},
     "output_type": "execute_result"
    }
   ],
   "source": [
    "obesity_in_US_age_2016['Age'].value_counts()"
   ]
  },
  {
   "cell_type": "markdown",
   "metadata": {},
   "source": [
    "# Questions:\n",
    "\n",
    "#### Question 1: What was the national obesity rate in 2016?\n",
    "- Steps: \n",
    "    - create filter named \"age_obesity_in_US_national_2016_df\" to eliminate every row except 'National'\n",
    "    - Create a filter \"national_avg_2016\" to find the mean obesity rate nationally\n",
    "    - use \"national_avg_2016\" filter to show the national obesity rate average on chart\n",
    "    \n",
    "#### Question 2: What was the national obesity rate for ages 18-24 in 2016?\n",
    "- Steps: \n",
    "    - create filter named \"ages_18_24_in_2016_national\" on the \"age_obesity_in_US_national_2016_df\" to               eliminate all ages except for 18-24 \n",
    "    - create a filter \"ages_18_24_in_2016_national_avg\" to calculate the average national obesity rate for ages       18-24 in 2016\n",
    "    \n",
    "#### Question 3: What was the national obesity rate for ages 35 - 44  in 2016?\n",
    "- Steps:  \n",
    "    - create filter named \"ages_35_44_in_2016_national\" on the \"age_obesity_in_US_national_2016_df\" to               eliminate all ages except for 35-44 \n",
    "    - create a filter \"ages_35_44_in_2016_national_avg\" to calculate the average national obesity rate for ages       35-44 in 2016\n",
    "    \n",
    "#### Question 4: What was the national obesity rate for ages 45 - 54  in 2016?\n",
    "- Steps: \n",
    "    - create filter named \"ages_45_54_in_2016_national\" on the \"age_obesity_in_US_national_2016_df\" to               eliminate all ages except for 45-54 \n",
    "    - create a filter \"ages_45_54_in_2016_national_avg\" to calculate the average national obesity rate for ages       45-54 in 2016\n",
    "    \n",
    "#### Question 5: What was the national obesity rate for ages 55-64 in 2016?\n",
    "- Steps:  \n",
    "   - create filter named \"ages_55_64_in_2016_national\" on the \"age_obesity_in_US_national_2016_df\" to                eliminate all ages except for 55-64\n",
    "   - create a filter \"ages_55_64_in_2016_national_avg\" to calculate the average national obesity rate for            ages 55-64 in 2016\n",
    "    \n",
    "#### Question 6: What was the national obesity rate for ages 65 or older in 2016?\n",
    "- Steps:  \n",
    "   - create filter named \"ages_65_older_in_2016_national\" on the \"age_obesity_in_US_national_2016_df\" to             eliminate all ages except for 65 or older\n",
    "   - create a filter \"ages_65_older_in_2016_national_avg\" to calculate the average national obesity rate for         ages 65 or older in 2016\n",
    "   \n",
    "#### Question 7: National Obesity Rates by Age in 2016\n",
    "- Steps: \n",
    "    - create filter named \"combined_df_age_2016\" to bring all the national obesity rates per age group together \n",
    "    - plot a graph of the age groups obesity rates"
   ]
  },
  {
   "cell_type": "markdown",
   "metadata": {},
   "source": [
    "# Question 1: What was the national obesity rate in 2016?"
   ]
  },
  {
   "cell_type": "code",
   "execution_count": 6,
   "metadata": {},
   "outputs": [
    {
     "data": {
      "text/html": [
       "<div>\n",
       "<style scoped>\n",
       "    .dataframe tbody tr th:only-of-type {\n",
       "        vertical-align: middle;\n",
       "    }\n",
       "\n",
       "    .dataframe tbody tr th {\n",
       "        vertical-align: top;\n",
       "    }\n",
       "\n",
       "    .dataframe thead th {\n",
       "        text-align: right;\n",
       "    }\n",
       "</style>\n",
       "<table border=\"1\" class=\"dataframe\">\n",
       "  <thead>\n",
       "    <tr style=\"text-align: right;\">\n",
       "      <th></th>\n",
       "      <th>Unnamed: 0</th>\n",
       "      <th>year</th>\n",
       "      <th>state</th>\n",
       "      <th>state_name</th>\n",
       "      <th>age_pc</th>\n",
       "      <th>Data_Value_Alt</th>\n",
       "      <th>Question</th>\n",
       "      <th>Sample_Size</th>\n",
       "      <th>Total</th>\n",
       "      <th>Age</th>\n",
       "      <th>GeoLocation</th>\n",
       "      <th>LocationID</th>\n",
       "      <th>StratificationCategory1</th>\n",
       "      <th>Stratification1</th>\n",
       "    </tr>\n",
       "  </thead>\n",
       "  <tbody>\n",
       "    <tr>\n",
       "      <th>0</th>\n",
       "      <td>0</td>\n",
       "      <td>2016</td>\n",
       "      <td>US</td>\n",
       "      <td>National</td>\n",
       "      <td>25.5</td>\n",
       "      <td>25.5</td>\n",
       "      <td>Percent of adults aged 18 years and older who ...</td>\n",
       "      <td>23734.0</td>\n",
       "      <td>NaN</td>\n",
       "      <td>18 - 24</td>\n",
       "      <td>NaN</td>\n",
       "      <td>59</td>\n",
       "      <td>Age (years)</td>\n",
       "      <td>18 - 24</td>\n",
       "    </tr>\n",
       "    <tr>\n",
       "      <th>1</th>\n",
       "      <td>1</td>\n",
       "      <td>2016</td>\n",
       "      <td>US</td>\n",
       "      <td>National</td>\n",
       "      <td>35.7</td>\n",
       "      <td>35.7</td>\n",
       "      <td>Percent of adults aged 18 years and older who ...</td>\n",
       "      <td>48951.0</td>\n",
       "      <td>NaN</td>\n",
       "      <td>35 - 44</td>\n",
       "      <td>NaN</td>\n",
       "      <td>59</td>\n",
       "      <td>Age (years)</td>\n",
       "      <td>35 - 44</td>\n",
       "    </tr>\n",
       "    <tr>\n",
       "      <th>8</th>\n",
       "      <td>8</td>\n",
       "      <td>2016</td>\n",
       "      <td>US</td>\n",
       "      <td>National</td>\n",
       "      <td>37.1</td>\n",
       "      <td>37.1</td>\n",
       "      <td>Percent of adults aged 18 years and older who ...</td>\n",
       "      <td>68854.0</td>\n",
       "      <td>NaN</td>\n",
       "      <td>45 - 54</td>\n",
       "      <td>NaN</td>\n",
       "      <td>59</td>\n",
       "      <td>Age (years)</td>\n",
       "      <td>45 - 54</td>\n",
       "    </tr>\n",
       "    <tr>\n",
       "      <th>9</th>\n",
       "      <td>9</td>\n",
       "      <td>2016</td>\n",
       "      <td>US</td>\n",
       "      <td>National</td>\n",
       "      <td>37.5</td>\n",
       "      <td>37.5</td>\n",
       "      <td>Percent of adults aged 18 years and older who ...</td>\n",
       "      <td>96566.0</td>\n",
       "      <td>NaN</td>\n",
       "      <td>55 - 64</td>\n",
       "      <td>NaN</td>\n",
       "      <td>59</td>\n",
       "      <td>Age (years)</td>\n",
       "      <td>55 - 64</td>\n",
       "    </tr>\n",
       "    <tr>\n",
       "      <th>10</th>\n",
       "      <td>10</td>\n",
       "      <td>2016</td>\n",
       "      <td>US</td>\n",
       "      <td>National</td>\n",
       "      <td>39.0</td>\n",
       "      <td>39.0</td>\n",
       "      <td>Percent of adults aged 18 years and older who ...</td>\n",
       "      <td>157668.0</td>\n",
       "      <td>NaN</td>\n",
       "      <td>65 or older</td>\n",
       "      <td>NaN</td>\n",
       "      <td>59</td>\n",
       "      <td>Age (years)</td>\n",
       "      <td>65 or older</td>\n",
       "    </tr>\n",
       "    <tr>\n",
       "      <th>275</th>\n",
       "      <td>275</td>\n",
       "      <td>2016</td>\n",
       "      <td>US</td>\n",
       "      <td>National</td>\n",
       "      <td>17.3</td>\n",
       "      <td>17.3</td>\n",
       "      <td>Percent of adults aged 18 years and older who ...</td>\n",
       "      <td>23734.0</td>\n",
       "      <td>NaN</td>\n",
       "      <td>18 - 24</td>\n",
       "      <td>NaN</td>\n",
       "      <td>59</td>\n",
       "      <td>Age (years)</td>\n",
       "      <td>18 - 24</td>\n",
       "    </tr>\n",
       "    <tr>\n",
       "      <th>276</th>\n",
       "      <td>276</td>\n",
       "      <td>2016</td>\n",
       "      <td>US</td>\n",
       "      <td>National</td>\n",
       "      <td>33.1</td>\n",
       "      <td>33.1</td>\n",
       "      <td>Percent of adults aged 18 years and older who ...</td>\n",
       "      <td>48951.0</td>\n",
       "      <td>NaN</td>\n",
       "      <td>35 - 44</td>\n",
       "      <td>NaN</td>\n",
       "      <td>59</td>\n",
       "      <td>Age (years)</td>\n",
       "      <td>35 - 44</td>\n",
       "    </tr>\n",
       "    <tr>\n",
       "      <th>277</th>\n",
       "      <td>277</td>\n",
       "      <td>2016</td>\n",
       "      <td>US</td>\n",
       "      <td>National</td>\n",
       "      <td>35.1</td>\n",
       "      <td>35.1</td>\n",
       "      <td>Percent of adults aged 18 years and older who ...</td>\n",
       "      <td>68854.0</td>\n",
       "      <td>NaN</td>\n",
       "      <td>45 - 54</td>\n",
       "      <td>NaN</td>\n",
       "      <td>59</td>\n",
       "      <td>Age (years)</td>\n",
       "      <td>45 - 54</td>\n",
       "    </tr>\n",
       "    <tr>\n",
       "      <th>278</th>\n",
       "      <td>278</td>\n",
       "      <td>2016</td>\n",
       "      <td>US</td>\n",
       "      <td>National</td>\n",
       "      <td>34.2</td>\n",
       "      <td>34.2</td>\n",
       "      <td>Percent of adults aged 18 years and older who ...</td>\n",
       "      <td>96566.0</td>\n",
       "      <td>NaN</td>\n",
       "      <td>55 - 64</td>\n",
       "      <td>NaN</td>\n",
       "      <td>59</td>\n",
       "      <td>Age (years)</td>\n",
       "      <td>55 - 64</td>\n",
       "    </tr>\n",
       "    <tr>\n",
       "      <th>279</th>\n",
       "      <td>279</td>\n",
       "      <td>2016</td>\n",
       "      <td>US</td>\n",
       "      <td>National</td>\n",
       "      <td>28.0</td>\n",
       "      <td>28.0</td>\n",
       "      <td>Percent of adults aged 18 years and older who ...</td>\n",
       "      <td>157668.0</td>\n",
       "      <td>NaN</td>\n",
       "      <td>65 or older</td>\n",
       "      <td>NaN</td>\n",
       "      <td>59</td>\n",
       "      <td>Age (years)</td>\n",
       "      <td>65 or older</td>\n",
       "    </tr>\n",
       "  </tbody>\n",
       "</table>\n",
       "</div>"
      ],
      "text/plain": [
       "     Unnamed: 0  year state state_name  age_pc  Data_Value_Alt  \\\n",
       "0             0  2016    US   National    25.5            25.5   \n",
       "1             1  2016    US   National    35.7            35.7   \n",
       "8             8  2016    US   National    37.1            37.1   \n",
       "9             9  2016    US   National    37.5            37.5   \n",
       "10           10  2016    US   National    39.0            39.0   \n",
       "275         275  2016    US   National    17.3            17.3   \n",
       "276         276  2016    US   National    33.1            33.1   \n",
       "277         277  2016    US   National    35.1            35.1   \n",
       "278         278  2016    US   National    34.2            34.2   \n",
       "279         279  2016    US   National    28.0            28.0   \n",
       "\n",
       "                                              Question  Sample_Size  Total  \\\n",
       "0    Percent of adults aged 18 years and older who ...      23734.0    NaN   \n",
       "1    Percent of adults aged 18 years and older who ...      48951.0    NaN   \n",
       "8    Percent of adults aged 18 years and older who ...      68854.0    NaN   \n",
       "9    Percent of adults aged 18 years and older who ...      96566.0    NaN   \n",
       "10   Percent of adults aged 18 years and older who ...     157668.0    NaN   \n",
       "275  Percent of adults aged 18 years and older who ...      23734.0    NaN   \n",
       "276  Percent of adults aged 18 years and older who ...      48951.0    NaN   \n",
       "277  Percent of adults aged 18 years and older who ...      68854.0    NaN   \n",
       "278  Percent of adults aged 18 years and older who ...      96566.0    NaN   \n",
       "279  Percent of adults aged 18 years and older who ...     157668.0    NaN   \n",
       "\n",
       "             Age GeoLocation  LocationID StratificationCategory1  \\\n",
       "0        18 - 24         NaN          59             Age (years)   \n",
       "1        35 - 44         NaN          59             Age (years)   \n",
       "8        45 - 54         NaN          59             Age (years)   \n",
       "9        55 - 64         NaN          59             Age (years)   \n",
       "10   65 or older         NaN          59             Age (years)   \n",
       "275      18 - 24         NaN          59             Age (years)   \n",
       "276      35 - 44         NaN          59             Age (years)   \n",
       "277      45 - 54         NaN          59             Age (years)   \n",
       "278      55 - 64         NaN          59             Age (years)   \n",
       "279  65 or older         NaN          59             Age (years)   \n",
       "\n",
       "    Stratification1  \n",
       "0           18 - 24  \n",
       "1           35 - 44  \n",
       "8           45 - 54  \n",
       "9           55 - 64  \n",
       "10      65 or older  \n",
       "275         18 - 24  \n",
       "276         35 - 44  \n",
       "277         45 - 54  \n",
       "278         55 - 64  \n",
       "279     65 or older  "
      ]
     },
     "execution_count": 6,
     "metadata": {},
     "output_type": "execute_result"
    }
   ],
   "source": [
    "#Age\n",
    "#make national its own dataframe named \"age_obesity_in_US_national_2016_df\"\n",
    "age_obesity_in_US_national_2016_df=obesity_in_US_age_2016[(obesity_in_US_age_2016['state_name']=='National')]\n",
    "age_obesity_in_US_national_2016_df\n"
   ]
  },
  {
   "cell_type": "markdown",
   "metadata": {},
   "source": [
    "- \"age_obesity_in_US_national_2016_df\"\n",
    "    - this data frame represents the country as a whole by age (it eliminates the state by state averages) in 2016\n",
    "    - use it to calculate national obesity rate as 1) a whole, 2) for each age group "
   ]
  },
  {
   "cell_type": "code",
   "execution_count": 7,
   "metadata": {},
   "outputs": [
    {
     "data": {
      "text/plain": [
       "35 - 44        2\n",
       "18 - 24        2\n",
       "45 - 54        2\n",
       "65 or older    2\n",
       "55 - 64        2\n",
       "Name: Age, dtype: int64"
      ]
     },
     "execution_count": 7,
     "metadata": {},
     "output_type": "execute_result"
    }
   ],
   "source": [
    "age_obesity_in_US_national_2016_df['Age'].value_counts()"
   ]
  },
  {
   "cell_type": "code",
   "execution_count": 8,
   "metadata": {},
   "outputs": [
    {
     "data": {
      "text/plain": [
       "32.25"
      ]
     },
     "execution_count": 8,
     "metadata": {},
     "output_type": "execute_result"
    }
   ],
   "source": [
    "# Create a filter \"national_avg_2016\" to find the mean obesity rate nationally\n",
    "national_avg_2016=age_obesity_in_US_national_2016_df['age_pc'].mean()\n",
    "national_avg_2016\n"
   ]
  },
  {
   "cell_type": "markdown",
   "metadata": {},
   "source": [
    "#### Note: This is unnecessary to include in story but it is good to know that it is the same average as national gender because it shows that this data is accurate throughout"
   ]
  },
  {
   "cell_type": "code",
   "execution_count": 9,
   "metadata": {},
   "outputs": [
    {
     "name": "stdout",
     "output_type": "stream",
     "text": [
      "The national obesity rate average in 2016\n",
      "=========================================\n",
      "state_name\n",
      "National    32.25\n",
      "Name: age_pc, dtype: float64\n"
     ]
    }
   ],
   "source": [
    "# Use \"national_avg_2016\" filter to show the national obesity rate average on chart\n",
    "national_avg_2016=age_obesity_in_US_national_2016_df.groupby('state_name')['age_pc'].mean()\n",
    "national_avg_2016\n",
    "title1='The national obesity rate average in 2016'\n",
    "print(\"{}\\n{}\".format(title1, '='*len(title1)))\n",
    "print(national_avg_2016.sort_values())\n",
    "\n",
    "\n",
    "\n"
   ]
  },
  {
   "cell_type": "markdown",
   "metadata": {},
   "source": [
    "### Answer: The national obesity rate average in 2016 was 32.3%"
   ]
  },
  {
   "cell_type": "code",
   "execution_count": 10,
   "metadata": {},
   "outputs": [
    {
     "data": {
      "text/plain": [
       "Text(0.5, 1.0, '2016')"
      ]
     },
     "execution_count": 10,
     "metadata": {},
     "output_type": "execute_result"
    },
    {
     "data": {
      "image/png": "[encoded data removed]",
      "text/plain": [
       "<Figure size 864x288 with 1 Axes>"
      ]
     },
     "metadata": {
      "needs_background": "light"
     },
     "output_type": "display_data"
    }
   ],
   "source": [
    "\n",
    "# 1. Set up the figure to plot two bar charts and specify size ratio (3:1)\n",
    "plt.figure(figsize=(12,4))\n",
    "\n",
    "# 2. the plt.subplot() function divides the main figure into rows and columns\n",
    "#    121 = 1 row 2 columns and the first slot\n",
    "plt.subplot(121)\n",
    "\n",
    "# use the region mean data to plot a bar chart and add labels\n",
    "national_avg_2016.plot(kind='bar')\n",
    "plt.xlabel('National')\n",
    "plt.ylabel('Obesity Rate')\n",
    "plt.title('2016')\n"
   ]
  },
  {
   "cell_type": "markdown",
   "metadata": {},
   "source": [
    "# Question 2: What was the national obesity rate for ages 18-24 in 2016?"
   ]
  },
  {
   "cell_type": "code",
   "execution_count": 11,
   "metadata": {},
   "outputs": [
    {
     "data": {
      "text/html": [
       "<div>\n",
       "<style scoped>\n",
       "    .dataframe tbody tr th:only-of-type {\n",
       "        vertical-align: middle;\n",
       "    }\n",
       "\n",
       "    .dataframe tbody tr th {\n",
       "        vertical-align: top;\n",
       "    }\n",
       "\n",
       "    .dataframe thead th {\n",
       "        text-align: right;\n",
       "    }\n",
       "</style>\n",
       "<table border=\"1\" class=\"dataframe\">\n",
       "  <thead>\n",
       "    <tr style=\"text-align: right;\">\n",
       "      <th></th>\n",
       "      <th>Unnamed: 0</th>\n",
       "      <th>year</th>\n",
       "      <th>state</th>\n",
       "      <th>state_name</th>\n",
       "      <th>age_pc</th>\n",
       "      <th>Data_Value_Alt</th>\n",
       "      <th>Question</th>\n",
       "      <th>Sample_Size</th>\n",
       "      <th>Total</th>\n",
       "      <th>Age</th>\n",
       "      <th>GeoLocation</th>\n",
       "      <th>LocationID</th>\n",
       "      <th>StratificationCategory1</th>\n",
       "      <th>Stratification1</th>\n",
       "    </tr>\n",
       "  </thead>\n",
       "  <tbody>\n",
       "    <tr>\n",
       "      <th>0</th>\n",
       "      <td>0</td>\n",
       "      <td>2016</td>\n",
       "      <td>US</td>\n",
       "      <td>National</td>\n",
       "      <td>25.5</td>\n",
       "      <td>25.5</td>\n",
       "      <td>Percent of adults aged 18 years and older who ...</td>\n",
       "      <td>23734.0</td>\n",
       "      <td>NaN</td>\n",
       "      <td>18 - 24</td>\n",
       "      <td>NaN</td>\n",
       "      <td>59</td>\n",
       "      <td>Age (years)</td>\n",
       "      <td>18 - 24</td>\n",
       "    </tr>\n",
       "    <tr>\n",
       "      <th>275</th>\n",
       "      <td>275</td>\n",
       "      <td>2016</td>\n",
       "      <td>US</td>\n",
       "      <td>National</td>\n",
       "      <td>17.3</td>\n",
       "      <td>17.3</td>\n",
       "      <td>Percent of adults aged 18 years and older who ...</td>\n",
       "      <td>23734.0</td>\n",
       "      <td>NaN</td>\n",
       "      <td>18 - 24</td>\n",
       "      <td>NaN</td>\n",
       "      <td>59</td>\n",
       "      <td>Age (years)</td>\n",
       "      <td>18 - 24</td>\n",
       "    </tr>\n",
       "  </tbody>\n",
       "</table>\n",
       "</div>"
      ],
      "text/plain": [
       "     Unnamed: 0  year state state_name  age_pc  Data_Value_Alt  \\\n",
       "0             0  2016    US   National    25.5            25.5   \n",
       "275         275  2016    US   National    17.3            17.3   \n",
       "\n",
       "                                              Question  Sample_Size  Total  \\\n",
       "0    Percent of adults aged 18 years and older who ...      23734.0    NaN   \n",
       "275  Percent of adults aged 18 years and older who ...      23734.0    NaN   \n",
       "\n",
       "         Age GeoLocation  LocationID StratificationCategory1 Stratification1  \n",
       "0    18 - 24         NaN          59             Age (years)         18 - 24  \n",
       "275  18 - 24         NaN          59             Age (years)         18 - 24  "
      ]
     },
     "execution_count": 11,
     "metadata": {},
     "output_type": "execute_result"
    }
   ],
   "source": [
    "# create filter named \"ages_18_24_in_2016_national\"\n",
    "ages_18_24_in_2016_national=age_obesity_in_US_national_2016_df[(age_obesity_in_US_national_2016_df['Age']=='18 - 24')]\n",
    "ages_18_24_in_2016_national\n"
   ]
  },
  {
   "cell_type": "code",
   "execution_count": 12,
   "metadata": {},
   "outputs": [
    {
     "data": {
      "text/plain": [
       "21.4"
      ]
     },
     "execution_count": 12,
     "metadata": {},
     "output_type": "execute_result"
    }
   ],
   "source": [
    "# average obesity rate for ages 18-24 in 2016\n",
    "ages_18_24_in_2016_national_avg=ages_18_24_in_2016_national['age_pc'].mean()\n",
    "ages_18_24_in_2016_national_avg\n"
   ]
  },
  {
   "cell_type": "code",
   "execution_count": 13,
   "metadata": {},
   "outputs": [
    {
     "name": "stdout",
     "output_type": "stream",
     "text": [
      "The national obesity rate average for ages 18-24 in 2016\n",
      "========================================================\n",
      "Age\n",
      "18 - 24    21.4\n",
      "Name: age_pc, dtype: float64\n"
     ]
    }
   ],
   "source": [
    "# Use \"ages_18_24_in_2016_national_avg\" filter to show the national ages 18-24 obesity rate average on chart\n",
    "ages_18_24_in_2016_national_avg=ages_18_24_in_2016_national.groupby('Age')['age_pc'].mean()\n",
    "ages_18_24_in_2016_national_avg\n",
    "title1='The national obesity rate average for ages 18-24 in 2016'\n",
    "print(\"{}\\n{}\".format(title1, '='*len(title1)))\n",
    "print(ages_18_24_in_2016_national_avg.sort_values())\n",
    "\n"
   ]
  },
  {
   "cell_type": "markdown",
   "metadata": {},
   "source": [
    "### Answer: On a national scale, 21.4% of adults ages 18-24 were obese in 2016. "
   ]
  },
  {
   "cell_type": "markdown",
   "metadata": {},
   "source": [
    "# Question 3: What was the national obesity rate for ages 35 - 44  in 2016?"
   ]
  },
  {
   "cell_type": "code",
   "execution_count": 14,
   "metadata": {},
   "outputs": [
    {
     "data": {
      "text/html": [
       "<div>\n",
       "<style scoped>\n",
       "    .dataframe tbody tr th:only-of-type {\n",
       "        vertical-align: middle;\n",
       "    }\n",
       "\n",
       "    .dataframe tbody tr th {\n",
       "        vertical-align: top;\n",
       "    }\n",
       "\n",
       "    .dataframe thead th {\n",
       "        text-align: right;\n",
       "    }\n",
       "</style>\n",
       "<table border=\"1\" class=\"dataframe\">\n",
       "  <thead>\n",
       "    <tr style=\"text-align: right;\">\n",
       "      <th></th>\n",
       "      <th>Unnamed: 0</th>\n",
       "      <th>year</th>\n",
       "      <th>state</th>\n",
       "      <th>state_name</th>\n",
       "      <th>age_pc</th>\n",
       "      <th>Data_Value_Alt</th>\n",
       "      <th>Question</th>\n",
       "      <th>Sample_Size</th>\n",
       "      <th>Total</th>\n",
       "      <th>Age</th>\n",
       "      <th>GeoLocation</th>\n",
       "      <th>LocationID</th>\n",
       "      <th>StratificationCategory1</th>\n",
       "      <th>Stratification1</th>\n",
       "    </tr>\n",
       "  </thead>\n",
       "  <tbody>\n",
       "    <tr>\n",
       "      <th>1</th>\n",
       "      <td>1</td>\n",
       "      <td>2016</td>\n",
       "      <td>US</td>\n",
       "      <td>National</td>\n",
       "      <td>35.7</td>\n",
       "      <td>35.7</td>\n",
       "      <td>Percent of adults aged 18 years and older who ...</td>\n",
       "      <td>48951.0</td>\n",
       "      <td>NaN</td>\n",
       "      <td>35 - 44</td>\n",
       "      <td>NaN</td>\n",
       "      <td>59</td>\n",
       "      <td>Age (years)</td>\n",
       "      <td>35 - 44</td>\n",
       "    </tr>\n",
       "    <tr>\n",
       "      <th>276</th>\n",
       "      <td>276</td>\n",
       "      <td>2016</td>\n",
       "      <td>US</td>\n",
       "      <td>National</td>\n",
       "      <td>33.1</td>\n",
       "      <td>33.1</td>\n",
       "      <td>Percent of adults aged 18 years and older who ...</td>\n",
       "      <td>48951.0</td>\n",
       "      <td>NaN</td>\n",
       "      <td>35 - 44</td>\n",
       "      <td>NaN</td>\n",
       "      <td>59</td>\n",
       "      <td>Age (years)</td>\n",
       "      <td>35 - 44</td>\n",
       "    </tr>\n",
       "  </tbody>\n",
       "</table>\n",
       "</div>"
      ],
      "text/plain": [
       "     Unnamed: 0  year state state_name  age_pc  Data_Value_Alt  \\\n",
       "1             1  2016    US   National    35.7            35.7   \n",
       "276         276  2016    US   National    33.1            33.1   \n",
       "\n",
       "                                              Question  Sample_Size  Total  \\\n",
       "1    Percent of adults aged 18 years and older who ...      48951.0    NaN   \n",
       "276  Percent of adults aged 18 years and older who ...      48951.0    NaN   \n",
       "\n",
       "         Age GeoLocation  LocationID StratificationCategory1 Stratification1  \n",
       "1    35 - 44         NaN          59             Age (years)         35 - 44  \n",
       "276  35 - 44         NaN          59             Age (years)         35 - 44  "
      ]
     },
     "execution_count": 14,
     "metadata": {},
     "output_type": "execute_result"
    }
   ],
   "source": [
    "# create filter named \"ages_35_44_in_2016_national\"\n",
    "ages_35_44_in_2016_national=age_obesity_in_US_national_2016_df[(age_obesity_in_US_national_2016_df['Age']=='35 - 44')]\n",
    "ages_35_44_in_2016_national\n"
   ]
  },
  {
   "cell_type": "code",
   "execution_count": 15,
   "metadata": {},
   "outputs": [
    {
     "data": {
      "text/plain": [
       "34.400000000000006"
      ]
     },
     "execution_count": 15,
     "metadata": {},
     "output_type": "execute_result"
    }
   ],
   "source": [
    "# average obesity rate for ages 35-44 in 2016\n",
    "ages_35_44_in_2016_national_avg=ages_35_44_in_2016_national['age_pc'].mean()\n",
    "ages_35_44_in_2016_national_avg\n"
   ]
  },
  {
   "cell_type": "code",
   "execution_count": 16,
   "metadata": {},
   "outputs": [
    {
     "name": "stdout",
     "output_type": "stream",
     "text": [
      "The national obesity rate average for ages 35-44 in 2016\n",
      "========================================================\n",
      "Age\n",
      "35 - 44    34.4\n",
      "Name: age_pc, dtype: float64\n"
     ]
    }
   ],
   "source": [
    "# Use \"ages_35_44_in_2016_national_avg\" filter to show the national ages 35-44 obesity rate average on chart\n",
    "ages_35_44_in_2016_national_avg=ages_35_44_in_2016_national.groupby('Age')['age_pc'].mean()\n",
    "ages_35_44_in_2016_national_avg\n",
    "title1='The national obesity rate average for ages 35-44 in 2016'\n",
    "print(\"{}\\n{}\".format(title1, '='*len(title1)))\n",
    "print(ages_35_44_in_2016_national_avg.sort_values())\n",
    "\n"
   ]
  },
  {
   "cell_type": "markdown",
   "metadata": {},
   "source": [
    "### Answer:  On a national scale, 34.4% of adults ages 35-44 were obese in 2016. "
   ]
  },
  {
   "cell_type": "markdown",
   "metadata": {},
   "source": [
    "# Question 4: What was the national obesity rate for ages 45 - 54  in 2016?"
   ]
  },
  {
   "cell_type": "code",
   "execution_count": 17,
   "metadata": {},
   "outputs": [
    {
     "data": {
      "text/html": [
       "<div>\n",
       "<style scoped>\n",
       "    .dataframe tbody tr th:only-of-type {\n",
       "        vertical-align: middle;\n",
       "    }\n",
       "\n",
       "    .dataframe tbody tr th {\n",
       "        vertical-align: top;\n",
       "    }\n",
       "\n",
       "    .dataframe thead th {\n",
       "        text-align: right;\n",
       "    }\n",
       "</style>\n",
       "<table border=\"1\" class=\"dataframe\">\n",
       "  <thead>\n",
       "    <tr style=\"text-align: right;\">\n",
       "      <th></th>\n",
       "      <th>Unnamed: 0</th>\n",
       "      <th>year</th>\n",
       "      <th>state</th>\n",
       "      <th>state_name</th>\n",
       "      <th>age_pc</th>\n",
       "      <th>Data_Value_Alt</th>\n",
       "      <th>Question</th>\n",
       "      <th>Sample_Size</th>\n",
       "      <th>Total</th>\n",
       "      <th>Age</th>\n",
       "      <th>GeoLocation</th>\n",
       "      <th>LocationID</th>\n",
       "      <th>StratificationCategory1</th>\n",
       "      <th>Stratification1</th>\n",
       "    </tr>\n",
       "  </thead>\n",
       "  <tbody>\n",
       "    <tr>\n",
       "      <th>8</th>\n",
       "      <td>8</td>\n",
       "      <td>2016</td>\n",
       "      <td>US</td>\n",
       "      <td>National</td>\n",
       "      <td>37.1</td>\n",
       "      <td>37.1</td>\n",
       "      <td>Percent of adults aged 18 years and older who ...</td>\n",
       "      <td>68854.0</td>\n",
       "      <td>NaN</td>\n",
       "      <td>45 - 54</td>\n",
       "      <td>NaN</td>\n",
       "      <td>59</td>\n",
       "      <td>Age (years)</td>\n",
       "      <td>45 - 54</td>\n",
       "    </tr>\n",
       "    <tr>\n",
       "      <th>277</th>\n",
       "      <td>277</td>\n",
       "      <td>2016</td>\n",
       "      <td>US</td>\n",
       "      <td>National</td>\n",
       "      <td>35.1</td>\n",
       "      <td>35.1</td>\n",
       "      <td>Percent of adults aged 18 years and older who ...</td>\n",
       "      <td>68854.0</td>\n",
       "      <td>NaN</td>\n",
       "      <td>45 - 54</td>\n",
       "      <td>NaN</td>\n",
       "      <td>59</td>\n",
       "      <td>Age (years)</td>\n",
       "      <td>45 - 54</td>\n",
       "    </tr>\n",
       "  </tbody>\n",
       "</table>\n",
       "</div>"
      ],
      "text/plain": [
       "     Unnamed: 0  year state state_name  age_pc  Data_Value_Alt  \\\n",
       "8             8  2016    US   National    37.1            37.1   \n",
       "277         277  2016    US   National    35.1            35.1   \n",
       "\n",
       "                                              Question  Sample_Size  Total  \\\n",
       "8    Percent of adults aged 18 years and older who ...      68854.0    NaN   \n",
       "277  Percent of adults aged 18 years and older who ...      68854.0    NaN   \n",
       "\n",
       "         Age GeoLocation  LocationID StratificationCategory1 Stratification1  \n",
       "8    45 - 54         NaN          59             Age (years)         45 - 54  \n",
       "277  45 - 54         NaN          59             Age (years)         45 - 54  "
      ]
     },
     "execution_count": 17,
     "metadata": {},
     "output_type": "execute_result"
    }
   ],
   "source": [
    "# create filter named \"ages_45_54_in_2016_national\"\n",
    "ages_45_54_in_2016_national=age_obesity_in_US_national_2016_df[(age_obesity_in_US_national_2016_df['Age']=='45 - 54')]\n",
    "ages_45_54_in_2016_national\n"
   ]
  },
  {
   "cell_type": "code",
   "execution_count": 18,
   "metadata": {},
   "outputs": [
    {
     "data": {
      "text/plain": [
       "36.1"
      ]
     },
     "execution_count": 18,
     "metadata": {},
     "output_type": "execute_result"
    }
   ],
   "source": [
    "# average obesity rate for ages 45-54 in 2016\n",
    "ages_45_54_in_2016_national_avg=ages_45_54_in_2016_national['age_pc'].mean()\n",
    "ages_45_54_in_2016_national_avg"
   ]
  },
  {
   "cell_type": "code",
   "execution_count": 19,
   "metadata": {},
   "outputs": [
    {
     "name": "stdout",
     "output_type": "stream",
     "text": [
      "The national obesity rate average for ages 45-54 in 2016\n",
      "========================================================\n",
      "Age\n",
      "45 - 54    36.1\n",
      "Name: age_pc, dtype: float64\n"
     ]
    }
   ],
   "source": [
    "# Use \"ages_45_54_in_2016_national_avg\" filter to show the national ages 45-54 obesity rate average on chart\n",
    "ages_45_54_in_2016_national_avg=ages_45_54_in_2016_national.groupby('Age')['age_pc'].mean()\n",
    "ages_45_54_in_2016_national_avg\n",
    "title1='The national obesity rate average for ages 45-54 in 2016'\n",
    "print(\"{}\\n{}\".format(title1, '='*len(title1)))\n",
    "print(ages_45_54_in_2016_national_avg.sort_values())"
   ]
  },
  {
   "cell_type": "markdown",
   "metadata": {},
   "source": [
    "### Answer:  On a national scale, 36.1% of adults ages 45-54 were obese in 2016. "
   ]
  },
  {
   "cell_type": "markdown",
   "metadata": {},
   "source": [
    "# Question 5: What was the national obesity rate for ages 55-64 in 2016?"
   ]
  },
  {
   "cell_type": "code",
   "execution_count": 20,
   "metadata": {},
   "outputs": [
    {
     "data": {
      "text/html": [
       "<div>\n",
       "<style scoped>\n",
       "    .dataframe tbody tr th:only-of-type {\n",
       "        vertical-align: middle;\n",
       "    }\n",
       "\n",
       "    .dataframe tbody tr th {\n",
       "        vertical-align: top;\n",
       "    }\n",
       "\n",
       "    .dataframe thead th {\n",
       "        text-align: right;\n",
       "    }\n",
       "</style>\n",
       "<table border=\"1\" class=\"dataframe\">\n",
       "  <thead>\n",
       "    <tr style=\"text-align: right;\">\n",
       "      <th></th>\n",
       "      <th>Unnamed: 0</th>\n",
       "      <th>year</th>\n",
       "      <th>state</th>\n",
       "      <th>state_name</th>\n",
       "      <th>age_pc</th>\n",
       "      <th>Data_Value_Alt</th>\n",
       "      <th>Question</th>\n",
       "      <th>Sample_Size</th>\n",
       "      <th>Total</th>\n",
       "      <th>Age</th>\n",
       "      <th>GeoLocation</th>\n",
       "      <th>LocationID</th>\n",
       "      <th>StratificationCategory1</th>\n",
       "      <th>Stratification1</th>\n",
       "    </tr>\n",
       "  </thead>\n",
       "  <tbody>\n",
       "    <tr>\n",
       "      <th>9</th>\n",
       "      <td>9</td>\n",
       "      <td>2016</td>\n",
       "      <td>US</td>\n",
       "      <td>National</td>\n",
       "      <td>37.5</td>\n",
       "      <td>37.5</td>\n",
       "      <td>Percent of adults aged 18 years and older who ...</td>\n",
       "      <td>96566.0</td>\n",
       "      <td>NaN</td>\n",
       "      <td>55 - 64</td>\n",
       "      <td>NaN</td>\n",
       "      <td>59</td>\n",
       "      <td>Age (years)</td>\n",
       "      <td>55 - 64</td>\n",
       "    </tr>\n",
       "    <tr>\n",
       "      <th>278</th>\n",
       "      <td>278</td>\n",
       "      <td>2016</td>\n",
       "      <td>US</td>\n",
       "      <td>National</td>\n",
       "      <td>34.2</td>\n",
       "      <td>34.2</td>\n",
       "      <td>Percent of adults aged 18 years and older who ...</td>\n",
       "      <td>96566.0</td>\n",
       "      <td>NaN</td>\n",
       "      <td>55 - 64</td>\n",
       "      <td>NaN</td>\n",
       "      <td>59</td>\n",
       "      <td>Age (years)</td>\n",
       "      <td>55 - 64</td>\n",
       "    </tr>\n",
       "  </tbody>\n",
       "</table>\n",
       "</div>"
      ],
      "text/plain": [
       "     Unnamed: 0  year state state_name  age_pc  Data_Value_Alt  \\\n",
       "9             9  2016    US   National    37.5            37.5   \n",
       "278         278  2016    US   National    34.2            34.2   \n",
       "\n",
       "                                              Question  Sample_Size  Total  \\\n",
       "9    Percent of adults aged 18 years and older who ...      96566.0    NaN   \n",
       "278  Percent of adults aged 18 years and older who ...      96566.0    NaN   \n",
       "\n",
       "         Age GeoLocation  LocationID StratificationCategory1 Stratification1  \n",
       "9    55 - 64         NaN          59             Age (years)         55 - 64  \n",
       "278  55 - 64         NaN          59             Age (years)         55 - 64  "
      ]
     },
     "execution_count": 20,
     "metadata": {},
     "output_type": "execute_result"
    }
   ],
   "source": [
    "# create filter named \"ages_55_64_in_2016_national\"\n",
    "ages_55_64_in_2016_national=age_obesity_in_US_national_2016_df[(age_obesity_in_US_national_2016_df['Age']=='55 - 64')]\n",
    "ages_55_64_in_2016_national\n",
    "\n"
   ]
  },
  {
   "cell_type": "code",
   "execution_count": 21,
   "metadata": {},
   "outputs": [
    {
     "data": {
      "text/plain": [
       "35.85"
      ]
     },
     "execution_count": 21,
     "metadata": {},
     "output_type": "execute_result"
    }
   ],
   "source": [
    "# average obesity rate for ages 55-64 in 2016\n",
    "ages_55_64_in_2016_national_avg=ages_55_64_in_2016_national['age_pc'].mean()\n",
    "ages_55_64_in_2016_national_avg"
   ]
  },
  {
   "cell_type": "code",
   "execution_count": 22,
   "metadata": {},
   "outputs": [
    {
     "name": "stdout",
     "output_type": "stream",
     "text": [
      "The national obesity rate average for ages 55-64 in 2016\n",
      "========================================================\n",
      "Age\n",
      "55 - 64    35.85\n",
      "Name: age_pc, dtype: float64\n"
     ]
    }
   ],
   "source": [
    "# Use \"ages_55_64_in_2016_national_avg\" filter to show the national ages 55-64 obesity rate average on chart\n",
    "ages_55_64_in_2016_national_avg=ages_55_64_in_2016_national.groupby('Age')['age_pc'].mean()\n",
    "ages_55_64_in_2016_national_avg\n",
    "title1='The national obesity rate average for ages 55-64 in 2016'\n",
    "print(\"{}\\n{}\".format(title1, '='*len(title1)))\n",
    "print(ages_55_64_in_2016_national_avg.sort_values())"
   ]
  },
  {
   "cell_type": "markdown",
   "metadata": {},
   "source": [
    "### Answer:  On a national scale, 35.85% of adults ages 55-64 were obese in 2016. "
   ]
  },
  {
   "cell_type": "markdown",
   "metadata": {},
   "source": [
    "# Question 6: What was the national obesity rate for ages 65 or older in 2016?"
   ]
  },
  {
   "cell_type": "code",
   "execution_count": 23,
   "metadata": {},
   "outputs": [
    {
     "data": {
      "text/html": [
       "<div>\n",
       "<style scoped>\n",
       "    .dataframe tbody tr th:only-of-type {\n",
       "        vertical-align: middle;\n",
       "    }\n",
       "\n",
       "    .dataframe tbody tr th {\n",
       "        vertical-align: top;\n",
       "    }\n",
       "\n",
       "    .dataframe thead th {\n",
       "        text-align: right;\n",
       "    }\n",
       "</style>\n",
       "<table border=\"1\" class=\"dataframe\">\n",
       "  <thead>\n",
       "    <tr style=\"text-align: right;\">\n",
       "      <th></th>\n",
       "      <th>Unnamed: 0</th>\n",
       "      <th>year</th>\n",
       "      <th>state</th>\n",
       "      <th>state_name</th>\n",
       "      <th>age_pc</th>\n",
       "      <th>Data_Value_Alt</th>\n",
       "      <th>Question</th>\n",
       "      <th>Sample_Size</th>\n",
       "      <th>Total</th>\n",
       "      <th>Age</th>\n",
       "      <th>GeoLocation</th>\n",
       "      <th>LocationID</th>\n",
       "      <th>StratificationCategory1</th>\n",
       "      <th>Stratification1</th>\n",
       "    </tr>\n",
       "  </thead>\n",
       "  <tbody>\n",
       "    <tr>\n",
       "      <th>10</th>\n",
       "      <td>10</td>\n",
       "      <td>2016</td>\n",
       "      <td>US</td>\n",
       "      <td>National</td>\n",
       "      <td>39.0</td>\n",
       "      <td>39.0</td>\n",
       "      <td>Percent of adults aged 18 years and older who ...</td>\n",
       "      <td>157668.0</td>\n",
       "      <td>NaN</td>\n",
       "      <td>65 or older</td>\n",
       "      <td>NaN</td>\n",
       "      <td>59</td>\n",
       "      <td>Age (years)</td>\n",
       "      <td>65 or older</td>\n",
       "    </tr>\n",
       "    <tr>\n",
       "      <th>279</th>\n",
       "      <td>279</td>\n",
       "      <td>2016</td>\n",
       "      <td>US</td>\n",
       "      <td>National</td>\n",
       "      <td>28.0</td>\n",
       "      <td>28.0</td>\n",
       "      <td>Percent of adults aged 18 years and older who ...</td>\n",
       "      <td>157668.0</td>\n",
       "      <td>NaN</td>\n",
       "      <td>65 or older</td>\n",
       "      <td>NaN</td>\n",
       "      <td>59</td>\n",
       "      <td>Age (years)</td>\n",
       "      <td>65 or older</td>\n",
       "    </tr>\n",
       "  </tbody>\n",
       "</table>\n",
       "</div>"
      ],
      "text/plain": [
       "     Unnamed: 0  year state state_name  age_pc  Data_Value_Alt  \\\n",
       "10           10  2016    US   National    39.0            39.0   \n",
       "279         279  2016    US   National    28.0            28.0   \n",
       "\n",
       "                                              Question  Sample_Size  Total  \\\n",
       "10   Percent of adults aged 18 years and older who ...     157668.0    NaN   \n",
       "279  Percent of adults aged 18 years and older who ...     157668.0    NaN   \n",
       "\n",
       "             Age GeoLocation  LocationID StratificationCategory1  \\\n",
       "10   65 or older         NaN          59             Age (years)   \n",
       "279  65 or older         NaN          59             Age (years)   \n",
       "\n",
       "    Stratification1  \n",
       "10      65 or older  \n",
       "279     65 or older  "
      ]
     },
     "execution_count": 23,
     "metadata": {},
     "output_type": "execute_result"
    }
   ],
   "source": [
    "# create filter named \"ages_65_older_in_2016_national\"\n",
    "ages_65_older_in_2016_national=age_obesity_in_US_national_2016_df[(age_obesity_in_US_national_2016_df['Age']=='65 or older')]\n",
    "ages_65_older_in_2016_national\n"
   ]
  },
  {
   "cell_type": "code",
   "execution_count": 24,
   "metadata": {},
   "outputs": [
    {
     "data": {
      "text/plain": [
       "33.5"
      ]
     },
     "execution_count": 24,
     "metadata": {},
     "output_type": "execute_result"
    }
   ],
   "source": [
    "# average obesity rate for ages 65 or older in 2016\n",
    "ages_65_older_in_2016_national_avg=ages_65_older_in_2016_national['age_pc'].mean()\n",
    "ages_65_older_in_2016_national_avg"
   ]
  },
  {
   "cell_type": "code",
   "execution_count": 25,
   "metadata": {},
   "outputs": [
    {
     "name": "stdout",
     "output_type": "stream",
     "text": [
      "The national obesity rate average for ages 65 or older in 2016\n",
      "==============================================================\n",
      "Age\n",
      "65 or older    33.5\n",
      "Name: age_pc, dtype: float64\n"
     ]
    }
   ],
   "source": [
    "# Use \"ages_65_older_in_2016_national_avg\" filter to show the national ages 65 or older obesity rate average on chart\n",
    "ages_65_older_in_2016_national_avg=ages_65_older_in_2016_national.groupby('Age')['age_pc'].mean()\n",
    "ages_65_older_in_2016_national_avg\n",
    "title1='The national obesity rate average for ages 65 or older in 2016'\n",
    "print(\"{}\\n{}\".format(title1, '='*len(title1)))\n",
    "print(ages_65_older_in_2016_national_avg.sort_values())\n"
   ]
  },
  {
   "cell_type": "markdown",
   "metadata": {},
   "source": [
    "### Answer:  On a national scale, 33.5% of adults ages 65 or older were obese in 2016. "
   ]
  },
  {
   "cell_type": "markdown",
   "metadata": {},
   "source": [
    "# Question 7: National Obesity Rates by Age in 2016"
   ]
  },
  {
   "cell_type": "code",
   "execution_count": 26,
   "metadata": {},
   "outputs": [],
   "source": [
    "# create filter named \"list_of_dfs\" to bring all of the age group data frames for 2016 together  \n",
    "# create filter named \"combined_df_age_2016\" to bring all the national obesity rates per age group together\n",
    "list_of_dfs = [ages_18_24_in_2016_national_avg,\n",
    "               ages_35_44_in_2016_national_avg,\n",
    "               ages_45_54_in_2016_national_avg,\n",
    "               ages_55_64_in_2016_national_avg,\n",
    "               ages_65_older_in_2016_national_avg]\n",
    "\n",
    "combined_df_age_2016 = pd.concat(list_of_dfs)"
   ]
  },
  {
   "cell_type": "code",
   "execution_count": 27,
   "metadata": {},
   "outputs": [
    {
     "data": {
      "text/plain": [
       "Text(0.5, 1.0, 'Obesity Rate by Age in 2016')"
      ]
     },
     "execution_count": 27,
     "metadata": {},
     "output_type": "execute_result"
    },
    {
     "data": {
      "image/png": "[encoded data removed]",
      "text/plain": [
       "<Figure size 432x288 with 1 Axes>"
      ]
     },
     "metadata": {
      "needs_background": "light"
     },
     "output_type": "display_data"
    }
   ],
   "source": [
    "# plot a graph of the age groups obesity rates\n",
    "combined_df_age_2016.plot(kind='bar', color='pink')\n",
    "plt.title('Obesity Rate by Age in 2016')"
   ]
  },
  {
   "cell_type": "markdown",
   "metadata": {},
   "source": [
    "In 2016, 45-54 year olds were the most obese"
   ]
  },
  {
   "cell_type": "markdown",
   "metadata": {},
   "source": [
    "# Conclusion\n",
    "- The national obesity rate average in 2016 was 32.3%\n",
    "- On a national scale, 21.4% of adults ages 18-24 were obese in 2016.\n",
    "- On a national scale, 34.4% of adults ages 35-44 were obese in 2016.\n",
    "- On a national scale, 36.1% of adults ages 45-54 were obese in 2016.\n",
    "- On a national scale, 35.85% of adults ages 55-64 were obese in 2016.\n",
    "- On a national scale, 33.5% of adults ages 65 or older were obese in 2016."
   ]
  }
 ],
 "metadata": {
  "kernelspec": {
   "display_name": "Python 3",
   "language": "python",
   "name": "python3"
  },
  "language_info": {
   "codemirror_mode": {
    "name": "ipython",
    "version": 3
   },
   "file_extension": ".py",
   "mimetype": "text/x-python",
   "name": "python",
   "nbconvert_exporter": "python",
   "pygments_lexer": "ipython3",
   "version": "3.7.3"
  }
 },
 "nbformat": 4,
 "nbformat_minor": 2
}
