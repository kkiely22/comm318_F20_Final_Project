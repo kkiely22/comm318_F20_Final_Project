{
 "cells": [
  {
   "cell_type": "markdown",
   "metadata": {},
   "source": [
    "# US Obesity Rate by Income in 2014\n",
    "- This notebook will explore obesity rates of 6 income groups. \n",
    "    - less than $15,000\n",
    "    \n",
    "    - $15,000 - $24,999\n",
    "    \n",
    "    - $25,000 - $34,999\n",
    "    \n",
    "    - $35,000 - $49,999\n",
    "    \n",
    "    - $50,000 - $74,999\n",
    "    \n",
    "    - $75,000 or greater\n",
    "- First, the notebook will calculate the national obesity rate \n",
    "- Second, the notebook will calculate the average national obesity rate per income group. \n",
    "- Third, the notebook will show a graph comparing the national obesity rates per income group\n",
    "- The purpose of this notebook is to show what income group had the highest and lowest obesity rate in 2014"
   ]
  },
  {
   "cell_type": "markdown",
   "metadata": {},
   "source": [
    "# Setup"
   ]
  },
  {
   "cell_type": "code",
   "execution_count": 1,
   "metadata": {},
   "outputs": [],
   "source": [
    "import pandas as pd\n",
    "import matplotlib.pyplot as plt\n",
    "import numpy.random as np\n",
    "import sys\n",
    "import matplotlib \n",
    "import seaborn as sns\n",
    "import numpy as np"
   ]
  },
  {
   "cell_type": "markdown",
   "metadata": {},
   "source": [
    "# Load & Inspect 2014 Obesity by Income Data Frame"
   ]
  },
  {
   "cell_type": "code",
   "execution_count": 2,
   "metadata": {},
   "outputs": [],
   "source": [
    "obesity_in_US_income_2014 = pd.read_csv('../data/Clean Data/obesity_in_US_income_2014.csv')"
   ]
  },
  {
   "cell_type": "code",
   "execution_count": 3,
   "metadata": {},
   "outputs": [
    {
     "data": {
      "text/html": [
       "<div>\n",
       "<style scoped>\n",
       "    .dataframe tbody tr th:only-of-type {\n",
       "        vertical-align: middle;\n",
       "    }\n",
       "\n",
       "    .dataframe tbody tr th {\n",
       "        vertical-align: top;\n",
       "    }\n",
       "\n",
       "    .dataframe thead th {\n",
       "        text-align: right;\n",
       "    }\n",
       "</style>\n",
       "<table border=\"1\" class=\"dataframe\">\n",
       "  <thead>\n",
       "    <tr style=\"text-align: right;\">\n",
       "      <th></th>\n",
       "      <th>Unnamed: 0</th>\n",
       "      <th>year</th>\n",
       "      <th>state</th>\n",
       "      <th>state_name</th>\n",
       "      <th>income_pc</th>\n",
       "      <th>Data_Value_Alt</th>\n",
       "      <th>Question</th>\n",
       "      <th>Sample_Size</th>\n",
       "      <th>Total</th>\n",
       "      <th>Income</th>\n",
       "      <th>GeoLocation</th>\n",
       "      <th>LocationID</th>\n",
       "      <th>StratificationCategory1</th>\n",
       "      <th>Stratification1</th>\n",
       "    </tr>\n",
       "  </thead>\n",
       "  <tbody>\n",
       "    <tr>\n",
       "      <th>0</th>\n",
       "      <td>0</td>\n",
       "      <td>2014</td>\n",
       "      <td>AL</td>\n",
       "      <td>Alabama</td>\n",
       "      <td>34.5</td>\n",
       "      <td>34.5</td>\n",
       "      <td>Percent of adults aged 18 years and older who ...</td>\n",
       "      <td>1108.0</td>\n",
       "      <td>NaN</td>\n",
       "      <td>Less than $15,000</td>\n",
       "      <td>(32.84057112200048, -86.63186076199969)</td>\n",
       "      <td>1</td>\n",
       "      <td>Income</td>\n",
       "      <td>Less than $15,000</td>\n",
       "    </tr>\n",
       "    <tr>\n",
       "      <th>1</th>\n",
       "      <td>1</td>\n",
       "      <td>2014</td>\n",
       "      <td>AL</td>\n",
       "      <td>Alabama</td>\n",
       "      <td>40.6</td>\n",
       "      <td>40.6</td>\n",
       "      <td>Percent of adults aged 18 years and older who ...</td>\n",
       "      <td>1406.0</td>\n",
       "      <td>NaN</td>\n",
       "      <td>$15,000 - $24,999</td>\n",
       "      <td>(32.84057112200048, -86.63186076199969)</td>\n",
       "      <td>1</td>\n",
       "      <td>Income</td>\n",
       "      <td>$15,000 - $24,999</td>\n",
       "    </tr>\n",
       "    <tr>\n",
       "      <th>2</th>\n",
       "      <td>2</td>\n",
       "      <td>2014</td>\n",
       "      <td>AL</td>\n",
       "      <td>Alabama</td>\n",
       "      <td>35.4</td>\n",
       "      <td>35.4</td>\n",
       "      <td>Percent of adults aged 18 years and older who ...</td>\n",
       "      <td>776.0</td>\n",
       "      <td>NaN</td>\n",
       "      <td>$25,000 - $34,999</td>\n",
       "      <td>(32.84057112200048, -86.63186076199969)</td>\n",
       "      <td>1</td>\n",
       "      <td>Income</td>\n",
       "      <td>$25,000 - $34,999</td>\n",
       "    </tr>\n",
       "    <tr>\n",
       "      <th>3</th>\n",
       "      <td>3</td>\n",
       "      <td>2014</td>\n",
       "      <td>AL</td>\n",
       "      <td>Alabama</td>\n",
       "      <td>35.5</td>\n",
       "      <td>35.5</td>\n",
       "      <td>Percent of adults aged 18 years and older who ...</td>\n",
       "      <td>986.0</td>\n",
       "      <td>NaN</td>\n",
       "      <td>$35,000 - $49,999</td>\n",
       "      <td>(32.84057112200048, -86.63186076199969)</td>\n",
       "      <td>1</td>\n",
       "      <td>Income</td>\n",
       "      <td>$35,000 - $49,999</td>\n",
       "    </tr>\n",
       "    <tr>\n",
       "      <th>4</th>\n",
       "      <td>4</td>\n",
       "      <td>2014</td>\n",
       "      <td>AL</td>\n",
       "      <td>Alabama</td>\n",
       "      <td>32.4</td>\n",
       "      <td>32.4</td>\n",
       "      <td>Percent of adults aged 18 years and older who ...</td>\n",
       "      <td>959.0</td>\n",
       "      <td>NaN</td>\n",
       "      <td>$50,000 - $74,999</td>\n",
       "      <td>(32.84057112200048, -86.63186076199969)</td>\n",
       "      <td>1</td>\n",
       "      <td>Income</td>\n",
       "      <td>$50,000 - $74,999</td>\n",
       "    </tr>\n",
       "    <tr>\n",
       "      <th>...</th>\n",
       "      <td>...</td>\n",
       "      <td>...</td>\n",
       "      <td>...</td>\n",
       "      <td>...</td>\n",
       "      <td>...</td>\n",
       "      <td>...</td>\n",
       "      <td>...</td>\n",
       "      <td>...</td>\n",
       "      <td>...</td>\n",
       "      <td>...</td>\n",
       "      <td>...</td>\n",
       "      <td>...</td>\n",
       "      <td>...</td>\n",
       "      <td>...</td>\n",
       "    </tr>\n",
       "    <tr>\n",
       "      <th>751</th>\n",
       "      <td>751</td>\n",
       "      <td>2014</td>\n",
       "      <td>WY</td>\n",
       "      <td>Wyoming</td>\n",
       "      <td>31.7</td>\n",
       "      <td>31.7</td>\n",
       "      <td>Percent of adults aged 18 years and older who ...</td>\n",
       "      <td>599.0</td>\n",
       "      <td>NaN</td>\n",
       "      <td>$25,000 - $34,999</td>\n",
       "      <td>(43.23554134300048, -108.10983035299967)</td>\n",
       "      <td>56</td>\n",
       "      <td>Income</td>\n",
       "      <td>$25,000 - $34,999</td>\n",
       "    </tr>\n",
       "    <tr>\n",
       "      <th>752</th>\n",
       "      <td>752</td>\n",
       "      <td>2014</td>\n",
       "      <td>WY</td>\n",
       "      <td>Wyoming</td>\n",
       "      <td>32.8</td>\n",
       "      <td>32.8</td>\n",
       "      <td>Percent of adults aged 18 years and older who ...</td>\n",
       "      <td>768.0</td>\n",
       "      <td>NaN</td>\n",
       "      <td>$35,000 - $49,999</td>\n",
       "      <td>(43.23554134300048, -108.10983035299967)</td>\n",
       "      <td>56</td>\n",
       "      <td>Income</td>\n",
       "      <td>$35,000 - $49,999</td>\n",
       "    </tr>\n",
       "    <tr>\n",
       "      <th>753</th>\n",
       "      <td>753</td>\n",
       "      <td>2014</td>\n",
       "      <td>WY</td>\n",
       "      <td>Wyoming</td>\n",
       "      <td>39.7</td>\n",
       "      <td>39.7</td>\n",
       "      <td>Percent of adults aged 18 years and older who ...</td>\n",
       "      <td>898.0</td>\n",
       "      <td>NaN</td>\n",
       "      <td>$50,000 - $74,999</td>\n",
       "      <td>(43.23554134300048, -108.10983035299967)</td>\n",
       "      <td>56</td>\n",
       "      <td>Income</td>\n",
       "      <td>$50,000 - $74,999</td>\n",
       "    </tr>\n",
       "    <tr>\n",
       "      <th>754</th>\n",
       "      <td>754</td>\n",
       "      <td>2014</td>\n",
       "      <td>WY</td>\n",
       "      <td>Wyoming</td>\n",
       "      <td>38.8</td>\n",
       "      <td>38.8</td>\n",
       "      <td>Percent of adults aged 18 years and older who ...</td>\n",
       "      <td>1498.0</td>\n",
       "      <td>NaN</td>\n",
       "      <td>$75,000 or greater</td>\n",
       "      <td>(43.23554134300048, -108.10983035299967)</td>\n",
       "      <td>56</td>\n",
       "      <td>Income</td>\n",
       "      <td>$75,000 or greater</td>\n",
       "    </tr>\n",
       "    <tr>\n",
       "      <th>755</th>\n",
       "      <td>755</td>\n",
       "      <td>2014</td>\n",
       "      <td>WY</td>\n",
       "      <td>Wyoming</td>\n",
       "      <td>33.1</td>\n",
       "      <td>33.1</td>\n",
       "      <td>Percent of adults aged 18 years and older who ...</td>\n",
       "      <td>965.0</td>\n",
       "      <td>NaN</td>\n",
       "      <td>Data not reported</td>\n",
       "      <td>(43.23554134300048, -108.10983035299967)</td>\n",
       "      <td>56</td>\n",
       "      <td>Income</td>\n",
       "      <td>Data not reported</td>\n",
       "    </tr>\n",
       "  </tbody>\n",
       "</table>\n",
       "<p>756 rows × 14 columns</p>\n",
       "</div>"
      ],
      "text/plain": [
       "     Unnamed: 0  year state state_name  income_pc  Data_Value_Alt  \\\n",
       "0             0  2014    AL    Alabama       34.5            34.5   \n",
       "1             1  2014    AL    Alabama       40.6            40.6   \n",
       "2             2  2014    AL    Alabama       35.4            35.4   \n",
       "3             3  2014    AL    Alabama       35.5            35.5   \n",
       "4             4  2014    AL    Alabama       32.4            32.4   \n",
       "..          ...   ...   ...        ...        ...             ...   \n",
       "751         751  2014    WY    Wyoming       31.7            31.7   \n",
       "752         752  2014    WY    Wyoming       32.8            32.8   \n",
       "753         753  2014    WY    Wyoming       39.7            39.7   \n",
       "754         754  2014    WY    Wyoming       38.8            38.8   \n",
       "755         755  2014    WY    Wyoming       33.1            33.1   \n",
       "\n",
       "                                              Question  Sample_Size  Total  \\\n",
       "0    Percent of adults aged 18 years and older who ...       1108.0    NaN   \n",
       "1    Percent of adults aged 18 years and older who ...       1406.0    NaN   \n",
       "2    Percent of adults aged 18 years and older who ...        776.0    NaN   \n",
       "3    Percent of adults aged 18 years and older who ...        986.0    NaN   \n",
       "4    Percent of adults aged 18 years and older who ...        959.0    NaN   \n",
       "..                                                 ...          ...    ...   \n",
       "751  Percent of adults aged 18 years and older who ...        599.0    NaN   \n",
       "752  Percent of adults aged 18 years and older who ...        768.0    NaN   \n",
       "753  Percent of adults aged 18 years and older who ...        898.0    NaN   \n",
       "754  Percent of adults aged 18 years and older who ...       1498.0    NaN   \n",
       "755  Percent of adults aged 18 years and older who ...        965.0    NaN   \n",
       "\n",
       "                 Income                               GeoLocation  LocationID  \\\n",
       "0     Less than $15,000   (32.84057112200048, -86.63186076199969)           1   \n",
       "1     $15,000 - $24,999   (32.84057112200048, -86.63186076199969)           1   \n",
       "2     $25,000 - $34,999   (32.84057112200048, -86.63186076199969)           1   \n",
       "3     $35,000 - $49,999   (32.84057112200048, -86.63186076199969)           1   \n",
       "4     $50,000 - $74,999   (32.84057112200048, -86.63186076199969)           1   \n",
       "..                  ...                                       ...         ...   \n",
       "751   $25,000 - $34,999  (43.23554134300048, -108.10983035299967)          56   \n",
       "752   $35,000 - $49,999  (43.23554134300048, -108.10983035299967)          56   \n",
       "753   $50,000 - $74,999  (43.23554134300048, -108.10983035299967)          56   \n",
       "754  $75,000 or greater  (43.23554134300048, -108.10983035299967)          56   \n",
       "755   Data not reported  (43.23554134300048, -108.10983035299967)          56   \n",
       "\n",
       "    StratificationCategory1     Stratification1  \n",
       "0                    Income   Less than $15,000  \n",
       "1                    Income   $15,000 - $24,999  \n",
       "2                    Income   $25,000 - $34,999  \n",
       "3                    Income   $35,000 - $49,999  \n",
       "4                    Income   $50,000 - $74,999  \n",
       "..                      ...                 ...  \n",
       "751                  Income   $25,000 - $34,999  \n",
       "752                  Income   $35,000 - $49,999  \n",
       "753                  Income   $50,000 - $74,999  \n",
       "754                  Income  $75,000 or greater  \n",
       "755                  Income   Data not reported  \n",
       "\n",
       "[756 rows x 14 columns]"
      ]
     },
     "execution_count": 3,
     "metadata": {},
     "output_type": "execute_result"
    }
   ],
   "source": [
    "obesity_in_US_income_2014"
   ]
  },
  {
   "cell_type": "code",
   "execution_count": 4,
   "metadata": {},
   "outputs": [
    {
     "data": {
      "text/plain": [
       "array(['Less than $15,000', '$15,000 - $24,999', '$25,000 - $34,999',\n",
       "       '$35,000 - $49,999', '$50,000 - $74,999', '$75,000 or greater',\n",
       "       'Data not reported'], dtype=object)"
      ]
     },
     "execution_count": 4,
     "metadata": {},
     "output_type": "execute_result"
    }
   ],
   "source": [
    "obesity_in_US_income_2014['Income'].unique()"
   ]
  },
  {
   "cell_type": "code",
   "execution_count": 5,
   "metadata": {},
   "outputs": [
    {
     "data": {
      "text/plain": [
       "$50,000 - $74,999     108\n",
       "$35,000 - $49,999     108\n",
       "$75,000 or greater    108\n",
       "Less than $15,000     108\n",
       "Data not reported     108\n",
       "$25,000 - $34,999     108\n",
       "$15,000 - $24,999     108\n",
       "Name: Income, dtype: int64"
      ]
     },
     "execution_count": 5,
     "metadata": {},
     "output_type": "execute_result"
    }
   ],
   "source": [
    "obesity_in_US_income_2014['Income'].value_counts()"
   ]
  },
  {
   "cell_type": "code",
   "execution_count": 6,
   "metadata": {},
   "outputs": [
    {
     "data": {
      "text/plain": [
       "array(['Less than $15,000', '$15,000 - $24,999', '$25,000 - $34,999',\n",
       "       '$35,000 - $49,999', '$50,000 - $74,999', '$75,000 or greater'],\n",
       "      dtype=object)"
      ]
     },
     "execution_count": 6,
     "metadata": {},
     "output_type": "execute_result"
    }
   ],
   "source": [
    "# drop 'data not reported'\n",
    "obesity_in_US_income_2014=obesity_in_US_income_2014[~(obesity_in_US_income_2014['Income']=='Data not reported')]\n",
    "obesity_in_US_income_2014['Income'].unique()\n"
   ]
  },
  {
   "cell_type": "code",
   "execution_count": 7,
   "metadata": {},
   "outputs": [],
   "source": [
    "# save data frame\n",
    "obesity_in_US_income_2014 = obesity_in_US_income_2014.reset_index(drop = True)"
   ]
  },
  {
   "cell_type": "markdown",
   "metadata": {},
   "source": [
    "# Questions: \n",
    "#### Question 1: What was the national obesity rate in 2014?\n",
    "- Steps:\n",
    "    - make national its own data frame named \"income_obesity_in_US_national_2014_df\"\n",
    "    - Create a filter \"national_avg_2014\" to find the mean obesity rate nationally\n",
    "    - Use \"national_avg_2014\" filter to show the national obesity rate average on chart\n",
    "\n",
    "\n",
    "#### Question 2: What was the obesity rate for people with income of less than 15,000 in 2014?\n",
    "- Steps: \n",
    "    - create filter named \"income_less_than_15000_in_2014_national\"\n",
    "    - create filter named \"income_less_than_15000_in_2014_national_avg\" to calculate average obesity rate for         income of less than 15,000 in 2014\n",
    "    - Use \"income_less_than_15000_in_2014_national_avg\" filter to show the national obesity rate average for         income of less than 15000 on chart\n",
    "\n",
    "#### Question 3: What was the national obesity rate for income of 15,000 - 24,999 in 2014?\n",
    "- Steps: \n",
    "    - create filter named \"income_15000_24999_in_2014_national\"\n",
    "    - create filter named \"income_15000_24999_in_2014_national_avg\" to calculate average obesity rate for             income of 15,000 - 24,999 in 2014\n",
    "    - Use \"income_15000_24999_in_2014_national_avg\" filter to show the national obesity rate average for             income of 15,000 - 24,999 on chart\n",
    "\n",
    "#### Question 4: What was the national obesity rate for income of 25,000 - 34,999  in 2014?\n",
    "- Steps: \n",
    "    - create filter named \"income_25,000_34,999_in_2014_national\"\n",
    "    - create filter named \"income_25,000_34,999_in_2014_national_avg\" to calculate average obesity rate for             income of 25,000 - 34,999  in 2014\n",
    "    - Use \"income_25,000_34,999_in_2014_national_avg\" filter to show the national obesity rate average for             income of 25,000 - 34,999  on chart\n",
    "    \n",
    "#### Question 5: What was the national obesity rate for income of 35,000 - 49,999  in 2014?\n",
    "- Steps: \n",
    "    - create filter named \"income_35000_49999_in_2014_national\"\n",
    "    - create filter named \"income_35000_49999_in_2014_national_avg\" to calculate average obesity rate for             income of 35,000 - 49,999  in 2014\n",
    "    - Use \"income_35000_49999_in_2014_national_avg\" filter to show the national obesity rate average for             income of 35,000 - 49,999  on chart\n",
    "    \n",
    "#### Question 6: What is the obesity rate for income of 50,000 - 74,999 in 2014?\n",
    "- Steps: \n",
    "    - create filter named \"income_50000_74999_in_2014_national\"\n",
    "    - create filter named \"income_50000_74999_in_2014_national_avg\" to calculate average obesity rate for             income of 50,000 - 74,999  in 2014\n",
    "    - Use \"income_50000_74999_in_2014_national_avg\" filter to show the national obesity rate average for             income of 50,000 - 74,999  on chart\n",
    "\n",
    "#### Question 7: What is the obesity rate for income of 75,000 or greater in 2014?¶\n",
    "- Steps: \n",
    "    - create filter named \"income_75000_greater_in_2014_national\"\n",
    "    - create filter named \"income_75000_greater_in_2014_national_avg\" to calculate average obesity rate for             income of 75,000 or greater  in 2014\n",
    "    - Use \"income_75000_greater_in_2014_national_avg\" filter to show the national obesity rate average for             income of 75,000 or greater  on chart\n",
    "    \n",
    "#### Question 8: National Obesity Rates by Income in 2014\n",
    "- Steps: \n",
    "    - create filter named \"combined_df_income_2014\" to bring all the national obesity rates per age group             together \n",
    "    - plot a graph of the age groups obesity rates\n",
    "\n"
   ]
  },
  {
   "cell_type": "markdown",
   "metadata": {},
   "source": [
    "# Question 1: What was the national obesity rate in 2014?"
   ]
  },
  {
   "cell_type": "code",
   "execution_count": 8,
   "metadata": {},
   "outputs": [
    {
     "data": {
      "text/html": [
       "<div>\n",
       "<style scoped>\n",
       "    .dataframe tbody tr th:only-of-type {\n",
       "        vertical-align: middle;\n",
       "    }\n",
       "\n",
       "    .dataframe tbody tr th {\n",
       "        vertical-align: top;\n",
       "    }\n",
       "\n",
       "    .dataframe thead th {\n",
       "        text-align: right;\n",
       "    }\n",
       "</style>\n",
       "<table border=\"1\" class=\"dataframe\">\n",
       "  <thead>\n",
       "    <tr style=\"text-align: right;\">\n",
       "      <th></th>\n",
       "      <th>Unnamed: 0</th>\n",
       "      <th>year</th>\n",
       "      <th>state</th>\n",
       "      <th>state_name</th>\n",
       "      <th>income_pc</th>\n",
       "      <th>Data_Value_Alt</th>\n",
       "      <th>Question</th>\n",
       "      <th>Sample_Size</th>\n",
       "      <th>Total</th>\n",
       "      <th>Income</th>\n",
       "      <th>GeoLocation</th>\n",
       "      <th>LocationID</th>\n",
       "      <th>StratificationCategory1</th>\n",
       "      <th>Stratification1</th>\n",
       "    </tr>\n",
       "  </thead>\n",
       "  <tbody>\n",
       "    <tr>\n",
       "      <th>336</th>\n",
       "      <td>392</td>\n",
       "      <td>2014</td>\n",
       "      <td>US</td>\n",
       "      <td>National</td>\n",
       "      <td>35.2</td>\n",
       "      <td>35.2</td>\n",
       "      <td>Percent of adults aged 18 years and older who ...</td>\n",
       "      <td>39123.0</td>\n",
       "      <td>NaN</td>\n",
       "      <td>Less than $15,000</td>\n",
       "      <td>NaN</td>\n",
       "      <td>59</td>\n",
       "      <td>Income</td>\n",
       "      <td>Less than $15,000</td>\n",
       "    </tr>\n",
       "    <tr>\n",
       "      <th>337</th>\n",
       "      <td>393</td>\n",
       "      <td>2014</td>\n",
       "      <td>US</td>\n",
       "      <td>National</td>\n",
       "      <td>32.2</td>\n",
       "      <td>32.2</td>\n",
       "      <td>Percent of adults aged 18 years and older who ...</td>\n",
       "      <td>62892.0</td>\n",
       "      <td>NaN</td>\n",
       "      <td>$15,000 - $24,999</td>\n",
       "      <td>NaN</td>\n",
       "      <td>59</td>\n",
       "      <td>Income</td>\n",
       "      <td>$15,000 - $24,999</td>\n",
       "    </tr>\n",
       "    <tr>\n",
       "      <th>338</th>\n",
       "      <td>394</td>\n",
       "      <td>2014</td>\n",
       "      <td>US</td>\n",
       "      <td>National</td>\n",
       "      <td>31.1</td>\n",
       "      <td>31.1</td>\n",
       "      <td>Percent of adults aged 18 years and older who ...</td>\n",
       "      <td>41727.0</td>\n",
       "      <td>NaN</td>\n",
       "      <td>$25,000 - $34,999</td>\n",
       "      <td>NaN</td>\n",
       "      <td>59</td>\n",
       "      <td>Income</td>\n",
       "      <td>$25,000 - $34,999</td>\n",
       "    </tr>\n",
       "    <tr>\n",
       "      <th>339</th>\n",
       "      <td>395</td>\n",
       "      <td>2014</td>\n",
       "      <td>US</td>\n",
       "      <td>National</td>\n",
       "      <td>30.7</td>\n",
       "      <td>30.7</td>\n",
       "      <td>Percent of adults aged 18 years and older who ...</td>\n",
       "      <td>54340.0</td>\n",
       "      <td>NaN</td>\n",
       "      <td>$35,000 - $49,999</td>\n",
       "      <td>NaN</td>\n",
       "      <td>59</td>\n",
       "      <td>Income</td>\n",
       "      <td>$35,000 - $49,999</td>\n",
       "    </tr>\n",
       "    <tr>\n",
       "      <th>340</th>\n",
       "      <td>396</td>\n",
       "      <td>2014</td>\n",
       "      <td>US</td>\n",
       "      <td>National</td>\n",
       "      <td>29.2</td>\n",
       "      <td>29.2</td>\n",
       "      <td>Percent of adults aged 18 years and older who ...</td>\n",
       "      <td>59297.0</td>\n",
       "      <td>NaN</td>\n",
       "      <td>$50,000 - $74,999</td>\n",
       "      <td>NaN</td>\n",
       "      <td>59</td>\n",
       "      <td>Income</td>\n",
       "      <td>$50,000 - $74,999</td>\n",
       "    </tr>\n",
       "    <tr>\n",
       "      <th>341</th>\n",
       "      <td>397</td>\n",
       "      <td>2014</td>\n",
       "      <td>US</td>\n",
       "      <td>National</td>\n",
       "      <td>25.1</td>\n",
       "      <td>25.1</td>\n",
       "      <td>Percent of adults aged 18 years and older who ...</td>\n",
       "      <td>112498.0</td>\n",
       "      <td>NaN</td>\n",
       "      <td>$75,000 or greater</td>\n",
       "      <td>NaN</td>\n",
       "      <td>59</td>\n",
       "      <td>Income</td>\n",
       "      <td>$75,000 or greater</td>\n",
       "    </tr>\n",
       "    <tr>\n",
       "      <th>342</th>\n",
       "      <td>399</td>\n",
       "      <td>2014</td>\n",
       "      <td>US</td>\n",
       "      <td>National</td>\n",
       "      <td>30.4</td>\n",
       "      <td>30.4</td>\n",
       "      <td>Percent of adults aged 18 years and older who ...</td>\n",
       "      <td>39123.0</td>\n",
       "      <td>NaN</td>\n",
       "      <td>Less than $15,000</td>\n",
       "      <td>NaN</td>\n",
       "      <td>59</td>\n",
       "      <td>Income</td>\n",
       "      <td>Less than $15,000</td>\n",
       "    </tr>\n",
       "    <tr>\n",
       "      <th>343</th>\n",
       "      <td>400</td>\n",
       "      <td>2014</td>\n",
       "      <td>US</td>\n",
       "      <td>National</td>\n",
       "      <td>33.2</td>\n",
       "      <td>33.2</td>\n",
       "      <td>Percent of adults aged 18 years and older who ...</td>\n",
       "      <td>62892.0</td>\n",
       "      <td>NaN</td>\n",
       "      <td>$15,000 - $24,999</td>\n",
       "      <td>NaN</td>\n",
       "      <td>59</td>\n",
       "      <td>Income</td>\n",
       "      <td>$15,000 - $24,999</td>\n",
       "    </tr>\n",
       "    <tr>\n",
       "      <th>344</th>\n",
       "      <td>401</td>\n",
       "      <td>2014</td>\n",
       "      <td>US</td>\n",
       "      <td>National</td>\n",
       "      <td>36.0</td>\n",
       "      <td>36.0</td>\n",
       "      <td>Percent of adults aged 18 years and older who ...</td>\n",
       "      <td>41727.0</td>\n",
       "      <td>NaN</td>\n",
       "      <td>$25,000 - $34,999</td>\n",
       "      <td>NaN</td>\n",
       "      <td>59</td>\n",
       "      <td>Income</td>\n",
       "      <td>$25,000 - $34,999</td>\n",
       "    </tr>\n",
       "    <tr>\n",
       "      <th>345</th>\n",
       "      <td>402</td>\n",
       "      <td>2014</td>\n",
       "      <td>US</td>\n",
       "      <td>National</td>\n",
       "      <td>36.5</td>\n",
       "      <td>36.5</td>\n",
       "      <td>Percent of adults aged 18 years and older who ...</td>\n",
       "      <td>54340.0</td>\n",
       "      <td>NaN</td>\n",
       "      <td>$35,000 - $49,999</td>\n",
       "      <td>NaN</td>\n",
       "      <td>59</td>\n",
       "      <td>Income</td>\n",
       "      <td>$35,000 - $49,999</td>\n",
       "    </tr>\n",
       "    <tr>\n",
       "      <th>346</th>\n",
       "      <td>403</td>\n",
       "      <td>2014</td>\n",
       "      <td>US</td>\n",
       "      <td>National</td>\n",
       "      <td>37.2</td>\n",
       "      <td>37.2</td>\n",
       "      <td>Percent of adults aged 18 years and older who ...</td>\n",
       "      <td>59297.0</td>\n",
       "      <td>NaN</td>\n",
       "      <td>$50,000 - $74,999</td>\n",
       "      <td>NaN</td>\n",
       "      <td>59</td>\n",
       "      <td>Income</td>\n",
       "      <td>$50,000 - $74,999</td>\n",
       "    </tr>\n",
       "    <tr>\n",
       "      <th>347</th>\n",
       "      <td>404</td>\n",
       "      <td>2014</td>\n",
       "      <td>US</td>\n",
       "      <td>National</td>\n",
       "      <td>37.6</td>\n",
       "      <td>37.6</td>\n",
       "      <td>Percent of adults aged 18 years and older who ...</td>\n",
       "      <td>112498.0</td>\n",
       "      <td>NaN</td>\n",
       "      <td>$75,000 or greater</td>\n",
       "      <td>NaN</td>\n",
       "      <td>59</td>\n",
       "      <td>Income</td>\n",
       "      <td>$75,000 or greater</td>\n",
       "    </tr>\n",
       "  </tbody>\n",
       "</table>\n",
       "</div>"
      ],
      "text/plain": [
       "     Unnamed: 0  year state state_name  income_pc  Data_Value_Alt  \\\n",
       "336         392  2014    US   National       35.2            35.2   \n",
       "337         393  2014    US   National       32.2            32.2   \n",
       "338         394  2014    US   National       31.1            31.1   \n",
       "339         395  2014    US   National       30.7            30.7   \n",
       "340         396  2014    US   National       29.2            29.2   \n",
       "341         397  2014    US   National       25.1            25.1   \n",
       "342         399  2014    US   National       30.4            30.4   \n",
       "343         400  2014    US   National       33.2            33.2   \n",
       "344         401  2014    US   National       36.0            36.0   \n",
       "345         402  2014    US   National       36.5            36.5   \n",
       "346         403  2014    US   National       37.2            37.2   \n",
       "347         404  2014    US   National       37.6            37.6   \n",
       "\n",
       "                                              Question  Sample_Size  Total  \\\n",
       "336  Percent of adults aged 18 years and older who ...      39123.0    NaN   \n",
       "337  Percent of adults aged 18 years and older who ...      62892.0    NaN   \n",
       "338  Percent of adults aged 18 years and older who ...      41727.0    NaN   \n",
       "339  Percent of adults aged 18 years and older who ...      54340.0    NaN   \n",
       "340  Percent of adults aged 18 years and older who ...      59297.0    NaN   \n",
       "341  Percent of adults aged 18 years and older who ...     112498.0    NaN   \n",
       "342  Percent of adults aged 18 years and older who ...      39123.0    NaN   \n",
       "343  Percent of adults aged 18 years and older who ...      62892.0    NaN   \n",
       "344  Percent of adults aged 18 years and older who ...      41727.0    NaN   \n",
       "345  Percent of adults aged 18 years and older who ...      54340.0    NaN   \n",
       "346  Percent of adults aged 18 years and older who ...      59297.0    NaN   \n",
       "347  Percent of adults aged 18 years and older who ...     112498.0    NaN   \n",
       "\n",
       "                 Income GeoLocation  LocationID StratificationCategory1  \\\n",
       "336   Less than $15,000         NaN          59                  Income   \n",
       "337   $15,000 - $24,999         NaN          59                  Income   \n",
       "338   $25,000 - $34,999         NaN          59                  Income   \n",
       "339   $35,000 - $49,999         NaN          59                  Income   \n",
       "340   $50,000 - $74,999         NaN          59                  Income   \n",
       "341  $75,000 or greater         NaN          59                  Income   \n",
       "342   Less than $15,000         NaN          59                  Income   \n",
       "343   $15,000 - $24,999         NaN          59                  Income   \n",
       "344   $25,000 - $34,999         NaN          59                  Income   \n",
       "345   $35,000 - $49,999         NaN          59                  Income   \n",
       "346   $50,000 - $74,999         NaN          59                  Income   \n",
       "347  $75,000 or greater         NaN          59                  Income   \n",
       "\n",
       "        Stratification1  \n",
       "336   Less than $15,000  \n",
       "337   $15,000 - $24,999  \n",
       "338   $25,000 - $34,999  \n",
       "339   $35,000 - $49,999  \n",
       "340   $50,000 - $74,999  \n",
       "341  $75,000 or greater  \n",
       "342   Less than $15,000  \n",
       "343   $15,000 - $24,999  \n",
       "344   $25,000 - $34,999  \n",
       "345   $35,000 - $49,999  \n",
       "346   $50,000 - $74,999  \n",
       "347  $75,000 or greater  "
      ]
     },
     "execution_count": 8,
     "metadata": {},
     "output_type": "execute_result"
    }
   ],
   "source": [
    "#Income\n",
    "#make national its own data frame named \"income_obesity_in_US_national_2014_df\"\n",
    "income_obesity_in_US_national_2014_df=obesity_in_US_income_2014[(obesity_in_US_income_2014['state_name']=='National')]\n",
    "income_obesity_in_US_national_2014_df"
   ]
  },
  {
   "cell_type": "markdown",
   "metadata": {},
   "source": [
    "- \"income_obesity_in_US_national_2014_df\"\n",
    "    - this data frame represents the country as a whole by age (it eliminates the state by state averages) in 2014\n",
    "    - use it to calculate national obesity rate as 1) a whole, 2) for each age group "
   ]
  },
  {
   "cell_type": "code",
   "execution_count": 9,
   "metadata": {},
   "outputs": [
    {
     "data": {
      "text/plain": [
       "$75,000 or greater    2\n",
       "$15,000 - $24,999     2\n",
       "$35,000 - $49,999     2\n",
       "$25,000 - $34,999     2\n",
       "$50,000 - $74,999     2\n",
       "Less than $15,000     2\n",
       "Name: Income, dtype: int64"
      ]
     },
     "execution_count": 9,
     "metadata": {},
     "output_type": "execute_result"
    }
   ],
   "source": [
    "income_obesity_in_US_national_2014_df['Income'].value_counts()"
   ]
  },
  {
   "cell_type": "code",
   "execution_count": 10,
   "metadata": {},
   "outputs": [
    {
     "data": {
      "text/plain": [
       "32.86666666666667"
      ]
     },
     "execution_count": 10,
     "metadata": {},
     "output_type": "execute_result"
    }
   ],
   "source": [
    "# Create a filter \"national_avg_2014\" to find the mean obesity rate nationally\n",
    "national_avg_2014=income_obesity_in_US_national_2014_df['income_pc'].mean()\n",
    "national_avg_2014\n"
   ]
  },
  {
   "cell_type": "markdown",
   "metadata": {},
   "source": [
    "#### Note: This is unnecessary to include in story but it is good to know that it is the same average as national gender because it shows that this data is accurate throughout"
   ]
  },
  {
   "cell_type": "code",
   "execution_count": 11,
   "metadata": {},
   "outputs": [
    {
     "name": "stdout",
     "output_type": "stream",
     "text": [
      "The national obesity rate average in 2014\n",
      "=========================================\n",
      "state_name\n",
      "National    32.866667\n",
      "Name: income_pc, dtype: float64\n"
     ]
    }
   ],
   "source": [
    "# Use \"national_avg_2014\" filter to show the national obesity rate average on chart\n",
    "national_avg_2014=income_obesity_in_US_national_2014_df.groupby('state_name')['income_pc'].mean()\n",
    "national_avg_2014\n",
    "title1='The national obesity rate average in 2014'\n",
    "print(\"{}\\n{}\".format(title1, '='*len(title1)))\n",
    "print(national_avg_2014.sort_values())\n",
    "\n",
    "\n",
    "\n"
   ]
  },
  {
   "cell_type": "markdown",
   "metadata": {},
   "source": [
    "### Answer: The national obesity rate average in 2014 was 32.9%"
   ]
  },
  {
   "cell_type": "code",
   "execution_count": 12,
   "metadata": {},
   "outputs": [
    {
     "data": {
      "text/plain": [
       "Text(0.5, 1.0, '2014')"
      ]
     },
     "execution_count": 12,
     "metadata": {},
     "output_type": "execute_result"
    },
    {
     "data": {
      "image/png": "[encoded data removed]",
      "text/plain": [
       "<Figure size 864x288 with 1 Axes>"
      ]
     },
     "metadata": {
      "needs_background": "light"
     },
     "output_type": "display_data"
    }
   ],
   "source": [
    "\n",
    "# 1. Set up the figure to plot two bar charts and specify size ratio (3:1)\n",
    "plt.figure(figsize=(12,4))\n",
    "\n",
    "# 2. the plt.subplot() function divides the main figure into rows and columns\n",
    "#    121 = 1 row 2 columns and the first slot\n",
    "plt.subplot(121)\n",
    "\n",
    "# use the region mean data to plot a bar chart and add labels\n",
    "national_avg_2014.plot(kind='bar')\n",
    "plt.xlabel('National')\n",
    "plt.ylabel('Obesity Rate')\n",
    "plt.title('2014')\n"
   ]
  },
  {
   "cell_type": "markdown",
   "metadata": {},
   "source": [
    "# Question 2: What was the national obesity rate for people with income of less than     $15,000 in 2014?"
   ]
  },
  {
   "cell_type": "code",
   "execution_count": 13,
   "metadata": {},
   "outputs": [
    {
     "data": {
      "text/html": [
       "<div>\n",
       "<style scoped>\n",
       "    .dataframe tbody tr th:only-of-type {\n",
       "        vertical-align: middle;\n",
       "    }\n",
       "\n",
       "    .dataframe tbody tr th {\n",
       "        vertical-align: top;\n",
       "    }\n",
       "\n",
       "    .dataframe thead th {\n",
       "        text-align: right;\n",
       "    }\n",
       "</style>\n",
       "<table border=\"1\" class=\"dataframe\">\n",
       "  <thead>\n",
       "    <tr style=\"text-align: right;\">\n",
       "      <th></th>\n",
       "      <th>Unnamed: 0</th>\n",
       "      <th>year</th>\n",
       "      <th>state</th>\n",
       "      <th>state_name</th>\n",
       "      <th>income_pc</th>\n",
       "      <th>Data_Value_Alt</th>\n",
       "      <th>Question</th>\n",
       "      <th>Sample_Size</th>\n",
       "      <th>Total</th>\n",
       "      <th>Income</th>\n",
       "      <th>GeoLocation</th>\n",
       "      <th>LocationID</th>\n",
       "      <th>StratificationCategory1</th>\n",
       "      <th>Stratification1</th>\n",
       "    </tr>\n",
       "  </thead>\n",
       "  <tbody>\n",
       "    <tr>\n",
       "      <th>336</th>\n",
       "      <td>392</td>\n",
       "      <td>2014</td>\n",
       "      <td>US</td>\n",
       "      <td>National</td>\n",
       "      <td>35.2</td>\n",
       "      <td>35.2</td>\n",
       "      <td>Percent of adults aged 18 years and older who ...</td>\n",
       "      <td>39123.0</td>\n",
       "      <td>NaN</td>\n",
       "      <td>Less than $15,000</td>\n",
       "      <td>NaN</td>\n",
       "      <td>59</td>\n",
       "      <td>Income</td>\n",
       "      <td>Less than $15,000</td>\n",
       "    </tr>\n",
       "    <tr>\n",
       "      <th>342</th>\n",
       "      <td>399</td>\n",
       "      <td>2014</td>\n",
       "      <td>US</td>\n",
       "      <td>National</td>\n",
       "      <td>30.4</td>\n",
       "      <td>30.4</td>\n",
       "      <td>Percent of adults aged 18 years and older who ...</td>\n",
       "      <td>39123.0</td>\n",
       "      <td>NaN</td>\n",
       "      <td>Less than $15,000</td>\n",
       "      <td>NaN</td>\n",
       "      <td>59</td>\n",
       "      <td>Income</td>\n",
       "      <td>Less than $15,000</td>\n",
       "    </tr>\n",
       "  </tbody>\n",
       "</table>\n",
       "</div>"
      ],
      "text/plain": [
       "     Unnamed: 0  year state state_name  income_pc  Data_Value_Alt  \\\n",
       "336         392  2014    US   National       35.2            35.2   \n",
       "342         399  2014    US   National       30.4            30.4   \n",
       "\n",
       "                                              Question  Sample_Size  Total  \\\n",
       "336  Percent of adults aged 18 years and older who ...      39123.0    NaN   \n",
       "342  Percent of adults aged 18 years and older who ...      39123.0    NaN   \n",
       "\n",
       "                Income GeoLocation  LocationID StratificationCategory1  \\\n",
       "336  Less than $15,000         NaN          59                  Income   \n",
       "342  Less than $15,000         NaN          59                  Income   \n",
       "\n",
       "       Stratification1  \n",
       "336  Less than $15,000  \n",
       "342  Less than $15,000  "
      ]
     },
     "execution_count": 13,
     "metadata": {},
     "output_type": "execute_result"
    }
   ],
   "source": [
    "# create filter named \"income_less_than_15000_in_2014_national\"\n",
    "income_less_than_15000_in_2014_national=income_obesity_in_US_national_2014_df[(income_obesity_in_US_national_2014_df['Income']=='Less than $15,000')]\n",
    "income_less_than_15000_in_2014_national\n"
   ]
  },
  {
   "cell_type": "code",
   "execution_count": 14,
   "metadata": {},
   "outputs": [
    {
     "data": {
      "text/plain": [
       "32.8"
      ]
     },
     "execution_count": 14,
     "metadata": {},
     "output_type": "execute_result"
    }
   ],
   "source": [
    "# create filter named \"income_less_than_15000_in_2014_national_avg\" to calculate average obesity rate for income of less than $15,000 in 2014\n",
    "income_less_than_15000_in_2014_national_avg=income_less_than_15000_in_2014_national['income_pc'].mean()\n",
    "income_less_than_15000_in_2014_national_avg\n"
   ]
  },
  {
   "cell_type": "code",
   "execution_count": 15,
   "metadata": {},
   "outputs": [
    {
     "name": "stdout",
     "output_type": "stream",
     "text": [
      "The national obesity rate average for income of less than $15,000 in 2014\n",
      "=========================================================================\n",
      "Income\n",
      "Less than $15,000    32.8\n",
      "Name: income_pc, dtype: float64\n"
     ]
    }
   ],
   "source": [
    "# Use \"income_less_than_15000_in_2014_national_avg\" filter to show the national obesity rate average for income of less than $15000 on chart\n",
    "income_less_than_15000_in_2014_national_avg=income_less_than_15000_in_2014_national.groupby('Income')['income_pc'].mean()\n",
    "income_less_than_15000_in_2014_national_avg\n",
    "title1='The national obesity rate average for income of less than $15,000 in 2014'\n",
    "print(\"{}\\n{}\".format(title1, '='*len(title1)))\n",
    "print(income_less_than_15000_in_2014_national_avg.sort_values())\n",
    "\n"
   ]
  },
  {
   "cell_type": "markdown",
   "metadata": {},
   "source": [
    "### Answer: On a national scale, 32.8% of adults with income of less than $15000 were obese in 2014. "
   ]
  },
  {
   "cell_type": "markdown",
   "metadata": {},
   "source": [
    "# Question 3: What was the national obesity rate for income of $15,000 - $24,999 in 2014?"
   ]
  },
  {
   "cell_type": "code",
   "execution_count": 16,
   "metadata": {},
   "outputs": [
    {
     "data": {
      "text/html": [
       "<div>\n",
       "<style scoped>\n",
       "    .dataframe tbody tr th:only-of-type {\n",
       "        vertical-align: middle;\n",
       "    }\n",
       "\n",
       "    .dataframe tbody tr th {\n",
       "        vertical-align: top;\n",
       "    }\n",
       "\n",
       "    .dataframe thead th {\n",
       "        text-align: right;\n",
       "    }\n",
       "</style>\n",
       "<table border=\"1\" class=\"dataframe\">\n",
       "  <thead>\n",
       "    <tr style=\"text-align: right;\">\n",
       "      <th></th>\n",
       "      <th>Unnamed: 0</th>\n",
       "      <th>year</th>\n",
       "      <th>state</th>\n",
       "      <th>state_name</th>\n",
       "      <th>income_pc</th>\n",
       "      <th>Data_Value_Alt</th>\n",
       "      <th>Question</th>\n",
       "      <th>Sample_Size</th>\n",
       "      <th>Total</th>\n",
       "      <th>Income</th>\n",
       "      <th>GeoLocation</th>\n",
       "      <th>LocationID</th>\n",
       "      <th>StratificationCategory1</th>\n",
       "      <th>Stratification1</th>\n",
       "    </tr>\n",
       "  </thead>\n",
       "  <tbody>\n",
       "    <tr>\n",
       "      <th>337</th>\n",
       "      <td>393</td>\n",
       "      <td>2014</td>\n",
       "      <td>US</td>\n",
       "      <td>National</td>\n",
       "      <td>32.2</td>\n",
       "      <td>32.2</td>\n",
       "      <td>Percent of adults aged 18 years and older who ...</td>\n",
       "      <td>62892.0</td>\n",
       "      <td>NaN</td>\n",
       "      <td>$15,000 - $24,999</td>\n",
       "      <td>NaN</td>\n",
       "      <td>59</td>\n",
       "      <td>Income</td>\n",
       "      <td>$15,000 - $24,999</td>\n",
       "    </tr>\n",
       "    <tr>\n",
       "      <th>343</th>\n",
       "      <td>400</td>\n",
       "      <td>2014</td>\n",
       "      <td>US</td>\n",
       "      <td>National</td>\n",
       "      <td>33.2</td>\n",
       "      <td>33.2</td>\n",
       "      <td>Percent of adults aged 18 years and older who ...</td>\n",
       "      <td>62892.0</td>\n",
       "      <td>NaN</td>\n",
       "      <td>$15,000 - $24,999</td>\n",
       "      <td>NaN</td>\n",
       "      <td>59</td>\n",
       "      <td>Income</td>\n",
       "      <td>$15,000 - $24,999</td>\n",
       "    </tr>\n",
       "  </tbody>\n",
       "</table>\n",
       "</div>"
      ],
      "text/plain": [
       "     Unnamed: 0  year state state_name  income_pc  Data_Value_Alt  \\\n",
       "337         393  2014    US   National       32.2            32.2   \n",
       "343         400  2014    US   National       33.2            33.2   \n",
       "\n",
       "                                              Question  Sample_Size  Total  \\\n",
       "337  Percent of adults aged 18 years and older who ...      62892.0    NaN   \n",
       "343  Percent of adults aged 18 years and older who ...      62892.0    NaN   \n",
       "\n",
       "                Income GeoLocation  LocationID StratificationCategory1  \\\n",
       "337  $15,000 - $24,999         NaN          59                  Income   \n",
       "343  $15,000 - $24,999         NaN          59                  Income   \n",
       "\n",
       "       Stratification1  \n",
       "337  $15,000 - $24,999  \n",
       "343  $15,000 - $24,999  "
      ]
     },
     "execution_count": 16,
     "metadata": {},
     "output_type": "execute_result"
    }
   ],
   "source": [
    "# create filter named \"income_15000_24999_in_2014_national\"\n",
    "income_15000_24999_in_2014_national=income_obesity_in_US_national_2014_df[(income_obesity_in_US_national_2014_df['Income']=='$15,000 - $24,999')]\n",
    "income_15000_24999_in_2014_national\n"
   ]
  },
  {
   "cell_type": "code",
   "execution_count": 17,
   "metadata": {},
   "outputs": [
    {
     "data": {
      "text/plain": [
       "32.7"
      ]
     },
     "execution_count": 17,
     "metadata": {},
     "output_type": "execute_result"
    }
   ],
   "source": [
    "# create filter named \"income_15000_24999_in_2014_national_avg\" to calculate average obesity rate for income of 15,000 to 24,999 in 2014\n",
    "\n",
    "income_15000_24999_in_2014_national_avg=income_15000_24999_in_2014_national['income_pc'].mean()\n",
    "income_15000_24999_in_2014_national_avg\n"
   ]
  },
  {
   "cell_type": "code",
   "execution_count": 18,
   "metadata": {},
   "outputs": [
    {
     "name": "stdout",
     "output_type": "stream",
     "text": [
      "The national obesity rate average for income of $15,000 to $24,999 in 2014\n",
      "==========================================================================\n",
      "Income\n",
      "$15,000 - $24,999    32.7\n",
      "Name: income_pc, dtype: float64\n"
     ]
    }
   ],
   "source": [
    "# Use \"income_15000_24999_in_2014_national_avg\" filter to show the national obesity rate average for income of 15,000−24,999  on chart\n",
    "income_15000_24999_in_2014_national_avg=income_15000_24999_in_2014_national.groupby('Income')['income_pc'].mean()\n",
    "income_15000_24999_in_2014_national_avg\n",
    "title1='The national obesity rate average for income of $15,000 to $24,999 in 2014'\n",
    "print(\"{}\\n{}\".format(title1, '='*len(title1)))\n",
    "print(income_15000_24999_in_2014_national_avg.sort_values())\n",
    "\n"
   ]
  },
  {
   "cell_type": "markdown",
   "metadata": {},
   "source": [
    "### Answer:  On a national scale, 32.7% of adults with an income between $15,000 to $24,999 were obese in 2014. "
   ]
  },
  {
   "cell_type": "markdown",
   "metadata": {},
   "source": [
    "# Question 4: What was the national obesity rate for income of $25,000 - $34,999  in 2014?"
   ]
  },
  {
   "cell_type": "code",
   "execution_count": 19,
   "metadata": {},
   "outputs": [
    {
     "data": {
      "text/html": [
       "<div>\n",
       "<style scoped>\n",
       "    .dataframe tbody tr th:only-of-type {\n",
       "        vertical-align: middle;\n",
       "    }\n",
       "\n",
       "    .dataframe tbody tr th {\n",
       "        vertical-align: top;\n",
       "    }\n",
       "\n",
       "    .dataframe thead th {\n",
       "        text-align: right;\n",
       "    }\n",
       "</style>\n",
       "<table border=\"1\" class=\"dataframe\">\n",
       "  <thead>\n",
       "    <tr style=\"text-align: right;\">\n",
       "      <th></th>\n",
       "      <th>Unnamed: 0</th>\n",
       "      <th>year</th>\n",
       "      <th>state</th>\n",
       "      <th>state_name</th>\n",
       "      <th>income_pc</th>\n",
       "      <th>Data_Value_Alt</th>\n",
       "      <th>Question</th>\n",
       "      <th>Sample_Size</th>\n",
       "      <th>Total</th>\n",
       "      <th>Income</th>\n",
       "      <th>GeoLocation</th>\n",
       "      <th>LocationID</th>\n",
       "      <th>StratificationCategory1</th>\n",
       "      <th>Stratification1</th>\n",
       "    </tr>\n",
       "  </thead>\n",
       "  <tbody>\n",
       "    <tr>\n",
       "      <th>338</th>\n",
       "      <td>394</td>\n",
       "      <td>2014</td>\n",
       "      <td>US</td>\n",
       "      <td>National</td>\n",
       "      <td>31.1</td>\n",
       "      <td>31.1</td>\n",
       "      <td>Percent of adults aged 18 years and older who ...</td>\n",
       "      <td>41727.0</td>\n",
       "      <td>NaN</td>\n",
       "      <td>$25,000 - $34,999</td>\n",
       "      <td>NaN</td>\n",
       "      <td>59</td>\n",
       "      <td>Income</td>\n",
       "      <td>$25,000 - $34,999</td>\n",
       "    </tr>\n",
       "    <tr>\n",
       "      <th>344</th>\n",
       "      <td>401</td>\n",
       "      <td>2014</td>\n",
       "      <td>US</td>\n",
       "      <td>National</td>\n",
       "      <td>36.0</td>\n",
       "      <td>36.0</td>\n",
       "      <td>Percent of adults aged 18 years and older who ...</td>\n",
       "      <td>41727.0</td>\n",
       "      <td>NaN</td>\n",
       "      <td>$25,000 - $34,999</td>\n",
       "      <td>NaN</td>\n",
       "      <td>59</td>\n",
       "      <td>Income</td>\n",
       "      <td>$25,000 - $34,999</td>\n",
       "    </tr>\n",
       "  </tbody>\n",
       "</table>\n",
       "</div>"
      ],
      "text/plain": [
       "     Unnamed: 0  year state state_name  income_pc  Data_Value_Alt  \\\n",
       "338         394  2014    US   National       31.1            31.1   \n",
       "344         401  2014    US   National       36.0            36.0   \n",
       "\n",
       "                                              Question  Sample_Size  Total  \\\n",
       "338  Percent of adults aged 18 years and older who ...      41727.0    NaN   \n",
       "344  Percent of adults aged 18 years and older who ...      41727.0    NaN   \n",
       "\n",
       "                Income GeoLocation  LocationID StratificationCategory1  \\\n",
       "338  $25,000 - $34,999         NaN          59                  Income   \n",
       "344  $25,000 - $34,999         NaN          59                  Income   \n",
       "\n",
       "       Stratification1  \n",
       "338  $25,000 - $34,999  \n",
       "344  $25,000 - $34,999  "
      ]
     },
     "execution_count": 19,
     "metadata": {},
     "output_type": "execute_result"
    }
   ],
   "source": [
    "# create filter named \"income_25000_34999_in_2014_national\"\n",
    "income_25000_34999_in_2014_national=income_obesity_in_US_national_2014_df[(income_obesity_in_US_national_2014_df['Income']=='$25,000 - $34,999')]\n",
    "income_25000_34999_in_2014_national\n"
   ]
  },
  {
   "cell_type": "code",
   "execution_count": 20,
   "metadata": {},
   "outputs": [
    {
     "data": {
      "text/plain": [
       "33.55"
      ]
     },
     "execution_count": 20,
     "metadata": {},
     "output_type": "execute_result"
    }
   ],
   "source": [
    "# create filter named \"income_25000_34999_in_2014_national_avg\" to calculate average obesity rate for income of 25,000 to 34,999 in 2014\n",
    "\n",
    "income_25000_34999_in_2014_national_avg=income_25000_34999_in_2014_national['income_pc'].mean()\n",
    "income_25000_34999_in_2014_national_avg"
   ]
  },
  {
   "cell_type": "code",
   "execution_count": 21,
   "metadata": {},
   "outputs": [
    {
     "name": "stdout",
     "output_type": "stream",
     "text": [
      "The national obesity rate average for income of $25,000 to $34,999 in 2014\n",
      "==========================================================================\n",
      "Income\n",
      "$25,000 - $34,999    33.55\n",
      "Name: income_pc, dtype: float64\n"
     ]
    }
   ],
   "source": [
    "# Use \"income_25000_34999_in_2014_national_avg\" filter to show the national obesity rate average for income $25,000 to $34,999 on chart\n",
    "income_25000_34999_in_2014_national_avg=income_25000_34999_in_2014_national.groupby('Income')['income_pc'].mean()\n",
    "income_25000_34999_in_2014_national_avg\n",
    "title1='The national obesity rate average for income of $25,000 to $34,999 in 2014'\n",
    "print(\"{}\\n{}\".format(title1, '='*len(title1)))\n",
    "print(income_25000_34999_in_2014_national_avg.sort_values())\n"
   ]
  },
  {
   "cell_type": "markdown",
   "metadata": {},
   "source": [
    "### Answer:  On a national scale, 33.6% of adults with an income of $25,000 to $34,999 were obese in 2014. "
   ]
  },
  {
   "cell_type": "markdown",
   "metadata": {},
   "source": [
    "# Question 5: What was the national obesity rate for income of $35,000 - $49,999  in 2014?"
   ]
  },
  {
   "cell_type": "code",
   "execution_count": 22,
   "metadata": {},
   "outputs": [
    {
     "data": {
      "text/html": [
       "<div>\n",
       "<style scoped>\n",
       "    .dataframe tbody tr th:only-of-type {\n",
       "        vertical-align: middle;\n",
       "    }\n",
       "\n",
       "    .dataframe tbody tr th {\n",
       "        vertical-align: top;\n",
       "    }\n",
       "\n",
       "    .dataframe thead th {\n",
       "        text-align: right;\n",
       "    }\n",
       "</style>\n",
       "<table border=\"1\" class=\"dataframe\">\n",
       "  <thead>\n",
       "    <tr style=\"text-align: right;\">\n",
       "      <th></th>\n",
       "      <th>Unnamed: 0</th>\n",
       "      <th>year</th>\n",
       "      <th>state</th>\n",
       "      <th>state_name</th>\n",
       "      <th>income_pc</th>\n",
       "      <th>Data_Value_Alt</th>\n",
       "      <th>Question</th>\n",
       "      <th>Sample_Size</th>\n",
       "      <th>Total</th>\n",
       "      <th>Income</th>\n",
       "      <th>GeoLocation</th>\n",
       "      <th>LocationID</th>\n",
       "      <th>StratificationCategory1</th>\n",
       "      <th>Stratification1</th>\n",
       "    </tr>\n",
       "  </thead>\n",
       "  <tbody>\n",
       "    <tr>\n",
       "      <th>339</th>\n",
       "      <td>395</td>\n",
       "      <td>2014</td>\n",
       "      <td>US</td>\n",
       "      <td>National</td>\n",
       "      <td>30.7</td>\n",
       "      <td>30.7</td>\n",
       "      <td>Percent of adults aged 18 years and older who ...</td>\n",
       "      <td>54340.0</td>\n",
       "      <td>NaN</td>\n",
       "      <td>$35,000 - $49,999</td>\n",
       "      <td>NaN</td>\n",
       "      <td>59</td>\n",
       "      <td>Income</td>\n",
       "      <td>$35,000 - $49,999</td>\n",
       "    </tr>\n",
       "    <tr>\n",
       "      <th>345</th>\n",
       "      <td>402</td>\n",
       "      <td>2014</td>\n",
       "      <td>US</td>\n",
       "      <td>National</td>\n",
       "      <td>36.5</td>\n",
       "      <td>36.5</td>\n",
       "      <td>Percent of adults aged 18 years and older who ...</td>\n",
       "      <td>54340.0</td>\n",
       "      <td>NaN</td>\n",
       "      <td>$35,000 - $49,999</td>\n",
       "      <td>NaN</td>\n",
       "      <td>59</td>\n",
       "      <td>Income</td>\n",
       "      <td>$35,000 - $49,999</td>\n",
       "    </tr>\n",
       "  </tbody>\n",
       "</table>\n",
       "</div>"
      ],
      "text/plain": [
       "     Unnamed: 0  year state state_name  income_pc  Data_Value_Alt  \\\n",
       "339         395  2014    US   National       30.7            30.7   \n",
       "345         402  2014    US   National       36.5            36.5   \n",
       "\n",
       "                                              Question  Sample_Size  Total  \\\n",
       "339  Percent of adults aged 18 years and older who ...      54340.0    NaN   \n",
       "345  Percent of adults aged 18 years and older who ...      54340.0    NaN   \n",
       "\n",
       "                Income GeoLocation  LocationID StratificationCategory1  \\\n",
       "339  $35,000 - $49,999         NaN          59                  Income   \n",
       "345  $35,000 - $49,999         NaN          59                  Income   \n",
       "\n",
       "       Stratification1  \n",
       "339  $35,000 - $49,999  \n",
       "345  $35,000 - $49,999  "
      ]
     },
     "execution_count": 22,
     "metadata": {},
     "output_type": "execute_result"
    }
   ],
   "source": [
    "# create filter named \"income_35000_49999_in_2014_national\"\n",
    "income_35000_49999_in_2014_national=income_obesity_in_US_national_2014_df[(income_obesity_in_US_national_2014_df['Income']=='$35,000 - $49,999')]\n",
    "income_35000_49999_in_2014_national\n",
    "\n"
   ]
  },
  {
   "cell_type": "code",
   "execution_count": 23,
   "metadata": {},
   "outputs": [
    {
     "data": {
      "text/plain": [
       "33.6"
      ]
     },
     "execution_count": 23,
     "metadata": {},
     "output_type": "execute_result"
    }
   ],
   "source": [
    "# create filter named \"income_35000_49999_in_2014_national_avg\" to calculate average obesity rate for income of 35,000 to 49,999 in 2014\n",
    "\n",
    "income_35000_49999_in_2014_national_avg=income_35000_49999_in_2014_national['income_pc'].mean()\n",
    "income_35000_49999_in_2014_national_avg\n"
   ]
  },
  {
   "cell_type": "code",
   "execution_count": 24,
   "metadata": {},
   "outputs": [
    {
     "name": "stdout",
     "output_type": "stream",
     "text": [
      "The national obesity rate average for income of $35,000 to $49,999 in 2014\n",
      "==========================================================================\n",
      "Income\n",
      "$35,000 - $49,999    33.6\n",
      "Name: income_pc, dtype: float64\n"
     ]
    }
   ],
   "source": [
    "# Use \"income_35000_49999_in_2014_national_avg\" filter to show the national ages 55-64 obesity rate average on chart\n",
    "income_35000_49999_in_2014_national_avg=income_35000_49999_in_2014_national.groupby('Income')['income_pc'].mean()\n",
    "income_35000_49999_in_2014_national_avg\n",
    "title1='The national obesity rate average for income of $35,000 to $49,999 in 2014'\n",
    "print(\"{}\\n{}\".format(title1, '='*len(title1)))\n",
    "print(income_35000_49999_in_2014_national_avg.sort_values())\n"
   ]
  },
  {
   "cell_type": "markdown",
   "metadata": {},
   "source": [
    "### Answer:  On a national scale, 33.6% of adults with income of $35,000 to $49,999 were obese in 2014. "
   ]
  },
  {
   "cell_type": "markdown",
   "metadata": {},
   "source": [
    "# Question 6: What is the obesity rate for income of $50,000 - $74,999  in 2014?"
   ]
  },
  {
   "cell_type": "code",
   "execution_count": 25,
   "metadata": {},
   "outputs": [
    {
     "data": {
      "text/html": [
       "<div>\n",
       "<style scoped>\n",
       "    .dataframe tbody tr th:only-of-type {\n",
       "        vertical-align: middle;\n",
       "    }\n",
       "\n",
       "    .dataframe tbody tr th {\n",
       "        vertical-align: top;\n",
       "    }\n",
       "\n",
       "    .dataframe thead th {\n",
       "        text-align: right;\n",
       "    }\n",
       "</style>\n",
       "<table border=\"1\" class=\"dataframe\">\n",
       "  <thead>\n",
       "    <tr style=\"text-align: right;\">\n",
       "      <th></th>\n",
       "      <th>Unnamed: 0</th>\n",
       "      <th>year</th>\n",
       "      <th>state</th>\n",
       "      <th>state_name</th>\n",
       "      <th>income_pc</th>\n",
       "      <th>Data_Value_Alt</th>\n",
       "      <th>Question</th>\n",
       "      <th>Sample_Size</th>\n",
       "      <th>Total</th>\n",
       "      <th>Income</th>\n",
       "      <th>GeoLocation</th>\n",
       "      <th>LocationID</th>\n",
       "      <th>StratificationCategory1</th>\n",
       "      <th>Stratification1</th>\n",
       "    </tr>\n",
       "  </thead>\n",
       "  <tbody>\n",
       "    <tr>\n",
       "      <th>340</th>\n",
       "      <td>396</td>\n",
       "      <td>2014</td>\n",
       "      <td>US</td>\n",
       "      <td>National</td>\n",
       "      <td>29.2</td>\n",
       "      <td>29.2</td>\n",
       "      <td>Percent of adults aged 18 years and older who ...</td>\n",
       "      <td>59297.0</td>\n",
       "      <td>NaN</td>\n",
       "      <td>$50,000 - $74,999</td>\n",
       "      <td>NaN</td>\n",
       "      <td>59</td>\n",
       "      <td>Income</td>\n",
       "      <td>$50,000 - $74,999</td>\n",
       "    </tr>\n",
       "    <tr>\n",
       "      <th>346</th>\n",
       "      <td>403</td>\n",
       "      <td>2014</td>\n",
       "      <td>US</td>\n",
       "      <td>National</td>\n",
       "      <td>37.2</td>\n",
       "      <td>37.2</td>\n",
       "      <td>Percent of adults aged 18 years and older who ...</td>\n",
       "      <td>59297.0</td>\n",
       "      <td>NaN</td>\n",
       "      <td>$50,000 - $74,999</td>\n",
       "      <td>NaN</td>\n",
       "      <td>59</td>\n",
       "      <td>Income</td>\n",
       "      <td>$50,000 - $74,999</td>\n",
       "    </tr>\n",
       "  </tbody>\n",
       "</table>\n",
       "</div>"
      ],
      "text/plain": [
       "     Unnamed: 0  year state state_name  income_pc  Data_Value_Alt  \\\n",
       "340         396  2014    US   National       29.2            29.2   \n",
       "346         403  2014    US   National       37.2            37.2   \n",
       "\n",
       "                                              Question  Sample_Size  Total  \\\n",
       "340  Percent of adults aged 18 years and older who ...      59297.0    NaN   \n",
       "346  Percent of adults aged 18 years and older who ...      59297.0    NaN   \n",
       "\n",
       "                Income GeoLocation  LocationID StratificationCategory1  \\\n",
       "340  $50,000 - $74,999         NaN          59                  Income   \n",
       "346  $50,000 - $74,999         NaN          59                  Income   \n",
       "\n",
       "       Stratification1  \n",
       "340  $50,000 - $74,999  \n",
       "346  $50,000 - $74,999  "
      ]
     },
     "execution_count": 25,
     "metadata": {},
     "output_type": "execute_result"
    }
   ],
   "source": [
    "# create filter named \"income_50000_74999_in_2014_national\"\n",
    "income_50000_74999_in_2014_national=income_obesity_in_US_national_2014_df[(income_obesity_in_US_national_2014_df['Income']=='$50,000 - $74,999')]\n",
    "income_50000_74999_in_2014_national\n"
   ]
  },
  {
   "cell_type": "code",
   "execution_count": 26,
   "metadata": {},
   "outputs": [
    {
     "data": {
      "text/plain": [
       "33.2"
      ]
     },
     "execution_count": 26,
     "metadata": {},
     "output_type": "execute_result"
    }
   ],
   "source": [
    "# create filter named \"income_50000_74999_in_2014_national_avg\" to calculate average obesity rate for income of 50,000 to 74,999 in 2014\n",
    "\n",
    "income_50000_74999_in_2014_national_avg=income_50000_74999_in_2014_national['income_pc'].mean()\n",
    "income_50000_74999_in_2014_national_avg"
   ]
  },
  {
   "cell_type": "code",
   "execution_count": 27,
   "metadata": {},
   "outputs": [
    {
     "name": "stdout",
     "output_type": "stream",
     "text": [
      "The national obesity rate average for income of $50,000 - $74,999 in 2014\n",
      "=========================================================================\n",
      "Income\n",
      "$50,000 - $74,999    33.2\n",
      "Name: income_pc, dtype: float64\n"
     ]
    }
   ],
   "source": [
    "# Use \"income_50000_74999_in_2014_national_avg\" filter to show the national obesity rate average of people with income of $50,000 - $74,999 on chart\n",
    "income_50000_74999_in_2014_national_avg=income_50000_74999_in_2014_national.groupby('Income')['income_pc'].mean()\n",
    "income_50000_74999_in_2014_national_avg\n",
    "title1='The national obesity rate average for income of $50,000 - $74,999 in 2014'\n",
    "print(\"{}\\n{}\".format(title1, '='*len(title1)))\n",
    "print(income_50000_74999_in_2014_national_avg.sort_values())\n"
   ]
  },
  {
   "cell_type": "markdown",
   "metadata": {},
   "source": [
    "### Answer:  On a national scale, 33.2% of adults with an income of $50,000 - $74,999 were obese in 2014. "
   ]
  },
  {
   "cell_type": "markdown",
   "metadata": {},
   "source": [
    "# Question 7: What is the obesity rate for income of $75,000 or greater in 2014?"
   ]
  },
  {
   "cell_type": "code",
   "execution_count": 28,
   "metadata": {},
   "outputs": [
    {
     "data": {
      "text/html": [
       "<div>\n",
       "<style scoped>\n",
       "    .dataframe tbody tr th:only-of-type {\n",
       "        vertical-align: middle;\n",
       "    }\n",
       "\n",
       "    .dataframe tbody tr th {\n",
       "        vertical-align: top;\n",
       "    }\n",
       "\n",
       "    .dataframe thead th {\n",
       "        text-align: right;\n",
       "    }\n",
       "</style>\n",
       "<table border=\"1\" class=\"dataframe\">\n",
       "  <thead>\n",
       "    <tr style=\"text-align: right;\">\n",
       "      <th></th>\n",
       "      <th>Unnamed: 0</th>\n",
       "      <th>year</th>\n",
       "      <th>state</th>\n",
       "      <th>state_name</th>\n",
       "      <th>income_pc</th>\n",
       "      <th>Data_Value_Alt</th>\n",
       "      <th>Question</th>\n",
       "      <th>Sample_Size</th>\n",
       "      <th>Total</th>\n",
       "      <th>Income</th>\n",
       "      <th>GeoLocation</th>\n",
       "      <th>LocationID</th>\n",
       "      <th>StratificationCategory1</th>\n",
       "      <th>Stratification1</th>\n",
       "    </tr>\n",
       "  </thead>\n",
       "  <tbody>\n",
       "    <tr>\n",
       "      <th>341</th>\n",
       "      <td>397</td>\n",
       "      <td>2014</td>\n",
       "      <td>US</td>\n",
       "      <td>National</td>\n",
       "      <td>25.1</td>\n",
       "      <td>25.1</td>\n",
       "      <td>Percent of adults aged 18 years and older who ...</td>\n",
       "      <td>112498.0</td>\n",
       "      <td>NaN</td>\n",
       "      <td>$75,000 or greater</td>\n",
       "      <td>NaN</td>\n",
       "      <td>59</td>\n",
       "      <td>Income</td>\n",
       "      <td>$75,000 or greater</td>\n",
       "    </tr>\n",
       "    <tr>\n",
       "      <th>347</th>\n",
       "      <td>404</td>\n",
       "      <td>2014</td>\n",
       "      <td>US</td>\n",
       "      <td>National</td>\n",
       "      <td>37.6</td>\n",
       "      <td>37.6</td>\n",
       "      <td>Percent of adults aged 18 years and older who ...</td>\n",
       "      <td>112498.0</td>\n",
       "      <td>NaN</td>\n",
       "      <td>$75,000 or greater</td>\n",
       "      <td>NaN</td>\n",
       "      <td>59</td>\n",
       "      <td>Income</td>\n",
       "      <td>$75,000 or greater</td>\n",
       "    </tr>\n",
       "  </tbody>\n",
       "</table>\n",
       "</div>"
      ],
      "text/plain": [
       "     Unnamed: 0  year state state_name  income_pc  Data_Value_Alt  \\\n",
       "341         397  2014    US   National       25.1            25.1   \n",
       "347         404  2014    US   National       37.6            37.6   \n",
       "\n",
       "                                              Question  Sample_Size  Total  \\\n",
       "341  Percent of adults aged 18 years and older who ...     112498.0    NaN   \n",
       "347  Percent of adults aged 18 years and older who ...     112498.0    NaN   \n",
       "\n",
       "                 Income GeoLocation  LocationID StratificationCategory1  \\\n",
       "341  $75,000 or greater         NaN          59                  Income   \n",
       "347  $75,000 or greater         NaN          59                  Income   \n",
       "\n",
       "        Stratification1  \n",
       "341  $75,000 or greater  \n",
       "347  $75,000 or greater  "
      ]
     },
     "execution_count": 28,
     "metadata": {},
     "output_type": "execute_result"
    }
   ],
   "source": [
    "# create filter named \"income_75000_greater_in_2014_national\"\n",
    "income_75000_greater_in_2014_national=income_obesity_in_US_national_2014_df[(income_obesity_in_US_national_2014_df['Income']=='$75,000 or greater')]\n",
    "income_75000_greater_in_2014_national\n"
   ]
  },
  {
   "cell_type": "code",
   "execution_count": 29,
   "metadata": {},
   "outputs": [
    {
     "data": {
      "text/plain": [
       "31.35"
      ]
     },
     "execution_count": 29,
     "metadata": {},
     "output_type": "execute_result"
    }
   ],
   "source": [
    "# create filter named \"income_75000_greater_in_2014_national_avg\" to calculate average obesity rate for income of 75,000 or greater in 2014\n",
    "income_75000_greater_in_2014_national_avg=income_75000_greater_in_2014_national['income_pc'].mean()\n",
    "income_75000_greater_in_2014_national_avg"
   ]
  },
  {
   "cell_type": "code",
   "execution_count": 30,
   "metadata": {},
   "outputs": [
    {
     "name": "stdout",
     "output_type": "stream",
     "text": [
      "The national obesity rate average for income of $75,000 or greater in 2014\n",
      "==========================================================================\n",
      "Income\n",
      "$75,000 or greater    31.35\n",
      "Name: income_pc, dtype: float64\n"
     ]
    }
   ],
   "source": [
    "# Use \"income_75000_greater_in_2014_national_avg\" filter to show the national obesity rate average of people with income of $75,000 or greater on chart\n",
    "income_75000_greater_in_2014_national_avg=income_75000_greater_in_2014_national.groupby('Income')['income_pc'].mean()\n",
    "income_75000_greater_in_2014_national_avg\n",
    "title1='The national obesity rate average for income of $75,000 or greater in 2014'\n",
    "print(\"{}\\n{}\".format(title1, '='*len(title1)))\n",
    "print(income_75000_greater_in_2014_national_avg.sort_values())\n"
   ]
  },
  {
   "cell_type": "markdown",
   "metadata": {},
   "source": [
    "### Answer:  On a national scale, 31.35% of adults with an income of $75,000 or greater were obese in 2014."
   ]
  },
  {
   "cell_type": "code",
   "execution_count": 31,
   "metadata": {},
   "outputs": [],
   "source": [
    "list_of_2014_income_obesity = [income_15000_24999_in_2014_national,\n",
    "               income_25000_34999_in_2014_national_avg,\n",
    "               income_35000_49999_in_2014_national_avg,\n",
    "               income_50000_74999_in_2014_national_avg,\n",
    "               income_75000_greater_in_2014_national_avg]\n",
    "\n",
    "combined_income_obesity = pd.concat(list_of_2014_income_obesity)"
   ]
  },
  {
   "cell_type": "code",
   "execution_count": 32,
   "metadata": {},
   "outputs": [
    {
     "data": {
      "text/plain": [
       "year\n",
       "2014.0    32.7\n",
       "Name: income_pc, dtype: float64"
      ]
     },
     "execution_count": 32,
     "metadata": {},
     "output_type": "execute_result"
    }
   ],
   "source": [
    "combined_income_obesity.groupby('year')['income_pc'].mean()"
   ]
  },
  {
   "cell_type": "code",
   "execution_count": 33,
   "metadata": {},
   "outputs": [
    {
     "data": {
      "text/plain": [
       "<AxesSubplot:xlabel='year'>"
      ]
     },
     "execution_count": 33,
     "metadata": {},
     "output_type": "execute_result"
    },
    {
     "data": {
      "image/png": "[encoded data removed]",
      "text/plain": [
       "<Figure size 432x288 with 1 Axes>"
      ]
     },
     "metadata": {
      "needs_background": "light"
     },
     "output_type": "display_data"
    }
   ],
   "source": [
    "combined_income_obesity.groupby('year')['income_pc'].mean().plot(kind='bar')"
   ]
  },
  {
   "cell_type": "markdown",
   "metadata": {},
   "source": [
    "# Question 8: National Obesity Rates by Income in 2014"
   ]
  },
  {
   "cell_type": "code",
   "execution_count": 34,
   "metadata": {},
   "outputs": [],
   "source": [
    "list_of_dfs = [income_less_than_15000_in_2014_national_avg,\n",
    "               income_15000_24999_in_2014_national_avg,\n",
    "               income_25000_34999_in_2014_national_avg,\n",
    "               income_35000_49999_in_2014_national_avg,\n",
    "               income_50000_74999_in_2014_national_avg,\n",
    "               income_75000_greater_in_2014_national_avg]\n",
    "\n",
    "combined_df_income_2014 = pd.concat(list_of_dfs)"
   ]
  },
  {
   "cell_type": "code",
   "execution_count": 35,
   "metadata": {},
   "outputs": [
    {
     "data": {
      "text/plain": [
       "<AxesSubplot:xlabel='Income'>"
      ]
     },
     "execution_count": 35,
     "metadata": {},
     "output_type": "execute_result"
    },
    {
     "data": {
      "image/png": "[encoded data removed]",
      "text/plain": [
       "<Figure size 432x288 with 1 Axes>"
      ]
     },
     "metadata": {
      "needs_background": "light"
     },
     "output_type": "display_data"
    }
   ],
   "source": [
    "combined_df_income_2014.plot(kind='bar', color='violet')"
   ]
  },
  {
   "cell_type": "markdown",
   "metadata": {},
   "source": [
    "People who make an income of $25000-$49,999 are the most obese in 2014"
   ]
  },
  {
   "cell_type": "markdown",
   "metadata": {},
   "source": [
    "# Conclusion\n",
    "- The national obesity rate average in 2014 was 32.9%\n",
    "- On a national scale, 32.8% of adults with income of less than 15,000 were obese in 2014\n",
    "- On a national scale, 32.7% of adults with an income between 15,000 to 24,999 in 2014\n",
    "- On a national scale, 33.6% of adults with an income of 25,000 to 34,999 in 2014\n",
    "- On a national scale, 33.6% of adults with income of  35,000 to 49,999 in 2014\n",
    "- On a national scale, 33.2% of adults with an income of  50,000 − 74,999 in 2014\n",
    "- On a national scale, 31.35% of adults with an income of 75,000 or greater were obese in 2014.\n"
   ]
  },
  {
   "cell_type": "code",
   "execution_count": null,
   "metadata": {},
   "outputs": [],
   "source": []
  }
 ],
 "metadata": {
  "kernelspec": {
   "display_name": "Python 3",
   "language": "python",
   "name": "python3"
  },
  "language_info": {
   "codemirror_mode": {
    "name": "ipython",
    "version": 3
   },
   "file_extension": ".py",
   "mimetype": "text/x-python",
   "name": "python",
   "nbconvert_exporter": "python",
   "pygments_lexer": "ipython3",
   "version": "3.7.3"
  }
 },
 "nbformat": 4,
 "nbformat_minor": 2
}
