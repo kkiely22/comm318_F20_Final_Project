{
 "cells": [
  {
   "cell_type": "markdown",
   "metadata": {},
   "source": [
    "# US Obesity Rate by Age in 2015\n",
    "- This notebook will explore obesity rates of 5 age groups.\n",
    "    - 18 - 24\n",
    "    - 35 - 44\n",
    "    - 45 - 54\n",
    "    - 55 - 64\n",
    "    - 65 or older \n",
    "- First, the notebook will calculate the national obesity rate \n",
    "- Second, the notebook will calculate the average national obesity rate per age group. \n",
    "- Third, the notebook will show a graph comparing the national obesity rates per age group\n",
    "- The purpose of this notebook is to show what age group had the highest obesity rate in 2015"
   ]
  },
  {
   "cell_type": "markdown",
   "metadata": {},
   "source": [
    "# Setup"
   ]
  },
  {
   "cell_type": "code",
   "execution_count": 1,
   "metadata": {},
   "outputs": [],
   "source": [
    "import pandas as pd\n",
    "import matplotlib.pyplot as plt\n",
    "import numpy.random as np\n",
    "import sys\n",
    "import matplotlib \n",
    "import seaborn as sns\n",
    "import numpy as np"
   ]
  },
  {
   "cell_type": "markdown",
   "metadata": {},
   "source": [
    "# Load & Inspect 2015 Obesity by Age Data Frame"
   ]
  },
  {
   "cell_type": "code",
   "execution_count": 2,
   "metadata": {},
   "outputs": [],
   "source": [
    "obesity_in_US_age_2015 = pd.read_csv('../data/Clean Data/obesity_in_US_age_2015.csv')"
   ]
  },
  {
   "cell_type": "code",
   "execution_count": 3,
   "metadata": {},
   "outputs": [
    {
     "data": {
      "text/html": [
       "<div>\n",
       "<style scoped>\n",
       "    .dataframe tbody tr th:only-of-type {\n",
       "        vertical-align: middle;\n",
       "    }\n",
       "\n",
       "    .dataframe tbody tr th {\n",
       "        vertical-align: top;\n",
       "    }\n",
       "\n",
       "    .dataframe thead th {\n",
       "        text-align: right;\n",
       "    }\n",
       "</style>\n",
       "<table border=\"1\" class=\"dataframe\">\n",
       "  <thead>\n",
       "    <tr style=\"text-align: right;\">\n",
       "      <th></th>\n",
       "      <th>Unnamed: 0</th>\n",
       "      <th>year</th>\n",
       "      <th>state</th>\n",
       "      <th>state_name</th>\n",
       "      <th>age_pc</th>\n",
       "      <th>Data_Value_Alt</th>\n",
       "      <th>Question</th>\n",
       "      <th>Sample_Size</th>\n",
       "      <th>Total</th>\n",
       "      <th>Age</th>\n",
       "      <th>GeoLocation</th>\n",
       "      <th>LocationID</th>\n",
       "      <th>StratificationCategory1</th>\n",
       "      <th>Stratification1</th>\n",
       "    </tr>\n",
       "  </thead>\n",
       "  <tbody>\n",
       "    <tr>\n",
       "      <th>0</th>\n",
       "      <td>0</td>\n",
       "      <td>2015</td>\n",
       "      <td>AL</td>\n",
       "      <td>Alabama</td>\n",
       "      <td>41.1</td>\n",
       "      <td>41.1</td>\n",
       "      <td>Percent of adults aged 18 years and older who ...</td>\n",
       "      <td>836.0</td>\n",
       "      <td>NaN</td>\n",
       "      <td>35 - 44</td>\n",
       "      <td>(32.84057112200048, -86.63186076199969)</td>\n",
       "      <td>1</td>\n",
       "      <td>Age (years)</td>\n",
       "      <td>35 - 44</td>\n",
       "    </tr>\n",
       "    <tr>\n",
       "      <th>1</th>\n",
       "      <td>1</td>\n",
       "      <td>2015</td>\n",
       "      <td>AK</td>\n",
       "      <td>Alaska</td>\n",
       "      <td>33.1</td>\n",
       "      <td>33.1</td>\n",
       "      <td>Percent of adults aged 18 years and older who ...</td>\n",
       "      <td>459.0</td>\n",
       "      <td>NaN</td>\n",
       "      <td>35 - 44</td>\n",
       "      <td>(64.84507995700051, -147.72205903599973)</td>\n",
       "      <td>2</td>\n",
       "      <td>Age (years)</td>\n",
       "      <td>35 - 44</td>\n",
       "    </tr>\n",
       "    <tr>\n",
       "      <th>2</th>\n",
       "      <td>2</td>\n",
       "      <td>2015</td>\n",
       "      <td>AZ</td>\n",
       "      <td>Arizona</td>\n",
       "      <td>33.4</td>\n",
       "      <td>33.4</td>\n",
       "      <td>Percent of adults aged 18 years and older who ...</td>\n",
       "      <td>773.0</td>\n",
       "      <td>NaN</td>\n",
       "      <td>35 - 44</td>\n",
       "      <td>(34.865970280000454, -111.76381127699972)</td>\n",
       "      <td>4</td>\n",
       "      <td>Age (years)</td>\n",
       "      <td>35 - 44</td>\n",
       "    </tr>\n",
       "    <tr>\n",
       "      <th>3</th>\n",
       "      <td>3</td>\n",
       "      <td>2015</td>\n",
       "      <td>AZ</td>\n",
       "      <td>Arizona</td>\n",
       "      <td>33.4</td>\n",
       "      <td>33.4</td>\n",
       "      <td>Percent of adults aged 18 years and older who ...</td>\n",
       "      <td>1419.0</td>\n",
       "      <td>NaN</td>\n",
       "      <td>55 - 64</td>\n",
       "      <td>(34.865970280000454, -111.76381127699972)</td>\n",
       "      <td>4</td>\n",
       "      <td>Age (years)</td>\n",
       "      <td>55 - 64</td>\n",
       "    </tr>\n",
       "    <tr>\n",
       "      <th>4</th>\n",
       "      <td>4</td>\n",
       "      <td>2015</td>\n",
       "      <td>AR</td>\n",
       "      <td>Arkansas</td>\n",
       "      <td>42.2</td>\n",
       "      <td>42.2</td>\n",
       "      <td>Percent of adults aged 18 years and older who ...</td>\n",
       "      <td>661.0</td>\n",
       "      <td>NaN</td>\n",
       "      <td>45 - 54</td>\n",
       "      <td>(34.74865012400045, -92.27449074299966)</td>\n",
       "      <td>5</td>\n",
       "      <td>Age (years)</td>\n",
       "      <td>45 - 54</td>\n",
       "    </tr>\n",
       "    <tr>\n",
       "      <th>...</th>\n",
       "      <td>...</td>\n",
       "      <td>...</td>\n",
       "      <td>...</td>\n",
       "      <td>...</td>\n",
       "      <td>...</td>\n",
       "      <td>...</td>\n",
       "      <td>...</td>\n",
       "      <td>...</td>\n",
       "      <td>...</td>\n",
       "      <td>...</td>\n",
       "      <td>...</td>\n",
       "      <td>...</td>\n",
       "      <td>...</td>\n",
       "      <td>...</td>\n",
       "    </tr>\n",
       "    <tr>\n",
       "      <th>535</th>\n",
       "      <td>535</td>\n",
       "      <td>2015</td>\n",
       "      <td>PR</td>\n",
       "      <td>Puerto Rico</td>\n",
       "      <td>19.9</td>\n",
       "      <td>19.9</td>\n",
       "      <td>Percent of adults aged 18 years and older who ...</td>\n",
       "      <td>397.0</td>\n",
       "      <td>NaN</td>\n",
       "      <td>18 - 24</td>\n",
       "      <td>(18.220833, -66.590149)</td>\n",
       "      <td>72</td>\n",
       "      <td>Age (years)</td>\n",
       "      <td>18 - 24</td>\n",
       "    </tr>\n",
       "    <tr>\n",
       "      <th>536</th>\n",
       "      <td>536</td>\n",
       "      <td>2015</td>\n",
       "      <td>PR</td>\n",
       "      <td>Puerto Rico</td>\n",
       "      <td>34.1</td>\n",
       "      <td>34.1</td>\n",
       "      <td>Percent of adults aged 18 years and older who ...</td>\n",
       "      <td>656.0</td>\n",
       "      <td>NaN</td>\n",
       "      <td>35 - 44</td>\n",
       "      <td>(18.220833, -66.590149)</td>\n",
       "      <td>72</td>\n",
       "      <td>Age (years)</td>\n",
       "      <td>35 - 44</td>\n",
       "    </tr>\n",
       "    <tr>\n",
       "      <th>537</th>\n",
       "      <td>537</td>\n",
       "      <td>2015</td>\n",
       "      <td>PR</td>\n",
       "      <td>Puerto Rico</td>\n",
       "      <td>42.0</td>\n",
       "      <td>42.0</td>\n",
       "      <td>Percent of adults aged 18 years and older who ...</td>\n",
       "      <td>997.0</td>\n",
       "      <td>NaN</td>\n",
       "      <td>55 - 64</td>\n",
       "      <td>(18.220833, -66.590149)</td>\n",
       "      <td>72</td>\n",
       "      <td>Age (years)</td>\n",
       "      <td>55 - 64</td>\n",
       "    </tr>\n",
       "    <tr>\n",
       "      <th>538</th>\n",
       "      <td>538</td>\n",
       "      <td>2015</td>\n",
       "      <td>PR</td>\n",
       "      <td>Puerto Rico</td>\n",
       "      <td>43.0</td>\n",
       "      <td>43.0</td>\n",
       "      <td>Percent of adults aged 18 years and older who ...</td>\n",
       "      <td>1647.0</td>\n",
       "      <td>NaN</td>\n",
       "      <td>65 or older</td>\n",
       "      <td>(18.220833, -66.590149)</td>\n",
       "      <td>72</td>\n",
       "      <td>Age (years)</td>\n",
       "      <td>65 or older</td>\n",
       "    </tr>\n",
       "    <tr>\n",
       "      <th>539</th>\n",
       "      <td>539</td>\n",
       "      <td>2015</td>\n",
       "      <td>PR</td>\n",
       "      <td>Puerto Rico</td>\n",
       "      <td>44.7</td>\n",
       "      <td>44.7</td>\n",
       "      <td>Percent of adults aged 18 years and older who ...</td>\n",
       "      <td>860.0</td>\n",
       "      <td>NaN</td>\n",
       "      <td>45 - 54</td>\n",
       "      <td>(18.220833, -66.590149)</td>\n",
       "      <td>72</td>\n",
       "      <td>Age (years)</td>\n",
       "      <td>45 - 54</td>\n",
       "    </tr>\n",
       "  </tbody>\n",
       "</table>\n",
       "<p>540 rows × 14 columns</p>\n",
       "</div>"
      ],
      "text/plain": [
       "     Unnamed: 0  year state   state_name  age_pc  Data_Value_Alt  \\\n",
       "0             0  2015    AL      Alabama    41.1            41.1   \n",
       "1             1  2015    AK       Alaska    33.1            33.1   \n",
       "2             2  2015    AZ      Arizona    33.4            33.4   \n",
       "3             3  2015    AZ      Arizona    33.4            33.4   \n",
       "4             4  2015    AR     Arkansas    42.2            42.2   \n",
       "..          ...   ...   ...          ...     ...             ...   \n",
       "535         535  2015    PR  Puerto Rico    19.9            19.9   \n",
       "536         536  2015    PR  Puerto Rico    34.1            34.1   \n",
       "537         537  2015    PR  Puerto Rico    42.0            42.0   \n",
       "538         538  2015    PR  Puerto Rico    43.0            43.0   \n",
       "539         539  2015    PR  Puerto Rico    44.7            44.7   \n",
       "\n",
       "                                              Question  Sample_Size  Total  \\\n",
       "0    Percent of adults aged 18 years and older who ...        836.0    NaN   \n",
       "1    Percent of adults aged 18 years and older who ...        459.0    NaN   \n",
       "2    Percent of adults aged 18 years and older who ...        773.0    NaN   \n",
       "3    Percent of adults aged 18 years and older who ...       1419.0    NaN   \n",
       "4    Percent of adults aged 18 years and older who ...        661.0    NaN   \n",
       "..                                                 ...          ...    ...   \n",
       "535  Percent of adults aged 18 years and older who ...        397.0    NaN   \n",
       "536  Percent of adults aged 18 years and older who ...        656.0    NaN   \n",
       "537  Percent of adults aged 18 years and older who ...        997.0    NaN   \n",
       "538  Percent of adults aged 18 years and older who ...       1647.0    NaN   \n",
       "539  Percent of adults aged 18 years and older who ...        860.0    NaN   \n",
       "\n",
       "             Age                                GeoLocation  LocationID  \\\n",
       "0        35 - 44    (32.84057112200048, -86.63186076199969)           1   \n",
       "1        35 - 44   (64.84507995700051, -147.72205903599973)           2   \n",
       "2        35 - 44  (34.865970280000454, -111.76381127699972)           4   \n",
       "3        55 - 64  (34.865970280000454, -111.76381127699972)           4   \n",
       "4        45 - 54    (34.74865012400045, -92.27449074299966)           5   \n",
       "..           ...                                        ...         ...   \n",
       "535      18 - 24                    (18.220833, -66.590149)          72   \n",
       "536      35 - 44                    (18.220833, -66.590149)          72   \n",
       "537      55 - 64                    (18.220833, -66.590149)          72   \n",
       "538  65 or older                    (18.220833, -66.590149)          72   \n",
       "539      45 - 54                    (18.220833, -66.590149)          72   \n",
       "\n",
       "    StratificationCategory1 Stratification1  \n",
       "0               Age (years)         35 - 44  \n",
       "1               Age (years)         35 - 44  \n",
       "2               Age (years)         35 - 44  \n",
       "3               Age (years)         55 - 64  \n",
       "4               Age (years)         45 - 54  \n",
       "..                      ...             ...  \n",
       "535             Age (years)         18 - 24  \n",
       "536             Age (years)         35 - 44  \n",
       "537             Age (years)         55 - 64  \n",
       "538             Age (years)     65 or older  \n",
       "539             Age (years)         45 - 54  \n",
       "\n",
       "[540 rows x 14 columns]"
      ]
     },
     "execution_count": 3,
     "metadata": {},
     "output_type": "execute_result"
    }
   ],
   "source": [
    "obesity_in_US_age_2015"
   ]
  },
  {
   "cell_type": "code",
   "execution_count": 4,
   "metadata": {},
   "outputs": [
    {
     "data": {
      "text/plain": [
       "array(['35 - 44', '55 - 64', '45 - 54', '18 - 24', '65 or older'],\n",
       "      dtype=object)"
      ]
     },
     "execution_count": 4,
     "metadata": {},
     "output_type": "execute_result"
    }
   ],
   "source": [
    "obesity_in_US_age_2015['Age'].unique()"
   ]
  },
  {
   "cell_type": "code",
   "execution_count": 5,
   "metadata": {},
   "outputs": [
    {
     "data": {
      "text/plain": [
       "35 - 44        108\n",
       "45 - 54        108\n",
       "65 or older    108\n",
       "18 - 24        108\n",
       "55 - 64        108\n",
       "Name: Age, dtype: int64"
      ]
     },
     "execution_count": 5,
     "metadata": {},
     "output_type": "execute_result"
    }
   ],
   "source": [
    "obesity_in_US_age_2015['Age'].value_counts()"
   ]
  },
  {
   "cell_type": "markdown",
   "metadata": {},
   "source": [
    "# Questions:\n",
    "\n",
    "#### Question 1: What was the national obesity rate in 2015?\n",
    "- Steps: \n",
    "    - create filter named \"age_obesity_in_US_national_2015_df\" to eliminate every row except 'National)\n",
    "    - Create a filter \"national_avg_2015\" to find the mean obesity rate nationally\n",
    "    - use \"national_avg_2015\" filter to show the national obesity rate average on chart\n",
    "    \n",
    "#### Question 2: What was the national obesity rate for ages 18-24 in 2015?\n",
    "- Steps: \n",
    "    - create filter named \"ages_18_24_in_2015_national\" on the \"age_obesity_in_US_national_2015_df\" to               eliminate all ages except for 18-24 \n",
    "    - create a filter \"ages_18_24_in_2015_national_avg\" to calculate the average national obesity rate for ages       18-24 in 2015\n",
    "    \n",
    "#### Question 3: What was the national obesity rate for ages 35 - 44  in 2015?\n",
    "- Steps:  \n",
    "    - create filter named \"ages_35_44_in_2015_national\" on the \"age_obesity_in_US_national_2015_df\" to               eliminate all ages except for 35-44 \n",
    "    - create a filter \"ages_35_44_in_2015_national_avg\" to calculate the average national obesity rate for ages       35-44 in 2015\n",
    "    \n",
    "#### Question 4: What was the national obesity rate for ages 45 - 54  in 2015?\n",
    "- Steps: \n",
    "    - create filter named \"ages_45_54_in_2015_national\" on the \"age_obesity_in_US_national_2015_df\" to               eliminate all ages except for 45-54 \n",
    "    - create a filter \"ages_45_54_in_2015_national_avg\" to calculate the average national obesity rate for ages       45-54 in 2015\n",
    "\n",
    "#### Question 5: What was the national obesity rate for ages 55-64 in 2015?\n",
    "- Steps:  \n",
    "   - create filter named \"ages_55_64_in_2015_national\" on the \"age_obesity_in_US_national_2015_df\" to                eliminate all ages except for 55-64\n",
    "   - create a filter \"ages_55_64_in_2015_national_avg\" to calculate the average national obesity rate for            ages 55-64 in 2015\n",
    "    \n",
    "#### Question 6: What was the national obesity rate for ages 65 or older in 2015?\n",
    "- Steps:  \n",
    "   - create filter named \"ages_65_older_in_2015_national\" on the \"age_obesity_in_US_national_2015_df\" to             eliminate all ages except for 65 or older\n",
    "    - create a filter \"ages_65_older_in_2015_national_avg\" to calculate the average national obesity rate for         ages 65 or older in 2015\n",
    "\n",
    "#### Question 7: National Obesity Rates by Age in 2016\n",
    "- Steps: \n",
    "    - create filter named \"combined_df_age_2015\" to bring all the national obesity rates per age group together \n",
    "    - plot a graph of the age groups obesity rates"
   ]
  },
  {
   "cell_type": "markdown",
   "metadata": {},
   "source": [
    "# Question 1: What was the national obesity rate in 2015?"
   ]
  },
  {
   "cell_type": "code",
   "execution_count": 6,
   "metadata": {},
   "outputs": [
    {
     "data": {
      "text/html": [
       "<div>\n",
       "<style scoped>\n",
       "    .dataframe tbody tr th:only-of-type {\n",
       "        vertical-align: middle;\n",
       "    }\n",
       "\n",
       "    .dataframe tbody tr th {\n",
       "        vertical-align: top;\n",
       "    }\n",
       "\n",
       "    .dataframe thead th {\n",
       "        text-align: right;\n",
       "    }\n",
       "</style>\n",
       "<table border=\"1\" class=\"dataframe\">\n",
       "  <thead>\n",
       "    <tr style=\"text-align: right;\">\n",
       "      <th></th>\n",
       "      <th>Unnamed: 0</th>\n",
       "      <th>year</th>\n",
       "      <th>state</th>\n",
       "      <th>state_name</th>\n",
       "      <th>age_pc</th>\n",
       "      <th>Data_Value_Alt</th>\n",
       "      <th>Question</th>\n",
       "      <th>Sample_Size</th>\n",
       "      <th>Total</th>\n",
       "      <th>Age</th>\n",
       "      <th>GeoLocation</th>\n",
       "      <th>LocationID</th>\n",
       "      <th>StratificationCategory1</th>\n",
       "      <th>Stratification1</th>\n",
       "    </tr>\n",
       "  </thead>\n",
       "  <tbody>\n",
       "    <tr>\n",
       "      <th>495</th>\n",
       "      <td>495</td>\n",
       "      <td>2015</td>\n",
       "      <td>US</td>\n",
       "      <td>National</td>\n",
       "      <td>34.0</td>\n",
       "      <td>34.0</td>\n",
       "      <td>Percent of adults aged 18 years and older who ...</td>\n",
       "      <td>64418.0</td>\n",
       "      <td>NaN</td>\n",
       "      <td>45 - 54</td>\n",
       "      <td>NaN</td>\n",
       "      <td>59</td>\n",
       "      <td>Age (years)</td>\n",
       "      <td>45 - 54</td>\n",
       "    </tr>\n",
       "    <tr>\n",
       "      <th>511</th>\n",
       "      <td>511</td>\n",
       "      <td>2015</td>\n",
       "      <td>US</td>\n",
       "      <td>National</td>\n",
       "      <td>16.7</td>\n",
       "      <td>16.7</td>\n",
       "      <td>Percent of adults aged 18 years and older who ...</td>\n",
       "      <td>21539.0</td>\n",
       "      <td>NaN</td>\n",
       "      <td>18 - 24</td>\n",
       "      <td>NaN</td>\n",
       "      <td>59</td>\n",
       "      <td>Age (years)</td>\n",
       "      <td>18 - 24</td>\n",
       "    </tr>\n",
       "    <tr>\n",
       "      <th>512</th>\n",
       "      <td>512</td>\n",
       "      <td>2015</td>\n",
       "      <td>US</td>\n",
       "      <td>National</td>\n",
       "      <td>27.6</td>\n",
       "      <td>27.6</td>\n",
       "      <td>Percent of adults aged 18 years and older who ...</td>\n",
       "      <td>141064.0</td>\n",
       "      <td>NaN</td>\n",
       "      <td>65 or older</td>\n",
       "      <td>NaN</td>\n",
       "      <td>59</td>\n",
       "      <td>Age (years)</td>\n",
       "      <td>65 or older</td>\n",
       "    </tr>\n",
       "    <tr>\n",
       "      <th>513</th>\n",
       "      <td>513</td>\n",
       "      <td>2015</td>\n",
       "      <td>US</td>\n",
       "      <td>National</td>\n",
       "      <td>32.1</td>\n",
       "      <td>32.1</td>\n",
       "      <td>Percent of adults aged 18 years and older who ...</td>\n",
       "      <td>45319.0</td>\n",
       "      <td>NaN</td>\n",
       "      <td>35 - 44</td>\n",
       "      <td>NaN</td>\n",
       "      <td>59</td>\n",
       "      <td>Age (years)</td>\n",
       "      <td>35 - 44</td>\n",
       "    </tr>\n",
       "    <tr>\n",
       "      <th>514</th>\n",
       "      <td>514</td>\n",
       "      <td>2015</td>\n",
       "      <td>US</td>\n",
       "      <td>National</td>\n",
       "      <td>33.4</td>\n",
       "      <td>33.4</td>\n",
       "      <td>Percent of adults aged 18 years and older who ...</td>\n",
       "      <td>88587.0</td>\n",
       "      <td>NaN</td>\n",
       "      <td>55 - 64</td>\n",
       "      <td>NaN</td>\n",
       "      <td>59</td>\n",
       "      <td>Age (years)</td>\n",
       "      <td>55 - 64</td>\n",
       "    </tr>\n",
       "    <tr>\n",
       "      <th>515</th>\n",
       "      <td>515</td>\n",
       "      <td>2015</td>\n",
       "      <td>US</td>\n",
       "      <td>National</td>\n",
       "      <td>25.2</td>\n",
       "      <td>25.2</td>\n",
       "      <td>Percent of adults aged 18 years and older who ...</td>\n",
       "      <td>21539.0</td>\n",
       "      <td>NaN</td>\n",
       "      <td>18 - 24</td>\n",
       "      <td>NaN</td>\n",
       "      <td>59</td>\n",
       "      <td>Age (years)</td>\n",
       "      <td>18 - 24</td>\n",
       "    </tr>\n",
       "    <tr>\n",
       "      <th>516</th>\n",
       "      <td>516</td>\n",
       "      <td>2015</td>\n",
       "      <td>US</td>\n",
       "      <td>National</td>\n",
       "      <td>36.3</td>\n",
       "      <td>36.3</td>\n",
       "      <td>Percent of adults aged 18 years and older who ...</td>\n",
       "      <td>45319.0</td>\n",
       "      <td>NaN</td>\n",
       "      <td>35 - 44</td>\n",
       "      <td>NaN</td>\n",
       "      <td>59</td>\n",
       "      <td>Age (years)</td>\n",
       "      <td>35 - 44</td>\n",
       "    </tr>\n",
       "    <tr>\n",
       "      <th>517</th>\n",
       "      <td>517</td>\n",
       "      <td>2015</td>\n",
       "      <td>US</td>\n",
       "      <td>National</td>\n",
       "      <td>37.5</td>\n",
       "      <td>37.5</td>\n",
       "      <td>Percent of adults aged 18 years and older who ...</td>\n",
       "      <td>64418.0</td>\n",
       "      <td>NaN</td>\n",
       "      <td>45 - 54</td>\n",
       "      <td>NaN</td>\n",
       "      <td>59</td>\n",
       "      <td>Age (years)</td>\n",
       "      <td>45 - 54</td>\n",
       "    </tr>\n",
       "    <tr>\n",
       "      <th>518</th>\n",
       "      <td>518</td>\n",
       "      <td>2015</td>\n",
       "      <td>US</td>\n",
       "      <td>National</td>\n",
       "      <td>38.6</td>\n",
       "      <td>38.6</td>\n",
       "      <td>Percent of adults aged 18 years and older who ...</td>\n",
       "      <td>88587.0</td>\n",
       "      <td>NaN</td>\n",
       "      <td>55 - 64</td>\n",
       "      <td>NaN</td>\n",
       "      <td>59</td>\n",
       "      <td>Age (years)</td>\n",
       "      <td>55 - 64</td>\n",
       "    </tr>\n",
       "    <tr>\n",
       "      <th>519</th>\n",
       "      <td>519</td>\n",
       "      <td>2015</td>\n",
       "      <td>US</td>\n",
       "      <td>National</td>\n",
       "      <td>39.1</td>\n",
       "      <td>39.1</td>\n",
       "      <td>Percent of adults aged 18 years and older who ...</td>\n",
       "      <td>141064.0</td>\n",
       "      <td>NaN</td>\n",
       "      <td>65 or older</td>\n",
       "      <td>NaN</td>\n",
       "      <td>59</td>\n",
       "      <td>Age (years)</td>\n",
       "      <td>65 or older</td>\n",
       "    </tr>\n",
       "  </tbody>\n",
       "</table>\n",
       "</div>"
      ],
      "text/plain": [
       "     Unnamed: 0  year state state_name  age_pc  Data_Value_Alt  \\\n",
       "495         495  2015    US   National    34.0            34.0   \n",
       "511         511  2015    US   National    16.7            16.7   \n",
       "512         512  2015    US   National    27.6            27.6   \n",
       "513         513  2015    US   National    32.1            32.1   \n",
       "514         514  2015    US   National    33.4            33.4   \n",
       "515         515  2015    US   National    25.2            25.2   \n",
       "516         516  2015    US   National    36.3            36.3   \n",
       "517         517  2015    US   National    37.5            37.5   \n",
       "518         518  2015    US   National    38.6            38.6   \n",
       "519         519  2015    US   National    39.1            39.1   \n",
       "\n",
       "                                              Question  Sample_Size  Total  \\\n",
       "495  Percent of adults aged 18 years and older who ...      64418.0    NaN   \n",
       "511  Percent of adults aged 18 years and older who ...      21539.0    NaN   \n",
       "512  Percent of adults aged 18 years and older who ...     141064.0    NaN   \n",
       "513  Percent of adults aged 18 years and older who ...      45319.0    NaN   \n",
       "514  Percent of adults aged 18 years and older who ...      88587.0    NaN   \n",
       "515  Percent of adults aged 18 years and older who ...      21539.0    NaN   \n",
       "516  Percent of adults aged 18 years and older who ...      45319.0    NaN   \n",
       "517  Percent of adults aged 18 years and older who ...      64418.0    NaN   \n",
       "518  Percent of adults aged 18 years and older who ...      88587.0    NaN   \n",
       "519  Percent of adults aged 18 years and older who ...     141064.0    NaN   \n",
       "\n",
       "             Age GeoLocation  LocationID StratificationCategory1  \\\n",
       "495      45 - 54         NaN          59             Age (years)   \n",
       "511      18 - 24         NaN          59             Age (years)   \n",
       "512  65 or older         NaN          59             Age (years)   \n",
       "513      35 - 44         NaN          59             Age (years)   \n",
       "514      55 - 64         NaN          59             Age (years)   \n",
       "515      18 - 24         NaN          59             Age (years)   \n",
       "516      35 - 44         NaN          59             Age (years)   \n",
       "517      45 - 54         NaN          59             Age (years)   \n",
       "518      55 - 64         NaN          59             Age (years)   \n",
       "519  65 or older         NaN          59             Age (years)   \n",
       "\n",
       "    Stratification1  \n",
       "495         45 - 54  \n",
       "511         18 - 24  \n",
       "512     65 or older  \n",
       "513         35 - 44  \n",
       "514         55 - 64  \n",
       "515         18 - 24  \n",
       "516         35 - 44  \n",
       "517         45 - 54  \n",
       "518         55 - 64  \n",
       "519     65 or older  "
      ]
     },
     "execution_count": 6,
     "metadata": {},
     "output_type": "execute_result"
    }
   ],
   "source": [
    "#Age\n",
    "#make national its own dataframe named \"age_obesity_in_US_national_2015_df\"\n",
    "age_obesity_in_US_national_2015_df=obesity_in_US_age_2015[(obesity_in_US_age_2015['state_name']=='National')]\n",
    "age_obesity_in_US_national_2015_df\n"
   ]
  },
  {
   "cell_type": "markdown",
   "metadata": {},
   "source": [
    "- \"age_obesity_in_US_national_2015_df\"\n",
    "    - this data frame represents the country as a whole by age (it eliminates the state by state averages) in 2015\n",
    "    - use it to calculate national obesity rate as 1) a whole, 2) for each age group "
   ]
  },
  {
   "cell_type": "code",
   "execution_count": 7,
   "metadata": {},
   "outputs": [
    {
     "data": {
      "text/plain": [
       "65 or older    2\n",
       "35 - 44        2\n",
       "45 - 54        2\n",
       "55 - 64        2\n",
       "18 - 24        2\n",
       "Name: Age, dtype: int64"
      ]
     },
     "execution_count": 7,
     "metadata": {},
     "output_type": "execute_result"
    }
   ],
   "source": [
    "age_obesity_in_US_national_2015_df['Age'].value_counts()"
   ]
  },
  {
   "cell_type": "code",
   "execution_count": 8,
   "metadata": {},
   "outputs": [
    {
     "data": {
      "text/plain": [
       "32.050000000000004"
      ]
     },
     "execution_count": 8,
     "metadata": {},
     "output_type": "execute_result"
    }
   ],
   "source": [
    "# Create a filter \"national_avg_2015\" to find the mean obesity rate nationally\n",
    "national_avg_2015=age_obesity_in_US_national_2015_df['age_pc'].mean()\n",
    "national_avg_2015\n"
   ]
  },
  {
   "cell_type": "markdown",
   "metadata": {},
   "source": [
    "#### Note: This is unnecessary to include in story but it is good to know that it is the same average as national gender because it shows that this data is accurate throughout"
   ]
  },
  {
   "cell_type": "code",
   "execution_count": 9,
   "metadata": {},
   "outputs": [
    {
     "name": "stdout",
     "output_type": "stream",
     "text": [
      "The national obesity rate average in 2015\n",
      "=========================================\n",
      "state_name\n",
      "National    32.05\n",
      "Name: age_pc, dtype: float64\n"
     ]
    }
   ],
   "source": [
    "# Use \"national_avg_2015\" filter to show the national obesity rate average on chart\n",
    "national_avg_2015=age_obesity_in_US_national_2015_df.groupby('state_name')['age_pc'].mean()\n",
    "national_avg_2015\n",
    "title1='The national obesity rate average in 2015'\n",
    "print(\"{}\\n{}\".format(title1, '='*len(title1)))\n",
    "print(national_avg_2015.sort_values())\n",
    "\n",
    "\n",
    "\n"
   ]
  },
  {
   "cell_type": "markdown",
   "metadata": {},
   "source": [
    "### Answer: The national obesity rate average in 2015 was 32.05%"
   ]
  },
  {
   "cell_type": "code",
   "execution_count": 10,
   "metadata": {},
   "outputs": [
    {
     "data": {
      "text/plain": [
       "Text(0.5, 1.0, '2015')"
      ]
     },
     "execution_count": 10,
     "metadata": {},
     "output_type": "execute_result"
    },
    {
     "data": {
      "image/png": "[encoded data removed]",
      "text/plain": [
       "<Figure size 864x288 with 1 Axes>"
      ]
     },
     "metadata": {
      "needs_background": "light"
     },
     "output_type": "display_data"
    }
   ],
   "source": [
    "\n",
    "# 1. Set up the figure to plot two bar charts and specify size ratio (3:1)\n",
    "plt.figure(figsize=(12,4))\n",
    "\n",
    "# 2. the plt.subplot() function divides the main figure into rows and columns\n",
    "#    121 = 1 row 2 columns and the first slot\n",
    "plt.subplot(121)\n",
    "\n",
    "# use the region mean data to plot a bar chart and add labels\n",
    "national_avg_2015.plot(kind='bar')\n",
    "plt.xlabel('National')\n",
    "plt.ylabel('Obesity Rate')\n",
    "plt.title('2015')\n"
   ]
  },
  {
   "cell_type": "markdown",
   "metadata": {},
   "source": [
    "# Question 2: What was the national obesity rate for ages 18-24 in 2015?"
   ]
  },
  {
   "cell_type": "code",
   "execution_count": 11,
   "metadata": {},
   "outputs": [
    {
     "data": {
      "text/html": [
       "<div>\n",
       "<style scoped>\n",
       "    .dataframe tbody tr th:only-of-type {\n",
       "        vertical-align: middle;\n",
       "    }\n",
       "\n",
       "    .dataframe tbody tr th {\n",
       "        vertical-align: top;\n",
       "    }\n",
       "\n",
       "    .dataframe thead th {\n",
       "        text-align: right;\n",
       "    }\n",
       "</style>\n",
       "<table border=\"1\" class=\"dataframe\">\n",
       "  <thead>\n",
       "    <tr style=\"text-align: right;\">\n",
       "      <th></th>\n",
       "      <th>Unnamed: 0</th>\n",
       "      <th>year</th>\n",
       "      <th>state</th>\n",
       "      <th>state_name</th>\n",
       "      <th>age_pc</th>\n",
       "      <th>Data_Value_Alt</th>\n",
       "      <th>Question</th>\n",
       "      <th>Sample_Size</th>\n",
       "      <th>Total</th>\n",
       "      <th>Age</th>\n",
       "      <th>GeoLocation</th>\n",
       "      <th>LocationID</th>\n",
       "      <th>StratificationCategory1</th>\n",
       "      <th>Stratification1</th>\n",
       "    </tr>\n",
       "  </thead>\n",
       "  <tbody>\n",
       "    <tr>\n",
       "      <th>511</th>\n",
       "      <td>511</td>\n",
       "      <td>2015</td>\n",
       "      <td>US</td>\n",
       "      <td>National</td>\n",
       "      <td>16.7</td>\n",
       "      <td>16.7</td>\n",
       "      <td>Percent of adults aged 18 years and older who ...</td>\n",
       "      <td>21539.0</td>\n",
       "      <td>NaN</td>\n",
       "      <td>18 - 24</td>\n",
       "      <td>NaN</td>\n",
       "      <td>59</td>\n",
       "      <td>Age (years)</td>\n",
       "      <td>18 - 24</td>\n",
       "    </tr>\n",
       "    <tr>\n",
       "      <th>515</th>\n",
       "      <td>515</td>\n",
       "      <td>2015</td>\n",
       "      <td>US</td>\n",
       "      <td>National</td>\n",
       "      <td>25.2</td>\n",
       "      <td>25.2</td>\n",
       "      <td>Percent of adults aged 18 years and older who ...</td>\n",
       "      <td>21539.0</td>\n",
       "      <td>NaN</td>\n",
       "      <td>18 - 24</td>\n",
       "      <td>NaN</td>\n",
       "      <td>59</td>\n",
       "      <td>Age (years)</td>\n",
       "      <td>18 - 24</td>\n",
       "    </tr>\n",
       "  </tbody>\n",
       "</table>\n",
       "</div>"
      ],
      "text/plain": [
       "     Unnamed: 0  year state state_name  age_pc  Data_Value_Alt  \\\n",
       "511         511  2015    US   National    16.7            16.7   \n",
       "515         515  2015    US   National    25.2            25.2   \n",
       "\n",
       "                                              Question  Sample_Size  Total  \\\n",
       "511  Percent of adults aged 18 years and older who ...      21539.0    NaN   \n",
       "515  Percent of adults aged 18 years and older who ...      21539.0    NaN   \n",
       "\n",
       "         Age GeoLocation  LocationID StratificationCategory1 Stratification1  \n",
       "511  18 - 24         NaN          59             Age (years)         18 - 24  \n",
       "515  18 - 24         NaN          59             Age (years)         18 - 24  "
      ]
     },
     "execution_count": 11,
     "metadata": {},
     "output_type": "execute_result"
    }
   ],
   "source": [
    "# create filter named \"ages_18_24_in_2015_national\"\n",
    "ages_18_24_in_2015_national=age_obesity_in_US_national_2015_df[(age_obesity_in_US_national_2015_df['Age']=='18 - 24')]\n",
    "ages_18_24_in_2015_national\n"
   ]
  },
  {
   "cell_type": "code",
   "execution_count": 12,
   "metadata": {},
   "outputs": [
    {
     "data": {
      "text/plain": [
       "20.95"
      ]
     },
     "execution_count": 12,
     "metadata": {},
     "output_type": "execute_result"
    }
   ],
   "source": [
    "# average obesity rate for ages 18-24 in 2015\n",
    "ages_18_24_in_2015_national_avg=ages_18_24_in_2015_national['age_pc'].mean()\n",
    "ages_18_24_in_2015_national_avg\n"
   ]
  },
  {
   "cell_type": "code",
   "execution_count": 13,
   "metadata": {},
   "outputs": [
    {
     "name": "stdout",
     "output_type": "stream",
     "text": [
      "The national obesity rate average for ages 18-24 in 2015\n",
      "========================================================\n",
      "Age\n",
      "18 - 24    20.95\n",
      "Name: age_pc, dtype: float64\n"
     ]
    }
   ],
   "source": [
    "# Use \"ages_18_24_in_2015_national_avg\" filter to show the national ages 18-24 obesity rate average on chart\n",
    "ages_18_24_in_2015_national_avg=ages_18_24_in_2015_national.groupby('Age')['age_pc'].mean()\n",
    "ages_18_24_in_2015_national_avg\n",
    "title1='The national obesity rate average for ages 18-24 in 2015'\n",
    "print(\"{}\\n{}\".format(title1, '='*len(title1)))\n",
    "print(ages_18_24_in_2015_national_avg.sort_values())\n",
    "\n"
   ]
  },
  {
   "cell_type": "markdown",
   "metadata": {},
   "source": [
    "### Answer: On a national scale, 20.95% of adults ages 18-24 were obese in 2015. "
   ]
  },
  {
   "cell_type": "markdown",
   "metadata": {},
   "source": [
    "# Question 3: What was the national obesity rate for ages 35 - 44  in 2015?"
   ]
  },
  {
   "cell_type": "code",
   "execution_count": 14,
   "metadata": {},
   "outputs": [
    {
     "data": {
      "text/html": [
       "<div>\n",
       "<style scoped>\n",
       "    .dataframe tbody tr th:only-of-type {\n",
       "        vertical-align: middle;\n",
       "    }\n",
       "\n",
       "    .dataframe tbody tr th {\n",
       "        vertical-align: top;\n",
       "    }\n",
       "\n",
       "    .dataframe thead th {\n",
       "        text-align: right;\n",
       "    }\n",
       "</style>\n",
       "<table border=\"1\" class=\"dataframe\">\n",
       "  <thead>\n",
       "    <tr style=\"text-align: right;\">\n",
       "      <th></th>\n",
       "      <th>Unnamed: 0</th>\n",
       "      <th>year</th>\n",
       "      <th>state</th>\n",
       "      <th>state_name</th>\n",
       "      <th>age_pc</th>\n",
       "      <th>Data_Value_Alt</th>\n",
       "      <th>Question</th>\n",
       "      <th>Sample_Size</th>\n",
       "      <th>Total</th>\n",
       "      <th>Age</th>\n",
       "      <th>GeoLocation</th>\n",
       "      <th>LocationID</th>\n",
       "      <th>StratificationCategory1</th>\n",
       "      <th>Stratification1</th>\n",
       "    </tr>\n",
       "  </thead>\n",
       "  <tbody>\n",
       "    <tr>\n",
       "      <th>513</th>\n",
       "      <td>513</td>\n",
       "      <td>2015</td>\n",
       "      <td>US</td>\n",
       "      <td>National</td>\n",
       "      <td>32.1</td>\n",
       "      <td>32.1</td>\n",
       "      <td>Percent of adults aged 18 years and older who ...</td>\n",
       "      <td>45319.0</td>\n",
       "      <td>NaN</td>\n",
       "      <td>35 - 44</td>\n",
       "      <td>NaN</td>\n",
       "      <td>59</td>\n",
       "      <td>Age (years)</td>\n",
       "      <td>35 - 44</td>\n",
       "    </tr>\n",
       "    <tr>\n",
       "      <th>516</th>\n",
       "      <td>516</td>\n",
       "      <td>2015</td>\n",
       "      <td>US</td>\n",
       "      <td>National</td>\n",
       "      <td>36.3</td>\n",
       "      <td>36.3</td>\n",
       "      <td>Percent of adults aged 18 years and older who ...</td>\n",
       "      <td>45319.0</td>\n",
       "      <td>NaN</td>\n",
       "      <td>35 - 44</td>\n",
       "      <td>NaN</td>\n",
       "      <td>59</td>\n",
       "      <td>Age (years)</td>\n",
       "      <td>35 - 44</td>\n",
       "    </tr>\n",
       "  </tbody>\n",
       "</table>\n",
       "</div>"
      ],
      "text/plain": [
       "     Unnamed: 0  year state state_name  age_pc  Data_Value_Alt  \\\n",
       "513         513  2015    US   National    32.1            32.1   \n",
       "516         516  2015    US   National    36.3            36.3   \n",
       "\n",
       "                                              Question  Sample_Size  Total  \\\n",
       "513  Percent of adults aged 18 years and older who ...      45319.0    NaN   \n",
       "516  Percent of adults aged 18 years and older who ...      45319.0    NaN   \n",
       "\n",
       "         Age GeoLocation  LocationID StratificationCategory1 Stratification1  \n",
       "513  35 - 44         NaN          59             Age (years)         35 - 44  \n",
       "516  35 - 44         NaN          59             Age (years)         35 - 44  "
      ]
     },
     "execution_count": 14,
     "metadata": {},
     "output_type": "execute_result"
    }
   ],
   "source": [
    "# create filter named \"ages_35_44_in_2015_national\"\n",
    "ages_35_44_in_2015_national=age_obesity_in_US_national_2015_df[(age_obesity_in_US_national_2015_df['Age']=='35 - 44')]\n",
    "ages_35_44_in_2015_national\n"
   ]
  },
  {
   "cell_type": "code",
   "execution_count": 15,
   "metadata": {},
   "outputs": [
    {
     "data": {
      "text/plain": [
       "34.2"
      ]
     },
     "execution_count": 15,
     "metadata": {},
     "output_type": "execute_result"
    }
   ],
   "source": [
    "# average obesity rate for ages 35-44 in 2015\n",
    "ages_35_44_in_2015_national_avg=ages_35_44_in_2015_national['age_pc'].mean()\n",
    "ages_35_44_in_2015_national_avg\n"
   ]
  },
  {
   "cell_type": "code",
   "execution_count": 16,
   "metadata": {},
   "outputs": [
    {
     "name": "stdout",
     "output_type": "stream",
     "text": [
      "The national obesity rate average for ages 35-44 in 2015\n",
      "========================================================\n",
      "Age\n",
      "35 - 44    34.2\n",
      "Name: age_pc, dtype: float64\n"
     ]
    }
   ],
   "source": [
    "# Use \"ages_35_44_in_2015_national_avg\" filter to show the national ages 35-44 obesity rate average on chart\n",
    "ages_35_44_in_2015_national_avg=ages_35_44_in_2015_national.groupby('Age')['age_pc'].mean()\n",
    "ages_35_44_in_2015_national_avg\n",
    "title1='The national obesity rate average for ages 35-44 in 2015'\n",
    "print(\"{}\\n{}\".format(title1, '='*len(title1)))\n",
    "print(ages_35_44_in_2015_national_avg.sort_values())\n",
    "\n"
   ]
  },
  {
   "cell_type": "markdown",
   "metadata": {},
   "source": [
    "### Answer:  On a national scale, 34.2% of adults ages 35-44 were obese in 2015. "
   ]
  },
  {
   "cell_type": "markdown",
   "metadata": {},
   "source": [
    "# Question 4: What was the national obesity rate for ages 45 - 54  in 2015?"
   ]
  },
  {
   "cell_type": "code",
   "execution_count": 17,
   "metadata": {},
   "outputs": [
    {
     "data": {
      "text/html": [
       "<div>\n",
       "<style scoped>\n",
       "    .dataframe tbody tr th:only-of-type {\n",
       "        vertical-align: middle;\n",
       "    }\n",
       "\n",
       "    .dataframe tbody tr th {\n",
       "        vertical-align: top;\n",
       "    }\n",
       "\n",
       "    .dataframe thead th {\n",
       "        text-align: right;\n",
       "    }\n",
       "</style>\n",
       "<table border=\"1\" class=\"dataframe\">\n",
       "  <thead>\n",
       "    <tr style=\"text-align: right;\">\n",
       "      <th></th>\n",
       "      <th>Unnamed: 0</th>\n",
       "      <th>year</th>\n",
       "      <th>state</th>\n",
       "      <th>state_name</th>\n",
       "      <th>age_pc</th>\n",
       "      <th>Data_Value_Alt</th>\n",
       "      <th>Question</th>\n",
       "      <th>Sample_Size</th>\n",
       "      <th>Total</th>\n",
       "      <th>Age</th>\n",
       "      <th>GeoLocation</th>\n",
       "      <th>LocationID</th>\n",
       "      <th>StratificationCategory1</th>\n",
       "      <th>Stratification1</th>\n",
       "    </tr>\n",
       "  </thead>\n",
       "  <tbody>\n",
       "    <tr>\n",
       "      <th>495</th>\n",
       "      <td>495</td>\n",
       "      <td>2015</td>\n",
       "      <td>US</td>\n",
       "      <td>National</td>\n",
       "      <td>34.0</td>\n",
       "      <td>34.0</td>\n",
       "      <td>Percent of adults aged 18 years and older who ...</td>\n",
       "      <td>64418.0</td>\n",
       "      <td>NaN</td>\n",
       "      <td>45 - 54</td>\n",
       "      <td>NaN</td>\n",
       "      <td>59</td>\n",
       "      <td>Age (years)</td>\n",
       "      <td>45 - 54</td>\n",
       "    </tr>\n",
       "    <tr>\n",
       "      <th>517</th>\n",
       "      <td>517</td>\n",
       "      <td>2015</td>\n",
       "      <td>US</td>\n",
       "      <td>National</td>\n",
       "      <td>37.5</td>\n",
       "      <td>37.5</td>\n",
       "      <td>Percent of adults aged 18 years and older who ...</td>\n",
       "      <td>64418.0</td>\n",
       "      <td>NaN</td>\n",
       "      <td>45 - 54</td>\n",
       "      <td>NaN</td>\n",
       "      <td>59</td>\n",
       "      <td>Age (years)</td>\n",
       "      <td>45 - 54</td>\n",
       "    </tr>\n",
       "  </tbody>\n",
       "</table>\n",
       "</div>"
      ],
      "text/plain": [
       "     Unnamed: 0  year state state_name  age_pc  Data_Value_Alt  \\\n",
       "495         495  2015    US   National    34.0            34.0   \n",
       "517         517  2015    US   National    37.5            37.5   \n",
       "\n",
       "                                              Question  Sample_Size  Total  \\\n",
       "495  Percent of adults aged 18 years and older who ...      64418.0    NaN   \n",
       "517  Percent of adults aged 18 years and older who ...      64418.0    NaN   \n",
       "\n",
       "         Age GeoLocation  LocationID StratificationCategory1 Stratification1  \n",
       "495  45 - 54         NaN          59             Age (years)         45 - 54  \n",
       "517  45 - 54         NaN          59             Age (years)         45 - 54  "
      ]
     },
     "execution_count": 17,
     "metadata": {},
     "output_type": "execute_result"
    }
   ],
   "source": [
    "# create filter named \"ages_45_54_in_2015_national\"\n",
    "ages_45_54_in_2015_national=age_obesity_in_US_national_2015_df[(age_obesity_in_US_national_2015_df['Age']=='45 - 54')]\n",
    "ages_45_54_in_2015_national\n"
   ]
  },
  {
   "cell_type": "code",
   "execution_count": 18,
   "metadata": {},
   "outputs": [
    {
     "data": {
      "text/plain": [
       "35.75"
      ]
     },
     "execution_count": 18,
     "metadata": {},
     "output_type": "execute_result"
    }
   ],
   "source": [
    "# average obesity rate for ages 45-54 in 2015\n",
    "ages_45_54_in_2015_national_avg=ages_45_54_in_2015_national['age_pc'].mean()\n",
    "ages_45_54_in_2015_national_avg"
   ]
  },
  {
   "cell_type": "code",
   "execution_count": 19,
   "metadata": {},
   "outputs": [
    {
     "name": "stdout",
     "output_type": "stream",
     "text": [
      "The national obesity rate average for ages 45-54 in 2015\n",
      "========================================================\n",
      "Age\n",
      "45 - 54    35.75\n",
      "Name: age_pc, dtype: float64\n"
     ]
    }
   ],
   "source": [
    "# Use \"ages_45_54_in_2015_national_avg\" filter to show the national ages 45-54 obesity rate average on chart\n",
    "ages_45_54_in_2015_national_avg=ages_45_54_in_2015_national.groupby('Age')['age_pc'].mean()\n",
    "ages_45_54_in_2015_national_avg\n",
    "title1='The national obesity rate average for ages 45-54 in 2015'\n",
    "print(\"{}\\n{}\".format(title1, '='*len(title1)))\n",
    "print(ages_45_54_in_2015_national_avg.sort_values())"
   ]
  },
  {
   "cell_type": "markdown",
   "metadata": {},
   "source": [
    "### Answer:  On a national scale, 35.75% of adults ages 45-54 were obese in 2015. "
   ]
  },
  {
   "cell_type": "markdown",
   "metadata": {},
   "source": [
    "# Question 5: What was the national obesity rate for ages 55-64 in 2015?"
   ]
  },
  {
   "cell_type": "code",
   "execution_count": 20,
   "metadata": {},
   "outputs": [
    {
     "data": {
      "text/html": [
       "<div>\n",
       "<style scoped>\n",
       "    .dataframe tbody tr th:only-of-type {\n",
       "        vertical-align: middle;\n",
       "    }\n",
       "\n",
       "    .dataframe tbody tr th {\n",
       "        vertical-align: top;\n",
       "    }\n",
       "\n",
       "    .dataframe thead th {\n",
       "        text-align: right;\n",
       "    }\n",
       "</style>\n",
       "<table border=\"1\" class=\"dataframe\">\n",
       "  <thead>\n",
       "    <tr style=\"text-align: right;\">\n",
       "      <th></th>\n",
       "      <th>Unnamed: 0</th>\n",
       "      <th>year</th>\n",
       "      <th>state</th>\n",
       "      <th>state_name</th>\n",
       "      <th>age_pc</th>\n",
       "      <th>Data_Value_Alt</th>\n",
       "      <th>Question</th>\n",
       "      <th>Sample_Size</th>\n",
       "      <th>Total</th>\n",
       "      <th>Age</th>\n",
       "      <th>GeoLocation</th>\n",
       "      <th>LocationID</th>\n",
       "      <th>StratificationCategory1</th>\n",
       "      <th>Stratification1</th>\n",
       "    </tr>\n",
       "  </thead>\n",
       "  <tbody>\n",
       "    <tr>\n",
       "      <th>514</th>\n",
       "      <td>514</td>\n",
       "      <td>2015</td>\n",
       "      <td>US</td>\n",
       "      <td>National</td>\n",
       "      <td>33.4</td>\n",
       "      <td>33.4</td>\n",
       "      <td>Percent of adults aged 18 years and older who ...</td>\n",
       "      <td>88587.0</td>\n",
       "      <td>NaN</td>\n",
       "      <td>55 - 64</td>\n",
       "      <td>NaN</td>\n",
       "      <td>59</td>\n",
       "      <td>Age (years)</td>\n",
       "      <td>55 - 64</td>\n",
       "    </tr>\n",
       "    <tr>\n",
       "      <th>518</th>\n",
       "      <td>518</td>\n",
       "      <td>2015</td>\n",
       "      <td>US</td>\n",
       "      <td>National</td>\n",
       "      <td>38.6</td>\n",
       "      <td>38.6</td>\n",
       "      <td>Percent of adults aged 18 years and older who ...</td>\n",
       "      <td>88587.0</td>\n",
       "      <td>NaN</td>\n",
       "      <td>55 - 64</td>\n",
       "      <td>NaN</td>\n",
       "      <td>59</td>\n",
       "      <td>Age (years)</td>\n",
       "      <td>55 - 64</td>\n",
       "    </tr>\n",
       "  </tbody>\n",
       "</table>\n",
       "</div>"
      ],
      "text/plain": [
       "     Unnamed: 0  year state state_name  age_pc  Data_Value_Alt  \\\n",
       "514         514  2015    US   National    33.4            33.4   \n",
       "518         518  2015    US   National    38.6            38.6   \n",
       "\n",
       "                                              Question  Sample_Size  Total  \\\n",
       "514  Percent of adults aged 18 years and older who ...      88587.0    NaN   \n",
       "518  Percent of adults aged 18 years and older who ...      88587.0    NaN   \n",
       "\n",
       "         Age GeoLocation  LocationID StratificationCategory1 Stratification1  \n",
       "514  55 - 64         NaN          59             Age (years)         55 - 64  \n",
       "518  55 - 64         NaN          59             Age (years)         55 - 64  "
      ]
     },
     "execution_count": 20,
     "metadata": {},
     "output_type": "execute_result"
    }
   ],
   "source": [
    "# create filter named \"ages_55_64_in_2015_national\"\n",
    "ages_55_64_in_2015_national=age_obesity_in_US_national_2015_df[(age_obesity_in_US_national_2015_df['Age']=='55 - 64')]\n",
    "ages_55_64_in_2015_national\n",
    "\n"
   ]
  },
  {
   "cell_type": "code",
   "execution_count": 21,
   "metadata": {},
   "outputs": [
    {
     "data": {
      "text/plain": [
       "36.0"
      ]
     },
     "execution_count": 21,
     "metadata": {},
     "output_type": "execute_result"
    }
   ],
   "source": [
    "# average obesity rate for ages 55-64 in 2015\n",
    "ages_55_64_in_2015_national_avg=ages_55_64_in_2015_national['age_pc'].mean()\n",
    "ages_55_64_in_2015_national_avg"
   ]
  },
  {
   "cell_type": "code",
   "execution_count": 22,
   "metadata": {},
   "outputs": [
    {
     "name": "stdout",
     "output_type": "stream",
     "text": [
      "The national obesity rate average for ages 55-64 in 2015\n",
      "========================================================\n",
      "Age\n",
      "55 - 64    36.0\n",
      "Name: age_pc, dtype: float64\n"
     ]
    }
   ],
   "source": [
    "# Use \"ages_55_64_in_2015_national_avg\" filter to show the national ages 55-64 obesity rate average on chart\n",
    "ages_55_64_in_2015_national_avg=ages_55_64_in_2015_national.groupby('Age')['age_pc'].mean()\n",
    "ages_55_64_in_2015_national_avg\n",
    "title1='The national obesity rate average for ages 55-64 in 2015'\n",
    "print(\"{}\\n{}\".format(title1, '='*len(title1)))\n",
    "print(ages_55_64_in_2015_national_avg.sort_values())"
   ]
  },
  {
   "cell_type": "markdown",
   "metadata": {},
   "source": [
    "### Answer:  On a national scale, 36% of adults ages 55-64 were obese in 2015. "
   ]
  },
  {
   "cell_type": "markdown",
   "metadata": {},
   "source": [
    "# Question 6: What was the national obesity rate for ages 65 or older in 2015?"
   ]
  },
  {
   "cell_type": "code",
   "execution_count": 23,
   "metadata": {
    "scrolled": true
   },
   "outputs": [
    {
     "data": {
      "text/html": [
       "<div>\n",
       "<style scoped>\n",
       "    .dataframe tbody tr th:only-of-type {\n",
       "        vertical-align: middle;\n",
       "    }\n",
       "\n",
       "    .dataframe tbody tr th {\n",
       "        vertical-align: top;\n",
       "    }\n",
       "\n",
       "    .dataframe thead th {\n",
       "        text-align: right;\n",
       "    }\n",
       "</style>\n",
       "<table border=\"1\" class=\"dataframe\">\n",
       "  <thead>\n",
       "    <tr style=\"text-align: right;\">\n",
       "      <th></th>\n",
       "      <th>Unnamed: 0</th>\n",
       "      <th>year</th>\n",
       "      <th>state</th>\n",
       "      <th>state_name</th>\n",
       "      <th>age_pc</th>\n",
       "      <th>Data_Value_Alt</th>\n",
       "      <th>Question</th>\n",
       "      <th>Sample_Size</th>\n",
       "      <th>Total</th>\n",
       "      <th>Age</th>\n",
       "      <th>GeoLocation</th>\n",
       "      <th>LocationID</th>\n",
       "      <th>StratificationCategory1</th>\n",
       "      <th>Stratification1</th>\n",
       "    </tr>\n",
       "  </thead>\n",
       "  <tbody>\n",
       "    <tr>\n",
       "      <th>512</th>\n",
       "      <td>512</td>\n",
       "      <td>2015</td>\n",
       "      <td>US</td>\n",
       "      <td>National</td>\n",
       "      <td>27.6</td>\n",
       "      <td>27.6</td>\n",
       "      <td>Percent of adults aged 18 years and older who ...</td>\n",
       "      <td>141064.0</td>\n",
       "      <td>NaN</td>\n",
       "      <td>65 or older</td>\n",
       "      <td>NaN</td>\n",
       "      <td>59</td>\n",
       "      <td>Age (years)</td>\n",
       "      <td>65 or older</td>\n",
       "    </tr>\n",
       "    <tr>\n",
       "      <th>519</th>\n",
       "      <td>519</td>\n",
       "      <td>2015</td>\n",
       "      <td>US</td>\n",
       "      <td>National</td>\n",
       "      <td>39.1</td>\n",
       "      <td>39.1</td>\n",
       "      <td>Percent of adults aged 18 years and older who ...</td>\n",
       "      <td>141064.0</td>\n",
       "      <td>NaN</td>\n",
       "      <td>65 or older</td>\n",
       "      <td>NaN</td>\n",
       "      <td>59</td>\n",
       "      <td>Age (years)</td>\n",
       "      <td>65 or older</td>\n",
       "    </tr>\n",
       "  </tbody>\n",
       "</table>\n",
       "</div>"
      ],
      "text/plain": [
       "     Unnamed: 0  year state state_name  age_pc  Data_Value_Alt  \\\n",
       "512         512  2015    US   National    27.6            27.6   \n",
       "519         519  2015    US   National    39.1            39.1   \n",
       "\n",
       "                                              Question  Sample_Size  Total  \\\n",
       "512  Percent of adults aged 18 years and older who ...     141064.0    NaN   \n",
       "519  Percent of adults aged 18 years and older who ...     141064.0    NaN   \n",
       "\n",
       "             Age GeoLocation  LocationID StratificationCategory1  \\\n",
       "512  65 or older         NaN          59             Age (years)   \n",
       "519  65 or older         NaN          59             Age (years)   \n",
       "\n",
       "    Stratification1  \n",
       "512     65 or older  \n",
       "519     65 or older  "
      ]
     },
     "execution_count": 23,
     "metadata": {},
     "output_type": "execute_result"
    }
   ],
   "source": [
    "# create filter named \"ages_65_older_in_2015_national\"\n",
    "ages_65_older_in_2015_national=age_obesity_in_US_national_2015_df[(age_obesity_in_US_national_2015_df['Age']=='65 or older')]\n",
    "ages_65_older_in_2015_national\n"
   ]
  },
  {
   "cell_type": "code",
   "execution_count": 24,
   "metadata": {},
   "outputs": [
    {
     "data": {
      "text/plain": [
       "33.35"
      ]
     },
     "execution_count": 24,
     "metadata": {},
     "output_type": "execute_result"
    }
   ],
   "source": [
    "# average obesity rate for ages 65 or older in 2015\n",
    "ages_65_older_in_2015_national_avg=ages_65_older_in_2015_national['age_pc'].mean()\n",
    "ages_65_older_in_2015_national_avg"
   ]
  },
  {
   "cell_type": "code",
   "execution_count": 25,
   "metadata": {},
   "outputs": [
    {
     "name": "stdout",
     "output_type": "stream",
     "text": [
      "The national obesity rate average for ages 65 or older in 2015\n",
      "==============================================================\n",
      "Age\n",
      "65 or older    33.35\n",
      "Name: age_pc, dtype: float64\n"
     ]
    }
   ],
   "source": [
    "# Use \"ages_65_older_in_2015_national_avg\" filter to show the national ages 65 or older obesity rate average on chart\n",
    "ages_65_older_in_2015_national_avg=ages_65_older_in_2015_national.groupby('Age')['age_pc'].mean()\n",
    "ages_65_older_in_2015_national_avg\n",
    "title1='The national obesity rate average for ages 65 or older in 2015'\n",
    "print(\"{}\\n{}\".format(title1, '='*len(title1)))\n",
    "print(ages_65_older_in_2015_national_avg.sort_values())\n"
   ]
  },
  {
   "cell_type": "markdown",
   "metadata": {},
   "source": [
    "### Answer:  On a national scale, 33.35% of adults ages 65 or older were obese in 2015. "
   ]
  },
  {
   "cell_type": "markdown",
   "metadata": {},
   "source": [
    "# Question 7: National Obesity Rates by Age in 2015"
   ]
  },
  {
   "cell_type": "code",
   "execution_count": 26,
   "metadata": {},
   "outputs": [],
   "source": [
    "# create filter named \"list_of_dfs\" to bring all of the age group data frames for 2015 together  \n",
    "# create filter named \"combined_df_age_2015\" to bring all the national obesity rates per age group together\n",
    "list_of_dfs = [ages_18_24_in_2015_national_avg,\n",
    "               ages_35_44_in_2015_national_avg,\n",
    "               ages_45_54_in_2015_national_avg,\n",
    "               ages_55_64_in_2015_national_avg,\n",
    "               ages_65_older_in_2015_national_avg]\n",
    "\n",
    "combined_df_age_2015 = pd.concat(list_of_dfs)"
   ]
  },
  {
   "cell_type": "code",
   "execution_count": 27,
   "metadata": {},
   "outputs": [
    {
     "data": {
      "text/plain": [
       "<AxesSubplot:xlabel='Age'>"
      ]
     },
     "execution_count": 27,
     "metadata": {},
     "output_type": "execute_result"
    },
    {
     "data": {
      "image/png": "[encoded data removed]",
      "text/plain": [
       "<Figure size 432x288 with 1 Axes>"
      ]
     },
     "metadata": {
      "needs_background": "light"
     },
     "output_type": "display_data"
    }
   ],
   "source": [
    "# plot a graph of the age groups obesity rates\n",
    "combined_df_age_2015.plot(kind='bar', color='purple')"
   ]
  },
  {
   "cell_type": "markdown",
   "metadata": {},
   "source": [
    "In 2015, 55-64 year olds were the most obese"
   ]
  },
  {
   "cell_type": "markdown",
   "metadata": {},
   "source": [
    "# Conclusion\n",
    "- The national obesity rate average in 2015 was 32.05%\n",
    "- On a national scale, 20.95% of adults ages 18-24 were obese in 2015.\n",
    "- On a national scale, 34.2% of adults ages 35-44 were obese in 2015.\n",
    "- On a national scale, 35.75% of adults ages 45-54 were obese in 2015.\n",
    "- On a national scale, 36% of adults ages 55-64 were obese in 2015.\n",
    "- On a national scale, 33.35% of adults ages 65 or older were obese in 2015. \n",
    "\n"
   ]
  }
 ],
 "metadata": {
  "kernelspec": {
   "display_name": "Python 3",
   "language": "python",
   "name": "python3"
  },
  "language_info": {
   "codemirror_mode": {
    "name": "ipython",
    "version": 3
   },
   "file_extension": ".py",
   "mimetype": "text/x-python",
   "name": "python",
   "nbconvert_exporter": "python",
   "pygments_lexer": "ipython3",
   "version": "3.7.3"
  }
 },
 "nbformat": 4,
 "nbformat_minor": 2
}
