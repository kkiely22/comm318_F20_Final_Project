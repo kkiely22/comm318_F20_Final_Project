{
 "cells": [
  {
   "cell_type": "markdown",
   "metadata": {},
   "source": [
    "# US National Obesity Rate in 2016 (state by state)\n",
    "\n",
    "- This notebook will explore the obesity rates state by state\n",
    "- First, the notebook will calculate the national obesity rate \n",
    "- Second, the notebook will calculate the  national obesity rate for every state \n",
    "- Third, the notebook will show a graph comparing the obesity rates state by state\n",
    "- The purpose of this notebook is to show what state has the highest and lowest obesity rate"
   ]
  },
  {
   "cell_type": "markdown",
   "metadata": {},
   "source": [
    "# Setup"
   ]
  },
  {
   "cell_type": "code",
   "execution_count": 1,
   "metadata": {},
   "outputs": [],
   "source": [
    "import pandas as pd\n",
    "import geopandas as gpd\n",
    "import matplotlib.pyplot as plt\n",
    "import numpy.random as np\n",
    "import sys\n",
    "import matplotlib \n",
    "import seaborn as sns\n",
    "import numpy as np"
   ]
  },
  {
   "cell_type": "markdown",
   "metadata": {},
   "source": [
    "### Note: This notebook will use the gender data frame as it provides us with the obesity rates of the entire population (male and female)"
   ]
  },
  {
   "cell_type": "markdown",
   "metadata": {},
   "source": [
    "# Import and Explore Obesity by Gender Data Frame"
   ]
  },
  {
   "cell_type": "code",
   "execution_count": 2,
   "metadata": {},
   "outputs": [],
   "source": [
    "obesity_in_US_gender_2016 = pd.read_csv('../data/Clean Data/obesity_in_US_gender_2016.csv')"
   ]
  },
  {
   "cell_type": "code",
   "execution_count": 3,
   "metadata": {},
   "outputs": [
    {
     "data": {
      "text/html": [
       "<div>\n",
       "<style scoped>\n",
       "    .dataframe tbody tr th:only-of-type {\n",
       "        vertical-align: middle;\n",
       "    }\n",
       "\n",
       "    .dataframe tbody tr th {\n",
       "        vertical-align: top;\n",
       "    }\n",
       "\n",
       "    .dataframe thead th {\n",
       "        text-align: right;\n",
       "    }\n",
       "</style>\n",
       "<table border=\"1\" class=\"dataframe\">\n",
       "  <thead>\n",
       "    <tr style=\"text-align: right;\">\n",
       "      <th></th>\n",
       "      <th>Unnamed: 0</th>\n",
       "      <th>year</th>\n",
       "      <th>state</th>\n",
       "      <th>state_name</th>\n",
       "      <th>gender_pc</th>\n",
       "      <th>Data_Value_Alt</th>\n",
       "      <th>Question</th>\n",
       "      <th>Sample_Size</th>\n",
       "      <th>Total</th>\n",
       "      <th>Gender</th>\n",
       "      <th>GeoLocation</th>\n",
       "      <th>LocationID</th>\n",
       "      <th>StratificationCategory1</th>\n",
       "      <th>Stratification1</th>\n",
       "    </tr>\n",
       "  </thead>\n",
       "  <tbody>\n",
       "    <tr>\n",
       "      <th>0</th>\n",
       "      <td>0</td>\n",
       "      <td>2016</td>\n",
       "      <td>US</td>\n",
       "      <td>National</td>\n",
       "      <td>41.0</td>\n",
       "      <td>41.0</td>\n",
       "      <td>Percent of adults aged 18 years and older who ...</td>\n",
       "      <td>198440.0</td>\n",
       "      <td>NaN</td>\n",
       "      <td>Male</td>\n",
       "      <td>NaN</td>\n",
       "      <td>59</td>\n",
       "      <td>Gender</td>\n",
       "      <td>Male</td>\n",
       "    </tr>\n",
       "    <tr>\n",
       "      <th>1</th>\n",
       "      <td>1</td>\n",
       "      <td>2016</td>\n",
       "      <td>US</td>\n",
       "      <td>National</td>\n",
       "      <td>29.3</td>\n",
       "      <td>29.3</td>\n",
       "      <td>Percent of adults aged 18 years and older who ...</td>\n",
       "      <td>240000.0</td>\n",
       "      <td>NaN</td>\n",
       "      <td>Female</td>\n",
       "      <td>NaN</td>\n",
       "      <td>59</td>\n",
       "      <td>Gender</td>\n",
       "      <td>Female</td>\n",
       "    </tr>\n",
       "    <tr>\n",
       "      <th>2</th>\n",
       "      <td>2</td>\n",
       "      <td>2016</td>\n",
       "      <td>AR</td>\n",
       "      <td>Arkansas</td>\n",
       "      <td>38.0</td>\n",
       "      <td>38.0</td>\n",
       "      <td>Percent of adults aged 18 years and older who ...</td>\n",
       "      <td>1918.0</td>\n",
       "      <td>NaN</td>\n",
       "      <td>Male</td>\n",
       "      <td>(34.74865012400045, -92.27449074299966)</td>\n",
       "      <td>5</td>\n",
       "      <td>Gender</td>\n",
       "      <td>Male</td>\n",
       "    </tr>\n",
       "    <tr>\n",
       "      <th>3</th>\n",
       "      <td>3</td>\n",
       "      <td>2016</td>\n",
       "      <td>AR</td>\n",
       "      <td>Arkansas</td>\n",
       "      <td>27.0</td>\n",
       "      <td>27.0</td>\n",
       "      <td>Percent of adults aged 18 years and older who ...</td>\n",
       "      <td>2941.0</td>\n",
       "      <td>NaN</td>\n",
       "      <td>Female</td>\n",
       "      <td>(34.74865012400045, -92.27449074299966)</td>\n",
       "      <td>5</td>\n",
       "      <td>Gender</td>\n",
       "      <td>Female</td>\n",
       "    </tr>\n",
       "    <tr>\n",
       "      <th>4</th>\n",
       "      <td>4</td>\n",
       "      <td>2016</td>\n",
       "      <td>AL</td>\n",
       "      <td>Alabama</td>\n",
       "      <td>38.2</td>\n",
       "      <td>38.2</td>\n",
       "      <td>Percent of adults aged 18 years and older who ...</td>\n",
       "      <td>2711.0</td>\n",
       "      <td>NaN</td>\n",
       "      <td>Male</td>\n",
       "      <td>(32.84057112200048, -86.63186076199969)</td>\n",
       "      <td>1</td>\n",
       "      <td>Gender</td>\n",
       "      <td>Male</td>\n",
       "    </tr>\n",
       "    <tr>\n",
       "      <th>...</th>\n",
       "      <td>...</td>\n",
       "      <td>...</td>\n",
       "      <td>...</td>\n",
       "      <td>...</td>\n",
       "      <td>...</td>\n",
       "      <td>...</td>\n",
       "      <td>...</td>\n",
       "      <td>...</td>\n",
       "      <td>...</td>\n",
       "      <td>...</td>\n",
       "      <td>...</td>\n",
       "      <td>...</td>\n",
       "      <td>...</td>\n",
       "      <td>...</td>\n",
       "    </tr>\n",
       "    <tr>\n",
       "      <th>215</th>\n",
       "      <td>215</td>\n",
       "      <td>2016</td>\n",
       "      <td>GU</td>\n",
       "      <td>Guam</td>\n",
       "      <td>27.3</td>\n",
       "      <td>27.3</td>\n",
       "      <td>Percent of adults aged 18 years and older who ...</td>\n",
       "      <td>805.0</td>\n",
       "      <td>NaN</td>\n",
       "      <td>Female</td>\n",
       "      <td>(13.444304, 144.793731)</td>\n",
       "      <td>66</td>\n",
       "      <td>Gender</td>\n",
       "      <td>Female</td>\n",
       "    </tr>\n",
       "    <tr>\n",
       "      <th>216</th>\n",
       "      <td>216</td>\n",
       "      <td>2016</td>\n",
       "      <td>PR</td>\n",
       "      <td>Puerto Rico</td>\n",
       "      <td>30.0</td>\n",
       "      <td>30.0</td>\n",
       "      <td>Percent of adults aged 18 years and older who ...</td>\n",
       "      <td>2105.0</td>\n",
       "      <td>NaN</td>\n",
       "      <td>Male</td>\n",
       "      <td>(18.220833, -66.590149)</td>\n",
       "      <td>72</td>\n",
       "      <td>Gender</td>\n",
       "      <td>Male</td>\n",
       "    </tr>\n",
       "    <tr>\n",
       "      <th>217</th>\n",
       "      <td>217</td>\n",
       "      <td>2016</td>\n",
       "      <td>PR</td>\n",
       "      <td>Puerto Rico</td>\n",
       "      <td>31.4</td>\n",
       "      <td>31.4</td>\n",
       "      <td>Percent of adults aged 18 years and older who ...</td>\n",
       "      <td>3423.0</td>\n",
       "      <td>NaN</td>\n",
       "      <td>Female</td>\n",
       "      <td>(18.220833, -66.590149)</td>\n",
       "      <td>72</td>\n",
       "      <td>Gender</td>\n",
       "      <td>Female</td>\n",
       "    </tr>\n",
       "    <tr>\n",
       "      <th>218</th>\n",
       "      <td>218</td>\n",
       "      <td>2016</td>\n",
       "      <td>VI</td>\n",
       "      <td>Virgin Islands</td>\n",
       "      <td>22.2</td>\n",
       "      <td>22.2</td>\n",
       "      <td>Percent of adults aged 18 years and older who ...</td>\n",
       "      <td>468.0</td>\n",
       "      <td>NaN</td>\n",
       "      <td>Male</td>\n",
       "      <td>(18.335765, -64.896335)</td>\n",
       "      <td>78</td>\n",
       "      <td>Gender</td>\n",
       "      <td>Male</td>\n",
       "    </tr>\n",
       "    <tr>\n",
       "      <th>219</th>\n",
       "      <td>219</td>\n",
       "      <td>2016</td>\n",
       "      <td>VI</td>\n",
       "      <td>Virgin Islands</td>\n",
       "      <td>41.9</td>\n",
       "      <td>41.9</td>\n",
       "      <td>Percent of adults aged 18 years and older who ...</td>\n",
       "      <td>735.0</td>\n",
       "      <td>NaN</td>\n",
       "      <td>Female</td>\n",
       "      <td>(18.335765, -64.896335)</td>\n",
       "      <td>78</td>\n",
       "      <td>Gender</td>\n",
       "      <td>Female</td>\n",
       "    </tr>\n",
       "  </tbody>\n",
       "</table>\n",
       "<p>220 rows × 14 columns</p>\n",
       "</div>"
      ],
      "text/plain": [
       "     Unnamed: 0  year state      state_name  gender_pc  Data_Value_Alt  \\\n",
       "0             0  2016    US        National       41.0            41.0   \n",
       "1             1  2016    US        National       29.3            29.3   \n",
       "2             2  2016    AR        Arkansas       38.0            38.0   \n",
       "3             3  2016    AR        Arkansas       27.0            27.0   \n",
       "4             4  2016    AL         Alabama       38.2            38.2   \n",
       "..          ...   ...   ...             ...        ...             ...   \n",
       "215         215  2016    GU            Guam       27.3            27.3   \n",
       "216         216  2016    PR     Puerto Rico       30.0            30.0   \n",
       "217         217  2016    PR     Puerto Rico       31.4            31.4   \n",
       "218         218  2016    VI  Virgin Islands       22.2            22.2   \n",
       "219         219  2016    VI  Virgin Islands       41.9            41.9   \n",
       "\n",
       "                                              Question  Sample_Size  Total  \\\n",
       "0    Percent of adults aged 18 years and older who ...     198440.0    NaN   \n",
       "1    Percent of adults aged 18 years and older who ...     240000.0    NaN   \n",
       "2    Percent of adults aged 18 years and older who ...       1918.0    NaN   \n",
       "3    Percent of adults aged 18 years and older who ...       2941.0    NaN   \n",
       "4    Percent of adults aged 18 years and older who ...       2711.0    NaN   \n",
       "..                                                 ...          ...    ...   \n",
       "215  Percent of adults aged 18 years and older who ...        805.0    NaN   \n",
       "216  Percent of adults aged 18 years and older who ...       2105.0    NaN   \n",
       "217  Percent of adults aged 18 years and older who ...       3423.0    NaN   \n",
       "218  Percent of adults aged 18 years and older who ...        468.0    NaN   \n",
       "219  Percent of adults aged 18 years and older who ...        735.0    NaN   \n",
       "\n",
       "     Gender                              GeoLocation  LocationID  \\\n",
       "0      Male                                      NaN          59   \n",
       "1    Female                                      NaN          59   \n",
       "2      Male  (34.74865012400045, -92.27449074299966)           5   \n",
       "3    Female  (34.74865012400045, -92.27449074299966)           5   \n",
       "4      Male  (32.84057112200048, -86.63186076199969)           1   \n",
       "..      ...                                      ...         ...   \n",
       "215  Female                  (13.444304, 144.793731)          66   \n",
       "216    Male                  (18.220833, -66.590149)          72   \n",
       "217  Female                  (18.220833, -66.590149)          72   \n",
       "218    Male                  (18.335765, -64.896335)          78   \n",
       "219  Female                  (18.335765, -64.896335)          78   \n",
       "\n",
       "    StratificationCategory1 Stratification1  \n",
       "0                    Gender            Male  \n",
       "1                    Gender          Female  \n",
       "2                    Gender            Male  \n",
       "3                    Gender          Female  \n",
       "4                    Gender            Male  \n",
       "..                      ...             ...  \n",
       "215                  Gender          Female  \n",
       "216                  Gender            Male  \n",
       "217                  Gender          Female  \n",
       "218                  Gender            Male  \n",
       "219                  Gender          Female  \n",
       "\n",
       "[220 rows x 14 columns]"
      ]
     },
     "execution_count": 3,
     "metadata": {},
     "output_type": "execute_result"
    }
   ],
   "source": [
    "obesity_in_US_gender_2016"
   ]
  },
  {
   "cell_type": "code",
   "execution_count": 4,
   "metadata": {},
   "outputs": [
    {
     "data": {
      "text/plain": [
       "array(['Male', 'Female'], dtype=object)"
      ]
     },
     "execution_count": 4,
     "metadata": {},
     "output_type": "execute_result"
    }
   ],
   "source": [
    "obesity_in_US_gender_2016['Gender'].unique()"
   ]
  },
  {
   "cell_type": "code",
   "execution_count": 5,
   "metadata": {},
   "outputs": [
    {
     "data": {
      "text/plain": [
       "Male      110\n",
       "Female    110\n",
       "Name: Gender, dtype: int64"
      ]
     },
     "execution_count": 5,
     "metadata": {},
     "output_type": "execute_result"
    }
   ],
   "source": [
    "obesity_in_US_gender_2016['Gender'].value_counts()"
   ]
  },
  {
   "cell_type": "markdown",
   "metadata": {},
   "source": [
    "# Questions: \n",
    "\n",
    "#### Question 1: What is the national obesity rate in 2016?\n",
    "- Steps: \n",
    "    - make national its own data frame named \"gender_obesity_in_US_national_2016_df\"\n",
    "    - create a filter \"national_avg_2016\" to find the mean obesity rate nationally\n",
    "\n",
    "#### Question 2: What is the average US obesity rate by state in 2016?\n",
    "- Steps: \n",
    "    - create a new data frame that only has US states named \"obesity_in_US_gender_2016\"\n",
    "    - create a data frame named \"obesity_in_2016_bystate_avg\" on the 'obesity_in_US_gender_2016' data frame           to calculate the mean by state\n",
    "    - use the region mean data to plot a bar chart and add labels\n",
    "\n",
    "#### Question 3: What state has the highest obesity rate in 2016? What state has the lowest obesity rate in 2016?\n",
    "- Steps:\n",
    "    - calculate the mean of the gender_pc column grouping by state \n",
    "    - sort it in descending order and name the result \"US_in_2016\"\n",
    "    - get the top 5 ranked states and name the result \"top5_states\"\n",
    "    - get the bottom 5 ranked states and name the result \"bottom5_states\"\n",
    "\n"
   ]
  },
  {
   "cell_type": "markdown",
   "metadata": {},
   "source": [
    "# Question 1: What is the national obesity rate in 2016?"
   ]
  },
  {
   "cell_type": "code",
   "execution_count": 6,
   "metadata": {},
   "outputs": [
    {
     "data": {
      "text/html": [
       "<div>\n",
       "<style scoped>\n",
       "    .dataframe tbody tr th:only-of-type {\n",
       "        vertical-align: middle;\n",
       "    }\n",
       "\n",
       "    .dataframe tbody tr th {\n",
       "        vertical-align: top;\n",
       "    }\n",
       "\n",
       "    .dataframe thead th {\n",
       "        text-align: right;\n",
       "    }\n",
       "</style>\n",
       "<table border=\"1\" class=\"dataframe\">\n",
       "  <thead>\n",
       "    <tr style=\"text-align: right;\">\n",
       "      <th></th>\n",
       "      <th>Unnamed: 0</th>\n",
       "      <th>year</th>\n",
       "      <th>state</th>\n",
       "      <th>state_name</th>\n",
       "      <th>gender_pc</th>\n",
       "      <th>Data_Value_Alt</th>\n",
       "      <th>Question</th>\n",
       "      <th>Sample_Size</th>\n",
       "      <th>Total</th>\n",
       "      <th>Gender</th>\n",
       "      <th>GeoLocation</th>\n",
       "      <th>LocationID</th>\n",
       "      <th>StratificationCategory1</th>\n",
       "      <th>Stratification1</th>\n",
       "    </tr>\n",
       "  </thead>\n",
       "  <tbody>\n",
       "    <tr>\n",
       "      <th>0</th>\n",
       "      <td>0</td>\n",
       "      <td>2016</td>\n",
       "      <td>US</td>\n",
       "      <td>National</td>\n",
       "      <td>41.0</td>\n",
       "      <td>41.0</td>\n",
       "      <td>Percent of adults aged 18 years and older who ...</td>\n",
       "      <td>198440.0</td>\n",
       "      <td>NaN</td>\n",
       "      <td>Male</td>\n",
       "      <td>NaN</td>\n",
       "      <td>59</td>\n",
       "      <td>Gender</td>\n",
       "      <td>Male</td>\n",
       "    </tr>\n",
       "    <tr>\n",
       "      <th>1</th>\n",
       "      <td>1</td>\n",
       "      <td>2016</td>\n",
       "      <td>US</td>\n",
       "      <td>National</td>\n",
       "      <td>29.3</td>\n",
       "      <td>29.3</td>\n",
       "      <td>Percent of adults aged 18 years and older who ...</td>\n",
       "      <td>240000.0</td>\n",
       "      <td>NaN</td>\n",
       "      <td>Female</td>\n",
       "      <td>NaN</td>\n",
       "      <td>59</td>\n",
       "      <td>Gender</td>\n",
       "      <td>Female</td>\n",
       "    </tr>\n",
       "    <tr>\n",
       "      <th>110</th>\n",
       "      <td>110</td>\n",
       "      <td>2016</td>\n",
       "      <td>US</td>\n",
       "      <td>National</td>\n",
       "      <td>29.6</td>\n",
       "      <td>29.6</td>\n",
       "      <td>Percent of adults aged 18 years and older who ...</td>\n",
       "      <td>198440.0</td>\n",
       "      <td>NaN</td>\n",
       "      <td>Male</td>\n",
       "      <td>NaN</td>\n",
       "      <td>59</td>\n",
       "      <td>Gender</td>\n",
       "      <td>Male</td>\n",
       "    </tr>\n",
       "    <tr>\n",
       "      <th>111</th>\n",
       "      <td>111</td>\n",
       "      <td>2016</td>\n",
       "      <td>US</td>\n",
       "      <td>National</td>\n",
       "      <td>29.5</td>\n",
       "      <td>29.5</td>\n",
       "      <td>Percent of adults aged 18 years and older who ...</td>\n",
       "      <td>240000.0</td>\n",
       "      <td>NaN</td>\n",
       "      <td>Female</td>\n",
       "      <td>NaN</td>\n",
       "      <td>59</td>\n",
       "      <td>Gender</td>\n",
       "      <td>Female</td>\n",
       "    </tr>\n",
       "  </tbody>\n",
       "</table>\n",
       "</div>"
      ],
      "text/plain": [
       "     Unnamed: 0  year state state_name  gender_pc  Data_Value_Alt  \\\n",
       "0             0  2016    US   National       41.0            41.0   \n",
       "1             1  2016    US   National       29.3            29.3   \n",
       "110         110  2016    US   National       29.6            29.6   \n",
       "111         111  2016    US   National       29.5            29.5   \n",
       "\n",
       "                                              Question  Sample_Size  Total  \\\n",
       "0    Percent of adults aged 18 years and older who ...     198440.0    NaN   \n",
       "1    Percent of adults aged 18 years and older who ...     240000.0    NaN   \n",
       "110  Percent of adults aged 18 years and older who ...     198440.0    NaN   \n",
       "111  Percent of adults aged 18 years and older who ...     240000.0    NaN   \n",
       "\n",
       "     Gender GeoLocation  LocationID StratificationCategory1 Stratification1  \n",
       "0      Male         NaN          59                  Gender            Male  \n",
       "1    Female         NaN          59                  Gender          Female  \n",
       "110    Male         NaN          59                  Gender            Male  \n",
       "111  Female         NaN          59                  Gender          Female  "
      ]
     },
     "execution_count": 6,
     "metadata": {},
     "output_type": "execute_result"
    }
   ],
   "source": [
    "#make national its own dataframe named \"gender_obesity_in_US_national_2016_df\"\n",
    "gender_obesity_in_US_national_2016_df=obesity_in_US_gender_2016[(obesity_in_US_gender_2016['state_name']=='National')]\n",
    "gender_obesity_in_US_national_2016_df"
   ]
  },
  {
   "cell_type": "markdown",
   "metadata": {},
   "source": [
    "- \"gender_obesity_in_US_national_2016_df\"\n",
    "    - this data frame represents the country as a whole \n",
    "    - use it to calculate national obesity rate as a whole"
   ]
  },
  {
   "cell_type": "code",
   "execution_count": 7,
   "metadata": {},
   "outputs": [
    {
     "data": {
      "text/plain": [
       "Male      2\n",
       "Female    2\n",
       "Name: Gender, dtype: int64"
      ]
     },
     "execution_count": 7,
     "metadata": {},
     "output_type": "execute_result"
    }
   ],
   "source": [
    "gender_obesity_in_US_national_2016_df['Gender'].value_counts()"
   ]
  },
  {
   "cell_type": "code",
   "execution_count": 8,
   "metadata": {},
   "outputs": [
    {
     "data": {
      "text/plain": [
       "32.35"
      ]
     },
     "execution_count": 8,
     "metadata": {},
     "output_type": "execute_result"
    }
   ],
   "source": [
    "# Create a filter \"national_avg_2016\" to find the mean obesity rate nationally\n",
    "national_avg_2016=gender_obesity_in_US_national_2016_df['gender_pc'].mean()\n",
    "national_avg_2016\n"
   ]
  },
  {
   "cell_type": "code",
   "execution_count": 9,
   "metadata": {},
   "outputs": [
    {
     "name": "stdout",
     "output_type": "stream",
     "text": [
      "The national obesity rate average in 2016\n",
      "=========================================\n",
      "state_name\n",
      "National    32.35\n",
      "Name: gender_pc, dtype: float64\n"
     ]
    }
   ],
   "source": [
    "# Use \"national_avg_2016\" filter to show the national obesity rate average on chart\n",
    "national_avg_2016=gender_obesity_in_US_national_2016_df.groupby('state_name')['gender_pc'].mean()\n",
    "national_avg_2016\n",
    "title1='The national obesity rate average in 2016'\n",
    "print(\"{}\\n{}\".format(title1, '='*len(title1)))\n",
    "print(national_avg_2016.sort_values())\n",
    "\n",
    "\n",
    "\n"
   ]
  },
  {
   "cell_type": "markdown",
   "metadata": {},
   "source": [
    "### Answer: The national obesity rate average in 2016 was 32.4%"
   ]
  },
  {
   "cell_type": "code",
   "execution_count": 10,
   "metadata": {},
   "outputs": [
    {
     "data": {
      "text/plain": [
       "Text(0.5, 1.0, '2016')"
      ]
     },
     "execution_count": 10,
     "metadata": {},
     "output_type": "execute_result"
    },
    {
     "data": {
      "image/png": "[encoded data removed]",
      "text/plain": [
       "<Figure size 864x288 with 1 Axes>"
      ]
     },
     "metadata": {
      "needs_background": "light"
     },
     "output_type": "display_data"
    }
   ],
   "source": [
    "\n",
    "# 1. Set up the figure to plot two bar charts and specify size ratio (3:1)\n",
    "plt.figure(figsize=(12,4))\n",
    "\n",
    "# 2. the plt.subplot() function divides the main figure into rows and columns\n",
    "#    121 = 1 row 2 columns and the first slot\n",
    "plt.subplot(121)\n",
    "\n",
    "# use the national_avg_2015 mean data to plot a bar chart and add labels\n",
    "national_avg_2016.plot(kind='bar')\n",
    "plt.xlabel('National')\n",
    "plt.ylabel('Obesity Rate')\n",
    "plt.title('2016')\n"
   ]
  },
  {
   "cell_type": "markdown",
   "metadata": {},
   "source": [
    "# **Create a new data frame that only has US states"
   ]
  },
  {
   "cell_type": "code",
   "execution_count": 11,
   "metadata": {},
   "outputs": [
    {
     "data": {
      "text/plain": [
       "array(['Arkansas', 'Alabama', 'Alaska', 'Arizona', 'California',\n",
       "       'Colorado', 'Connecticut', 'Delaware', 'District of Columbia',\n",
       "       'Florida', 'Georgia', 'Hawaii', 'Idaho', 'Illinois', 'Indiana',\n",
       "       'Iowa', 'Kansas', 'Kentucky', 'Louisiana', 'Maine', 'Maryland',\n",
       "       'Massachusetts', 'Michigan', 'Minnesota', 'Mississippi',\n",
       "       'Missouri', 'Montana', 'Nebraska', 'Nevada', 'New Hampshire',\n",
       "       'New Jersey', 'New Mexico', 'New York', 'North Carolina',\n",
       "       'North Dakota', 'Ohio', 'Oklahoma', 'Oregon', 'Pennsylvania',\n",
       "       'Rhode Island', 'South Carolina', 'South Dakota', 'Tennessee',\n",
       "       'Texas', 'Utah', 'Vermont', 'Virginia', 'Washington',\n",
       "       'West Virginia', 'Wisconsin', 'Wyoming'], dtype=object)"
      ]
     },
     "execution_count": 11,
     "metadata": {},
     "output_type": "execute_result"
    }
   ],
   "source": [
    "# Create a data frame named \"obesity_in_US_gender_2016\" that excludes the rows \n",
    "# with the value \"National\", Guam\", \"Puerto Rico\", \"Virgin Islands\" in the LocationDesc column\n",
    "obesity_in_US_gender_2016=obesity_in_US_gender_2016[~(obesity_in_US_gender_2016['state_name']=='National')]\n",
    "obesity_in_US_gender_2016=obesity_in_US_gender_2016[~(obesity_in_US_gender_2016['state_name']=='Guam')]\n",
    "obesity_in_US_gender_2016=obesity_in_US_gender_2016[~(obesity_in_US_gender_2016['state_name']=='Puerto Rico')]\n",
    "obesity_in_US_gender_2016=obesity_in_US_gender_2016[~(obesity_in_US_gender_2016['state_name']=='Virgin Islands')]\n",
    "obesity_in_US_gender_2016['state_name'].unique()\n"
   ]
  },
  {
   "cell_type": "markdown",
   "metadata": {},
   "source": [
    "# Question 2: What is the average US obesity rate by state?"
   ]
  },
  {
   "cell_type": "code",
   "execution_count": 12,
   "metadata": {},
   "outputs": [
    {
     "data": {
      "text/plain": [
       "state_name\n",
       "Alabama                 34.775\n",
       "Alaska                  33.150\n",
       "Arizona                 31.575\n",
       "Arkansas                34.125\n",
       "California              30.500\n",
       "Colorado                28.925\n",
       "Connecticut             30.875\n",
       "Delaware                34.050\n",
       "District of Columbia    26.800\n",
       "Florida                 31.600\n",
       "Georgia                 32.900\n",
       "Hawaii                  28.675\n",
       "Idaho                   32.175\n",
       "Illinois                32.550\n",
       "Indiana                 33.550\n",
       "Iowa                    34.225\n",
       "Kansas                  33.250\n",
       "Kentucky                34.525\n",
       "Louisiana               34.625\n",
       "Maine                   32.600\n",
       "Maryland                32.275\n",
       "Massachusetts           30.075\n",
       "Michigan                33.725\n",
       "Minnesota               32.250\n",
       "Mississippi             35.675\n",
       "Missouri                33.600\n",
       "Montana                 31.200\n",
       "Nebraska                34.200\n",
       "Nevada                  31.025\n",
       "New Hampshire           31.625\n",
       "New Jersey              31.875\n",
       "New Mexico              32.425\n",
       "New York                30.450\n",
       "North Carolina          33.400\n",
       "North Dakota            33.875\n",
       "Ohio                    33.125\n",
       "Oklahoma                34.350\n",
       "Oregon                  31.225\n",
       "Pennsylvania            32.700\n",
       "Rhode Island            31.875\n",
       "South Carolina          33.725\n",
       "South Dakota            33.325\n",
       "Tennessee               34.300\n",
       "Texas                   34.100\n",
       "Utah                    30.025\n",
       "Vermont                 30.825\n",
       "Virginia                32.700\n",
       "Washington              31.600\n",
       "West Virginia           35.425\n",
       "Wisconsin               33.025\n",
       "Wyoming                 31.975\n",
       "Name: gender_pc, dtype: float64"
      ]
     },
     "execution_count": 12,
     "metadata": {},
     "output_type": "execute_result"
    }
   ],
   "source": [
    "# create a data frame named \"obesity_in_2016_bystate_avg\" on the 'obesity_in_US_gender_2016' data frame to calculate the mean by state \n",
    "obesity_in_2016_bystate_avg = obesity_in_US_gender_2016.sort_values(['state_name'], ascending = [True])\n",
    "obesity_in_2016_bystate_avg=obesity_in_2016_bystate_avg[['state','state_name','gender_pc','Gender']]\n",
    "obesity_in_2016_bystate_avg = obesity_in_2016_bystate_avg.groupby('state_name')['gender_pc'].mean()\n",
    "obesity_in_2016_bystate_avg\n",
    "\n"
   ]
  },
  {
   "cell_type": "code",
   "execution_count": 13,
   "metadata": {},
   "outputs": [],
   "source": [
    "obesity_in_2016_bystate_avg = obesity_in_US_gender_2016.sort_values(['state_name'], ascending = [True])\n",
    "obesity_in_2016_bystate_avg=obesity_in_2016_bystate_avg[['state','state_name','gender_pc','Gender']]\n",
    "obesity_in_2016_bystate_avg = obesity_in_2016_bystate_avg.groupby('state_name')['gender_pc'].mean()\n",
    "state_avg = obesity_in_2016_bystate_avg.to_frame()"
   ]
  },
  {
   "cell_type": "code",
   "execution_count": null,
   "metadata": {},
   "outputs": [],
   "source": [
    "state_avg = state_avg.reset_index(drop = True)"
   ]
  },
  {
   "cell_type": "code",
   "execution_count": null,
   "metadata": {},
   "outputs": [
    {
     "data": {
      "text/plain": [
       "Text(0.5, 1.0, 'US Obesity Rates by State in 2016')"
      ]
     },
     "execution_count": 15,
     "metadata": {},
     "output_type": "execute_result"
    }
   ],
   "source": [
    "# 1. Set up the figure to plot bar chart\n",
    "plt.figure(figsize=(20,4))\n",
    "plt.subplot\n",
    "\n",
    "# use the 'obesity_in_2016_bystate_avg' mean data to plot a bar chart and add labels\n",
    "obesity_in_2016_bystate_avg.plot(kind='bar')\n",
    "plt.xlabel('States')\n",
    "plt.ylabel('Obesity Rate')\n",
    "plt.title('US Obesity Rates by State in 2016')"
   ]
  },
  {
   "cell_type": "markdown",
   "metadata": {},
   "source": [
    "# Question 3: What state has the highest obesity rate in 2016? What state has the lowest obesity rate in 2016?"
   ]
  },
  {
   "cell_type": "code",
   "execution_count": null,
   "metadata": {},
   "outputs": [],
   "source": [
    "# 1. calculate the mean of the gender_pc column grouping by state \n",
    "#    sort it in descending order and name the result \"US_in_2016\"\n",
    "\n",
    "# 2. get the top 5 ranked states and name the result \"top5_states\"\n",
    "\n",
    "# 3. get the bottom 5 ranked states and name the result \"bottom5_states\"\n",
    "\n",
    "US_in_2016=obesity_in_US_gender_2016.groupby('state_name')['gender_pc'].mean().sort_values(ascending=False)\n",
    "top5_states = US_in_2016.head(5)\n",
    "bottom5_states = US_in_2016.tail(5)\n",
    "\n",
    "\n",
    "\n",
    "print(\"Measuring US obesity rates by state.\\n\")\n",
    "print(f\"The top 5 states are { ', '.join(top5_states.index)}\")\n",
    "print(f\"The bottom 5 states are { ', '.join(bottom5_states.index)}\")\n",
    "US_in_2016.sort_values(ascending=False).to_frame()"
   ]
  },
  {
   "cell_type": "markdown",
   "metadata": {},
   "source": [
    "### Mississippi had the highest US obesity rate in 2016 at 35.7% and Hawaii had the lowest US obesity rate in 2016 at 28.7%"
   ]
  },
  {
   "cell_type": "markdown",
   "metadata": {},
   "source": [
    "# Conclusion\n",
    "\n",
    "## National Obesity Rate\n",
    "- The national obesity rate average in 2016 was 32.4%\n",
    "- Mississippi had the highest US obesity rate in 2016 at 35.7% and Hawaii had the lowest US obesity rate in 2016 at 28.7%"
   ]
  }
 ],
 "metadata": {
  "kernelspec": {
   "display_name": "Python 3",
   "language": "python",
   "name": "python3"
  },
  "language_info": {
   "codemirror_mode": {
    "name": "ipython",
    "version": 3
   },
   "file_extension": ".py",
   "mimetype": "text/x-python",
   "name": "python",
   "nbconvert_exporter": "python",
   "pygments_lexer": "ipython3",
   "version": "3.7.3"
  }
 },
 "nbformat": 4,
 "nbformat_minor": 2
}
